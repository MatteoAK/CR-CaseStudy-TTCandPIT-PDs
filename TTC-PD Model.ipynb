{
 "cells": [
  {
   "cell_type": "markdown",
   "metadata": {},
   "source": [
    "The dataset provided for this study delineates the Global Corporate Average One-year Transition Rates Matrix covering the period from 1981 to 2022. This matrix segregates non-defaulting debtors into seven credit ratings: AAA, AA, A, BBB, BB, B, CCC, and adds a distinct classification for defaults, marked as D. Close examination of this matrix suggests its derivation using the cohort method, characterizing it as a discrete migration matrix. A notable characteristic of a discrete migration matrix is the occurrence of zero values in some migration probabilities, implying that the matrix tracks the year-end positions of borrowers rather than their transitions throughout the year. Furthermore, an analysis of the matrix's last column discloses the default probabilities for each credit rating, indicative of the 1-year Probability of Default (PDs)."
   ]
  },
  {
   "cell_type": "markdown",
   "metadata": {},
   "source": [
    "The Cohort method used in calculation is the industry standard for count data but it also has drawbacks. Any rating change activity which occurs withing the period Δ𝑡 is ignored. In result, this type of discrete migration matrix become unreliable when credits change their rating class frequently."
   ]
  },
  {
   "cell_type": "markdown",
   "metadata": {},
   "source": [
    "Beginning with the one-year migration matrix, we can expand it to longer periods like 2 or even 10 years. However, this process is contingent on an important caveat: the discrete migration matrix is not inherently time-homogeneous. Therefore, assuming time-homogeneity becomes a prerequisite before we can utilize the formula needed to derive the discrete migration matrix for these extended periods."
   ]
  },
  {
   "cell_type": "code",
   "execution_count": 11,
   "metadata": {},
   "outputs": [],
   "source": [
    "import pandas as pd\n",
    "import numpy as np\n",
    "import seaborn as sns\n",
    "\n",
    "data_mm = pd.read_excel('CaseStudyData_2023-1.xlsx').set_index('Unnamed: 0')\n",
    "pd.options.display.float_format = '{:,.2f}'.format\n",
    "\n",
    "\n",
    "# Adjusting Data for further purposes\n",
    "# Creating migration matrices for year up to 10\n",
    "\n",
    "# This will further allow to calculate multi-year probability of default for each rating class\n",
    "markov_1y = data_mm.set_index(data_mm.columns)\n",
    "markov_2y = pd.DataFrame(np.dot(data_mm, data_mm), columns=data_mm.columns).set_index(data_mm.columns)\n",
    "markov_3y = pd.DataFrame(np.dot(markov_2y, data_mm), columns=data_mm.columns).set_index(data_mm.columns)\n",
    "markov_4y = pd.DataFrame(np.dot(markov_3y, data_mm), columns=data_mm.columns).set_index(data_mm.columns)\n",
    "markov_5y = pd.DataFrame(np.dot(markov_4y, data_mm), columns=data_mm.columns).set_index(data_mm.columns)\n",
    "markov_6y = pd.DataFrame(np.dot(markov_5y, data_mm), columns=data_mm.columns).set_index(data_mm.columns)\n",
    "markov_7y = pd.DataFrame(np.dot(markov_6y, data_mm), columns=data_mm.columns).set_index(data_mm.columns)\n",
    "markov_8y = pd.DataFrame(np.dot(markov_7y, data_mm), columns=data_mm.columns).set_index(data_mm.columns)\n",
    "markov_9y = pd.DataFrame(np.dot(markov_8y, data_mm), columns=data_mm.columns).set_index(data_mm.columns)\n",
    "markov_10y = pd.DataFrame(np.dot(markov_9y, data_mm), columns=data_mm.columns).set_index(data_mm.columns)"
   ]
  },
  {
   "cell_type": "code",
   "execution_count": 12,
   "metadata": {},
   "outputs": [],
   "source": [
    "# Change of visual aspects to better present matrices and Tables\n",
    "cm = sns.light_palette(\"blue\", as_cmap=True)"
   ]
  },
  {
   "cell_type": "markdown",
   "metadata": {},
   "source": [
    "The following 1-year migration matrix was scaled to 10 years using the above (see complete report in .pdf) formula. After having a complete migration matrix for each year 1 to 10, it is possible to calculate the multi-year probability of default for each rating class which is basically presented in each migration matrix under column D representing default. A multi-year probability of Default for the rating class D is always 100% because it is assumed that its not possible to migrate to a higher, non-default class back again, once graded D."
   ]
  },
  {
   "cell_type": "code",
   "execution_count": 13,
   "metadata": {},
   "outputs": [
    {
     "data": {
      "text/html": [
       "<style type=\"text/css\">\n",
       "#T_a8de4_row0_col0, #T_a8de4_row1_col1, #T_a8de4_row2_col2, #T_a8de4_row3_col3, #T_a8de4_row4_col4, #T_a8de4_row5_col5, #T_a8de4_row6_col6, #T_a8de4_row7_col7 {\n",
       "  background-color: #0000ff;\n",
       "  color: #f1f1f1;\n",
       "}\n",
       "#T_a8de4_row0_col1 {\n",
       "  background-color: #d8d8f4;\n",
       "  color: #000000;\n",
       "}\n",
       "#T_a8de4_row0_col2, #T_a8de4_row1_col0, #T_a8de4_row1_col3, #T_a8de4_row1_col7, #T_a8de4_row3_col5, #T_a8de4_row6_col4 {\n",
       "  background-color: #efeff3;\n",
       "  color: #000000;\n",
       "}\n",
       "#T_a8de4_row0_col3, #T_a8de4_row0_col4, #T_a8de4_row0_col5, #T_a8de4_row0_col6, #T_a8de4_row0_col7, #T_a8de4_row1_col4, #T_a8de4_row1_col5, #T_a8de4_row1_col6, #T_a8de4_row2_col0, #T_a8de4_row2_col4, #T_a8de4_row2_col5, #T_a8de4_row2_col6, #T_a8de4_row3_col0, #T_a8de4_row3_col1, #T_a8de4_row3_col6, #T_a8de4_row4_col0, #T_a8de4_row4_col1, #T_a8de4_row4_col2, #T_a8de4_row5_col0, #T_a8de4_row5_col1, #T_a8de4_row5_col2, #T_a8de4_row5_col3, #T_a8de4_row6_col0, #T_a8de4_row6_col1, #T_a8de4_row6_col2, #T_a8de4_row6_col3, #T_a8de4_row7_col0, #T_a8de4_row7_col1, #T_a8de4_row7_col2, #T_a8de4_row7_col3, #T_a8de4_row7_col4, #T_a8de4_row7_col5, #T_a8de4_row7_col6 {\n",
       "  background-color: #f0f0f3;\n",
       "  color: #000000;\n",
       "}\n",
       "#T_a8de4_row1_col2 {\n",
       "  background-color: #ddddf4;\n",
       "  color: #000000;\n",
       "}\n",
       "#T_a8de4_row2_col1 {\n",
       "  background-color: #ededf3;\n",
       "  color: #000000;\n",
       "}\n",
       "#T_a8de4_row2_col3, #T_a8de4_row5_col4 {\n",
       "  background-color: #e3e3f3;\n",
       "  color: #000000;\n",
       "}\n",
       "#T_a8de4_row2_col7, #T_a8de4_row4_col6 {\n",
       "  background-color: #eeeef3;\n",
       "  color: #000000;\n",
       "}\n",
       "#T_a8de4_row3_col2 {\n",
       "  background-color: #e8e8f3;\n",
       "  color: #000000;\n",
       "}\n",
       "#T_a8de4_row3_col4 {\n",
       "  background-color: #e6e6f3;\n",
       "  color: #000000;\n",
       "}\n",
       "#T_a8de4_row3_col7 {\n",
       "  background-color: #eaeaf3;\n",
       "  color: #000000;\n",
       "}\n",
       "#T_a8de4_row4_col3 {\n",
       "  background-color: #e4e4f3;\n",
       "  color: #000000;\n",
       "}\n",
       "#T_a8de4_row4_col5 {\n",
       "  background-color: #dcdcf4;\n",
       "  color: #000000;\n",
       "}\n",
       "#T_a8de4_row4_col7 {\n",
       "  background-color: #dfdff4;\n",
       "  color: #000000;\n",
       "}\n",
       "#T_a8de4_row5_col6 {\n",
       "  background-color: #d7d7f4;\n",
       "  color: #000000;\n",
       "}\n",
       "#T_a8de4_row5_col7 {\n",
       "  background-color: #d1d1f4;\n",
       "  color: #000000;\n",
       "}\n",
       "#T_a8de4_row6_col5 {\n",
       "  background-color: #c5c5f5;\n",
       "  color: #000000;\n",
       "}\n",
       "#T_a8de4_row6_col7 {\n",
       "  background-color: #9393f8;\n",
       "  color: #f1f1f1;\n",
       "}\n",
       "</style>\n",
       "<table id=\"T_a8de4\">\n",
       "  <thead>\n",
       "    <tr>\n",
       "      <th class=\"blank level0\" >&nbsp;</th>\n",
       "      <th id=\"T_a8de4_level0_col0\" class=\"col_heading level0 col0\" >AAA</th>\n",
       "      <th id=\"T_a8de4_level0_col1\" class=\"col_heading level0 col1\" >AA</th>\n",
       "      <th id=\"T_a8de4_level0_col2\" class=\"col_heading level0 col2\" >A</th>\n",
       "      <th id=\"T_a8de4_level0_col3\" class=\"col_heading level0 col3\" >BBB</th>\n",
       "      <th id=\"T_a8de4_level0_col4\" class=\"col_heading level0 col4\" >BB</th>\n",
       "      <th id=\"T_a8de4_level0_col5\" class=\"col_heading level0 col5\" >B</th>\n",
       "      <th id=\"T_a8de4_level0_col6\" class=\"col_heading level0 col6\" >CCC</th>\n",
       "      <th id=\"T_a8de4_level0_col7\" class=\"col_heading level0 col7\" >D</th>\n",
       "    </tr>\n",
       "  </thead>\n",
       "  <tbody>\n",
       "    <tr>\n",
       "      <th id=\"T_a8de4_level0_row0\" class=\"row_heading level0 row0\" >AAA</th>\n",
       "      <td id=\"T_a8de4_row0_col0\" class=\"data row0 col0\" >87.09%</td>\n",
       "      <td id=\"T_a8de4_row0_col1\" class=\"data row0 col1\" >9.05%</td>\n",
       "      <td id=\"T_a8de4_row0_col2\" class=\"data row0 col2\" >0.52%</td>\n",
       "      <td id=\"T_a8de4_row0_col3\" class=\"data row0 col3\" >0.05%</td>\n",
       "      <td id=\"T_a8de4_row0_col4\" class=\"data row0 col4\" >0.10%</td>\n",
       "      <td id=\"T_a8de4_row0_col5\" class=\"data row0 col5\" >0.03%</td>\n",
       "      <td id=\"T_a8de4_row0_col6\" class=\"data row0 col6\" >0.05%</td>\n",
       "      <td id=\"T_a8de4_row0_col7\" class=\"data row0 col7\" >3.11%</td>\n",
       "    </tr>\n",
       "    <tr>\n",
       "      <th id=\"T_a8de4_level0_row1\" class=\"row_heading level0 row1\" >AA</th>\n",
       "      <td id=\"T_a8de4_row1_col0\" class=\"data row1 col0\" >0.47%</td>\n",
       "      <td id=\"T_a8de4_row1_col1\" class=\"data row1 col1\" >87.42%</td>\n",
       "      <td id=\"T_a8de4_row1_col2\" class=\"data row1 col2\" >7.64%</td>\n",
       "      <td id=\"T_a8de4_row1_col3\" class=\"data row1 col3\" >0.46%</td>\n",
       "      <td id=\"T_a8de4_row1_col4\" class=\"data row1 col4\" >0.05%</td>\n",
       "      <td id=\"T_a8de4_row1_col5\" class=\"data row1 col5\" >0.06%</td>\n",
       "      <td id=\"T_a8de4_row1_col6\" class=\"data row1 col6\" >0.02%</td>\n",
       "      <td id=\"T_a8de4_row1_col7\" class=\"data row1 col7\" >3.88%</td>\n",
       "    </tr>\n",
       "    <tr>\n",
       "      <th id=\"T_a8de4_level0_row2\" class=\"row_heading level0 row2\" >A</th>\n",
       "      <td id=\"T_a8de4_row2_col0\" class=\"data row2 col0\" >0.02%</td>\n",
       "      <td id=\"T_a8de4_row2_col1\" class=\"data row2 col1\" >1.54%</td>\n",
       "      <td id=\"T_a8de4_row2_col2\" class=\"data row2 col2\" >88.96%</td>\n",
       "      <td id=\"T_a8de4_row2_col3\" class=\"data row2 col3\" >4.86%</td>\n",
       "      <td id=\"T_a8de4_row2_col4\" class=\"data row2 col4\" >0.25%</td>\n",
       "      <td id=\"T_a8de4_row2_col5\" class=\"data row2 col5\" >0.10%</td>\n",
       "      <td id=\"T_a8de4_row2_col6\" class=\"data row2 col6\" >0.01%</td>\n",
       "      <td id=\"T_a8de4_row2_col7\" class=\"data row2 col7\" >4.26%</td>\n",
       "    </tr>\n",
       "    <tr>\n",
       "      <th id=\"T_a8de4_level0_row3\" class=\"row_heading level0 row3\" >BBB</th>\n",
       "      <td id=\"T_a8de4_row3_col0\" class=\"data row3 col0\" >0.00%</td>\n",
       "      <td id=\"T_a8de4_row3_col1\" class=\"data row3 col1\" >0.08%</td>\n",
       "      <td id=\"T_a8de4_row3_col2\" class=\"data row3 col2\" >3.13%</td>\n",
       "      <td id=\"T_a8de4_row3_col3\" class=\"data row3 col3\" >86.95%</td>\n",
       "      <td id=\"T_a8de4_row3_col4\" class=\"data row3 col4\" >3.38%</td>\n",
       "      <td id=\"T_a8de4_row3_col5\" class=\"data row3 col5\" >0.40%</td>\n",
       "      <td id=\"T_a8de4_row3_col6\" class=\"data row3 col6\" >0.09%</td>\n",
       "      <td id=\"T_a8de4_row3_col7\" class=\"data row3 col7\" >5.97%</td>\n",
       "    </tr>\n",
       "    <tr>\n",
       "      <th id=\"T_a8de4_level0_row4\" class=\"row_heading level0 row4\" >BB</th>\n",
       "      <td id=\"T_a8de4_row4_col0\" class=\"data row4 col0\" >0.01%</td>\n",
       "      <td id=\"T_a8de4_row4_col1\" class=\"data row4 col1\" >0.02%</td>\n",
       "      <td id=\"T_a8de4_row4_col2\" class=\"data row4 col2\" >0.06%</td>\n",
       "      <td id=\"T_a8de4_row4_col3\" class=\"data row4 col3\" >4.50%</td>\n",
       "      <td id=\"T_a8de4_row4_col4\" class=\"data row4 col4\" >78.30%</td>\n",
       "      <td id=\"T_a8de4_row4_col5\" class=\"data row4 col5\" >6.50%</td>\n",
       "      <td id=\"T_a8de4_row4_col6\" class=\"data row4 col6\" >0.53%</td>\n",
       "      <td id=\"T_a8de4_row4_col7\" class=\"data row4 col7\" >10.08%</td>\n",
       "    </tr>\n",
       "    <tr>\n",
       "      <th id=\"T_a8de4_level0_row5\" class=\"row_heading level0 row5\" >B</th>\n",
       "      <td id=\"T_a8de4_row5_col0\" class=\"data row5 col0\" >0.00%</td>\n",
       "      <td id=\"T_a8de4_row5_col1\" class=\"data row5 col1\" >0.02%</td>\n",
       "      <td id=\"T_a8de4_row5_col2\" class=\"data row5 col2\" >0.06%</td>\n",
       "      <td id=\"T_a8de4_row5_col3\" class=\"data row5 col3\" >0.15%</td>\n",
       "      <td id=\"T_a8de4_row5_col4\" class=\"data row5 col4\" >4.50%</td>\n",
       "      <td id=\"T_a8de4_row5_col5\" class=\"data row5 col5\" >74.82%</td>\n",
       "      <td id=\"T_a8de4_row5_col6\" class=\"data row5 col6\" >4.81%</td>\n",
       "      <td id=\"T_a8de4_row5_col7\" class=\"data row5 col7\" >15.64%</td>\n",
       "    </tr>\n",
       "    <tr>\n",
       "      <th id=\"T_a8de4_level0_row6\" class=\"row_heading level0 row6\" >CCC</th>\n",
       "      <td id=\"T_a8de4_row6_col0\" class=\"data row6 col0\" >0.00%</td>\n",
       "      <td id=\"T_a8de4_row6_col1\" class=\"data row6 col1\" >0.00%</td>\n",
       "      <td id=\"T_a8de4_row6_col2\" class=\"data row6 col2\" >0.08%</td>\n",
       "      <td id=\"T_a8de4_row6_col3\" class=\"data row6 col3\" >0.15%</td>\n",
       "      <td id=\"T_a8de4_row6_col4\" class=\"data row6 col4\" >0.46%</td>\n",
       "      <td id=\"T_a8de4_row6_col5\" class=\"data row6 col5\" >13.72%</td>\n",
       "      <td id=\"T_a8de4_row6_col6\" class=\"data row6 col6\" >44.74%</td>\n",
       "      <td id=\"T_a8de4_row6_col7\" class=\"data row6 col7\" >40.85%</td>\n",
       "    </tr>\n",
       "    <tr>\n",
       "      <th id=\"T_a8de4_level0_row7\" class=\"row_heading level0 row7\" >D</th>\n",
       "      <td id=\"T_a8de4_row7_col0\" class=\"data row7 col0\" >0.00%</td>\n",
       "      <td id=\"T_a8de4_row7_col1\" class=\"data row7 col1\" >0.00%</td>\n",
       "      <td id=\"T_a8de4_row7_col2\" class=\"data row7 col2\" >0.00%</td>\n",
       "      <td id=\"T_a8de4_row7_col3\" class=\"data row7 col3\" >0.00%</td>\n",
       "      <td id=\"T_a8de4_row7_col4\" class=\"data row7 col4\" >0.00%</td>\n",
       "      <td id=\"T_a8de4_row7_col5\" class=\"data row7 col5\" >0.00%</td>\n",
       "      <td id=\"T_a8de4_row7_col6\" class=\"data row7 col6\" >0.00%</td>\n",
       "      <td id=\"T_a8de4_row7_col7\" class=\"data row7 col7\" >100.00%</td>\n",
       "    </tr>\n",
       "  </tbody>\n",
       "</table>\n"
      ],
      "text/plain": [
       "<pandas.io.formats.style.Styler at 0x1efed3a1950>"
      ]
     },
     "execution_count": 13,
     "metadata": {},
     "output_type": "execute_result"
    }
   ],
   "source": [
    "# The 1-year Migration Matrix\n",
    "markov_1y.style.background_gradient(cmap=cm).format(\"{:.2%}\")"
   ]
  },
  {
   "cell_type": "code",
   "execution_count": 14,
   "metadata": {},
   "outputs": [
    {
     "data": {
      "text/html": [
       "<style type=\"text/css\">\n",
       "#T_59c9d_row0_col0, #T_59c9d_row1_col1, #T_59c9d_row2_col2, #T_59c9d_row3_col3, #T_59c9d_row4_col4, #T_59c9d_row5_col5, #T_59c9d_row6_col6, #T_59c9d_row7_col7 {\n",
       "  background-color: #0000ff;\n",
       "  color: #f1f1f1;\n",
       "}\n",
       "#T_59c9d_row0_col1 {\n",
       "  background-color: #bfbff5;\n",
       "  color: #000000;\n",
       "}\n",
       "#T_59c9d_row0_col2 {\n",
       "  background-color: #ececf3;\n",
       "  color: #000000;\n",
       "}\n",
       "#T_59c9d_row0_col3, #T_59c9d_row0_col4, #T_59c9d_row0_col5, #T_59c9d_row0_col6, #T_59c9d_row0_col7, #T_59c9d_row1_col4, #T_59c9d_row1_col5, #T_59c9d_row1_col6, #T_59c9d_row2_col0, #T_59c9d_row2_col5, #T_59c9d_row2_col6, #T_59c9d_row3_col0, #T_59c9d_row3_col1, #T_59c9d_row4_col0, #T_59c9d_row4_col1, #T_59c9d_row4_col2, #T_59c9d_row5_col0, #T_59c9d_row5_col1, #T_59c9d_row5_col2, #T_59c9d_row6_col0, #T_59c9d_row6_col1, #T_59c9d_row6_col2, #T_59c9d_row6_col3, #T_59c9d_row7_col0, #T_59c9d_row7_col1, #T_59c9d_row7_col2, #T_59c9d_row7_col3, #T_59c9d_row7_col4, #T_59c9d_row7_col5, #T_59c9d_row7_col6 {\n",
       "  background-color: #f0f0f3;\n",
       "  color: #000000;\n",
       "}\n",
       "#T_59c9d_row1_col0, #T_59c9d_row2_col4, #T_59c9d_row3_col6, #T_59c9d_row5_col3 {\n",
       "  background-color: #efeff3;\n",
       "  color: #000000;\n",
       "}\n",
       "#T_59c9d_row1_col2 {\n",
       "  background-color: #c8c8f5;\n",
       "  color: #000000;\n",
       "}\n",
       "#T_59c9d_row1_col3, #T_59c9d_row1_col7, #T_59c9d_row3_col5 {\n",
       "  background-color: #eeeef3;\n",
       "  color: #000000;\n",
       "}\n",
       "#T_59c9d_row2_col1 {\n",
       "  background-color: #e8e8f3;\n",
       "  color: #000000;\n",
       "}\n",
       "#T_59c9d_row2_col3, #T_59c9d_row5_col4 {\n",
       "  background-color: #d6d6f4;\n",
       "  color: #000000;\n",
       "}\n",
       "#T_59c9d_row2_col7 {\n",
       "  background-color: #ebebf3;\n",
       "  color: #000000;\n",
       "}\n",
       "#T_59c9d_row3_col2 {\n",
       "  background-color: #e0e0f4;\n",
       "  color: #000000;\n",
       "}\n",
       "#T_59c9d_row3_col4 {\n",
       "  background-color: #dbdbf4;\n",
       "  color: #000000;\n",
       "}\n",
       "#T_59c9d_row3_col7 {\n",
       "  background-color: #e2e2f3;\n",
       "  color: #000000;\n",
       "}\n",
       "#T_59c9d_row4_col3 {\n",
       "  background-color: #d9d9f4;\n",
       "  color: #000000;\n",
       "}\n",
       "#T_59c9d_row4_col5 {\n",
       "  background-color: #c6c6f5;\n",
       "  color: #000000;\n",
       "}\n",
       "#T_59c9d_row4_col6 {\n",
       "  background-color: #e6e6f3;\n",
       "  color: #000000;\n",
       "}\n",
       "#T_59c9d_row4_col7 {\n",
       "  background-color: #cecef4;\n",
       "  color: #000000;\n",
       "}\n",
       "#T_59c9d_row5_col6 {\n",
       "  background-color: #adadf6;\n",
       "  color: #000000;\n",
       "}\n",
       "#T_59c9d_row5_col7 {\n",
       "  background-color: #b4b4f6;\n",
       "  color: #000000;\n",
       "}\n",
       "#T_59c9d_row6_col4 {\n",
       "  background-color: #ededf3;\n",
       "  color: #000000;\n",
       "}\n",
       "#T_59c9d_row6_col5 {\n",
       "  background-color: #acacf6;\n",
       "  color: #000000;\n",
       "}\n",
       "#T_59c9d_row6_col7 {\n",
       "  background-color: #6363fa;\n",
       "  color: #f1f1f1;\n",
       "}\n",
       "</style>\n",
       "<table id=\"T_59c9d\">\n",
       "  <thead>\n",
       "    <tr>\n",
       "      <th class=\"blank level0\" >&nbsp;</th>\n",
       "      <th id=\"T_59c9d_level0_col0\" class=\"col_heading level0 col0\" >AAA</th>\n",
       "      <th id=\"T_59c9d_level0_col1\" class=\"col_heading level0 col1\" >AA</th>\n",
       "      <th id=\"T_59c9d_level0_col2\" class=\"col_heading level0 col2\" >A</th>\n",
       "      <th id=\"T_59c9d_level0_col3\" class=\"col_heading level0 col3\" >BBB</th>\n",
       "      <th id=\"T_59c9d_level0_col4\" class=\"col_heading level0 col4\" >BB</th>\n",
       "      <th id=\"T_59c9d_level0_col5\" class=\"col_heading level0 col5\" >B</th>\n",
       "      <th id=\"T_59c9d_level0_col6\" class=\"col_heading level0 col6\" >CCC</th>\n",
       "      <th id=\"T_59c9d_level0_col7\" class=\"col_heading level0 col7\" >D</th>\n",
       "    </tr>\n",
       "  </thead>\n",
       "  <tbody>\n",
       "    <tr>\n",
       "      <th id=\"T_59c9d_level0_row0\" class=\"row_heading level0 row0\" >AAA</th>\n",
       "      <td id=\"T_59c9d_row0_col0\" class=\"data row0 col0\" >75.89%</td>\n",
       "      <td id=\"T_59c9d_row0_col1\" class=\"data row0 col1\" >15.80%</td>\n",
       "      <td id=\"T_59c9d_row0_col2\" class=\"data row0 col2\" >1.61%</td>\n",
       "      <td id=\"T_59c9d_row0_col3\" class=\"data row0 col3\" >0.16%</td>\n",
       "      <td id=\"T_59c9d_row0_col4\" class=\"data row0 col4\" >0.17%</td>\n",
       "      <td id=\"T_59c9d_row0_col5\" class=\"data row0 col5\" >0.07%</td>\n",
       "      <td id=\"T_59c9d_row0_col6\" class=\"data row0 col6\" >0.07%</td>\n",
       "      <td id=\"T_59c9d_row0_col7\" class=\"data row0 col7\" >6.23%</td>\n",
       "    </tr>\n",
       "    <tr>\n",
       "      <th id=\"T_59c9d_level0_row1\" class=\"row_heading level0 row1\" >AA</th>\n",
       "      <td id=\"T_59c9d_row1_col0\" class=\"data row1 col0\" >0.82%</td>\n",
       "      <td id=\"T_59c9d_row1_col1\" class=\"data row1 col1\" >76.58%</td>\n",
       "      <td id=\"T_59c9d_row1_col2\" class=\"data row1 col2\" >13.49%</td>\n",
       "      <td id=\"T_59c9d_row1_col3\" class=\"data row1 col3\" >1.18%</td>\n",
       "      <td id=\"T_59c9d_row1_col4\" class=\"data row1 col4\" >0.12%</td>\n",
       "      <td id=\"T_59c9d_row1_col5\" class=\"data row1 col5\" >0.11%</td>\n",
       "      <td id=\"T_59c9d_row1_col6\" class=\"data row1 col6\" >0.03%</td>\n",
       "      <td id=\"T_59c9d_row1_col7\" class=\"data row1 col7\" >7.66%</td>\n",
       "    </tr>\n",
       "    <tr>\n",
       "      <th id=\"T_59c9d_level0_row2\" class=\"row_heading level0 row2\" >A</th>\n",
       "      <td id=\"T_59c9d_row2_col0\" class=\"data row2 col0\" >0.04%</td>\n",
       "      <td id=\"T_59c9d_row2_col1\" class=\"data row2 col1\" >2.72%</td>\n",
       "      <td id=\"T_59c9d_row2_col2\" class=\"data row2 col2\" >79.41%</td>\n",
       "      <td id=\"T_59c9d_row2_col3\" class=\"data row2 col3\" >8.57%</td>\n",
       "      <td id=\"T_59c9d_row2_col4\" class=\"data row2 col4\" >0.59%</td>\n",
       "      <td id=\"T_59c9d_row2_col5\" class=\"data row2 col5\" >0.20%</td>\n",
       "      <td id=\"T_59c9d_row2_col6\" class=\"data row2 col6\" >0.02%</td>\n",
       "      <td id=\"T_59c9d_row2_col7\" class=\"data row2 col7\" >8.45%</td>\n",
       "    </tr>\n",
       "    <tr>\n",
       "      <th id=\"T_59c9d_level0_row3\" class=\"row_heading level0 row3\" >BBB</th>\n",
       "      <td id=\"T_59c9d_row3_col0\" class=\"data row3 col0\" >0.00%</td>\n",
       "      <td id=\"T_59c9d_row3_col1\" class=\"data row3 col1\" >0.19%</td>\n",
       "      <td id=\"T_59c9d_row3_col2\" class=\"data row3 col2\" >5.51%</td>\n",
       "      <td id=\"T_59c9d_row3_col3\" class=\"data row3 col3\" >75.91%</td>\n",
       "      <td id=\"T_59c9d_row3_col4\" class=\"data row3 col4\" >5.61%</td>\n",
       "      <td id=\"T_59c9d_row3_col5\" class=\"data row3 col5\" >0.88%</td>\n",
       "      <td id=\"T_59c9d_row3_col6\" class=\"data row3 col6\" >0.16%</td>\n",
       "      <td id=\"T_59c9d_row3_col7\" class=\"data row3 col7\" >11.74%</td>\n",
       "    </tr>\n",
       "    <tr>\n",
       "      <th id=\"T_59c9d_level0_row4\" class=\"row_heading level0 row4\" >BB</th>\n",
       "      <td id=\"T_59c9d_row4_col0\" class=\"data row4 col0\" >0.02%</td>\n",
       "      <td id=\"T_59c9d_row4_col1\" class=\"data row4 col1\" >0.04%</td>\n",
       "      <td id=\"T_59c9d_row4_col2\" class=\"data row4 col2\" >0.25%</td>\n",
       "      <td id=\"T_59c9d_row4_col3\" class=\"data row4 col3\" >7.45%</td>\n",
       "      <td id=\"T_59c9d_row4_col4\" class=\"data row4 col4\" >61.76%</td>\n",
       "      <td id=\"T_59c9d_row4_col5\" class=\"data row4 col5\" >10.04%</td>\n",
       "      <td id=\"T_59c9d_row4_col6\" class=\"data row4 col6\" >0.97%</td>\n",
       "      <td id=\"T_59c9d_row4_col7\" class=\"data row4 col7\" >19.48%</td>\n",
       "    </tr>\n",
       "    <tr>\n",
       "      <th id=\"T_59c9d_level0_row5\" class=\"row_heading level0 row5\" >B</th>\n",
       "      <td id=\"T_59c9d_row5_col0\" class=\"data row5 col0\" >0.00%</td>\n",
       "      <td id=\"T_59c9d_row5_col1\" class=\"data row5 col1\" >0.03%</td>\n",
       "      <td id=\"T_59c9d_row5_col2\" class=\"data row5 col2\" >0.11%</td>\n",
       "      <td id=\"T_59c9d_row5_col3\" class=\"data row5 col3\" >0.46%</td>\n",
       "      <td id=\"T_59c9d_row5_col4\" class=\"data row5 col4\" >6.92%</td>\n",
       "      <td id=\"T_59c9d_row5_col5\" class=\"data row5 col5\" >56.93%</td>\n",
       "      <td id=\"T_59c9d_row5_col6\" class=\"data row5 col6\" >5.77%</td>\n",
       "      <td id=\"T_59c9d_row5_col7\" class=\"data row5 col7\" >29.77%</td>\n",
       "    </tr>\n",
       "    <tr>\n",
       "      <th id=\"T_59c9d_level0_row6\" class=\"row_heading level0 row6\" >CCC</th>\n",
       "      <td id=\"T_59c9d_row6_col0\" class=\"data row6 col0\" >0.00%</td>\n",
       "      <td id=\"T_59c9d_row6_col1\" class=\"data row6 col1\" >0.00%</td>\n",
       "      <td id=\"T_59c9d_row6_col2\" class=\"data row6 col2\" >0.12%</td>\n",
       "      <td id=\"T_59c9d_row6_col3\" class=\"data row6 col3\" >0.24%</td>\n",
       "      <td id=\"T_59c9d_row6_col4\" class=\"data row6 col4\" >1.19%</td>\n",
       "      <td id=\"T_59c9d_row6_col5\" class=\"data row6 col5\" >16.43%</td>\n",
       "      <td id=\"T_59c9d_row6_col6\" class=\"data row6 col6\" >20.68%</td>\n",
       "      <td id=\"T_59c9d_row6_col7\" class=\"data row6 col7\" >61.33%</td>\n",
       "    </tr>\n",
       "    <tr>\n",
       "      <th id=\"T_59c9d_level0_row7\" class=\"row_heading level0 row7\" >D</th>\n",
       "      <td id=\"T_59c9d_row7_col0\" class=\"data row7 col0\" >0.00%</td>\n",
       "      <td id=\"T_59c9d_row7_col1\" class=\"data row7 col1\" >0.00%</td>\n",
       "      <td id=\"T_59c9d_row7_col2\" class=\"data row7 col2\" >0.00%</td>\n",
       "      <td id=\"T_59c9d_row7_col3\" class=\"data row7 col3\" >0.00%</td>\n",
       "      <td id=\"T_59c9d_row7_col4\" class=\"data row7 col4\" >0.00%</td>\n",
       "      <td id=\"T_59c9d_row7_col5\" class=\"data row7 col5\" >0.00%</td>\n",
       "      <td id=\"T_59c9d_row7_col6\" class=\"data row7 col6\" >0.00%</td>\n",
       "      <td id=\"T_59c9d_row7_col7\" class=\"data row7 col7\" >100.00%</td>\n",
       "    </tr>\n",
       "  </tbody>\n",
       "</table>\n"
      ],
      "text/plain": [
       "<pandas.io.formats.style.Styler at 0x1efd7417790>"
      ]
     },
     "metadata": {},
     "output_type": "display_data"
    },
    {
     "data": {
      "text/html": [
       "<style type=\"text/css\">\n",
       "#T_dba93_row0_col0, #T_dba93_row1_col1, #T_dba93_row2_col2, #T_dba93_row3_col3, #T_dba93_row4_col4, #T_dba93_row5_col5, #T_dba93_row6_col6, #T_dba93_row7_col7 {\n",
       "  background-color: #0000ff;\n",
       "  color: #f1f1f1;\n",
       "}\n",
       "#T_dba93_row0_col1 {\n",
       "  background-color: #a7a7f7;\n",
       "  color: #000000;\n",
       "}\n",
       "#T_dba93_row0_col2 {\n",
       "  background-color: #e7e7f3;\n",
       "  color: #000000;\n",
       "}\n",
       "#T_dba93_row0_col3, #T_dba93_row0_col4, #T_dba93_row0_col6, #T_dba93_row1_col4, #T_dba93_row2_col5, #T_dba93_row2_col6, #T_dba93_row3_col1, #T_dba93_row4_col2, #T_dba93_row6_col3 {\n",
       "  background-color: #efeff3;\n",
       "  color: #000000;\n",
       "}\n",
       "#T_dba93_row0_col5, #T_dba93_row0_col7, #T_dba93_row1_col5, #T_dba93_row1_col6, #T_dba93_row2_col0, #T_dba93_row3_col0, #T_dba93_row4_col0, #T_dba93_row4_col1, #T_dba93_row5_col0, #T_dba93_row5_col1, #T_dba93_row5_col2, #T_dba93_row6_col0, #T_dba93_row6_col1, #T_dba93_row6_col2, #T_dba93_row7_col0, #T_dba93_row7_col1, #T_dba93_row7_col2, #T_dba93_row7_col3, #T_dba93_row7_col4, #T_dba93_row7_col5, #T_dba93_row7_col6 {\n",
       "  background-color: #f0f0f3;\n",
       "  color: #000000;\n",
       "}\n",
       "#T_dba93_row1_col0 {\n",
       "  background-color: #ededf3;\n",
       "  color: #000000;\n",
       "}\n",
       "#T_dba93_row1_col2 {\n",
       "  background-color: #b4b4f6;\n",
       "  color: #000000;\n",
       "}\n",
       "#T_dba93_row1_col3, #T_dba93_row3_col5 {\n",
       "  background-color: #eaeaf3;\n",
       "  color: #000000;\n",
       "}\n",
       "#T_dba93_row1_col7, #T_dba93_row2_col4, #T_dba93_row3_col6 {\n",
       "  background-color: #ececf3;\n",
       "  color: #000000;\n",
       "}\n",
       "#T_dba93_row2_col1 {\n",
       "  background-color: #e4e4f3;\n",
       "  color: #000000;\n",
       "}\n",
       "#T_dba93_row2_col3 {\n",
       "  background-color: #c8c8f5;\n",
       "  color: #000000;\n",
       "}\n",
       "#T_dba93_row2_col7, #T_dba93_row6_col4 {\n",
       "  background-color: #e8e8f3;\n",
       "  color: #000000;\n",
       "}\n",
       "#T_dba93_row3_col2 {\n",
       "  background-color: #d8d8f4;\n",
       "  color: #000000;\n",
       "}\n",
       "#T_dba93_row3_col4 {\n",
       "  background-color: #cecef4;\n",
       "  color: #000000;\n",
       "}\n",
       "#T_dba93_row3_col7 {\n",
       "  background-color: #dcdcf4;\n",
       "  color: #000000;\n",
       "}\n",
       "#T_dba93_row4_col3 {\n",
       "  background-color: #cfcff4;\n",
       "  color: #000000;\n",
       "}\n",
       "#T_dba93_row4_col5 {\n",
       "  background-color: #b0b0f6;\n",
       "  color: #000000;\n",
       "}\n",
       "#T_dba93_row4_col6 {\n",
       "  background-color: #d3d3f4;\n",
       "  color: #000000;\n",
       "}\n",
       "#T_dba93_row4_col7 {\n",
       "  background-color: #bebef5;\n",
       "  color: #000000;\n",
       "}\n",
       "#T_dba93_row5_col3 {\n",
       "  background-color: #eeeef3;\n",
       "  color: #000000;\n",
       "}\n",
       "#T_dba93_row5_col4 {\n",
       "  background-color: #cacaf5;\n",
       "  color: #000000;\n",
       "}\n",
       "#T_dba93_row5_col6 {\n",
       "  background-color: #7070f9;\n",
       "  color: #f1f1f1;\n",
       "}\n",
       "#T_dba93_row5_col7 {\n",
       "  background-color: #9b9bf7;\n",
       "  color: #f1f1f1;\n",
       "}\n",
       "#T_dba93_row6_col5 {\n",
       "  background-color: #9d9df7;\n",
       "  color: #f1f1f1;\n",
       "}\n",
       "#T_dba93_row6_col7 {\n",
       "  background-color: #4949fb;\n",
       "  color: #f1f1f1;\n",
       "}\n",
       "</style>\n",
       "<table id=\"T_dba93\">\n",
       "  <thead>\n",
       "    <tr>\n",
       "      <th class=\"blank level0\" >&nbsp;</th>\n",
       "      <th id=\"T_dba93_level0_col0\" class=\"col_heading level0 col0\" >AAA</th>\n",
       "      <th id=\"T_dba93_level0_col1\" class=\"col_heading level0 col1\" >AA</th>\n",
       "      <th id=\"T_dba93_level0_col2\" class=\"col_heading level0 col2\" >A</th>\n",
       "      <th id=\"T_dba93_level0_col3\" class=\"col_heading level0 col3\" >BBB</th>\n",
       "      <th id=\"T_dba93_level0_col4\" class=\"col_heading level0 col4\" >BB</th>\n",
       "      <th id=\"T_dba93_level0_col5\" class=\"col_heading level0 col5\" >B</th>\n",
       "      <th id=\"T_dba93_level0_col6\" class=\"col_heading level0 col6\" >CCC</th>\n",
       "      <th id=\"T_dba93_level0_col7\" class=\"col_heading level0 col7\" >D</th>\n",
       "    </tr>\n",
       "  </thead>\n",
       "  <tbody>\n",
       "    <tr>\n",
       "      <th id=\"T_dba93_level0_row0\" class=\"row_heading level0 row0\" >AAA</th>\n",
       "      <td id=\"T_dba93_row0_col0\" class=\"data row0 col0\" >66.17%</td>\n",
       "      <td id=\"T_dba93_row0_col1\" class=\"data row0 col1\" >20.71%</td>\n",
       "      <td id=\"T_dba93_row0_col2\" class=\"data row0 col2\" >3.04%</td>\n",
       "      <td id=\"T_dba93_row0_col3\" class=\"data row0 col3\" >0.33%</td>\n",
       "      <td id=\"T_dba93_row0_col4\" class=\"data row0 col4\" >0.23%</td>\n",
       "      <td id=\"T_dba93_row0_col5\" class=\"data row0 col5\" >0.11%</td>\n",
       "      <td id=\"T_dba93_row0_col6\" class=\"data row0 col6\" >0.08%</td>\n",
       "      <td id=\"T_dba93_row0_col7\" class=\"data row0 col7\" >9.34%</td>\n",
       "    </tr>\n",
       "    <tr>\n",
       "      <th id=\"T_dba93_level0_row1\" class=\"row_heading level0 row1\" >AA</th>\n",
       "      <td id=\"T_dba93_row1_col0\" class=\"data row1 col0\" >1.08%</td>\n",
       "      <td id=\"T_dba93_row1_col1\" class=\"data row1 col1\" >67.23%</td>\n",
       "      <td id=\"T_dba93_row1_col2\" class=\"data row1 col2\" >17.89%</td>\n",
       "      <td id=\"T_dba93_row1_col3\" class=\"data row1 col3\" >2.04%</td>\n",
       "      <td id=\"T_dba93_row1_col4\" class=\"data row1 col4\" >0.21%</td>\n",
       "      <td id=\"T_dba93_row1_col5\" class=\"data row1 col5\" >0.16%</td>\n",
       "      <td id=\"T_dba93_row1_col6\" class=\"data row1 col6\" >0.04%</td>\n",
       "      <td id=\"T_dba93_row1_col7\" class=\"data row1 col7\" >11.35%</td>\n",
       "    </tr>\n",
       "    <tr>\n",
       "      <th id=\"T_dba93_level0_row2\" class=\"row_heading level0 row2\" >A</th>\n",
       "      <td id=\"T_dba93_row2_col0\" class=\"data row2 col0\" >0.07%</td>\n",
       "      <td id=\"T_dba93_row2_col1\" class=\"data row2 col1\" >3.61%</td>\n",
       "      <td id=\"T_dba93_row2_col2\" class=\"data row2 col2\" >71.12%</td>\n",
       "      <td id=\"T_dba93_row2_col3\" class=\"data row2 col3\" >11.35%</td>\n",
       "      <td id=\"T_dba93_row2_col4\" class=\"data row2 col4\" >0.96%</td>\n",
       "      <td id=\"T_dba93_row2_col5\" class=\"data row2 col5\" >0.31%</td>\n",
       "      <td id=\"T_dba93_row2_col6\" class=\"data row2 col6\" >0.04%</td>\n",
       "      <td id=\"T_dba93_row2_col7\" class=\"data row2 col7\" >12.55%</td>\n",
       "    </tr>\n",
       "    <tr>\n",
       "      <th id=\"T_dba93_level0_row3\" class=\"row_heading level0 row3\" >BBB</th>\n",
       "      <td id=\"T_dba93_row3_col0\" class=\"data row3 col0\" >0.00%</td>\n",
       "      <td id=\"T_dba93_row3_col1\" class=\"data row3 col1\" >0.31%</td>\n",
       "      <td id=\"T_dba93_row3_col2\" class=\"data row3 col2\" >7.30%</td>\n",
       "      <td id=\"T_dba93_row3_col3\" class=\"data row3 col3\" >66.53%</td>\n",
       "      <td id=\"T_dba93_row3_col4\" class=\"data row3 col4\" >7.01%</td>\n",
       "      <td id=\"T_dba93_row3_col5\" class=\"data row3 col5\" >1.36%</td>\n",
       "      <td id=\"T_dba93_row3_col6\" class=\"data row3 col6\" >0.21%</td>\n",
       "      <td id=\"T_dba93_row3_col7\" class=\"data row3 col7\" >17.28%</td>\n",
       "    </tr>\n",
       "    <tr>\n",
       "      <th id=\"T_dba93_level0_row4\" class=\"row_heading level0 row4\" >BB</th>\n",
       "      <td id=\"T_dba93_row4_col0\" class=\"data row4 col0\" >0.02%</td>\n",
       "      <td id=\"T_dba93_row4_col1\" class=\"data row4 col1\" >0.06%</td>\n",
       "      <td id=\"T_dba93_row4_col2\" class=\"data row4 col2\" >0.50%</td>\n",
       "      <td id=\"T_dba93_row4_col3\" class=\"data row4 col3\" >9.29%</td>\n",
       "      <td id=\"T_dba93_row4_col4\" class=\"data row4 col4\" >49.06%</td>\n",
       "      <td id=\"T_dba93_row4_col5\" class=\"data row4 col5\" >11.69%</td>\n",
       "      <td id=\"T_dba93_row4_col6\" class=\"data row4 col6\" >1.25%</td>\n",
       "      <td id=\"T_dba93_row4_col7\" class=\"data row4 col7\" >28.13%</td>\n",
       "    </tr>\n",
       "    <tr>\n",
       "      <th id=\"T_dba93_level0_row5\" class=\"row_heading level0 row5\" >B</th>\n",
       "      <td id=\"T_dba93_row5_col0\" class=\"data row5 col0\" >0.00%</td>\n",
       "      <td id=\"T_dba93_row5_col1\" class=\"data row5 col1\" >0.04%</td>\n",
       "      <td id=\"T_dba93_row5_col2\" class=\"data row5 col2\" >0.16%</td>\n",
       "      <td id=\"T_dba93_row5_col3\" class=\"data row5 col3\" >0.81%</td>\n",
       "      <td id=\"T_dba93_row5_col4\" class=\"data row5 col4\" >8.02%</td>\n",
       "      <td id=\"T_dba93_row5_col5\" class=\"data row5 col5\" >43.84%</td>\n",
       "      <td id=\"T_dba93_row5_col6\" class=\"data row5 col6\" >5.36%</td>\n",
       "      <td id=\"T_dba93_row5_col7\" class=\"data row5 col7\" >41.77%</td>\n",
       "    </tr>\n",
       "    <tr>\n",
       "      <th id=\"T_dba93_level0_row6\" class=\"row_heading level0 row6\" >CCC</th>\n",
       "      <td id=\"T_dba93_row6_col0\" class=\"data row6 col0\" >0.00%</td>\n",
       "      <td id=\"T_dba93_row6_col1\" class=\"data row6 col1\" >0.01%</td>\n",
       "      <td id=\"T_dba93_row6_col2\" class=\"data row6 col2\" >0.14%</td>\n",
       "      <td id=\"T_dba93_row6_col3\" class=\"data row6 col3\" >0.33%</td>\n",
       "      <td id=\"T_dba93_row6_col4\" class=\"data row6 col4\" >1.77%</td>\n",
       "      <td id=\"T_dba93_row6_col5\" class=\"data row6 col5\" >15.21%</td>\n",
       "      <td id=\"T_dba93_row6_col6\" class=\"data row6 col6\" >10.05%</td>\n",
       "      <td id=\"T_dba93_row6_col7\" class=\"data row6 col7\" >72.49%</td>\n",
       "    </tr>\n",
       "    <tr>\n",
       "      <th id=\"T_dba93_level0_row7\" class=\"row_heading level0 row7\" >D</th>\n",
       "      <td id=\"T_dba93_row7_col0\" class=\"data row7 col0\" >0.00%</td>\n",
       "      <td id=\"T_dba93_row7_col1\" class=\"data row7 col1\" >0.00%</td>\n",
       "      <td id=\"T_dba93_row7_col2\" class=\"data row7 col2\" >0.00%</td>\n",
       "      <td id=\"T_dba93_row7_col3\" class=\"data row7 col3\" >0.00%</td>\n",
       "      <td id=\"T_dba93_row7_col4\" class=\"data row7 col4\" >0.00%</td>\n",
       "      <td id=\"T_dba93_row7_col5\" class=\"data row7 col5\" >0.00%</td>\n",
       "      <td id=\"T_dba93_row7_col6\" class=\"data row7 col6\" >0.00%</td>\n",
       "      <td id=\"T_dba93_row7_col7\" class=\"data row7 col7\" >100.00%</td>\n",
       "    </tr>\n",
       "  </tbody>\n",
       "</table>\n"
      ],
      "text/plain": [
       "<pandas.io.formats.style.Styler at 0x1efe88d9050>"
      ]
     },
     "metadata": {},
     "output_type": "display_data"
    },
    {
     "data": {
      "text/html": [
       "<style type=\"text/css\">\n",
       "#T_1f2c4_row0_col0, #T_1f2c4_row1_col1, #T_1f2c4_row2_col2, #T_1f2c4_row3_col3, #T_1f2c4_row4_col4, #T_1f2c4_row5_col5, #T_1f2c4_row6_col6, #T_1f2c4_row7_col7 {\n",
       "  background-color: #0000ff;\n",
       "  color: #f1f1f1;\n",
       "}\n",
       "#T_1f2c4_row0_col1 {\n",
       "  background-color: #8e8ef8;\n",
       "  color: #f1f1f1;\n",
       "}\n",
       "#T_1f2c4_row0_col2, #T_1f2c4_row2_col1 {\n",
       "  background-color: #dfdff4;\n",
       "  color: #000000;\n",
       "}\n",
       "#T_1f2c4_row0_col3, #T_1f2c4_row0_col4, #T_1f2c4_row0_col5, #T_1f2c4_row1_col4, #T_1f2c4_row1_col5, #T_1f2c4_row1_col6, #T_1f2c4_row2_col6, #T_1f2c4_row3_col1, #T_1f2c4_row6_col3 {\n",
       "  background-color: #efeff3;\n",
       "  color: #000000;\n",
       "}\n",
       "#T_1f2c4_row0_col6, #T_1f2c4_row2_col5, #T_1f2c4_row4_col2 {\n",
       "  background-color: #eeeef3;\n",
       "  color: #000000;\n",
       "}\n",
       "#T_1f2c4_row0_col7, #T_1f2c4_row2_col0, #T_1f2c4_row3_col0, #T_1f2c4_row4_col0, #T_1f2c4_row4_col1, #T_1f2c4_row5_col0, #T_1f2c4_row5_col1, #T_1f2c4_row5_col2, #T_1f2c4_row6_col0, #T_1f2c4_row6_col1, #T_1f2c4_row6_col2, #T_1f2c4_row7_col0, #T_1f2c4_row7_col1, #T_1f2c4_row7_col2, #T_1f2c4_row7_col3, #T_1f2c4_row7_col4, #T_1f2c4_row7_col5, #T_1f2c4_row7_col6 {\n",
       "  background-color: #f0f0f3;\n",
       "  color: #000000;\n",
       "}\n",
       "#T_1f2c4_row1_col0, #T_1f2c4_row5_col3 {\n",
       "  background-color: #ececf3;\n",
       "  color: #000000;\n",
       "}\n",
       "#T_1f2c4_row1_col2 {\n",
       "  background-color: #a1a1f7;\n",
       "  color: #f1f1f1;\n",
       "}\n",
       "#T_1f2c4_row1_col3, #T_1f2c4_row2_col7, #T_1f2c4_row3_col6 {\n",
       "  background-color: #e5e5f3;\n",
       "  color: #000000;\n",
       "}\n",
       "#T_1f2c4_row1_col7 {\n",
       "  background-color: #eaeaf3;\n",
       "  color: #000000;\n",
       "}\n",
       "#T_1f2c4_row2_col3 {\n",
       "  background-color: #babaf6;\n",
       "  color: #000000;\n",
       "}\n",
       "#T_1f2c4_row2_col4 {\n",
       "  background-color: #e9e9f3;\n",
       "  color: #000000;\n",
       "}\n",
       "#T_1f2c4_row3_col2 {\n",
       "  background-color: #d0d0f4;\n",
       "  color: #000000;\n",
       "}\n",
       "#T_1f2c4_row3_col4 {\n",
       "  background-color: #c1c1f5;\n",
       "  color: #000000;\n",
       "}\n",
       "#T_1f2c4_row3_col5, #T_1f2c4_row6_col4 {\n",
       "  background-color: #e4e4f3;\n",
       "  color: #000000;\n",
       "}\n",
       "#T_1f2c4_row3_col7 {\n",
       "  background-color: #d5d5f4;\n",
       "  color: #000000;\n",
       "}\n",
       "#T_1f2c4_row4_col3 {\n",
       "  background-color: #c6c6f5;\n",
       "  color: #000000;\n",
       "}\n",
       "#T_1f2c4_row4_col5 {\n",
       "  background-color: #9b9bf7;\n",
       "  color: #f1f1f1;\n",
       "}\n",
       "#T_1f2c4_row4_col6 {\n",
       "  background-color: #b1b1f6;\n",
       "  color: #000000;\n",
       "}\n",
       "#T_1f2c4_row4_col7 {\n",
       "  background-color: #b0b0f6;\n",
       "  color: #000000;\n",
       "}\n",
       "#T_1f2c4_row5_col4 {\n",
       "  background-color: #bebef5;\n",
       "  color: #000000;\n",
       "}\n",
       "#T_1f2c4_row5_col6 {\n",
       "  background-color: #1f1ffd;\n",
       "  color: #f1f1f1;\n",
       "}\n",
       "#T_1f2c4_row5_col7 {\n",
       "  background-color: #8585f8;\n",
       "  color: #f1f1f1;\n",
       "}\n",
       "#T_1f2c4_row6_col5 {\n",
       "  background-color: #9696f7;\n",
       "  color: #f1f1f1;\n",
       "}\n",
       "#T_1f2c4_row6_col7 {\n",
       "  background-color: #3939fc;\n",
       "  color: #f1f1f1;\n",
       "}\n",
       "</style>\n",
       "<table id=\"T_1f2c4\">\n",
       "  <thead>\n",
       "    <tr>\n",
       "      <th class=\"blank level0\" >&nbsp;</th>\n",
       "      <th id=\"T_1f2c4_level0_col0\" class=\"col_heading level0 col0\" >AAA</th>\n",
       "      <th id=\"T_1f2c4_level0_col1\" class=\"col_heading level0 col1\" >AA</th>\n",
       "      <th id=\"T_1f2c4_level0_col2\" class=\"col_heading level0 col2\" >A</th>\n",
       "      <th id=\"T_1f2c4_level0_col3\" class=\"col_heading level0 col3\" >BBB</th>\n",
       "      <th id=\"T_1f2c4_level0_col4\" class=\"col_heading level0 col4\" >BB</th>\n",
       "      <th id=\"T_1f2c4_level0_col5\" class=\"col_heading level0 col5\" >B</th>\n",
       "      <th id=\"T_1f2c4_level0_col6\" class=\"col_heading level0 col6\" >CCC</th>\n",
       "      <th id=\"T_1f2c4_level0_col7\" class=\"col_heading level0 col7\" >D</th>\n",
       "    </tr>\n",
       "  </thead>\n",
       "  <tbody>\n",
       "    <tr>\n",
       "      <th id=\"T_1f2c4_level0_row0\" class=\"row_heading level0 row0\" >AAA</th>\n",
       "      <td id=\"T_1f2c4_row0_col0\" class=\"data row0 col0\" >57.72%</td>\n",
       "      <td id=\"T_1f2c4_row0_col1\" class=\"data row0 col1\" >24.14%</td>\n",
       "      <td id=\"T_1f2c4_row0_col2\" class=\"data row0 col2\" >4.64%</td>\n",
       "      <td id=\"T_1f2c4_row0_col3\" class=\"data row0 col3\" >0.58%</td>\n",
       "      <td id=\"T_1f2c4_row0_col4\" class=\"data row0 col4\" >0.28%</td>\n",
       "      <td id=\"T_1f2c4_row0_col5\" class=\"data row0 col5\" >0.14%</td>\n",
       "      <td id=\"T_1f2c4_row0_col6\" class=\"data row0 col6\" >0.08%</td>\n",
       "      <td id=\"T_1f2c4_row0_col7\" class=\"data row0 col7\" >12.42%</td>\n",
       "    </tr>\n",
       "    <tr>\n",
       "      <th id=\"T_1f2c4_level0_row1\" class=\"row_heading level0 row1\" >AA</th>\n",
       "      <td id=\"T_1f2c4_row1_col0\" class=\"data row1 col0\" >1.26%</td>\n",
       "      <td id=\"T_1f2c4_row1_col1\" class=\"data row1 col1\" >59.15%</td>\n",
       "      <td id=\"T_1f2c4_row1_col2\" class=\"data row1 col2\" >21.13%</td>\n",
       "      <td id=\"T_1f2c4_row1_col3\" class=\"data row1 col3\" >2.96%</td>\n",
       "      <td id=\"T_1f2c4_row1_col4\" class=\"data row1 col4\" >0.32%</td>\n",
       "      <td id=\"T_1f2c4_row1_col5\" class=\"data row1 col5\" >0.21%</td>\n",
       "      <td id=\"T_1f2c4_row1_col6\" class=\"data row1 col6\" >0.04%</td>\n",
       "      <td id=\"T_1f2c4_row1_col7\" class=\"data row1 col7\" >14.93%</td>\n",
       "    </tr>\n",
       "    <tr>\n",
       "      <th id=\"T_1f2c4_level0_row2\" class=\"row_heading level0 row2\" >A</th>\n",
       "      <td id=\"T_1f2c4_row2_col0\" class=\"data row2 col0\" >0.09%</td>\n",
       "      <td id=\"T_1f2c4_row2_col1\" class=\"data row2 col1\" >4.27%</td>\n",
       "      <td id=\"T_1f2c4_row2_col2\" class=\"data row2 col2\" >63.90%</td>\n",
       "      <td id=\"T_1f2c4_row2_col3\" class=\"data row2 col3\" >13.38%</td>\n",
       "      <td id=\"T_1f2c4_row2_col4\" class=\"data row2 col4\" >1.33%</td>\n",
       "      <td id=\"T_1f2c4_row2_col5\" class=\"data row2 col5\" >0.42%</td>\n",
       "      <td id=\"T_1f2c4_row2_col6\" class=\"data row2 col6\" >0.06%</td>\n",
       "      <td id=\"T_1f2c4_row2_col7\" class=\"data row2 col7\" >16.56%</td>\n",
       "    </tr>\n",
       "    <tr>\n",
       "      <th id=\"T_1f2c4_level0_row3\" class=\"row_heading level0 row3\" >BBB</th>\n",
       "      <td id=\"T_1f2c4_row3_col0\" class=\"data row3 col0\" >0.01%</td>\n",
       "      <td id=\"T_1f2c4_row3_col1\" class=\"data row3 col1\" >0.44%</td>\n",
       "      <td id=\"T_1f2c4_row3_col2\" class=\"data row3 col2\" >8.61%</td>\n",
       "      <td id=\"T_1f2c4_row3_col3\" class=\"data row3 col3\" >58.52%</td>\n",
       "      <td id=\"T_1f2c4_row3_col4\" class=\"data row3 col4\" >7.82%</td>\n",
       "      <td id=\"T_1f2c4_row3_col5\" class=\"data row3 col5\" >1.77%</td>\n",
       "      <td id=\"T_1f2c4_row3_col6\" class=\"data row3 col6\" >0.26%</td>\n",
       "      <td id=\"T_1f2c4_row3_col7\" class=\"data row3 col7\" >22.58%</td>\n",
       "    </tr>\n",
       "    <tr>\n",
       "      <th id=\"T_1f2c4_level0_row4\" class=\"row_heading level0 row4\" >BB</th>\n",
       "      <td id=\"T_1f2c4_row4_col0\" class=\"data row4 col0\" >0.02%</td>\n",
       "      <td id=\"T_1f2c4_row4_col1\" class=\"data row4 col1\" >0.08%</td>\n",
       "      <td id=\"T_1f2c4_row4_col2\" class=\"data row4 col2\" >0.78%</td>\n",
       "      <td id=\"T_1f2c4_row4_col3\" class=\"data row4 col3\" >10.33%</td>\n",
       "      <td id=\"T_1f2c4_row4_col4\" class=\"data row4 col4\" >39.26%</td>\n",
       "      <td id=\"T_1f2c4_row4_col5\" class=\"data row4 col5\" >12.15%</td>\n",
       "      <td id=\"T_1f2c4_row4_col6\" class=\"data row4 col6\" >1.39%</td>\n",
       "      <td id=\"T_1f2c4_row4_col7\" class=\"data row4 col7\" >35.99%</td>\n",
       "    </tr>\n",
       "    <tr>\n",
       "      <th id=\"T_1f2c4_level0_row5\" class=\"row_heading level0 row5\" >B</th>\n",
       "      <td id=\"T_1f2c4_row5_col0\" class=\"data row5 col0\" >0.00%</td>\n",
       "      <td id=\"T_1f2c4_row5_col1\" class=\"data row5 col1\" >0.05%</td>\n",
       "      <td id=\"T_1f2c4_row5_col2\" class=\"data row5 col2\" >0.21%</td>\n",
       "      <td id=\"T_1f2c4_row5_col3\" class=\"data row5 col3\" >1.14%</td>\n",
       "      <td id=\"T_1f2c4_row5_col4\" class=\"data row5 col4\" >8.31%</td>\n",
       "      <td id=\"T_1f2c4_row5_col5\" class=\"data row5 col5\" >34.06%</td>\n",
       "      <td id=\"T_1f2c4_row5_col6\" class=\"data row5 col6\" >4.55%</td>\n",
       "      <td id=\"T_1f2c4_row5_col7\" class=\"data row5 col7\" >51.68%</td>\n",
       "    </tr>\n",
       "    <tr>\n",
       "      <th id=\"T_1f2c4_level0_row6\" class=\"row_heading level0 row6\" >CCC</th>\n",
       "      <td id=\"T_1f2c4_row6_col0\" class=\"data row6 col0\" >0.00%</td>\n",
       "      <td id=\"T_1f2c4_row6_col1\" class=\"data row6 col1\" >0.01%</td>\n",
       "      <td id=\"T_1f2c4_row6_col2\" class=\"data row6 col2\" >0.16%</td>\n",
       "      <td id=\"T_1f2c4_row6_col3\" class=\"data row6 col3\" >0.41%</td>\n",
       "      <td id=\"T_1f2c4_row6_col4\" class=\"data row6 col4\" >2.13%</td>\n",
       "      <td id=\"T_1f2c4_row6_col5\" class=\"data row6 col5\" >12.88%</td>\n",
       "      <td id=\"T_1f2c4_row6_col6\" class=\"data row6 col6\" >5.24%</td>\n",
       "      <td id=\"T_1f2c4_row6_col7\" class=\"data row6 col7\" >79.18%</td>\n",
       "    </tr>\n",
       "    <tr>\n",
       "      <th id=\"T_1f2c4_level0_row7\" class=\"row_heading level0 row7\" >D</th>\n",
       "      <td id=\"T_1f2c4_row7_col0\" class=\"data row7 col0\" >0.00%</td>\n",
       "      <td id=\"T_1f2c4_row7_col1\" class=\"data row7 col1\" >0.00%</td>\n",
       "      <td id=\"T_1f2c4_row7_col2\" class=\"data row7 col2\" >0.00%</td>\n",
       "      <td id=\"T_1f2c4_row7_col3\" class=\"data row7 col3\" >0.00%</td>\n",
       "      <td id=\"T_1f2c4_row7_col4\" class=\"data row7 col4\" >0.00%</td>\n",
       "      <td id=\"T_1f2c4_row7_col5\" class=\"data row7 col5\" >0.00%</td>\n",
       "      <td id=\"T_1f2c4_row7_col6\" class=\"data row7 col6\" >0.00%</td>\n",
       "      <td id=\"T_1f2c4_row7_col7\" class=\"data row7 col7\" >100.00%</td>\n",
       "    </tr>\n",
       "  </tbody>\n",
       "</table>\n"
      ],
      "text/plain": [
       "<pandas.io.formats.style.Styler at 0x1efe90b0b10>"
      ]
     },
     "metadata": {},
     "output_type": "display_data"
    },
    {
     "data": {
      "text/html": [
       "<style type=\"text/css\">\n",
       "#T_d1396_row0_col0, #T_d1396_row1_col1, #T_d1396_row2_col2, #T_d1396_row3_col3, #T_d1396_row4_col4, #T_d1396_row5_col5, #T_d1396_row5_col6, #T_d1396_row7_col7 {\n",
       "  background-color: #0000ff;\n",
       "  color: #f1f1f1;\n",
       "}\n",
       "#T_d1396_row0_col1 {\n",
       "  background-color: #7777f9;\n",
       "  color: #f1f1f1;\n",
       "}\n",
       "#T_d1396_row0_col2 {\n",
       "  background-color: #d7d7f4;\n",
       "  color: #000000;\n",
       "}\n",
       "#T_d1396_row0_col3, #T_d1396_row2_col6, #T_d1396_row4_col2 {\n",
       "  background-color: #ededf3;\n",
       "  color: #000000;\n",
       "}\n",
       "#T_d1396_row0_col4, #T_d1396_row0_col5, #T_d1396_row1_col5, #T_d1396_row3_col1, #T_d1396_row5_col2, #T_d1396_row6_col3 {\n",
       "  background-color: #efeff3;\n",
       "  color: #000000;\n",
       "}\n",
       "#T_d1396_row0_col6, #T_d1396_row2_col5 {\n",
       "  background-color: #ececf3;\n",
       "  color: #000000;\n",
       "}\n",
       "#T_d1396_row0_col7, #T_d1396_row2_col0, #T_d1396_row3_col0, #T_d1396_row4_col0, #T_d1396_row4_col1, #T_d1396_row5_col0, #T_d1396_row5_col1, #T_d1396_row6_col0, #T_d1396_row6_col1, #T_d1396_row6_col2, #T_d1396_row7_col0, #T_d1396_row7_col1, #T_d1396_row7_col2, #T_d1396_row7_col3, #T_d1396_row7_col4, #T_d1396_row7_col5, #T_d1396_row7_col6 {\n",
       "  background-color: #f0f0f3;\n",
       "  color: #000000;\n",
       "}\n",
       "#T_d1396_row1_col0, #T_d1396_row5_col3 {\n",
       "  background-color: #eaeaf3;\n",
       "  color: #000000;\n",
       "}\n",
       "#T_d1396_row1_col2 {\n",
       "  background-color: #8e8ef8;\n",
       "  color: #f1f1f1;\n",
       "}\n",
       "#T_d1396_row1_col3 {\n",
       "  background-color: #dedff4;\n",
       "  color: #000000;\n",
       "}\n",
       "#T_d1396_row1_col4, #T_d1396_row1_col6 {\n",
       "  background-color: #eeeef3;\n",
       "  color: #000000;\n",
       "}\n",
       "#T_d1396_row1_col7 {\n",
       "  background-color: #e9e9f3;\n",
       "  color: #000000;\n",
       "}\n",
       "#T_d1396_row2_col1 {\n",
       "  background-color: #dbdbf4;\n",
       "  color: #000000;\n",
       "}\n",
       "#T_d1396_row2_col3 {\n",
       "  background-color: #acacf6;\n",
       "  color: #000000;\n",
       "}\n",
       "#T_d1396_row2_col4 {\n",
       "  background-color: #e4e4f3;\n",
       "  color: #000000;\n",
       "}\n",
       "#T_d1396_row2_col7 {\n",
       "  background-color: #e2e2f3;\n",
       "  color: #000000;\n",
       "}\n",
       "#T_d1396_row3_col2 {\n",
       "  background-color: #c9c9f5;\n",
       "  color: #000000;\n",
       "}\n",
       "#T_d1396_row3_col4 {\n",
       "  background-color: #b2b2f6;\n",
       "  color: #000000;\n",
       "}\n",
       "#T_d1396_row3_col5, #T_d1396_row3_col6 {\n",
       "  background-color: #dedef4;\n",
       "  color: #000000;\n",
       "}\n",
       "#T_d1396_row3_col7 {\n",
       "  background-color: #cecef4;\n",
       "  color: #000000;\n",
       "}\n",
       "#T_d1396_row4_col3 {\n",
       "  background-color: #bebef5;\n",
       "  color: #000000;\n",
       "}\n",
       "#T_d1396_row4_col5 {\n",
       "  background-color: #8585f8;\n",
       "  color: #f1f1f1;\n",
       "}\n",
       "#T_d1396_row4_col6 {\n",
       "  background-color: #9494f7;\n",
       "  color: #f1f1f1;\n",
       "}\n",
       "#T_d1396_row4_col7 {\n",
       "  background-color: #a2a2f7;\n",
       "  color: #f1f1f1;\n",
       "}\n",
       "#T_d1396_row5_col4 {\n",
       "  background-color: #b3b3f6;\n",
       "  color: #000000;\n",
       "}\n",
       "#T_d1396_row5_col7 {\n",
       "  background-color: #7272f9;\n",
       "  color: #f1f1f1;\n",
       "}\n",
       "#T_d1396_row6_col4 {\n",
       "  background-color: #dfdff4;\n",
       "  color: #000000;\n",
       "}\n",
       "#T_d1396_row6_col5 {\n",
       "  background-color: #9292f8;\n",
       "  color: #f1f1f1;\n",
       "}\n",
       "#T_d1396_row6_col6 {\n",
       "  background-color: #3030fd;\n",
       "  color: #f1f1f1;\n",
       "}\n",
       "#T_d1396_row6_col7 {\n",
       "  background-color: #2e2efd;\n",
       "  color: #f1f1f1;\n",
       "}\n",
       "</style>\n",
       "<table id=\"T_d1396\">\n",
       "  <thead>\n",
       "    <tr>\n",
       "      <th class=\"blank level0\" >&nbsp;</th>\n",
       "      <th id=\"T_d1396_level0_col0\" class=\"col_heading level0 col0\" >AAA</th>\n",
       "      <th id=\"T_d1396_level0_col1\" class=\"col_heading level0 col1\" >AA</th>\n",
       "      <th id=\"T_d1396_level0_col2\" class=\"col_heading level0 col2\" >A</th>\n",
       "      <th id=\"T_d1396_level0_col3\" class=\"col_heading level0 col3\" >BBB</th>\n",
       "      <th id=\"T_d1396_level0_col4\" class=\"col_heading level0 col4\" >BB</th>\n",
       "      <th id=\"T_d1396_level0_col5\" class=\"col_heading level0 col5\" >B</th>\n",
       "      <th id=\"T_d1396_level0_col6\" class=\"col_heading level0 col6\" >CCC</th>\n",
       "      <th id=\"T_d1396_level0_col7\" class=\"col_heading level0 col7\" >D</th>\n",
       "    </tr>\n",
       "  </thead>\n",
       "  <tbody>\n",
       "    <tr>\n",
       "      <th id=\"T_d1396_level0_row0\" class=\"row_heading level0 row0\" >AAA</th>\n",
       "      <td id=\"T_d1396_row0_col0\" class=\"data row0 col0\" >50.38%</td>\n",
       "      <td id=\"T_d1396_row0_col1\" class=\"data row0 col1\" >26.40%</td>\n",
       "      <td id=\"T_d1396_row0_col2\" class=\"data row0 col2\" >6.29%</td>\n",
       "      <td id=\"T_d1396_row0_col3\" class=\"data row0 col3\" >0.88%</td>\n",
       "      <td id=\"T_d1396_row0_col4\" class=\"data row0 col4\" >0.33%</td>\n",
       "      <td id=\"T_d1396_row0_col5\" class=\"data row0 col5\" >0.17%</td>\n",
       "      <td id=\"T_d1396_row0_col6\" class=\"data row0 col6\" >0.08%</td>\n",
       "      <td id=\"T_d1396_row0_col7\" class=\"data row0 col7\" >15.47%</td>\n",
       "    </tr>\n",
       "    <tr>\n",
       "      <th id=\"T_d1396_level0_row1\" class=\"row_heading level0 row1\" >AA</th>\n",
       "      <td id=\"T_d1396_row1_col0\" class=\"data row1 col0\" >1.38%</td>\n",
       "      <td id=\"T_d1396_row1_col1\" class=\"data row1 col1\" >52.15%</td>\n",
       "      <td id=\"T_d1396_row1_col2\" class=\"data row1 col2\" >23.41%</td>\n",
       "      <td id=\"T_d1396_row1_col3\" class=\"data row1 col3\" >3.89%</td>\n",
       "      <td id=\"T_d1396_row1_col4\" class=\"data row1 col4\" >0.45%</td>\n",
       "      <td id=\"T_d1396_row1_col5\" class=\"data row1 col5\" >0.25%</td>\n",
       "      <td id=\"T_d1396_row1_col6\" class=\"data row1 col6\" >0.05%</td>\n",
       "      <td id=\"T_d1396_row1_col7\" class=\"data row1 col7\" >18.43%</td>\n",
       "    </tr>\n",
       "    <tr>\n",
       "      <th id=\"T_d1396_level0_row2\" class=\"row_heading level0 row2\" >A</th>\n",
       "      <td id=\"T_d1396_row2_col0\" class=\"data row2 col0\" >0.11%</td>\n",
       "      <td id=\"T_d1396_row2_col1\" class=\"data row2 col1\" >4.74%</td>\n",
       "      <td id=\"T_d1396_row2_col2\" class=\"data row2 col2\" >57.59%</td>\n",
       "      <td id=\"T_d1396_row2_col3\" class=\"data row2 col3\" >14.82%</td>\n",
       "      <td id=\"T_d1396_row2_col4\" class=\"data row2 col4\" >1.67%</td>\n",
       "      <td id=\"T_d1396_row2_col5\" class=\"data row2 col5\" >0.53%</td>\n",
       "      <td id=\"T_d1396_row2_col6\" class=\"data row2 col6\" >0.07%</td>\n",
       "      <td id=\"T_d1396_row2_col7\" class=\"data row2 col7\" >20.47%</td>\n",
       "    </tr>\n",
       "    <tr>\n",
       "      <th id=\"T_d1396_level0_row3\" class=\"row_heading level0 row3\" >BBB</th>\n",
       "      <td id=\"T_d1396_row3_col0\" class=\"data row3 col0\" >0.01%</td>\n",
       "      <td id=\"T_d1396_row3_col1\" class=\"data row3 col1\" >0.57%</td>\n",
       "      <td id=\"T_d1396_row3_col2\" class=\"data row3 col2\" >9.53%</td>\n",
       "      <td id=\"T_d1396_row3_col3\" class=\"data row3 col3\" >51.66%</td>\n",
       "      <td id=\"T_d1396_row3_col4\" class=\"data row3 col4\" >8.20%</td>\n",
       "      <td id=\"T_d1396_row3_col5\" class=\"data row3 col5\" >2.11%</td>\n",
       "      <td id=\"T_d1396_row3_col6\" class=\"data row3 col6\" >0.30%</td>\n",
       "      <td id=\"T_d1396_row3_col7\" class=\"data row3 col7\" >27.63%</td>\n",
       "    </tr>\n",
       "    <tr>\n",
       "      <th id=\"T_d1396_level0_row4\" class=\"row_heading level0 row4\" >BB</th>\n",
       "      <td id=\"T_d1396_row4_col0\" class=\"data row4 col0\" >0.02%</td>\n",
       "      <td id=\"T_d1396_row4_col1\" class=\"data row4 col1\" >0.10%</td>\n",
       "      <td id=\"T_d1396_row4_col2\" class=\"data row4 col2\" >1.05%</td>\n",
       "      <td id=\"T_d1396_row4_col3\" class=\"data row4 col3\" >10.80%</td>\n",
       "      <td id=\"T_d1396_row4_col4\" class=\"data row4 col4\" >31.65%</td>\n",
       "      <td id=\"T_d1396_row4_col5\" class=\"data row4 col5\" >11.87%</td>\n",
       "      <td id=\"T_d1396_row4_col6\" class=\"data row4 col6\" >1.42%</td>\n",
       "      <td id=\"T_d1396_row4_col7\" class=\"data row4 col7\" >43.07%</td>\n",
       "    </tr>\n",
       "    <tr>\n",
       "      <th id=\"T_d1396_level0_row5\" class=\"row_heading level0 row5\" >B</th>\n",
       "      <td id=\"T_d1396_row5_col0\" class=\"data row5 col0\" >0.00%</td>\n",
       "      <td id=\"T_d1396_row5_col1\" class=\"data row5 col1\" >0.06%</td>\n",
       "      <td id=\"T_d1396_row5_col2\" class=\"data row5 col2\" >0.25%</td>\n",
       "      <td id=\"T_d1396_row5_col3\" class=\"data row5 col3\" >1.44%</td>\n",
       "      <td id=\"T_d1396_row5_col4\" class=\"data row5 col4\" >8.10%</td>\n",
       "      <td id=\"T_d1396_row5_col5\" class=\"data row5 col5\" >26.65%</td>\n",
       "      <td id=\"T_d1396_row5_col6\" class=\"data row5 col6\" >3.72%</td>\n",
       "      <td id=\"T_d1396_row5_col7\" class=\"data row5 col7\" >59.78%</td>\n",
       "    </tr>\n",
       "    <tr>\n",
       "      <th id=\"T_d1396_level0_row6\" class=\"row_heading level0 row6\" >CCC</th>\n",
       "      <td id=\"T_d1396_row6_col0\" class=\"data row6 col0\" >0.00%</td>\n",
       "      <td id=\"T_d1396_row6_col1\" class=\"data row6 col1\" >0.02%</td>\n",
       "      <td id=\"T_d1396_row6_col2\" class=\"data row6 col2\" >0.17%</td>\n",
       "      <td id=\"T_d1396_row6_col3\" class=\"data row6 col3\" >0.49%</td>\n",
       "      <td id=\"T_d1396_row6_col4\" class=\"data row6 col4\" >2.29%</td>\n",
       "      <td id=\"T_d1396_row6_col5\" class=\"data row6 col5\" >10.49%</td>\n",
       "      <td id=\"T_d1396_row6_col6\" class=\"data row6 col6\" >2.97%</td>\n",
       "      <td id=\"T_d1396_row6_col7\" class=\"data row6 col7\" >83.58%</td>\n",
       "    </tr>\n",
       "    <tr>\n",
       "      <th id=\"T_d1396_level0_row7\" class=\"row_heading level0 row7\" >D</th>\n",
       "      <td id=\"T_d1396_row7_col0\" class=\"data row7 col0\" >0.00%</td>\n",
       "      <td id=\"T_d1396_row7_col1\" class=\"data row7 col1\" >0.00%</td>\n",
       "      <td id=\"T_d1396_row7_col2\" class=\"data row7 col2\" >0.00%</td>\n",
       "      <td id=\"T_d1396_row7_col3\" class=\"data row7 col3\" >0.00%</td>\n",
       "      <td id=\"T_d1396_row7_col4\" class=\"data row7 col4\" >0.00%</td>\n",
       "      <td id=\"T_d1396_row7_col5\" class=\"data row7 col5\" >0.00%</td>\n",
       "      <td id=\"T_d1396_row7_col6\" class=\"data row7 col6\" >0.00%</td>\n",
       "      <td id=\"T_d1396_row7_col7\" class=\"data row7 col7\" >100.00%</td>\n",
       "    </tr>\n",
       "  </tbody>\n",
       "</table>\n"
      ],
      "text/plain": [
       "<pandas.io.formats.style.Styler at 0x1efe90b0b10>"
      ]
     },
     "metadata": {},
     "output_type": "display_data"
    },
    {
     "data": {
      "text/html": [
       "<style type=\"text/css\">\n",
       "#T_8e4df_row0_col0, #T_8e4df_row1_col1, #T_8e4df_row2_col2, #T_8e4df_row3_col3, #T_8e4df_row4_col4, #T_8e4df_row5_col5, #T_8e4df_row5_col6, #T_8e4df_row7_col7 {\n",
       "  background-color: #0000ff;\n",
       "  color: #f1f1f1;\n",
       "}\n",
       "#T_8e4df_row0_col1 {\n",
       "  background-color: #5f5ffa;\n",
       "  color: #f1f1f1;\n",
       "}\n",
       "#T_8e4df_row0_col2 {\n",
       "  background-color: #cdcdf5;\n",
       "  color: #000000;\n",
       "}\n",
       "#T_8e4df_row0_col3, #T_8e4df_row0_col6, #T_8e4df_row4_col2 {\n",
       "  background-color: #ebebf3;\n",
       "  color: #000000;\n",
       "}\n",
       "#T_8e4df_row0_col4, #T_8e4df_row1_col5, #T_8e4df_row3_col1, #T_8e4df_row6_col3 {\n",
       "  background-color: #eeeef3;\n",
       "  color: #000000;\n",
       "}\n",
       "#T_8e4df_row0_col5, #T_8e4df_row5_col2 {\n",
       "  background-color: #efeff3;\n",
       "  color: #000000;\n",
       "}\n",
       "#T_8e4df_row0_col7, #T_8e4df_row2_col0, #T_8e4df_row3_col0, #T_8e4df_row4_col0, #T_8e4df_row4_col1, #T_8e4df_row5_col0, #T_8e4df_row5_col1, #T_8e4df_row6_col0, #T_8e4df_row6_col1, #T_8e4df_row6_col2, #T_8e4df_row7_col0, #T_8e4df_row7_col1, #T_8e4df_row7_col2, #T_8e4df_row7_col3, #T_8e4df_row7_col4, #T_8e4df_row7_col5, #T_8e4df_row7_col6 {\n",
       "  background-color: #f0f0f3;\n",
       "  color: #000000;\n",
       "}\n",
       "#T_8e4df_row1_col0 {\n",
       "  background-color: #e9e9f3;\n",
       "  color: #000000;\n",
       "}\n",
       "#T_8e4df_row1_col2 {\n",
       "  background-color: #7d7df9;\n",
       "  color: #f1f1f1;\n",
       "}\n",
       "#T_8e4df_row1_col3 {\n",
       "  background-color: #d8d8f4;\n",
       "  color: #000000;\n",
       "}\n",
       "#T_8e4df_row1_col4 {\n",
       "  background-color: #ececf3;\n",
       "  color: #000000;\n",
       "}\n",
       "#T_8e4df_row1_col6 {\n",
       "  background-color: #ededf3;\n",
       "  color: #000000;\n",
       "}\n",
       "#T_8e4df_row1_col7 {\n",
       "  background-color: #e7e7f3;\n",
       "  color: #000000;\n",
       "}\n",
       "#T_8e4df_row2_col1, #T_8e4df_row3_col5 {\n",
       "  background-color: #d6d6f4;\n",
       "  color: #000000;\n",
       "}\n",
       "#T_8e4df_row2_col3 {\n",
       "  background-color: #9d9df7;\n",
       "  color: #f1f1f1;\n",
       "}\n",
       "#T_8e4df_row2_col4 {\n",
       "  background-color: #dedff4;\n",
       "  color: #000000;\n",
       "}\n",
       "#T_8e4df_row2_col5, #T_8e4df_row2_col6 {\n",
       "  background-color: #eaeaf3;\n",
       "  color: #000000;\n",
       "}\n",
       "#T_8e4df_row2_col7 {\n",
       "  background-color: #dfdff4;\n",
       "  color: #000000;\n",
       "}\n",
       "#T_8e4df_row3_col2 {\n",
       "  background-color: #c2c2f5;\n",
       "  color: #000000;\n",
       "}\n",
       "#T_8e4df_row3_col4 {\n",
       "  background-color: #a3a3f7;\n",
       "  color: #f1f1f1;\n",
       "}\n",
       "#T_8e4df_row3_col6 {\n",
       "  background-color: #d7d7f4;\n",
       "  color: #000000;\n",
       "}\n",
       "#T_8e4df_row3_col7 {\n",
       "  background-color: #c8c8f5;\n",
       "  color: #000000;\n",
       "}\n",
       "#T_8e4df_row4_col3 {\n",
       "  background-color: #b8b8f6;\n",
       "  color: #000000;\n",
       "}\n",
       "#T_8e4df_row4_col5 {\n",
       "  background-color: #7070f9;\n",
       "  color: #f1f1f1;\n",
       "}\n",
       "#T_8e4df_row4_col6 {\n",
       "  background-color: #8181f8;\n",
       "  color: #f1f1f1;\n",
       "}\n",
       "#T_8e4df_row4_col7 {\n",
       "  background-color: #9595f7;\n",
       "  color: #f1f1f1;\n",
       "}\n",
       "#T_8e4df_row5_col3 {\n",
       "  background-color: #e8e8f3;\n",
       "  color: #000000;\n",
       "}\n",
       "#T_8e4df_row5_col4 {\n",
       "  background-color: #aaaaf6;\n",
       "  color: #000000;\n",
       "}\n",
       "#T_8e4df_row5_col7 {\n",
       "  background-color: #6363fa;\n",
       "  color: #f1f1f1;\n",
       "}\n",
       "#T_8e4df_row6_col4 {\n",
       "  background-color: #dcdcf4;\n",
       "  color: #000000;\n",
       "}\n",
       "#T_8e4df_row6_col5 {\n",
       "  background-color: #9090f8;\n",
       "  color: #f1f1f1;\n",
       "}\n",
       "#T_8e4df_row6_col6 {\n",
       "  background-color: #5b5bfa;\n",
       "  color: #f1f1f1;\n",
       "}\n",
       "#T_8e4df_row6_col7 {\n",
       "  background-color: #2727fd;\n",
       "  color: #f1f1f1;\n",
       "}\n",
       "</style>\n",
       "<table id=\"T_8e4df\">\n",
       "  <thead>\n",
       "    <tr>\n",
       "      <th class=\"blank level0\" >&nbsp;</th>\n",
       "      <th id=\"T_8e4df_level0_col0\" class=\"col_heading level0 col0\" >AAA</th>\n",
       "      <th id=\"T_8e4df_level0_col1\" class=\"col_heading level0 col1\" >AA</th>\n",
       "      <th id=\"T_8e4df_level0_col2\" class=\"col_heading level0 col2\" >A</th>\n",
       "      <th id=\"T_8e4df_level0_col3\" class=\"col_heading level0 col3\" >BBB</th>\n",
       "      <th id=\"T_8e4df_level0_col4\" class=\"col_heading level0 col4\" >BB</th>\n",
       "      <th id=\"T_8e4df_level0_col5\" class=\"col_heading level0 col5\" >B</th>\n",
       "      <th id=\"T_8e4df_level0_col6\" class=\"col_heading level0 col6\" >CCC</th>\n",
       "      <th id=\"T_8e4df_level0_col7\" class=\"col_heading level0 col7\" >D</th>\n",
       "    </tr>\n",
       "  </thead>\n",
       "  <tbody>\n",
       "    <tr>\n",
       "      <th id=\"T_8e4df_level0_row0\" class=\"row_heading level0 row0\" >AAA</th>\n",
       "      <td id=\"T_8e4df_row0_col0\" class=\"data row0 col0\" >44.01%</td>\n",
       "      <td id=\"T_8e4df_row0_col1\" class=\"data row0 col1\" >27.73%</td>\n",
       "      <td id=\"T_8e4df_row0_col2\" class=\"data row0 col2\" >7.90%</td>\n",
       "      <td id=\"T_8e4df_row0_col3\" class=\"data row0 col3\" >1.23%</td>\n",
       "      <td id=\"T_8e4df_row0_col4\" class=\"data row0 col4\" >0.38%</td>\n",
       "      <td id=\"T_8e4df_row0_col5\" class=\"data row0 col5\" >0.20%</td>\n",
       "      <td id=\"T_8e4df_row0_col6\" class=\"data row0 col6\" >0.08%</td>\n",
       "      <td id=\"T_8e4df_row0_col7\" class=\"data row0 col7\" >18.47%</td>\n",
       "    </tr>\n",
       "    <tr>\n",
       "      <th id=\"T_8e4df_level0_row1\" class=\"row_heading level0 row1\" >AA</th>\n",
       "      <td id=\"T_8e4df_row1_col0\" class=\"data row1 col0\" >1.45%</td>\n",
       "      <td id=\"T_8e4df_row1_col1\" class=\"data row1 col1\" >46.08%</td>\n",
       "      <td id=\"T_8e4df_row1_col2\" class=\"data row1 col2\" >24.94%</td>\n",
       "      <td id=\"T_8e4df_row1_col3\" class=\"data row1 col3\" >4.78%</td>\n",
       "      <td id=\"T_8e4df_row1_col4\" class=\"data row1 col4\" >0.58%</td>\n",
       "      <td id=\"T_8e4df_row1_col5\" class=\"data row1 col5\" >0.29%</td>\n",
       "      <td id=\"T_8e4df_row1_col6\" class=\"data row1 col6\" >0.05%</td>\n",
       "      <td id=\"T_8e4df_row1_col7\" class=\"data row1 col7\" >21.83%</td>\n",
       "    </tr>\n",
       "    <tr>\n",
       "      <th id=\"T_8e4df_level0_row2\" class=\"row_heading level0 row2\" >A</th>\n",
       "      <td id=\"T_8e4df_row2_col0\" class=\"data row2 col0\" >0.13%</td>\n",
       "      <td id=\"T_8e4df_row2_col1\" class=\"data row2 col1\" >5.05%</td>\n",
       "      <td id=\"T_8e4df_row2_col2\" class=\"data row2 col2\" >52.06%</td>\n",
       "      <td id=\"T_8e4df_row2_col3\" class=\"data row2 col3\" >15.79%</td>\n",
       "      <td id=\"T_8e4df_row2_col4\" class=\"data row2 col4\" >1.98%</td>\n",
       "      <td id=\"T_8e4df_row2_col5\" class=\"data row2 col5\" >0.63%</td>\n",
       "      <td id=\"T_8e4df_row2_col6\" class=\"data row2 col6\" >0.09%</td>\n",
       "      <td id=\"T_8e4df_row2_col7\" class=\"data row2 col7\" >24.27%</td>\n",
       "    </tr>\n",
       "    <tr>\n",
       "      <th id=\"T_8e4df_level0_row3\" class=\"row_heading level0 row3\" >BBB</th>\n",
       "      <td id=\"T_8e4df_row3_col0\" class=\"data row3 col0\" >0.01%</td>\n",
       "      <td id=\"T_8e4df_row3_col1\" class=\"data row3 col1\" >0.69%</td>\n",
       "      <td id=\"T_8e4df_row3_col2\" class=\"data row3 col2\" >10.14%</td>\n",
       "      <td id=\"T_8e4df_row3_col3\" class=\"data row3 col3\" >45.75%</td>\n",
       "      <td id=\"T_8e4df_row3_col4\" class=\"data row3 col4\" >8.29%</td>\n",
       "      <td id=\"T_8e4df_row3_col5\" class=\"data row3 col5\" >2.37%</td>\n",
       "      <td id=\"T_8e4df_row3_col6\" class=\"data row3 col6\" >0.32%</td>\n",
       "      <td id=\"T_8e4df_row3_col7\" class=\"data row3 col7\" >32.42%</td>\n",
       "    </tr>\n",
       "    <tr>\n",
       "      <th id=\"T_8e4df_level0_row4\" class=\"row_heading level0 row4\" >BB</th>\n",
       "      <td id=\"T_8e4df_row4_col0\" class=\"data row4 col0\" >0.03%</td>\n",
       "      <td id=\"T_8e4df_row4_col1\" class=\"data row4 col1\" >0.13%</td>\n",
       "      <td id=\"T_8e4df_row4_col2\" class=\"data row4 col2\" >1.31%</td>\n",
       "      <td id=\"T_8e4df_row4_col3\" class=\"data row4 col3\" >10.89%</td>\n",
       "      <td id=\"T_8e4df_row4_col4\" class=\"data row4 col4\" >25.69%</td>\n",
       "      <td id=\"T_8e4df_row4_col5\" class=\"data row4 col5\" >11.18%</td>\n",
       "      <td id=\"T_8e4df_row4_col6\" class=\"data row4 col6\" >1.39%</td>\n",
       "      <td id=\"T_8e4df_row4_col7\" class=\"data row4 col7\" >49.39%</td>\n",
       "    </tr>\n",
       "    <tr>\n",
       "      <th id=\"T_8e4df_level0_row5\" class=\"row_heading level0 row5\" >B</th>\n",
       "      <td id=\"T_8e4df_row5_col0\" class=\"data row5 col0\" >0.00%</td>\n",
       "      <td id=\"T_8e4df_row5_col1\" class=\"data row5 col1\" >0.06%</td>\n",
       "      <td id=\"T_8e4df_row5_col2\" class=\"data row5 col2\" >0.30%</td>\n",
       "      <td id=\"T_8e4df_row5_col3\" class=\"data row5 col3\" >1.67%</td>\n",
       "      <td id=\"T_8e4df_row5_col4\" class=\"data row5 col4\" >7.61%</td>\n",
       "      <td id=\"T_8e4df_row5_col5\" class=\"data row5 col5\" >20.99%</td>\n",
       "      <td id=\"T_8e4df_row5_col6\" class=\"data row5 col6\" >2.99%</td>\n",
       "      <td id=\"T_8e4df_row5_col7\" class=\"data row5 col7\" >66.38%</td>\n",
       "    </tr>\n",
       "    <tr>\n",
       "      <th id=\"T_8e4df_level0_row6\" class=\"row_heading level0 row6\" >CCC</th>\n",
       "      <td id=\"T_8e4df_row6_col0\" class=\"data row6 col0\" >0.00%</td>\n",
       "      <td id=\"T_8e4df_row6_col1\" class=\"data row6 col1\" >0.02%</td>\n",
       "      <td id=\"T_8e4df_row6_col2\" class=\"data row6 col2\" >0.17%</td>\n",
       "      <td id=\"T_8e4df_row6_col3\" class=\"data row6 col3\" >0.55%</td>\n",
       "      <td id=\"T_8e4df_row6_col4\" class=\"data row6 col4\" >2.29%</td>\n",
       "      <td id=\"T_8e4df_row6_col5\" class=\"data row6 col5\" >8.41%</td>\n",
       "      <td id=\"T_8e4df_row6_col6\" class=\"data row6 col6\" >1.85%</td>\n",
       "      <td id=\"T_8e4df_row6_col7\" class=\"data row6 col7\" >86.70%</td>\n",
       "    </tr>\n",
       "    <tr>\n",
       "      <th id=\"T_8e4df_level0_row7\" class=\"row_heading level0 row7\" >D</th>\n",
       "      <td id=\"T_8e4df_row7_col0\" class=\"data row7 col0\" >0.00%</td>\n",
       "      <td id=\"T_8e4df_row7_col1\" class=\"data row7 col1\" >0.00%</td>\n",
       "      <td id=\"T_8e4df_row7_col2\" class=\"data row7 col2\" >0.00%</td>\n",
       "      <td id=\"T_8e4df_row7_col3\" class=\"data row7 col3\" >0.00%</td>\n",
       "      <td id=\"T_8e4df_row7_col4\" class=\"data row7 col4\" >0.00%</td>\n",
       "      <td id=\"T_8e4df_row7_col5\" class=\"data row7 col5\" >0.00%</td>\n",
       "      <td id=\"T_8e4df_row7_col6\" class=\"data row7 col6\" >0.00%</td>\n",
       "      <td id=\"T_8e4df_row7_col7\" class=\"data row7 col7\" >100.00%</td>\n",
       "    </tr>\n",
       "  </tbody>\n",
       "</table>\n"
      ],
      "text/plain": [
       "<pandas.io.formats.style.Styler at 0x1efeb5ea190>"
      ]
     },
     "metadata": {},
     "output_type": "display_data"
    },
    {
     "data": {
      "text/html": [
       "<style type=\"text/css\">\n",
       "#T_3e288_row0_col0, #T_3e288_row1_col1, #T_3e288_row2_col2, #T_3e288_row3_col3, #T_3e288_row4_col4, #T_3e288_row5_col5, #T_3e288_row5_col6, #T_3e288_row7_col7 {\n",
       "  background-color: #0000ff;\n",
       "  color: #f1f1f1;\n",
       "}\n",
       "#T_3e288_row0_col1 {\n",
       "  background-color: #4a4afb;\n",
       "  color: #f1f1f1;\n",
       "}\n",
       "#T_3e288_row0_col2 {\n",
       "  background-color: #c0c0f5;\n",
       "  color: #000000;\n",
       "}\n",
       "#T_3e288_row0_col3, #T_3e288_row2_col6 {\n",
       "  background-color: #e7e7f3;\n",
       "  color: #000000;\n",
       "}\n",
       "#T_3e288_row0_col4, #T_3e288_row1_col5 {\n",
       "  background-color: #ececf3;\n",
       "  color: #000000;\n",
       "}\n",
       "#T_3e288_row0_col5, #T_3e288_row6_col3 {\n",
       "  background-color: #eeeef3;\n",
       "  color: #000000;\n",
       "}\n",
       "#T_3e288_row0_col6, #T_3e288_row1_col4, #T_3e288_row4_col2 {\n",
       "  background-color: #e9e9f3;\n",
       "  color: #000000;\n",
       "}\n",
       "#T_3e288_row0_col7, #T_3e288_row2_col0, #T_3e288_row3_col0, #T_3e288_row4_col0, #T_3e288_row4_col1, #T_3e288_row5_col0, #T_3e288_row5_col1, #T_3e288_row6_col0, #T_3e288_row6_col1, #T_3e288_row6_col2, #T_3e288_row7_col0, #T_3e288_row7_col1, #T_3e288_row7_col2, #T_3e288_row7_col3, #T_3e288_row7_col4, #T_3e288_row7_col5, #T_3e288_row7_col6 {\n",
       "  background-color: #f0f0f3;\n",
       "  color: #000000;\n",
       "}\n",
       "#T_3e288_row1_col0 {\n",
       "  background-color: #e8e8f3;\n",
       "  color: #000000;\n",
       "}\n",
       "#T_3e288_row1_col2 {\n",
       "  background-color: #6c6cf9;\n",
       "  color: #f1f1f1;\n",
       "}\n",
       "#T_3e288_row1_col3 {\n",
       "  background-color: #cfcff4;\n",
       "  color: #000000;\n",
       "}\n",
       "#T_3e288_row1_col6 {\n",
       "  background-color: #ebebf3;\n",
       "  color: #000000;\n",
       "}\n",
       "#T_3e288_row1_col7 {\n",
       "  background-color: #e5e5f3;\n",
       "  color: #000000;\n",
       "}\n",
       "#T_3e288_row2_col1 {\n",
       "  background-color: #d2d2f4;\n",
       "  color: #000000;\n",
       "}\n",
       "#T_3e288_row2_col3, #T_3e288_row6_col5 {\n",
       "  background-color: #8f8ff8;\n",
       "  color: #f1f1f1;\n",
       "}\n",
       "#T_3e288_row2_col4 {\n",
       "  background-color: #d7d7f4;\n",
       "  color: #000000;\n",
       "}\n",
       "#T_3e288_row2_col5, #T_3e288_row5_col3 {\n",
       "  background-color: #e6e6f3;\n",
       "  color: #000000;\n",
       "}\n",
       "#T_3e288_row2_col7 {\n",
       "  background-color: #ddddf4;\n",
       "  color: #000000;\n",
       "}\n",
       "#T_3e288_row3_col1 {\n",
       "  background-color: #ededf3;\n",
       "  color: #000000;\n",
       "}\n",
       "#T_3e288_row3_col2 {\n",
       "  background-color: #bbbbf5;\n",
       "  color: #000000;\n",
       "}\n",
       "#T_3e288_row3_col4 {\n",
       "  background-color: #9393f8;\n",
       "  color: #f1f1f1;\n",
       "}\n",
       "#T_3e288_row3_col5 {\n",
       "  background-color: #ccccf5;\n",
       "  color: #000000;\n",
       "}\n",
       "#T_3e288_row3_col6 {\n",
       "  background-color: #cecef5;\n",
       "  color: #000000;\n",
       "}\n",
       "#T_3e288_row3_col7 {\n",
       "  background-color: #c1c1f5;\n",
       "  color: #000000;\n",
       "}\n",
       "#T_3e288_row4_col3 {\n",
       "  background-color: #b1b1f6;\n",
       "  color: #000000;\n",
       "}\n",
       "#T_3e288_row4_col5 {\n",
       "  background-color: #5b5bfa;\n",
       "  color: #f1f1f1;\n",
       "}\n",
       "#T_3e288_row4_col6 {\n",
       "  background-color: #6d6df9;\n",
       "  color: #f1f1f1;\n",
       "}\n",
       "#T_3e288_row4_col7 {\n",
       "  background-color: #8a8af8;\n",
       "  color: #f1f1f1;\n",
       "}\n",
       "#T_3e288_row5_col2 {\n",
       "  background-color: #efeff3;\n",
       "  color: #000000;\n",
       "}\n",
       "#T_3e288_row5_col4 {\n",
       "  background-color: #a1a1f7;\n",
       "  color: #f1f1f1;\n",
       "}\n",
       "#T_3e288_row5_col7 {\n",
       "  background-color: #5656fb;\n",
       "  color: #f1f1f1;\n",
       "}\n",
       "#T_3e288_row6_col4 {\n",
       "  background-color: #d8d8f4;\n",
       "  color: #000000;\n",
       "}\n",
       "#T_3e288_row6_col6 {\n",
       "  background-color: #7373f9;\n",
       "  color: #f1f1f1;\n",
       "}\n",
       "#T_3e288_row6_col7 {\n",
       "  background-color: #2121fd;\n",
       "  color: #f1f1f1;\n",
       "}\n",
       "</style>\n",
       "<table id=\"T_3e288\">\n",
       "  <thead>\n",
       "    <tr>\n",
       "      <th class=\"blank level0\" >&nbsp;</th>\n",
       "      <th id=\"T_3e288_level0_col0\" class=\"col_heading level0 col0\" >AAA</th>\n",
       "      <th id=\"T_3e288_level0_col1\" class=\"col_heading level0 col1\" >AA</th>\n",
       "      <th id=\"T_3e288_level0_col2\" class=\"col_heading level0 col2\" >A</th>\n",
       "      <th id=\"T_3e288_level0_col3\" class=\"col_heading level0 col3\" >BBB</th>\n",
       "      <th id=\"T_3e288_level0_col4\" class=\"col_heading level0 col4\" >BB</th>\n",
       "      <th id=\"T_3e288_level0_col5\" class=\"col_heading level0 col5\" >B</th>\n",
       "      <th id=\"T_3e288_level0_col6\" class=\"col_heading level0 col6\" >CCC</th>\n",
       "      <th id=\"T_3e288_level0_col7\" class=\"col_heading level0 col7\" >D</th>\n",
       "    </tr>\n",
       "  </thead>\n",
       "  <tbody>\n",
       "    <tr>\n",
       "      <th id=\"T_3e288_level0_row0\" class=\"row_heading level0 row0\" >AAA</th>\n",
       "      <td id=\"T_3e288_row0_col0\" class=\"data row0 col0\" >38.46%</td>\n",
       "      <td id=\"T_3e288_row0_col1\" class=\"data row0 col1\" >28.35%</td>\n",
       "      <td id=\"T_3e288_row0_col2\" class=\"data row0 col2\" >9.42%</td>\n",
       "      <td id=\"T_3e288_row0_col3\" class=\"data row0 col3\" >1.62%</td>\n",
       "      <td id=\"T_3e288_row0_col4\" class=\"data row0 col4\" >0.42%</td>\n",
       "      <td id=\"T_3e288_row0_col5\" class=\"data row0 col5\" >0.23%</td>\n",
       "      <td id=\"T_3e288_row0_col6\" class=\"data row0 col6\" >0.08%</td>\n",
       "      <td id=\"T_3e288_row0_col7\" class=\"data row0 col7\" >21.43%</td>\n",
       "    </tr>\n",
       "    <tr>\n",
       "      <th id=\"T_3e288_level0_row1\" class=\"row_heading level0 row1\" >AA</th>\n",
       "      <td id=\"T_3e288_row1_col0\" class=\"data row1 col0\" >1.48%</td>\n",
       "      <td id=\"T_3e288_row1_col1\" class=\"data row1 col1\" >40.80%</td>\n",
       "      <td id=\"T_3e288_row1_col2\" class=\"data row1 col2\" >25.87%</td>\n",
       "      <td id=\"T_3e288_row1_col3\" class=\"data row1 col3\" >5.61%</td>\n",
       "      <td id=\"T_3e288_row1_col4\" class=\"data row1 col4\" >0.71%</td>\n",
       "      <td id=\"T_3e288_row1_col5\" class=\"data row1 col5\" >0.34%</td>\n",
       "      <td id=\"T_3e288_row1_col6\" class=\"data row1 col6\" >0.06%</td>\n",
       "      <td id=\"T_3e288_row1_col7\" class=\"data row1 col7\" >25.13%</td>\n",
       "    </tr>\n",
       "    <tr>\n",
       "      <th id=\"T_3e288_level0_row2\" class=\"row_heading level0 row2\" >A</th>\n",
       "      <td id=\"T_3e288_row2_col0\" class=\"data row2 col0\" >0.15%</td>\n",
       "      <td id=\"T_3e288_row2_col1\" class=\"data row2 col1\" >5.24%</td>\n",
       "      <td id=\"T_3e288_row2_col2\" class=\"data row2 col2\" >47.20%</td>\n",
       "      <td id=\"T_3e288_row2_col3\" class=\"data row2 col3\" >16.37%</td>\n",
       "      <td id=\"T_3e288_row2_col4\" class=\"data row2 col4\" >2.25%</td>\n",
       "      <td id=\"T_3e288_row2_col5\" class=\"data row2 col5\" >0.73%</td>\n",
       "      <td id=\"T_3e288_row2_col6\" class=\"data row2 col6\" >0.10%</td>\n",
       "      <td id=\"T_3e288_row2_col7\" class=\"data row2 col7\" >27.97%</td>\n",
       "    </tr>\n",
       "    <tr>\n",
       "      <th id=\"T_3e288_level0_row3\" class=\"row_heading level0 row3\" >BBB</th>\n",
       "      <td id=\"T_3e288_row3_col0\" class=\"data row3 col0\" >0.02%</td>\n",
       "      <td id=\"T_3e288_row3_col1\" class=\"data row3 col1\" >0.80%</td>\n",
       "      <td id=\"T_3e288_row3_col2\" class=\"data row3 col2\" >10.51%</td>\n",
       "      <td id=\"T_3e288_row3_col3\" class=\"data row3 col3\" >40.66%</td>\n",
       "      <td id=\"T_3e288_row3_col4\" class=\"data row3 col4\" >8.17%</td>\n",
       "      <td id=\"T_3e288_row3_col5\" class=\"data row3 col5\" >2.55%</td>\n",
       "      <td id=\"T_3e288_row3_col6\" class=\"data row3 col6\" >0.35%</td>\n",
       "      <td id=\"T_3e288_row3_col7\" class=\"data row3 col7\" >36.95%</td>\n",
       "    </tr>\n",
       "    <tr>\n",
       "      <th id=\"T_3e288_level0_row4\" class=\"row_heading level0 row4\" >BB</th>\n",
       "      <td id=\"T_3e288_row4_col0\" class=\"data row4 col0\" >0.03%</td>\n",
       "      <td id=\"T_3e288_row4_col1\" class=\"data row4 col1\" >0.15%</td>\n",
       "      <td id=\"T_3e288_row4_col2\" class=\"data row4 col2\" >1.54%</td>\n",
       "      <td id=\"T_3e288_row4_col3\" class=\"data row4 col3\" >10.71%</td>\n",
       "      <td id=\"T_3e288_row4_col4\" class=\"data row4 col4\" >21.00%</td>\n",
       "      <td id=\"T_3e288_row4_col5\" class=\"data row4 col5\" >10.27%</td>\n",
       "      <td id=\"T_3e288_row4_col6\" class=\"data row4 col6\" >1.30%</td>\n",
       "      <td id=\"T_3e288_row4_col7\" class=\"data row4 col7\" >55.01%</td>\n",
       "    </tr>\n",
       "    <tr>\n",
       "      <th id=\"T_3e288_level0_row5\" class=\"row_heading level0 row5\" >B</th>\n",
       "      <td id=\"T_3e288_row5_col0\" class=\"data row5 col0\" >0.00%</td>\n",
       "      <td id=\"T_3e288_row5_col1\" class=\"data row5 col1\" >0.07%</td>\n",
       "      <td id=\"T_3e288_row5_col2\" class=\"data row5 col2\" >0.34%</td>\n",
       "      <td id=\"T_3e288_row5_col3\" class=\"data row5 col3\" >1.85%</td>\n",
       "      <td id=\"T_3e288_row5_col4\" class=\"data row5 col4\" >6.97%</td>\n",
       "      <td id=\"T_3e288_row5_col5\" class=\"data row5 col5\" >16.61%</td>\n",
       "      <td id=\"T_3e288_row5_col6\" class=\"data row5 col6\" >2.39%</td>\n",
       "      <td id=\"T_3e288_row5_col7\" class=\"data row5 col7\" >71.77%</td>\n",
       "    </tr>\n",
       "    <tr>\n",
       "      <th id=\"T_3e288_level0_row6\" class=\"row_heading level0 row6\" >CCC</th>\n",
       "      <td id=\"T_3e288_row6_col0\" class=\"data row6 col0\" >0.00%</td>\n",
       "      <td id=\"T_3e288_row6_col1\" class=\"data row6 col1\" >0.02%</td>\n",
       "      <td id=\"T_3e288_row6_col2\" class=\"data row6 col2\" >0.18%</td>\n",
       "      <td id=\"T_3e288_row6_col3\" class=\"data row6 col3\" >0.61%</td>\n",
       "      <td id=\"T_3e288_row6_col4\" class=\"data row6 col4\" >2.20%</td>\n",
       "      <td id=\"T_3e288_row6_col5\" class=\"data row6 col5\" >6.70%</td>\n",
       "      <td id=\"T_3e288_row6_col6\" class=\"data row6 col6\" >1.24%</td>\n",
       "      <td id=\"T_3e288_row6_col7\" class=\"data row6 col7\" >89.04%</td>\n",
       "    </tr>\n",
       "    <tr>\n",
       "      <th id=\"T_3e288_level0_row7\" class=\"row_heading level0 row7\" >D</th>\n",
       "      <td id=\"T_3e288_row7_col0\" class=\"data row7 col0\" >0.00%</td>\n",
       "      <td id=\"T_3e288_row7_col1\" class=\"data row7 col1\" >0.00%</td>\n",
       "      <td id=\"T_3e288_row7_col2\" class=\"data row7 col2\" >0.00%</td>\n",
       "      <td id=\"T_3e288_row7_col3\" class=\"data row7 col3\" >0.00%</td>\n",
       "      <td id=\"T_3e288_row7_col4\" class=\"data row7 col4\" >0.00%</td>\n",
       "      <td id=\"T_3e288_row7_col5\" class=\"data row7 col5\" >0.00%</td>\n",
       "      <td id=\"T_3e288_row7_col6\" class=\"data row7 col6\" >0.00%</td>\n",
       "      <td id=\"T_3e288_row7_col7\" class=\"data row7 col7\" >100.00%</td>\n",
       "    </tr>\n",
       "  </tbody>\n",
       "</table>\n"
      ],
      "text/plain": [
       "<pandas.io.formats.style.Styler at 0x1efed43d4d0>"
      ]
     },
     "metadata": {},
     "output_type": "display_data"
    },
    {
     "data": {
      "text/html": [
       "<style type=\"text/css\">\n",
       "#T_dc56b_row0_col0, #T_dc56b_row1_col1, #T_dc56b_row2_col2, #T_dc56b_row3_col3, #T_dc56b_row4_col4, #T_dc56b_row5_col5, #T_dc56b_row5_col6, #T_dc56b_row7_col7 {\n",
       "  background-color: #0000ff;\n",
       "  color: #f1f1f1;\n",
       "}\n",
       "#T_dc56b_row0_col1 {\n",
       "  background-color: #3434fc;\n",
       "  color: #f1f1f1;\n",
       "}\n",
       "#T_dc56b_row0_col2 {\n",
       "  background-color: #b4b4f6;\n",
       "  color: #000000;\n",
       "}\n",
       "#T_dc56b_row0_col3 {\n",
       "  background-color: #e3e3f3;\n",
       "  color: #000000;\n",
       "}\n",
       "#T_dc56b_row0_col4, #T_dc56b_row1_col5 {\n",
       "  background-color: #eaeaf3;\n",
       "  color: #000000;\n",
       "}\n",
       "#T_dc56b_row0_col5, #T_dc56b_row6_col3 {\n",
       "  background-color: #ededf3;\n",
       "  color: #000000;\n",
       "}\n",
       "#T_dc56b_row0_col6 {\n",
       "  background-color: #e8e8f3;\n",
       "  color: #000000;\n",
       "}\n",
       "#T_dc56b_row0_col7, #T_dc56b_row3_col0, #T_dc56b_row4_col0, #T_dc56b_row5_col0, #T_dc56b_row5_col1, #T_dc56b_row6_col0, #T_dc56b_row6_col1, #T_dc56b_row7_col0, #T_dc56b_row7_col1, #T_dc56b_row7_col2, #T_dc56b_row7_col3, #T_dc56b_row7_col4, #T_dc56b_row7_col5, #T_dc56b_row7_col6 {\n",
       "  background-color: #f0f0f3;\n",
       "  color: #000000;\n",
       "}\n",
       "#T_dc56b_row1_col0 {\n",
       "  background-color: #e6e6f3;\n",
       "  color: #000000;\n",
       "}\n",
       "#T_dc56b_row1_col2 {\n",
       "  background-color: #5c5cfa;\n",
       "  color: #f1f1f1;\n",
       "}\n",
       "#T_dc56b_row1_col3 {\n",
       "  background-color: #c7c7f5;\n",
       "  color: #000000;\n",
       "}\n",
       "#T_dc56b_row1_col4 {\n",
       "  background-color: #e5e5f3;\n",
       "  color: #000000;\n",
       "}\n",
       "#T_dc56b_row1_col6 {\n",
       "  background-color: #e9e9f3;\n",
       "  color: #000000;\n",
       "}\n",
       "#T_dc56b_row1_col7, #T_dc56b_row5_col3 {\n",
       "  background-color: #e4e4f3;\n",
       "  color: #000000;\n",
       "}\n",
       "#T_dc56b_row2_col0, #T_dc56b_row4_col1, #T_dc56b_row5_col2, #T_dc56b_row6_col2 {\n",
       "  background-color: #efeff3;\n",
       "  color: #000000;\n",
       "}\n",
       "#T_dc56b_row2_col1 {\n",
       "  background-color: #cecef5;\n",
       "  color: #000000;\n",
       "}\n",
       "#T_dc56b_row2_col3, #T_dc56b_row3_col4 {\n",
       "  background-color: #8282f8;\n",
       "  color: #f1f1f1;\n",
       "}\n",
       "#T_dc56b_row2_col4 {\n",
       "  background-color: #cecef4;\n",
       "  color: #000000;\n",
       "}\n",
       "#T_dc56b_row2_col5, #T_dc56b_row2_col6 {\n",
       "  background-color: #e2e2f3;\n",
       "  color: #000000;\n",
       "}\n",
       "#T_dc56b_row2_col7 {\n",
       "  background-color: #dadaf4;\n",
       "  color: #000000;\n",
       "}\n",
       "#T_dc56b_row3_col1 {\n",
       "  background-color: #ebebf3;\n",
       "  color: #000000;\n",
       "}\n",
       "#T_dc56b_row3_col2 {\n",
       "  background-color: #b5b5f6;\n",
       "  color: #000000;\n",
       "}\n",
       "#T_dc56b_row3_col5 {\n",
       "  background-color: #c0c0f5;\n",
       "  color: #000000;\n",
       "}\n",
       "#T_dc56b_row3_col6 {\n",
       "  background-color: #c3c3f5;\n",
       "  color: #000000;\n",
       "}\n",
       "#T_dc56b_row3_col7 {\n",
       "  background-color: #bbbbf5;\n",
       "  color: #000000;\n",
       "}\n",
       "#T_dc56b_row4_col2 {\n",
       "  background-color: #e7e7f3;\n",
       "  color: #000000;\n",
       "}\n",
       "#T_dc56b_row4_col3 {\n",
       "  background-color: #acacf6;\n",
       "  color: #000000;\n",
       "}\n",
       "#T_dc56b_row4_col5 {\n",
       "  background-color: #4848fb;\n",
       "  color: #f1f1f1;\n",
       "}\n",
       "#T_dc56b_row4_col6 {\n",
       "  background-color: #5a5afa;\n",
       "  color: #f1f1f1;\n",
       "}\n",
       "#T_dc56b_row4_col7 {\n",
       "  background-color: #7f7ff9;\n",
       "  color: #f1f1f1;\n",
       "}\n",
       "#T_dc56b_row5_col4 {\n",
       "  background-color: #9999f7;\n",
       "  color: #f1f1f1;\n",
       "}\n",
       "#T_dc56b_row5_col7 {\n",
       "  background-color: #4b4bfb;\n",
       "  color: #f1f1f1;\n",
       "}\n",
       "#T_dc56b_row6_col4 {\n",
       "  background-color: #d4d4f4;\n",
       "  color: #000000;\n",
       "}\n",
       "#T_dc56b_row6_col5 {\n",
       "  background-color: #8f8ff8;\n",
       "  color: #f1f1f1;\n",
       "}\n",
       "#T_dc56b_row6_col6 {\n",
       "  background-color: #8080f8;\n",
       "  color: #f1f1f1;\n",
       "}\n",
       "#T_dc56b_row6_col7 {\n",
       "  background-color: #1c1cfe;\n",
       "  color: #f1f1f1;\n",
       "}\n",
       "</style>\n",
       "<table id=\"T_dc56b\">\n",
       "  <thead>\n",
       "    <tr>\n",
       "      <th class=\"blank level0\" >&nbsp;</th>\n",
       "      <th id=\"T_dc56b_level0_col0\" class=\"col_heading level0 col0\" >AAA</th>\n",
       "      <th id=\"T_dc56b_level0_col1\" class=\"col_heading level0 col1\" >AA</th>\n",
       "      <th id=\"T_dc56b_level0_col2\" class=\"col_heading level0 col2\" >A</th>\n",
       "      <th id=\"T_dc56b_level0_col3\" class=\"col_heading level0 col3\" >BBB</th>\n",
       "      <th id=\"T_dc56b_level0_col4\" class=\"col_heading level0 col4\" >BB</th>\n",
       "      <th id=\"T_dc56b_level0_col5\" class=\"col_heading level0 col5\" >B</th>\n",
       "      <th id=\"T_dc56b_level0_col6\" class=\"col_heading level0 col6\" >CCC</th>\n",
       "      <th id=\"T_dc56b_level0_col7\" class=\"col_heading level0 col7\" >D</th>\n",
       "    </tr>\n",
       "  </thead>\n",
       "  <tbody>\n",
       "    <tr>\n",
       "      <th id=\"T_dc56b_level0_row0\" class=\"row_heading level0 row0\" >AAA</th>\n",
       "      <td id=\"T_dc56b_row0_col0\" class=\"data row0 col0\" >33.63%</td>\n",
       "      <td id=\"T_dc56b_row0_col1\" class=\"data row0 col1\" >28.41%</td>\n",
       "      <td id=\"T_dc56b_row0_col2\" class=\"data row0 col2\" >10.79%</td>\n",
       "      <td id=\"T_dc56b_row0_col3\" class=\"data row0 col3\" >2.04%</td>\n",
       "      <td id=\"T_dc56b_row0_col4\" class=\"data row0 col4\" >0.47%</td>\n",
       "      <td id=\"T_dc56b_row0_col5\" class=\"data row0 col5\" >0.25%</td>\n",
       "      <td id=\"T_dc56b_row0_col6\" class=\"data row0 col6\" >0.07%</td>\n",
       "      <td id=\"T_dc56b_row0_col7\" class=\"data row0 col7\" >24.33%</td>\n",
       "    </tr>\n",
       "    <tr>\n",
       "      <th id=\"T_dc56b_level0_row1\" class=\"row_heading level0 row1\" >AA</th>\n",
       "      <td id=\"T_dc56b_row1_col0\" class=\"data row1 col0\" >1.49%</td>\n",
       "      <td id=\"T_dc56b_row1_col1\" class=\"data row1 col1\" >36.21%</td>\n",
       "      <td id=\"T_dc56b_row1_col2\" class=\"data row1 col2\" >26.31%</td>\n",
       "      <td id=\"T_dc56b_row1_col3\" class=\"data row1 col3\" >6.35%</td>\n",
       "      <td id=\"T_dc56b_row1_col4\" class=\"data row1 col4\" >0.85%</td>\n",
       "      <td id=\"T_dc56b_row1_col5\" class=\"data row1 col5\" >0.38%</td>\n",
       "      <td id=\"T_dc56b_row1_col6\" class=\"data row1 col6\" >0.06%</td>\n",
       "      <td id=\"T_dc56b_row1_col7\" class=\"data row1 col7\" >28.35%</td>\n",
       "    </tr>\n",
       "    <tr>\n",
       "      <th id=\"T_dc56b_level0_row2\" class=\"row_heading level0 row2\" >A</th>\n",
       "      <td id=\"T_dc56b_row2_col0\" class=\"data row2 col0\" >0.16%</td>\n",
       "      <td id=\"T_dc56b_row2_col1\" class=\"data row2 col1\" >5.33%</td>\n",
       "      <td id=\"T_dc56b_row2_col2\" class=\"data row2 col2\" >42.90%</td>\n",
       "      <td id=\"T_dc56b_row2_col3\" class=\"data row2 col3\" >16.65%</td>\n",
       "      <td id=\"T_dc56b_row2_col4\" class=\"data row2 col4\" >2.47%</td>\n",
       "      <td id=\"T_dc56b_row2_col5\" class=\"data row2 col5\" >0.82%</td>\n",
       "      <td id=\"T_dc56b_row2_col6\" class=\"data row2 col6\" >0.11%</td>\n",
       "      <td id=\"T_dc56b_row2_col7\" class=\"data row2 col7\" >31.55%</td>\n",
       "    </tr>\n",
       "    <tr>\n",
       "      <th id=\"T_dc56b_level0_row3\" class=\"row_heading level0 row3\" >BBB</th>\n",
       "      <td id=\"T_dc56b_row3_col0\" class=\"data row3 col0\" >0.02%</td>\n",
       "      <td id=\"T_dc56b_row3_col1\" class=\"data row3 col1\" >0.89%</td>\n",
       "      <td id=\"T_dc56b_row3_col2\" class=\"data row3 col2\" >10.69%</td>\n",
       "      <td id=\"T_dc56b_row3_col3\" class=\"data row3 col3\" >36.24%</td>\n",
       "      <td id=\"T_dc56b_row3_col4\" class=\"data row3 col4\" >7.92%</td>\n",
       "      <td id=\"T_dc56b_row3_col5\" class=\"data row3 col5\" >2.66%</td>\n",
       "      <td id=\"T_dc56b_row3_col6\" class=\"data row3 col6\" >0.36%</td>\n",
       "      <td id=\"T_dc56b_row3_col7\" class=\"data row3 col7\" >41.22%</td>\n",
       "    </tr>\n",
       "    <tr>\n",
       "      <th id=\"T_dc56b_level0_row4\" class=\"row_heading level0 row4\" >BB</th>\n",
       "      <td id=\"T_dc56b_row4_col0\" class=\"data row4 col0\" >0.03%</td>\n",
       "      <td id=\"T_dc56b_row4_col1\" class=\"data row4 col1\" >0.17%</td>\n",
       "      <td id=\"T_dc56b_row4_col2\" class=\"data row4 col2\" >1.74%</td>\n",
       "      <td id=\"T_dc56b_row4_col3\" class=\"data row4 col3\" >10.35%</td>\n",
       "      <td id=\"T_dc56b_row4_col4\" class=\"data row4 col4\" >17.27%</td>\n",
       "      <td id=\"T_dc56b_row4_col5\" class=\"data row4 col5\" >9.27%</td>\n",
       "      <td id=\"T_dc56b_row4_col6\" class=\"data row4 col6\" >1.20%</td>\n",
       "      <td id=\"T_dc56b_row4_col7\" class=\"data row4 col7\" >59.98%</td>\n",
       "    </tr>\n",
       "    <tr>\n",
       "      <th id=\"T_dc56b_level0_row5\" class=\"row_heading level0 row5\" >B</th>\n",
       "      <td id=\"T_dc56b_row5_col0\" class=\"data row5 col0\" >0.00%</td>\n",
       "      <td id=\"T_dc56b_row5_col1\" class=\"data row5 col1\" >0.07%</td>\n",
       "      <td id=\"T_dc56b_row5_col2\" class=\"data row5 col2\" >0.38%</td>\n",
       "      <td id=\"T_dc56b_row5_col3\" class=\"data row5 col3\" >1.96%</td>\n",
       "      <td id=\"T_dc56b_row5_col4\" class=\"data row5 col4\" >6.28%</td>\n",
       "      <td id=\"T_dc56b_row5_col5\" class=\"data row5 col5\" >13.22%</td>\n",
       "      <td id=\"T_dc56b_row5_col6\" class=\"data row5 col6\" >1.91%</td>\n",
       "      <td id=\"T_dc56b_row5_col7\" class=\"data row5 col7\" >76.17%</td>\n",
       "    </tr>\n",
       "    <tr>\n",
       "      <th id=\"T_dc56b_level0_row6\" class=\"row_heading level0 row6\" >CCC</th>\n",
       "      <td id=\"T_dc56b_row6_col0\" class=\"data row6 col0\" >0.00%</td>\n",
       "      <td id=\"T_dc56b_row6_col1\" class=\"data row6 col1\" >0.03%</td>\n",
       "      <td id=\"T_dc56b_row6_col2\" class=\"data row6 col2\" >0.19%</td>\n",
       "      <td id=\"T_dc56b_row6_col3\" class=\"data row6 col3\" >0.65%</td>\n",
       "      <td id=\"T_dc56b_row6_col4\" class=\"data row6 col4\" >2.05%</td>\n",
       "      <td id=\"T_dc56b_row6_col5\" class=\"data row6 col5\" >5.33%</td>\n",
       "      <td id=\"T_dc56b_row6_col6\" class=\"data row6 col6\" >0.89%</td>\n",
       "      <td id=\"T_dc56b_row6_col7\" class=\"data row6 col7\" >90.87%</td>\n",
       "    </tr>\n",
       "    <tr>\n",
       "      <th id=\"T_dc56b_level0_row7\" class=\"row_heading level0 row7\" >D</th>\n",
       "      <td id=\"T_dc56b_row7_col0\" class=\"data row7 col0\" >0.00%</td>\n",
       "      <td id=\"T_dc56b_row7_col1\" class=\"data row7 col1\" >0.00%</td>\n",
       "      <td id=\"T_dc56b_row7_col2\" class=\"data row7 col2\" >0.00%</td>\n",
       "      <td id=\"T_dc56b_row7_col3\" class=\"data row7 col3\" >0.00%</td>\n",
       "      <td id=\"T_dc56b_row7_col4\" class=\"data row7 col4\" >0.00%</td>\n",
       "      <td id=\"T_dc56b_row7_col5\" class=\"data row7 col5\" >0.00%</td>\n",
       "      <td id=\"T_dc56b_row7_col6\" class=\"data row7 col6\" >0.00%</td>\n",
       "      <td id=\"T_dc56b_row7_col7\" class=\"data row7 col7\" >100.00%</td>\n",
       "    </tr>\n",
       "  </tbody>\n",
       "</table>\n"
      ],
      "text/plain": [
       "<pandas.io.formats.style.Styler at 0x1efe7bb6050>"
      ]
     },
     "metadata": {},
     "output_type": "display_data"
    },
    {
     "data": {
      "text/html": [
       "<style type=\"text/css\">\n",
       "#T_b3083_row0_col0, #T_b3083_row1_col1, #T_b3083_row2_col2, #T_b3083_row3_col3, #T_b3083_row4_col4, #T_b3083_row5_col5, #T_b3083_row5_col6, #T_b3083_row7_col7 {\n",
       "  background-color: #0000ff;\n",
       "  color: #f1f1f1;\n",
       "}\n",
       "#T_b3083_row0_col1 {\n",
       "  background-color: #1e1efd;\n",
       "  color: #f1f1f1;\n",
       "}\n",
       "#T_b3083_row0_col2, #T_b3083_row4_col3 {\n",
       "  background-color: #a7a7f7;\n",
       "  color: #000000;\n",
       "}\n",
       "#T_b3083_row0_col3 {\n",
       "  background-color: #dedff4;\n",
       "  color: #000000;\n",
       "}\n",
       "#T_b3083_row0_col4 {\n",
       "  background-color: #e8e8f3;\n",
       "  color: #000000;\n",
       "}\n",
       "#T_b3083_row0_col5 {\n",
       "  background-color: #ebebf3;\n",
       "  color: #000000;\n",
       "}\n",
       "#T_b3083_row0_col6, #T_b3083_row1_col0, #T_b3083_row4_col2 {\n",
       "  background-color: #e5e5f3;\n",
       "  color: #000000;\n",
       "}\n",
       "#T_b3083_row0_col7, #T_b3083_row3_col0, #T_b3083_row4_col0, #T_b3083_row5_col0, #T_b3083_row5_col1, #T_b3083_row6_col0, #T_b3083_row6_col1, #T_b3083_row7_col0, #T_b3083_row7_col1, #T_b3083_row7_col2, #T_b3083_row7_col3, #T_b3083_row7_col4, #T_b3083_row7_col5, #T_b3083_row7_col6 {\n",
       "  background-color: #f0f0f3;\n",
       "  color: #000000;\n",
       "}\n",
       "#T_b3083_row1_col2 {\n",
       "  background-color: #4e4efb;\n",
       "  color: #f1f1f1;\n",
       "}\n",
       "#T_b3083_row1_col3 {\n",
       "  background-color: #bdbdf5;\n",
       "  color: #000000;\n",
       "}\n",
       "#T_b3083_row1_col4 {\n",
       "  background-color: #e0e0f4;\n",
       "  color: #000000;\n",
       "}\n",
       "#T_b3083_row1_col5 {\n",
       "  background-color: #e7e7f3;\n",
       "  color: #000000;\n",
       "}\n",
       "#T_b3083_row1_col6 {\n",
       "  background-color: #e6e6f3;\n",
       "  color: #000000;\n",
       "}\n",
       "#T_b3083_row1_col7 {\n",
       "  background-color: #e2e2f3;\n",
       "  color: #000000;\n",
       "}\n",
       "#T_b3083_row2_col0, #T_b3083_row4_col1, #T_b3083_row5_col2, #T_b3083_row6_col2 {\n",
       "  background-color: #efeff3;\n",
       "  color: #000000;\n",
       "}\n",
       "#T_b3083_row2_col1 {\n",
       "  background-color: #c9c9f5;\n",
       "  color: #000000;\n",
       "}\n",
       "#T_b3083_row2_col3 {\n",
       "  background-color: #7575f9;\n",
       "  color: #f1f1f1;\n",
       "}\n",
       "#T_b3083_row2_col4 {\n",
       "  background-color: #c4c4f5;\n",
       "  color: #000000;\n",
       "}\n",
       "#T_b3083_row2_col5 {\n",
       "  background-color: #ddddf4;\n",
       "  color: #000000;\n",
       "}\n",
       "#T_b3083_row2_col6 {\n",
       "  background-color: #dedef4;\n",
       "  color: #000000;\n",
       "}\n",
       "#T_b3083_row2_col7 {\n",
       "  background-color: #d7d7f4;\n",
       "  color: #000000;\n",
       "}\n",
       "#T_b3083_row3_col1 {\n",
       "  background-color: #eaeaf3;\n",
       "  color: #000000;\n",
       "}\n",
       "#T_b3083_row3_col2 {\n",
       "  background-color: #aeaef6;\n",
       "  color: #000000;\n",
       "}\n",
       "#T_b3083_row3_col4 {\n",
       "  background-color: #7171f9;\n",
       "  color: #f1f1f1;\n",
       "}\n",
       "#T_b3083_row3_col5 {\n",
       "  background-color: #b3b3f6;\n",
       "  color: #000000;\n",
       "}\n",
       "#T_b3083_row3_col6 {\n",
       "  background-color: #b7b7f6;\n",
       "  color: #000000;\n",
       "}\n",
       "#T_b3083_row3_col7 {\n",
       "  background-color: #b5b5f6;\n",
       "  color: #000000;\n",
       "}\n",
       "#T_b3083_row4_col5 {\n",
       "  background-color: #3434fc;\n",
       "  color: #f1f1f1;\n",
       "}\n",
       "#T_b3083_row4_col6 {\n",
       "  background-color: #4646fb;\n",
       "  color: #f1f1f1;\n",
       "}\n",
       "#T_b3083_row4_col7 {\n",
       "  background-color: #7676f9;\n",
       "  color: #f1f1f1;\n",
       "}\n",
       "#T_b3083_row5_col3 {\n",
       "  background-color: #e1e1f4;\n",
       "  color: #000000;\n",
       "}\n",
       "#T_b3083_row5_col4 {\n",
       "  background-color: #9292f8;\n",
       "  color: #f1f1f1;\n",
       "}\n",
       "#T_b3083_row5_col7 {\n",
       "  background-color: #4343fc;\n",
       "  color: #f1f1f1;\n",
       "}\n",
       "#T_b3083_row6_col3 {\n",
       "  background-color: #ececf3;\n",
       "  color: #000000;\n",
       "}\n",
       "#T_b3083_row6_col4 {\n",
       "  background-color: #d1d1f4;\n",
       "  color: #000000;\n",
       "}\n",
       "#T_b3083_row6_col5 {\n",
       "  background-color: #9090f8;\n",
       "  color: #f1f1f1;\n",
       "}\n",
       "#T_b3083_row6_col6 {\n",
       "  background-color: #8888f8;\n",
       "  color: #f1f1f1;\n",
       "}\n",
       "#T_b3083_row6_col7 {\n",
       "  background-color: #1919fe;\n",
       "  color: #f1f1f1;\n",
       "}\n",
       "</style>\n",
       "<table id=\"T_b3083\">\n",
       "  <thead>\n",
       "    <tr>\n",
       "      <th class=\"blank level0\" >&nbsp;</th>\n",
       "      <th id=\"T_b3083_level0_col0\" class=\"col_heading level0 col0\" >AAA</th>\n",
       "      <th id=\"T_b3083_level0_col1\" class=\"col_heading level0 col1\" >AA</th>\n",
       "      <th id=\"T_b3083_level0_col2\" class=\"col_heading level0 col2\" >A</th>\n",
       "      <th id=\"T_b3083_level0_col3\" class=\"col_heading level0 col3\" >BBB</th>\n",
       "      <th id=\"T_b3083_level0_col4\" class=\"col_heading level0 col4\" >BB</th>\n",
       "      <th id=\"T_b3083_level0_col5\" class=\"col_heading level0 col5\" >B</th>\n",
       "      <th id=\"T_b3083_level0_col6\" class=\"col_heading level0 col6\" >CCC</th>\n",
       "      <th id=\"T_b3083_level0_col7\" class=\"col_heading level0 col7\" >D</th>\n",
       "    </tr>\n",
       "  </thead>\n",
       "  <tbody>\n",
       "    <tr>\n",
       "      <th id=\"T_b3083_level0_row0\" class=\"row_heading level0 row0\" >AAA</th>\n",
       "      <td id=\"T_b3083_row0_col0\" class=\"data row0 col0\" >29.42%</td>\n",
       "      <td id=\"T_b3083_row0_col1\" class=\"data row0 col1\" >28.05%</td>\n",
       "      <td id=\"T_b3083_row0_col2\" class=\"data row0 col2\" >12.01%</td>\n",
       "      <td id=\"T_b3083_row0_col3\" class=\"data row0 col3\" >2.47%</td>\n",
       "      <td id=\"T_b3083_row0_col4\" class=\"data row0 col4\" >0.53%</td>\n",
       "      <td id=\"T_b3083_row0_col5\" class=\"data row0 col5\" >0.28%</td>\n",
       "      <td id=\"T_b3083_row0_col6\" class=\"data row0 col6\" >0.07%</td>\n",
       "      <td id=\"T_b3083_row0_col7\" class=\"data row0 col7\" >27.18%</td>\n",
       "    </tr>\n",
       "    <tr>\n",
       "      <th id=\"T_b3083_level0_row1\" class=\"row_heading level0 row1\" >AA</th>\n",
       "      <td id=\"T_b3083_row1_col0\" class=\"data row1 col0\" >1.47%</td>\n",
       "      <td id=\"T_b3083_row1_col1\" class=\"data row1 col1\" >32.20%</td>\n",
       "      <td id=\"T_b3083_row1_col2\" class=\"data row1 col2\" >26.38%</td>\n",
       "      <td id=\"T_b3083_row1_col3\" class=\"data row1 col3\" >7.01%</td>\n",
       "      <td id=\"T_b3083_row1_col4\" class=\"data row1 col4\" >0.98%</td>\n",
       "      <td id=\"T_b3083_row1_col5\" class=\"data row1 col5\" >0.42%</td>\n",
       "      <td id=\"T_b3083_row1_col6\" class=\"data row1 col6\" >0.07%</td>\n",
       "      <td id=\"T_b3083_row1_col7\" class=\"data row1 col7\" >31.47%</td>\n",
       "    </tr>\n",
       "    <tr>\n",
       "      <th id=\"T_b3083_level0_row2\" class=\"row_heading level0 row2\" >A</th>\n",
       "      <td id=\"T_b3083_row2_col0\" class=\"data row2 col0\" >0.18%</td>\n",
       "      <td id=\"T_b3083_row2_col1\" class=\"data row2 col1\" >5.35%</td>\n",
       "      <td id=\"T_b3083_row2_col2\" class=\"data row2 col2\" >39.10%</td>\n",
       "      <td id=\"T_b3083_row2_col3\" class=\"data row2 col3\" >16.70%</td>\n",
       "      <td id=\"T_b3083_row2_col4\" class=\"data row2 col4\" >2.64%</td>\n",
       "      <td id=\"T_b3083_row2_col5\" class=\"data row2 col5\" >0.90%</td>\n",
       "      <td id=\"T_b3083_row2_col6\" class=\"data row2 col6\" >0.12%</td>\n",
       "      <td id=\"T_b3083_row2_col7\" class=\"data row2 col7\" >35.00%</td>\n",
       "    </tr>\n",
       "    <tr>\n",
       "      <th id=\"T_b3083_level0_row3\" class=\"row_heading level0 row3\" >BBB</th>\n",
       "      <td id=\"T_b3083_row3_col0\" class=\"data row3 col0\" >0.03%</td>\n",
       "      <td id=\"T_b3083_row3_col1\" class=\"data row3 col1\" >0.98%</td>\n",
       "      <td id=\"T_b3083_row3_col2\" class=\"data row3 col2\" >10.72%</td>\n",
       "      <td id=\"T_b3083_row3_col3\" class=\"data row3 col3\" >32.39%</td>\n",
       "      <td id=\"T_b3083_row3_col4\" class=\"data row3 col4\" >7.57%</td>\n",
       "      <td id=\"T_b3083_row3_col5\" class=\"data row3 col5\" >2.71%</td>\n",
       "      <td id=\"T_b3083_row3_col6\" class=\"data row3 col6\" >0.36%</td>\n",
       "      <td id=\"T_b3083_row3_col7\" class=\"data row3 col7\" >45.23%</td>\n",
       "    </tr>\n",
       "    <tr>\n",
       "      <th id=\"T_b3083_level0_row4\" class=\"row_heading level0 row4\" >BB</th>\n",
       "      <td id=\"T_b3083_row4_col0\" class=\"data row4 col0\" >0.03%</td>\n",
       "      <td id=\"T_b3083_row4_col1\" class=\"data row4 col1\" >0.19%</td>\n",
       "      <td id=\"T_b3083_row4_col2\" class=\"data row4 col2\" >1.90%</td>\n",
       "      <td id=\"T_b3083_row4_col3\" class=\"data row4 col3\" >9.88%</td>\n",
       "      <td id=\"T_b3083_row4_col4\" class=\"data row4 col4\" >14.30%</td>\n",
       "      <td id=\"T_b3083_row4_col5\" class=\"data row4 col5\" >8.27%</td>\n",
       "      <td id=\"T_b3083_row4_col6\" class=\"data row4 col6\" >1.08%</td>\n",
       "      <td id=\"T_b3083_row4_col7\" class=\"data row4 col7\" >64.36%</td>\n",
       "    </tr>\n",
       "    <tr>\n",
       "      <th id=\"T_b3083_level0_row5\" class=\"row_heading level0 row5\" >B</th>\n",
       "      <td id=\"T_b3083_row5_col0\" class=\"data row5 col0\" >0.01%</td>\n",
       "      <td id=\"T_b3083_row5_col1\" class=\"data row5 col1\" >0.07%</td>\n",
       "      <td id=\"T_b3083_row5_col2\" class=\"data row5 col2\" >0.42%</td>\n",
       "      <td id=\"T_b3083_row5_col3\" class=\"data row5 col3\" >2.03%</td>\n",
       "      <td id=\"T_b3083_row5_col4\" class=\"data row5 col4\" >5.59%</td>\n",
       "      <td id=\"T_b3083_row5_col5\" class=\"data row5 col5\" >10.57%</td>\n",
       "      <td id=\"T_b3083_row5_col6\" class=\"data row5 col6\" >1.52%</td>\n",
       "      <td id=\"T_b3083_row5_col7\" class=\"data row5 col7\" >79.79%</td>\n",
       "    </tr>\n",
       "    <tr>\n",
       "      <th id=\"T_b3083_level0_row6\" class=\"row_heading level0 row6\" >CCC</th>\n",
       "      <td id=\"T_b3083_row6_col0\" class=\"data row6 col0\" >0.00%</td>\n",
       "      <td id=\"T_b3083_row6_col1\" class=\"data row6 col1\" >0.03%</td>\n",
       "      <td id=\"T_b3083_row6_col2\" class=\"data row6 col2\" >0.20%</td>\n",
       "      <td id=\"T_b3083_row6_col3\" class=\"data row6 col3\" >0.68%</td>\n",
       "      <td id=\"T_b3083_row6_col4\" class=\"data row6 col4\" >1.87%</td>\n",
       "      <td id=\"T_b3083_row6_col5\" class=\"data row6 col5\" >4.24%</td>\n",
       "      <td id=\"T_b3083_row6_col6\" class=\"data row6 col6\" >0.67%</td>\n",
       "      <td id=\"T_b3083_row6_col7\" class=\"data row6 col7\" >92.32%</td>\n",
       "    </tr>\n",
       "    <tr>\n",
       "      <th id=\"T_b3083_level0_row7\" class=\"row_heading level0 row7\" >D</th>\n",
       "      <td id=\"T_b3083_row7_col0\" class=\"data row7 col0\" >0.00%</td>\n",
       "      <td id=\"T_b3083_row7_col1\" class=\"data row7 col1\" >0.00%</td>\n",
       "      <td id=\"T_b3083_row7_col2\" class=\"data row7 col2\" >0.00%</td>\n",
       "      <td id=\"T_b3083_row7_col3\" class=\"data row7 col3\" >0.00%</td>\n",
       "      <td id=\"T_b3083_row7_col4\" class=\"data row7 col4\" >0.00%</td>\n",
       "      <td id=\"T_b3083_row7_col5\" class=\"data row7 col5\" >0.00%</td>\n",
       "      <td id=\"T_b3083_row7_col6\" class=\"data row7 col6\" >0.00%</td>\n",
       "      <td id=\"T_b3083_row7_col7\" class=\"data row7 col7\" >100.00%</td>\n",
       "    </tr>\n",
       "  </tbody>\n",
       "</table>\n"
      ],
      "text/plain": [
       "<pandas.io.formats.style.Styler at 0x1efe9152d50>"
      ]
     },
     "metadata": {},
     "output_type": "display_data"
    },
    {
     "data": {
      "text/html": [
       "<style type=\"text/css\">\n",
       "#T_2fc33_row0_col0, #T_2fc33_row1_col1, #T_2fc33_row2_col2, #T_2fc33_row3_col3, #T_2fc33_row4_col4, #T_2fc33_row5_col5, #T_2fc33_row5_col6, #T_2fc33_row7_col7 {\n",
       "  background-color: #0000ff;\n",
       "  color: #f1f1f1;\n",
       "}\n",
       "#T_2fc33_row0_col1 {\n",
       "  background-color: #0a0afe;\n",
       "  color: #f1f1f1;\n",
       "}\n",
       "#T_2fc33_row0_col2 {\n",
       "  background-color: #9999f7;\n",
       "  color: #f1f1f1;\n",
       "}\n",
       "#T_2fc33_row0_col3 {\n",
       "  background-color: #d9d9f4;\n",
       "  color: #000000;\n",
       "}\n",
       "#T_2fc33_row0_col4 {\n",
       "  background-color: #e5e5f3;\n",
       "  color: #000000;\n",
       "}\n",
       "#T_2fc33_row0_col5, #T_2fc33_row3_col1 {\n",
       "  background-color: #e8e8f3;\n",
       "  color: #000000;\n",
       "}\n",
       "#T_2fc33_row0_col6 {\n",
       "  background-color: #e2e2f3;\n",
       "  color: #000000;\n",
       "}\n",
       "#T_2fc33_row0_col7, #T_2fc33_row3_col0, #T_2fc33_row4_col0, #T_2fc33_row5_col0, #T_2fc33_row5_col1, #T_2fc33_row6_col0, #T_2fc33_row6_col1, #T_2fc33_row7_col0, #T_2fc33_row7_col1, #T_2fc33_row7_col2, #T_2fc33_row7_col3, #T_2fc33_row7_col4, #T_2fc33_row7_col5, #T_2fc33_row7_col6 {\n",
       "  background-color: #f0f0f3;\n",
       "  color: #000000;\n",
       "}\n",
       "#T_2fc33_row1_col0, #T_2fc33_row1_col6, #T_2fc33_row4_col2 {\n",
       "  background-color: #e3e3f3;\n",
       "  color: #000000;\n",
       "}\n",
       "#T_2fc33_row1_col2 {\n",
       "  background-color: #4040fc;\n",
       "  color: #f1f1f1;\n",
       "}\n",
       "#T_2fc33_row1_col3 {\n",
       "  background-color: #b2b2f6;\n",
       "  color: #000000;\n",
       "}\n",
       "#T_2fc33_row1_col4 {\n",
       "  background-color: #dbdbf4;\n",
       "  color: #000000;\n",
       "}\n",
       "#T_2fc33_row1_col5 {\n",
       "  background-color: #e4e4f3;\n",
       "  color: #000000;\n",
       "}\n",
       "#T_2fc33_row1_col7 {\n",
       "  background-color: #e1e1f4;\n",
       "  color: #000000;\n",
       "}\n",
       "#T_2fc33_row2_col0, #T_2fc33_row4_col1, #T_2fc33_row6_col2 {\n",
       "  background-color: #efeff3;\n",
       "  color: #000000;\n",
       "}\n",
       "#T_2fc33_row2_col1 {\n",
       "  background-color: #c4c4f5;\n",
       "  color: #000000;\n",
       "}\n",
       "#T_2fc33_row2_col3 {\n",
       "  background-color: #6767fa;\n",
       "  color: #f1f1f1;\n",
       "}\n",
       "#T_2fc33_row2_col4 {\n",
       "  background-color: #b9b9f6;\n",
       "  color: #000000;\n",
       "}\n",
       "#T_2fc33_row2_col5 {\n",
       "  background-color: #d5d5f4;\n",
       "  color: #000000;\n",
       "}\n",
       "#T_2fc33_row2_col6 {\n",
       "  background-color: #d7d7f4;\n",
       "  color: #000000;\n",
       "}\n",
       "#T_2fc33_row2_col7 {\n",
       "  background-color: #d4d4f4;\n",
       "  color: #000000;\n",
       "}\n",
       "#T_2fc33_row3_col2, #T_2fc33_row3_col6 {\n",
       "  background-color: #a9a9f6;\n",
       "  color: #000000;\n",
       "}\n",
       "#T_2fc33_row3_col4 {\n",
       "  background-color: #5f5ffa;\n",
       "  color: #f1f1f1;\n",
       "}\n",
       "#T_2fc33_row3_col5 {\n",
       "  background-color: #a4a4f7;\n",
       "  color: #000000;\n",
       "}\n",
       "#T_2fc33_row3_col7 {\n",
       "  background-color: #afaff6;\n",
       "  color: #000000;\n",
       "}\n",
       "#T_2fc33_row4_col3 {\n",
       "  background-color: #a3a3f7;\n",
       "  color: #f1f1f1;\n",
       "}\n",
       "#T_2fc33_row4_col5 {\n",
       "  background-color: #2121fd;\n",
       "  color: #f1f1f1;\n",
       "}\n",
       "#T_2fc33_row4_col6 {\n",
       "  background-color: #3232fc;\n",
       "  color: #f1f1f1;\n",
       "}\n",
       "#T_2fc33_row4_col7 {\n",
       "  background-color: #6d6df9;\n",
       "  color: #f1f1f1;\n",
       "}\n",
       "#T_2fc33_row5_col2 {\n",
       "  background-color: #eeeef3;\n",
       "  color: #000000;\n",
       "}\n",
       "#T_2fc33_row5_col3 {\n",
       "  background-color: #dfdff4;\n",
       "  color: #000000;\n",
       "}\n",
       "#T_2fc33_row5_col4 {\n",
       "  background-color: #8d8df8;\n",
       "  color: #f1f1f1;\n",
       "}\n",
       "#T_2fc33_row5_col7 {\n",
       "  background-color: #3a3afc;\n",
       "  color: #f1f1f1;\n",
       "}\n",
       "#T_2fc33_row6_col3 {\n",
       "  background-color: #ebebf3;\n",
       "  color: #000000;\n",
       "}\n",
       "#T_2fc33_row6_col4 {\n",
       "  background-color: #cecef4;\n",
       "  color: #000000;\n",
       "}\n",
       "#T_2fc33_row6_col5 {\n",
       "  background-color: #9090f8;\n",
       "  color: #f1f1f1;\n",
       "}\n",
       "#T_2fc33_row6_col6 {\n",
       "  background-color: #8c8cf8;\n",
       "  color: #f1f1f1;\n",
       "}\n",
       "#T_2fc33_row6_col7 {\n",
       "  background-color: #1616fe;\n",
       "  color: #f1f1f1;\n",
       "}\n",
       "</style>\n",
       "<table id=\"T_2fc33\">\n",
       "  <thead>\n",
       "    <tr>\n",
       "      <th class=\"blank level0\" >&nbsp;</th>\n",
       "      <th id=\"T_2fc33_level0_col0\" class=\"col_heading level0 col0\" >AAA</th>\n",
       "      <th id=\"T_2fc33_level0_col1\" class=\"col_heading level0 col1\" >AA</th>\n",
       "      <th id=\"T_2fc33_level0_col2\" class=\"col_heading level0 col2\" >A</th>\n",
       "      <th id=\"T_2fc33_level0_col3\" class=\"col_heading level0 col3\" >BBB</th>\n",
       "      <th id=\"T_2fc33_level0_col4\" class=\"col_heading level0 col4\" >BB</th>\n",
       "      <th id=\"T_2fc33_level0_col5\" class=\"col_heading level0 col5\" >B</th>\n",
       "      <th id=\"T_2fc33_level0_col6\" class=\"col_heading level0 col6\" >CCC</th>\n",
       "      <th id=\"T_2fc33_level0_col7\" class=\"col_heading level0 col7\" >D</th>\n",
       "    </tr>\n",
       "  </thead>\n",
       "  <tbody>\n",
       "    <tr>\n",
       "      <th id=\"T_2fc33_level0_row0\" class=\"row_heading level0 row0\" >AAA</th>\n",
       "      <td id=\"T_2fc33_row0_col0\" class=\"data row0 col0\" >25.76%</td>\n",
       "      <td id=\"T_2fc33_row0_col1\" class=\"data row0 col1\" >27.37%</td>\n",
       "      <td id=\"T_2fc33_row0_col2\" class=\"data row0 col2\" >13.06%</td>\n",
       "      <td id=\"T_2fc33_row0_col3\" class=\"data row0 col3\" >2.90%</td>\n",
       "      <td id=\"T_2fc33_row0_col4\" class=\"data row0 col4\" >0.58%</td>\n",
       "      <td id=\"T_2fc33_row0_col5\" class=\"data row0 col5\" >0.30%</td>\n",
       "      <td id=\"T_2fc33_row0_col6\" class=\"data row0 col6\" >0.07%</td>\n",
       "      <td id=\"T_2fc33_row0_col7\" class=\"data row0 col7\" >29.97%</td>\n",
       "    </tr>\n",
       "    <tr>\n",
       "      <th id=\"T_2fc33_level0_row1\" class=\"row_heading level0 row1\" >AA</th>\n",
       "      <td id=\"T_2fc33_row1_col0\" class=\"data row1 col0\" >1.44%</td>\n",
       "      <td id=\"T_2fc33_row1_col1\" class=\"data row1 col1\" >28.69%</td>\n",
       "      <td id=\"T_2fc33_row1_col2\" class=\"data row1 col2\" >26.16%</td>\n",
       "      <td id=\"T_2fc33_row1_col3\" class=\"data row1 col3\" >7.57%</td>\n",
       "      <td id=\"T_2fc33_row1_col4\" class=\"data row1 col4\" >1.11%</td>\n",
       "      <td id=\"T_2fc33_row1_col5\" class=\"data row1 col5\" >0.46%</td>\n",
       "      <td id=\"T_2fc33_row1_col6\" class=\"data row1 col6\" >0.07%</td>\n",
       "      <td id=\"T_2fc33_row1_col7\" class=\"data row1 col7\" >34.50%</td>\n",
       "    </tr>\n",
       "    <tr>\n",
       "      <th id=\"T_2fc33_level0_row2\" class=\"row_heading level0 row2\" >A</th>\n",
       "      <td id=\"T_2fc33_row2_col0\" class=\"data row2 col0\" >0.19%</td>\n",
       "      <td id=\"T_2fc33_row2_col1\" class=\"data row2 col1\" >5.31%</td>\n",
       "      <td id=\"T_2fc33_row2_col2\" class=\"data row2 col2\" >35.72%</td>\n",
       "      <td id=\"T_2fc33_row2_col3\" class=\"data row2 col3\" >16.57%</td>\n",
       "      <td id=\"T_2fc33_row2_col4\" class=\"data row2 col4\" >2.78%</td>\n",
       "      <td id=\"T_2fc33_row2_col5\" class=\"data row2 col5\" >0.97%</td>\n",
       "      <td id=\"T_2fc33_row2_col6\" class=\"data row2 col6\" >0.13%</td>\n",
       "      <td id=\"T_2fc33_row2_col7\" class=\"data row2 col7\" >38.34%</td>\n",
       "    </tr>\n",
       "    <tr>\n",
       "      <th id=\"T_2fc33_level0_row3\" class=\"row_heading level0 row3\" >BBB</th>\n",
       "      <td id=\"T_2fc33_row3_col0\" class=\"data row3 col0\" >0.03%</td>\n",
       "      <td id=\"T_2fc33_row3_col1\" class=\"data row3 col1\" >1.05%</td>\n",
       "      <td id=\"T_2fc33_row3_col2\" class=\"data row3 col2\" >10.63%</td>\n",
       "      <td id=\"T_2fc33_row3_col3\" class=\"data row3 col3\" >29.04%</td>\n",
       "      <td id=\"T_2fc33_row3_col4\" class=\"data row3 col4\" >7.17%</td>\n",
       "      <td id=\"T_2fc33_row3_col5\" class=\"data row3 col5\" >2.71%</td>\n",
       "      <td id=\"T_2fc33_row3_col6\" class=\"data row3 col6\" >0.36%</td>\n",
       "      <td id=\"T_2fc33_row3_col7\" class=\"data row3 col7\" >49.00%</td>\n",
       "    </tr>\n",
       "    <tr>\n",
       "      <th id=\"T_2fc33_level0_row4\" class=\"row_heading level0 row4\" >BB</th>\n",
       "      <td id=\"T_2fc33_row4_col0\" class=\"data row4 col0\" >0.02%</td>\n",
       "      <td id=\"T_2fc33_row4_col1\" class=\"data row4 col1\" >0.21%</td>\n",
       "      <td id=\"T_2fc33_row4_col2\" class=\"data row4 col2\" >2.03%</td>\n",
       "      <td id=\"T_2fc33_row4_col3\" class=\"data row4 col3\" >9.34%</td>\n",
       "      <td id=\"T_2fc33_row4_col4\" class=\"data row4 col4\" >11.91%</td>\n",
       "      <td id=\"T_2fc33_row4_col5\" class=\"data row4 col5\" >7.31%</td>\n",
       "      <td id=\"T_2fc33_row4_col6\" class=\"data row4 col6\" >0.97%</td>\n",
       "      <td id=\"T_2fc33_row4_col7\" class=\"data row4 col7\" >68.21%</td>\n",
       "    </tr>\n",
       "    <tr>\n",
       "      <th id=\"T_2fc33_level0_row5\" class=\"row_heading level0 row5\" >B</th>\n",
       "      <td id=\"T_2fc33_row5_col0\" class=\"data row5 col0\" >0.01%</td>\n",
       "      <td id=\"T_2fc33_row5_col1\" class=\"data row5 col1\" >0.08%</td>\n",
       "      <td id=\"T_2fc33_row5_col2\" class=\"data row5 col2\" >0.45%</td>\n",
       "      <td id=\"T_2fc33_row5_col3\" class=\"data row5 col3\" >2.06%</td>\n",
       "      <td id=\"T_2fc33_row5_col4\" class=\"data row5 col4\" >4.93%</td>\n",
       "      <td id=\"T_2fc33_row5_col5\" class=\"data row5 col5\" >8.49%</td>\n",
       "      <td id=\"T_2fc33_row5_col6\" class=\"data row5 col6\" >1.22%</td>\n",
       "      <td id=\"T_2fc33_row5_col7\" class=\"data row5 col7\" >82.77%</td>\n",
       "    </tr>\n",
       "    <tr>\n",
       "      <th id=\"T_2fc33_level0_row6\" class=\"row_heading level0 row6\" >CCC</th>\n",
       "      <td id=\"T_2fc33_row6_col0\" class=\"data row6 col0\" >0.00%</td>\n",
       "      <td id=\"T_2fc33_row6_col1\" class=\"data row6 col1\" >0.03%</td>\n",
       "      <td id=\"T_2fc33_row6_col2\" class=\"data row6 col2\" >0.20%</td>\n",
       "      <td id=\"T_2fc33_row6_col3\" class=\"data row6 col3\" >0.69%</td>\n",
       "      <td id=\"T_2fc33_row6_col4\" class=\"data row6 col4\" >1.68%</td>\n",
       "      <td id=\"T_2fc33_row6_col5\" class=\"data row6 col5\" >3.39%</td>\n",
       "      <td id=\"T_2fc33_row6_col6\" class=\"data row6 col6\" >0.51%</td>\n",
       "      <td id=\"T_2fc33_row6_col7\" class=\"data row6 col7\" >93.49%</td>\n",
       "    </tr>\n",
       "    <tr>\n",
       "      <th id=\"T_2fc33_level0_row7\" class=\"row_heading level0 row7\" >D</th>\n",
       "      <td id=\"T_2fc33_row7_col0\" class=\"data row7 col0\" >0.00%</td>\n",
       "      <td id=\"T_2fc33_row7_col1\" class=\"data row7 col1\" >0.00%</td>\n",
       "      <td id=\"T_2fc33_row7_col2\" class=\"data row7 col2\" >0.00%</td>\n",
       "      <td id=\"T_2fc33_row7_col3\" class=\"data row7 col3\" >0.00%</td>\n",
       "      <td id=\"T_2fc33_row7_col4\" class=\"data row7 col4\" >0.00%</td>\n",
       "      <td id=\"T_2fc33_row7_col5\" class=\"data row7 col5\" >0.00%</td>\n",
       "      <td id=\"T_2fc33_row7_col6\" class=\"data row7 col6\" >0.00%</td>\n",
       "      <td id=\"T_2fc33_row7_col7\" class=\"data row7 col7\" >100.00%</td>\n",
       "    </tr>\n",
       "  </tbody>\n",
       "</table>\n"
      ],
      "text/plain": [
       "<pandas.io.formats.style.Styler at 0x1efd8a7f250>"
      ]
     },
     "metadata": {},
     "output_type": "display_data"
    }
   ],
   "source": [
    "# The Migration Matrices for years 2 till 10th\n",
    "# in order;\n",
    "# 2-year Migration Matrix\n",
    "# 3-year Migration Matrix\n",
    "# 4-year Migration Matrix\n",
    "# ...\n",
    "dfs = [markov_2y, markov_3y, markov_4y, markov_5y, markov_6y, markov_7y, markov_8y, markov_9y, markov_10y]\n",
    "for i in dfs: \n",
    "    display(i.style.background_gradient(cmap=cm).format(\"{:.2%}\"))"
   ]
  },
  {
   "cell_type": "markdown",
   "metadata": {},
   "source": [
    "As mentioned before, using data form columns D from each year migration matrix, the below cumulative multi-year Probability of Default table is created. It can be seen, especially on the below Figure 4 plot of the probabilities that they possess a tendency of monotonic increase and that they are non-overlapping. Left side Y axis represents the percentage (PD) as proportion of 1."
   ]
  },
  {
   "cell_type": "code",
   "execution_count": 15,
   "metadata": {},
   "outputs": [
    {
     "data": {
      "text/html": [
       "<style type=\"text/css\">\n",
       "#T_24eb2_row0_col0, #T_24eb2_row0_col1, #T_24eb2_row0_col2, #T_24eb2_row0_col3, #T_24eb2_row0_col4, #T_24eb2_row0_col5, #T_24eb2_row0_col6 {\n",
       "  background-color: #f0f0f3;\n",
       "  color: #000000;\n",
       "}\n",
       "#T_24eb2_row1_col0 {\n",
       "  background-color: #d5d5f4;\n",
       "  color: #000000;\n",
       "}\n",
       "#T_24eb2_row1_col1, #T_24eb2_row1_col2 {\n",
       "  background-color: #d3d3f4;\n",
       "  color: #000000;\n",
       "}\n",
       "#T_24eb2_row1_col3 {\n",
       "  background-color: #d0d0f4;\n",
       "  color: #000000;\n",
       "}\n",
       "#T_24eb2_row1_col4 {\n",
       "  background-color: #cacaf5;\n",
       "  color: #000000;\n",
       "}\n",
       "#T_24eb2_row1_col5 {\n",
       "  background-color: #bebef5;\n",
       "  color: #000000;\n",
       "}\n",
       "#T_24eb2_row1_col6, #T_24eb2_row2_col5 {\n",
       "  background-color: #9393f8;\n",
       "  color: #f1f1f1;\n",
       "}\n",
       "#T_24eb2_row2_col0 {\n",
       "  background-color: #b9b9f6;\n",
       "  color: #000000;\n",
       "}\n",
       "#T_24eb2_row2_col1, #T_24eb2_row2_col2 {\n",
       "  background-color: #b6b6f6;\n",
       "  color: #000000;\n",
       "}\n",
       "#T_24eb2_row2_col3 {\n",
       "  background-color: #b1b1f6;\n",
       "  color: #000000;\n",
       "}\n",
       "#T_24eb2_row2_col4 {\n",
       "  background-color: #a6a6f7;\n",
       "  color: #000000;\n",
       "}\n",
       "#T_24eb2_row2_col6 {\n",
       "  background-color: #6060fa;\n",
       "  color: #f1f1f1;\n",
       "}\n",
       "#T_24eb2_row3_col0 {\n",
       "  background-color: #9d9df7;\n",
       "  color: #f1f1f1;\n",
       "}\n",
       "#T_24eb2_row3_col1, #T_24eb2_row3_col2 {\n",
       "  background-color: #9a9af7;\n",
       "  color: #f1f1f1;\n",
       "}\n",
       "#T_24eb2_row3_col3 {\n",
       "  background-color: #9494f7;\n",
       "  color: #f1f1f1;\n",
       "}\n",
       "#T_24eb2_row3_col4 {\n",
       "  background-color: #8585f8;\n",
       "  color: #f1f1f1;\n",
       "}\n",
       "#T_24eb2_row3_col5 {\n",
       "  background-color: #6f6ff9;\n",
       "  color: #f1f1f1;\n",
       "}\n",
       "#T_24eb2_row3_col6 {\n",
       "  background-color: #4141fc;\n",
       "  color: #f1f1f1;\n",
       "}\n",
       "#T_24eb2_row4_col0 {\n",
       "  background-color: #8282f8;\n",
       "  color: #f1f1f1;\n",
       "}\n",
       "#T_24eb2_row4_col1, #T_24eb2_row4_col2 {\n",
       "  background-color: #7e7ef9;\n",
       "  color: #f1f1f1;\n",
       "}\n",
       "#T_24eb2_row4_col3 {\n",
       "  background-color: #7878f9;\n",
       "  color: #f1f1f1;\n",
       "}\n",
       "#T_24eb2_row4_col4 {\n",
       "  background-color: #6868fa;\n",
       "  color: #f1f1f1;\n",
       "}\n",
       "#T_24eb2_row4_col5 {\n",
       "  background-color: #5252fb;\n",
       "  color: #f1f1f1;\n",
       "}\n",
       "#T_24eb2_row4_col6 {\n",
       "  background-color: #2d2dfd;\n",
       "  color: #f1f1f1;\n",
       "}\n",
       "#T_24eb2_row5_col0 {\n",
       "  background-color: #6767fa;\n",
       "  color: #f1f1f1;\n",
       "}\n",
       "#T_24eb2_row5_col1, #T_24eb2_row5_col2 {\n",
       "  background-color: #6363fa;\n",
       "  color: #f1f1f1;\n",
       "}\n",
       "#T_24eb2_row5_col3 {\n",
       "  background-color: #5c5cfa;\n",
       "  color: #f1f1f1;\n",
       "}\n",
       "#T_24eb2_row5_col4 {\n",
       "  background-color: #4d4dfb;\n",
       "  color: #f1f1f1;\n",
       "}\n",
       "#T_24eb2_row5_col5 {\n",
       "  background-color: #3a3afc;\n",
       "  color: #f1f1f1;\n",
       "}\n",
       "#T_24eb2_row5_col6 {\n",
       "  background-color: #1f1ffd;\n",
       "  color: #f1f1f1;\n",
       "}\n",
       "#T_24eb2_row6_col0 {\n",
       "  background-color: #4c4cfb;\n",
       "  color: #f1f1f1;\n",
       "}\n",
       "#T_24eb2_row6_col1 {\n",
       "  background-color: #4a4afb;\n",
       "  color: #f1f1f1;\n",
       "}\n",
       "#T_24eb2_row6_col2 {\n",
       "  background-color: #4949fb;\n",
       "  color: #f1f1f1;\n",
       "}\n",
       "#T_24eb2_row6_col3 {\n",
       "  background-color: #4343fc;\n",
       "  color: #f1f1f1;\n",
       "}\n",
       "#T_24eb2_row6_col4 {\n",
       "  background-color: #3737fc;\n",
       "  color: #f1f1f1;\n",
       "}\n",
       "#T_24eb2_row6_col5 {\n",
       "  background-color: #2727fd;\n",
       "  color: #f1f1f1;\n",
       "}\n",
       "#T_24eb2_row6_col6 {\n",
       "  background-color: #1414fe;\n",
       "  color: #f1f1f1;\n",
       "}\n",
       "#T_24eb2_row7_col0 {\n",
       "  background-color: #3232fc;\n",
       "  color: #f1f1f1;\n",
       "}\n",
       "#T_24eb2_row7_col1, #T_24eb2_row7_col2 {\n",
       "  background-color: #3030fd;\n",
       "  color: #f1f1f1;\n",
       "}\n",
       "#T_24eb2_row7_col3 {\n",
       "  background-color: #2b2bfd;\n",
       "  color: #f1f1f1;\n",
       "}\n",
       "#T_24eb2_row7_col4 {\n",
       "  background-color: #2222fd;\n",
       "  color: #f1f1f1;\n",
       "}\n",
       "#T_24eb2_row7_col5, #T_24eb2_row8_col1, #T_24eb2_row8_col2 {\n",
       "  background-color: #1818fe;\n",
       "  color: #f1f1f1;\n",
       "}\n",
       "#T_24eb2_row7_col6 {\n",
       "  background-color: #0b0bfe;\n",
       "  color: #f1f1f1;\n",
       "}\n",
       "#T_24eb2_row8_col0 {\n",
       "  background-color: #1919fe;\n",
       "  color: #f1f1f1;\n",
       "}\n",
       "#T_24eb2_row8_col3 {\n",
       "  background-color: #1515fe;\n",
       "  color: #f1f1f1;\n",
       "}\n",
       "#T_24eb2_row8_col4 {\n",
       "  background-color: #0f0ffe;\n",
       "  color: #f1f1f1;\n",
       "}\n",
       "#T_24eb2_row8_col5 {\n",
       "  background-color: #0a0afe;\n",
       "  color: #f1f1f1;\n",
       "}\n",
       "#T_24eb2_row8_col6 {\n",
       "  background-color: #0505ff;\n",
       "  color: #f1f1f1;\n",
       "}\n",
       "#T_24eb2_row9_col0, #T_24eb2_row9_col1, #T_24eb2_row9_col2, #T_24eb2_row9_col3, #T_24eb2_row9_col4, #T_24eb2_row9_col5, #T_24eb2_row9_col6 {\n",
       "  background-color: #0000ff;\n",
       "  color: #f1f1f1;\n",
       "}\n",
       "</style>\n",
       "<table id=\"T_24eb2\">\n",
       "  <thead>\n",
       "    <tr>\n",
       "      <th class=\"blank level0\" >&nbsp;</th>\n",
       "      <th id=\"T_24eb2_level0_col0\" class=\"col_heading level0 col0\" >AAA</th>\n",
       "      <th id=\"T_24eb2_level0_col1\" class=\"col_heading level0 col1\" >AA</th>\n",
       "      <th id=\"T_24eb2_level0_col2\" class=\"col_heading level0 col2\" >A</th>\n",
       "      <th id=\"T_24eb2_level0_col3\" class=\"col_heading level0 col3\" >BBB</th>\n",
       "      <th id=\"T_24eb2_level0_col4\" class=\"col_heading level0 col4\" >BB</th>\n",
       "      <th id=\"T_24eb2_level0_col5\" class=\"col_heading level0 col5\" >B</th>\n",
       "      <th id=\"T_24eb2_level0_col6\" class=\"col_heading level0 col6\" >CCC</th>\n",
       "    </tr>\n",
       "  </thead>\n",
       "  <tbody>\n",
       "    <tr>\n",
       "      <th id=\"T_24eb2_level0_row0\" class=\"row_heading level0 row0\" >1-year Default</th>\n",
       "      <td id=\"T_24eb2_row0_col0\" class=\"data row0 col0\" >3.11%</td>\n",
       "      <td id=\"T_24eb2_row0_col1\" class=\"data row0 col1\" >3.88%</td>\n",
       "      <td id=\"T_24eb2_row0_col2\" class=\"data row0 col2\" >4.26%</td>\n",
       "      <td id=\"T_24eb2_row0_col3\" class=\"data row0 col3\" >5.97%</td>\n",
       "      <td id=\"T_24eb2_row0_col4\" class=\"data row0 col4\" >10.08%</td>\n",
       "      <td id=\"T_24eb2_row0_col5\" class=\"data row0 col5\" >15.64%</td>\n",
       "      <td id=\"T_24eb2_row0_col6\" class=\"data row0 col6\" >40.85%</td>\n",
       "    </tr>\n",
       "    <tr>\n",
       "      <th id=\"T_24eb2_level0_row1\" class=\"row_heading level0 row1\" >2-year Default</th>\n",
       "      <td id=\"T_24eb2_row1_col0\" class=\"data row1 col0\" >6.23%</td>\n",
       "      <td id=\"T_24eb2_row1_col1\" class=\"data row1 col1\" >7.66%</td>\n",
       "      <td id=\"T_24eb2_row1_col2\" class=\"data row1 col2\" >8.45%</td>\n",
       "      <td id=\"T_24eb2_row1_col3\" class=\"data row1 col3\" >11.74%</td>\n",
       "      <td id=\"T_24eb2_row1_col4\" class=\"data row1 col4\" >19.48%</td>\n",
       "      <td id=\"T_24eb2_row1_col5\" class=\"data row1 col5\" >29.77%</td>\n",
       "      <td id=\"T_24eb2_row1_col6\" class=\"data row1 col6\" >61.33%</td>\n",
       "    </tr>\n",
       "    <tr>\n",
       "      <th id=\"T_24eb2_level0_row2\" class=\"row_heading level0 row2\" >3-year Default</th>\n",
       "      <td id=\"T_24eb2_row2_col0\" class=\"data row2 col0\" >9.34%</td>\n",
       "      <td id=\"T_24eb2_row2_col1\" class=\"data row2 col1\" >11.35%</td>\n",
       "      <td id=\"T_24eb2_row2_col2\" class=\"data row2 col2\" >12.55%</td>\n",
       "      <td id=\"T_24eb2_row2_col3\" class=\"data row2 col3\" >17.28%</td>\n",
       "      <td id=\"T_24eb2_row2_col4\" class=\"data row2 col4\" >28.13%</td>\n",
       "      <td id=\"T_24eb2_row2_col5\" class=\"data row2 col5\" >41.77%</td>\n",
       "      <td id=\"T_24eb2_row2_col6\" class=\"data row2 col6\" >72.49%</td>\n",
       "    </tr>\n",
       "    <tr>\n",
       "      <th id=\"T_24eb2_level0_row3\" class=\"row_heading level0 row3\" >4-year Default</th>\n",
       "      <td id=\"T_24eb2_row3_col0\" class=\"data row3 col0\" >12.42%</td>\n",
       "      <td id=\"T_24eb2_row3_col1\" class=\"data row3 col1\" >14.93%</td>\n",
       "      <td id=\"T_24eb2_row3_col2\" class=\"data row3 col2\" >16.56%</td>\n",
       "      <td id=\"T_24eb2_row3_col3\" class=\"data row3 col3\" >22.58%</td>\n",
       "      <td id=\"T_24eb2_row3_col4\" class=\"data row3 col4\" >35.99%</td>\n",
       "      <td id=\"T_24eb2_row3_col5\" class=\"data row3 col5\" >51.68%</td>\n",
       "      <td id=\"T_24eb2_row3_col6\" class=\"data row3 col6\" >79.18%</td>\n",
       "    </tr>\n",
       "    <tr>\n",
       "      <th id=\"T_24eb2_level0_row4\" class=\"row_heading level0 row4\" >5-year Default</th>\n",
       "      <td id=\"T_24eb2_row4_col0\" class=\"data row4 col0\" >15.47%</td>\n",
       "      <td id=\"T_24eb2_row4_col1\" class=\"data row4 col1\" >18.43%</td>\n",
       "      <td id=\"T_24eb2_row4_col2\" class=\"data row4 col2\" >20.47%</td>\n",
       "      <td id=\"T_24eb2_row4_col3\" class=\"data row4 col3\" >27.63%</td>\n",
       "      <td id=\"T_24eb2_row4_col4\" class=\"data row4 col4\" >43.07%</td>\n",
       "      <td id=\"T_24eb2_row4_col5\" class=\"data row4 col5\" >59.78%</td>\n",
       "      <td id=\"T_24eb2_row4_col6\" class=\"data row4 col6\" >83.58%</td>\n",
       "    </tr>\n",
       "    <tr>\n",
       "      <th id=\"T_24eb2_level0_row5\" class=\"row_heading level0 row5\" >6-year Default</th>\n",
       "      <td id=\"T_24eb2_row5_col0\" class=\"data row5 col0\" >18.47%</td>\n",
       "      <td id=\"T_24eb2_row5_col1\" class=\"data row5 col1\" >21.83%</td>\n",
       "      <td id=\"T_24eb2_row5_col2\" class=\"data row5 col2\" >24.27%</td>\n",
       "      <td id=\"T_24eb2_row5_col3\" class=\"data row5 col3\" >32.42%</td>\n",
       "      <td id=\"T_24eb2_row5_col4\" class=\"data row5 col4\" >49.39%</td>\n",
       "      <td id=\"T_24eb2_row5_col5\" class=\"data row5 col5\" >66.38%</td>\n",
       "      <td id=\"T_24eb2_row5_col6\" class=\"data row5 col6\" >86.70%</td>\n",
       "    </tr>\n",
       "    <tr>\n",
       "      <th id=\"T_24eb2_level0_row6\" class=\"row_heading level0 row6\" >7-year Default</th>\n",
       "      <td id=\"T_24eb2_row6_col0\" class=\"data row6 col0\" >21.43%</td>\n",
       "      <td id=\"T_24eb2_row6_col1\" class=\"data row6 col1\" >25.13%</td>\n",
       "      <td id=\"T_24eb2_row6_col2\" class=\"data row6 col2\" >27.97%</td>\n",
       "      <td id=\"T_24eb2_row6_col3\" class=\"data row6 col3\" >36.95%</td>\n",
       "      <td id=\"T_24eb2_row6_col4\" class=\"data row6 col4\" >55.01%</td>\n",
       "      <td id=\"T_24eb2_row6_col5\" class=\"data row6 col5\" >71.77%</td>\n",
       "      <td id=\"T_24eb2_row6_col6\" class=\"data row6 col6\" >89.04%</td>\n",
       "    </tr>\n",
       "    <tr>\n",
       "      <th id=\"T_24eb2_level0_row7\" class=\"row_heading level0 row7\" >8-year Default</th>\n",
       "      <td id=\"T_24eb2_row7_col0\" class=\"data row7 col0\" >24.33%</td>\n",
       "      <td id=\"T_24eb2_row7_col1\" class=\"data row7 col1\" >28.35%</td>\n",
       "      <td id=\"T_24eb2_row7_col2\" class=\"data row7 col2\" >31.55%</td>\n",
       "      <td id=\"T_24eb2_row7_col3\" class=\"data row7 col3\" >41.22%</td>\n",
       "      <td id=\"T_24eb2_row7_col4\" class=\"data row7 col4\" >59.98%</td>\n",
       "      <td id=\"T_24eb2_row7_col5\" class=\"data row7 col5\" >76.17%</td>\n",
       "      <td id=\"T_24eb2_row7_col6\" class=\"data row7 col6\" >90.87%</td>\n",
       "    </tr>\n",
       "    <tr>\n",
       "      <th id=\"T_24eb2_level0_row8\" class=\"row_heading level0 row8\" >9-year Default</th>\n",
       "      <td id=\"T_24eb2_row8_col0\" class=\"data row8 col0\" >27.18%</td>\n",
       "      <td id=\"T_24eb2_row8_col1\" class=\"data row8 col1\" >31.47%</td>\n",
       "      <td id=\"T_24eb2_row8_col2\" class=\"data row8 col2\" >35.00%</td>\n",
       "      <td id=\"T_24eb2_row8_col3\" class=\"data row8 col3\" >45.23%</td>\n",
       "      <td id=\"T_24eb2_row8_col4\" class=\"data row8 col4\" >64.36%</td>\n",
       "      <td id=\"T_24eb2_row8_col5\" class=\"data row8 col5\" >79.79%</td>\n",
       "      <td id=\"T_24eb2_row8_col6\" class=\"data row8 col6\" >92.32%</td>\n",
       "    </tr>\n",
       "    <tr>\n",
       "      <th id=\"T_24eb2_level0_row9\" class=\"row_heading level0 row9\" >10-year Default</th>\n",
       "      <td id=\"T_24eb2_row9_col0\" class=\"data row9 col0\" >29.97%</td>\n",
       "      <td id=\"T_24eb2_row9_col1\" class=\"data row9 col1\" >34.50%</td>\n",
       "      <td id=\"T_24eb2_row9_col2\" class=\"data row9 col2\" >38.34%</td>\n",
       "      <td id=\"T_24eb2_row9_col3\" class=\"data row9 col3\" >49.00%</td>\n",
       "      <td id=\"T_24eb2_row9_col4\" class=\"data row9 col4\" >68.21%</td>\n",
       "      <td id=\"T_24eb2_row9_col5\" class=\"data row9 col5\" >82.77%</td>\n",
       "      <td id=\"T_24eb2_row9_col6\" class=\"data row9 col6\" >93.49%</td>\n",
       "    </tr>\n",
       "  </tbody>\n",
       "</table>\n"
      ],
      "text/plain": [
       "<pandas.io.formats.style.Styler at 0x1efe7efc710>"
      ]
     },
     "execution_count": 15,
     "metadata": {},
     "output_type": "execute_result"
    }
   ],
   "source": [
    "# Using data from columns \"D\" from yeach year Migration Matrix, \n",
    "# The below Cummulative Multi-year Probability of Default (CMPD) table is created\n",
    "MPD = pd.DataFrame()\n",
    "i = 1\n",
    "for year in [markov_1y, markov_2y, markov_3y, markov_4y, markov_5y, markov_6y, markov_7y, markov_8y, markov_9y, markov_10y]:\n",
    "    MPD[f\"{i}-year Default\"] = year.loc[:, 'D'].values\n",
    "    i+=1\n",
    "\n",
    "MPD = MPD.transpose()\n",
    "\n",
    "# Adding the column headers as rating classes\n",
    "MPD.columns = markov_1y.columns\n",
    "MPD = MPD.iloc[:,:-1]\n",
    "\n",
    "# Adjusting the visual aspects of the table.\n",
    "Cumulative_Multi_year_probability_of_Default = MPD.style.background_gradient(cmap=cm).format(\"{:.2%}\")\n",
    "\n",
    "Cumulative_Multi_year_probability_of_Default"
   ]
  },
  {
   "cell_type": "code",
   "execution_count": 16,
   "metadata": {},
   "outputs": [],
   "source": [
    "# Saving the Data Frame for further creation of PIT-PD model. Saved as csv \n",
    "MPD.to_csv('cum.csv')"
   ]
  },
  {
   "cell_type": "code",
   "execution_count": 17,
   "metadata": {},
   "outputs": [
    {
     "data": {
      "application/vnd.plotly.v1+json": {
       "config": {
        "plotlyServerURL": "https://plot.ly"
       },
       "data": [
        {
         "hovertemplate": "variable=AAA<br>index=%{x}<br>value=%{y}<extra></extra>",
         "legendgroup": "AAA",
         "line": {
          "color": "#636efa",
          "dash": "solid"
         },
         "marker": {
          "symbol": "circle"
         },
         "mode": "markers+lines",
         "name": "AAA",
         "orientation": "v",
         "showlegend": true,
         "type": "scatter",
         "x": [
          "1-year Default",
          "2-year Default",
          "3-year Default",
          "4-year Default",
          "5-year Default",
          "6-year Default",
          "7-year Default",
          "8-year Default",
          "9-year Default",
          "10-year Default"
         ],
         "xaxis": "x",
         "y": [
          0.031100000000000128,
          0.062299730000000234,
          0.09337956116100032,
          0.1242006938443939,
          0.15466699792400493,
          0.18470725545766958,
          0.2142663491703118,
          0.24330048609656735,
          0.27177433554722197,
          0.29965914997369547
         ],
         "yaxis": "y"
        },
        {
         "hovertemplate": "variable=AA<br>index=%{x}<br>value=%{y}<extra></extra>",
         "legendgroup": "AA",
         "line": {
          "color": "#EF553B",
          "dash": "solid"
         },
         "marker": {
          "symbol": "circle"
         },
         "mode": "markers+lines",
         "name": "AA",
         "orientation": "v",
         "showlegend": true,
         "type": "scatter",
         "x": [
          "1-year Default",
          "2-year Default",
          "3-year Default",
          "4-year Default",
          "5-year Default",
          "6-year Default",
          "7-year Default",
          "8-year Default",
          "9-year Default",
          "10-year Default"
         ],
         "xaxis": "x",
         "y": [
          0.038799999999999946,
          0.0766203299999999,
          0.11346499320899989,
          0.14934697882746156,
          0.18427984275297377,
          0.2182746911080348,
          0.2513394736767444,
          0.2834792451828154,
          0.31469680281057766,
          0.34499343344333805
         ],
         "yaxis": "y"
        },
        {
         "hovertemplate": "variable=A<br>index=%{x}<br>value=%{y}<extra></extra>",
         "legendgroup": "A",
         "line": {
          "color": "#00cc96",
          "dash": "solid"
         },
         "marker": {
          "symbol": "circle"
         },
         "mode": "markers+lines",
         "name": "A",
         "orientation": "v",
         "showlegend": true,
         "type": "scatter",
         "x": [
          "1-year Default",
          "2-year Default",
          "3-year Default",
          "4-year Default",
          "5-year Default",
          "6-year Default",
          "7-year Default",
          "8-year Default",
          "9-year Default",
          "10-year Default"
         ],
         "xaxis": "x",
         "y": [
          0.04260000000000019,
          0.08445137000000037,
          0.12547072935500053,
          0.16557560643101546,
          0.20468980773030848,
          0.24274565127152242,
          0.27968493719298376,
          0.31545934218349875,
          0.35003048112089485,
          0.3833697272124617
         ],
         "yaxis": "y"
        },
        {
         "hovertemplate": "variable=BBB<br>index=%{x}<br>value=%{y}<extra></extra>",
         "legendgroup": "BBB",
         "line": {
          "color": "#ab63fa",
          "dash": "solid"
         },
         "marker": {
          "symbol": "circle"
         },
         "mode": "markers+lines",
         "name": "BBB",
         "orientation": "v",
         "showlegend": true,
         "type": "scatter",
         "x": [
          "1-year Default",
          "2-year Default",
          "3-year Default",
          "4-year Default",
          "5-year Default",
          "6-year Default",
          "7-year Default",
          "8-year Default",
          "9-year Default",
          "10-year Default"
         ],
         "xaxis": "x",
         "y": [
          0.059699999999999975,
          0.11737385999999995,
          0.17278765451999994,
          0.22578684922236905,
          0.27626823041875426,
          0.32417037556440675,
          0.3694691292197397,
          0.4121736443739334,
          0.4523219433541607,
          0.4899760740272906
         ],
         "yaxis": "y"
        },
        {
         "hovertemplate": "variable=BB<br>index=%{x}<br>value=%{y}<extra></extra>",
         "legendgroup": "BB",
         "line": {
          "color": "#FFA15A",
          "dash": "solid"
         },
         "marker": {
          "symbol": "circle"
         },
         "mode": "markers+lines",
         "name": "BB",
         "orientation": "v",
         "showlegend": true,
         "type": "scatter",
         "x": [
          "1-year Default",
          "2-year Default",
          "3-year Default",
          "4-year Default",
          "5-year Default",
          "6-year Default",
          "7-year Default",
          "8-year Default",
          "9-year Default",
          "10-year Default"
         ],
         "xaxis": "x",
         "y": [
          0.10080000000000011,
          0.1947803800000002,
          0.2812698230380003,
          0.35990719557704626,
          0.4306963794387172,
          0.4939291477329142,
          0.5500860784663645,
          0.5997516958484792,
          0.6435517586792799,
          0.6821108296703463
         ],
         "yaxis": "y"
        },
        {
         "hovertemplate": "variable=B<br>index=%{x}<br>value=%{y}<extra></extra>",
         "legendgroup": "B",
         "line": {
          "color": "#19d3f3",
          "dash": "solid"
         },
         "marker": {
          "symbol": "circle"
         },
         "mode": "markers+lines",
         "name": "B",
         "orientation": "v",
         "showlegend": true,
         "type": "scatter",
         "x": [
          "1-year Default",
          "2-year Default",
          "3-year Default",
          "4-year Default",
          "5-year Default",
          "6-year Default",
          "7-year Default",
          "8-year Default",
          "9-year Default",
          "10-year Default"
         ],
         "xaxis": "x",
         "y": [
          0.15639999999999998,
          0.29772619999999994,
          0.41766604436699994,
          0.5167788467382162,
          0.5978017546576826,
          0.6638310435690663,
          0.7176834382292614,
          0.7617263844337747,
          0.7978828525480819,
          0.8276916395800216
         ],
         "yaxis": "y"
        },
        {
         "hovertemplate": "variable=CCC<br>index=%{x}<br>value=%{y}<extra></extra>",
         "legendgroup": "CCC",
         "line": {
          "color": "#FF6692",
          "dash": "solid"
         },
         "marker": {
          "symbol": "circle"
         },
         "mode": "markers+lines",
         "name": "CCC",
         "orientation": "v",
         "showlegend": true,
         "type": "scatter",
         "x": [
          "1-year Default",
          "2-year Default",
          "3-year Default",
          "4-year Default",
          "5-year Default",
          "6-year Default",
          "7-year Default",
          "8-year Default",
          "9-year Default",
          "10-year Default"
         ],
         "xaxis": "x",
         "y": [
          0.4085,
          0.61330829,
          0.72488177522,
          0.7917692867718191,
          0.8357663505328279,
          0.8669996235046517,
          0.8904257768975922,
          0.9086510079135666,
          0.9231688066260542,
          0.934914096843946
         ],
         "yaxis": "y"
        }
       ],
       "layout": {
        "autosize": false,
        "height": 600,
        "legend": {
         "title": {
          "text": "variable"
         },
         "tracegroupgap": 0
        },
        "margin": {
         "l": 65,
         "r": 50,
         "t": 90
        },
        "template": {
         "data": {
          "bar": [
           {
            "error_x": {
             "color": "#2a3f5f"
            },
            "error_y": {
             "color": "#2a3f5f"
            },
            "marker": {
             "line": {
              "color": "#E5ECF6",
              "width": 0.5
             },
             "pattern": {
              "fillmode": "overlay",
              "size": 10,
              "solidity": 0.2
             }
            },
            "type": "bar"
           }
          ],
          "barpolar": [
           {
            "marker": {
             "line": {
              "color": "#E5ECF6",
              "width": 0.5
             },
             "pattern": {
              "fillmode": "overlay",
              "size": 10,
              "solidity": 0.2
             }
            },
            "type": "barpolar"
           }
          ],
          "carpet": [
           {
            "aaxis": {
             "endlinecolor": "#2a3f5f",
             "gridcolor": "white",
             "linecolor": "white",
             "minorgridcolor": "white",
             "startlinecolor": "#2a3f5f"
            },
            "baxis": {
             "endlinecolor": "#2a3f5f",
             "gridcolor": "white",
             "linecolor": "white",
             "minorgridcolor": "white",
             "startlinecolor": "#2a3f5f"
            },
            "type": "carpet"
           }
          ],
          "choropleth": [
           {
            "colorbar": {
             "outlinewidth": 0,
             "ticks": ""
            },
            "type": "choropleth"
           }
          ],
          "contour": [
           {
            "colorbar": {
             "outlinewidth": 0,
             "ticks": ""
            },
            "colorscale": [
             [
              0,
              "#0d0887"
             ],
             [
              0.1111111111111111,
              "#46039f"
             ],
             [
              0.2222222222222222,
              "#7201a8"
             ],
             [
              0.3333333333333333,
              "#9c179e"
             ],
             [
              0.4444444444444444,
              "#bd3786"
             ],
             [
              0.5555555555555556,
              "#d8576b"
             ],
             [
              0.6666666666666666,
              "#ed7953"
             ],
             [
              0.7777777777777778,
              "#fb9f3a"
             ],
             [
              0.8888888888888888,
              "#fdca26"
             ],
             [
              1,
              "#f0f921"
             ]
            ],
            "type": "contour"
           }
          ],
          "contourcarpet": [
           {
            "colorbar": {
             "outlinewidth": 0,
             "ticks": ""
            },
            "type": "contourcarpet"
           }
          ],
          "heatmap": [
           {
            "colorbar": {
             "outlinewidth": 0,
             "ticks": ""
            },
            "colorscale": [
             [
              0,
              "#0d0887"
             ],
             [
              0.1111111111111111,
              "#46039f"
             ],
             [
              0.2222222222222222,
              "#7201a8"
             ],
             [
              0.3333333333333333,
              "#9c179e"
             ],
             [
              0.4444444444444444,
              "#bd3786"
             ],
             [
              0.5555555555555556,
              "#d8576b"
             ],
             [
              0.6666666666666666,
              "#ed7953"
             ],
             [
              0.7777777777777778,
              "#fb9f3a"
             ],
             [
              0.8888888888888888,
              "#fdca26"
             ],
             [
              1,
              "#f0f921"
             ]
            ],
            "type": "heatmap"
           }
          ],
          "heatmapgl": [
           {
            "colorbar": {
             "outlinewidth": 0,
             "ticks": ""
            },
            "colorscale": [
             [
              0,
              "#0d0887"
             ],
             [
              0.1111111111111111,
              "#46039f"
             ],
             [
              0.2222222222222222,
              "#7201a8"
             ],
             [
              0.3333333333333333,
              "#9c179e"
             ],
             [
              0.4444444444444444,
              "#bd3786"
             ],
             [
              0.5555555555555556,
              "#d8576b"
             ],
             [
              0.6666666666666666,
              "#ed7953"
             ],
             [
              0.7777777777777778,
              "#fb9f3a"
             ],
             [
              0.8888888888888888,
              "#fdca26"
             ],
             [
              1,
              "#f0f921"
             ]
            ],
            "type": "heatmapgl"
           }
          ],
          "histogram": [
           {
            "marker": {
             "pattern": {
              "fillmode": "overlay",
              "size": 10,
              "solidity": 0.2
             }
            },
            "type": "histogram"
           }
          ],
          "histogram2d": [
           {
            "colorbar": {
             "outlinewidth": 0,
             "ticks": ""
            },
            "colorscale": [
             [
              0,
              "#0d0887"
             ],
             [
              0.1111111111111111,
              "#46039f"
             ],
             [
              0.2222222222222222,
              "#7201a8"
             ],
             [
              0.3333333333333333,
              "#9c179e"
             ],
             [
              0.4444444444444444,
              "#bd3786"
             ],
             [
              0.5555555555555556,
              "#d8576b"
             ],
             [
              0.6666666666666666,
              "#ed7953"
             ],
             [
              0.7777777777777778,
              "#fb9f3a"
             ],
             [
              0.8888888888888888,
              "#fdca26"
             ],
             [
              1,
              "#f0f921"
             ]
            ],
            "type": "histogram2d"
           }
          ],
          "histogram2dcontour": [
           {
            "colorbar": {
             "outlinewidth": 0,
             "ticks": ""
            },
            "colorscale": [
             [
              0,
              "#0d0887"
             ],
             [
              0.1111111111111111,
              "#46039f"
             ],
             [
              0.2222222222222222,
              "#7201a8"
             ],
             [
              0.3333333333333333,
              "#9c179e"
             ],
             [
              0.4444444444444444,
              "#bd3786"
             ],
             [
              0.5555555555555556,
              "#d8576b"
             ],
             [
              0.6666666666666666,
              "#ed7953"
             ],
             [
              0.7777777777777778,
              "#fb9f3a"
             ],
             [
              0.8888888888888888,
              "#fdca26"
             ],
             [
              1,
              "#f0f921"
             ]
            ],
            "type": "histogram2dcontour"
           }
          ],
          "mesh3d": [
           {
            "colorbar": {
             "outlinewidth": 0,
             "ticks": ""
            },
            "type": "mesh3d"
           }
          ],
          "parcoords": [
           {
            "line": {
             "colorbar": {
              "outlinewidth": 0,
              "ticks": ""
             }
            },
            "type": "parcoords"
           }
          ],
          "pie": [
           {
            "automargin": true,
            "type": "pie"
           }
          ],
          "scatter": [
           {
            "fillpattern": {
             "fillmode": "overlay",
             "size": 10,
             "solidity": 0.2
            },
            "type": "scatter"
           }
          ],
          "scatter3d": [
           {
            "line": {
             "colorbar": {
              "outlinewidth": 0,
              "ticks": ""
             }
            },
            "marker": {
             "colorbar": {
              "outlinewidth": 0,
              "ticks": ""
             }
            },
            "type": "scatter3d"
           }
          ],
          "scattercarpet": [
           {
            "marker": {
             "colorbar": {
              "outlinewidth": 0,
              "ticks": ""
             }
            },
            "type": "scattercarpet"
           }
          ],
          "scattergeo": [
           {
            "marker": {
             "colorbar": {
              "outlinewidth": 0,
              "ticks": ""
             }
            },
            "type": "scattergeo"
           }
          ],
          "scattergl": [
           {
            "marker": {
             "colorbar": {
              "outlinewidth": 0,
              "ticks": ""
             }
            },
            "type": "scattergl"
           }
          ],
          "scattermapbox": [
           {
            "marker": {
             "colorbar": {
              "outlinewidth": 0,
              "ticks": ""
             }
            },
            "type": "scattermapbox"
           }
          ],
          "scatterpolar": [
           {
            "marker": {
             "colorbar": {
              "outlinewidth": 0,
              "ticks": ""
             }
            },
            "type": "scatterpolar"
           }
          ],
          "scatterpolargl": [
           {
            "marker": {
             "colorbar": {
              "outlinewidth": 0,
              "ticks": ""
             }
            },
            "type": "scatterpolargl"
           }
          ],
          "scatterternary": [
           {
            "marker": {
             "colorbar": {
              "outlinewidth": 0,
              "ticks": ""
             }
            },
            "type": "scatterternary"
           }
          ],
          "surface": [
           {
            "colorbar": {
             "outlinewidth": 0,
             "ticks": ""
            },
            "colorscale": [
             [
              0,
              "#0d0887"
             ],
             [
              0.1111111111111111,
              "#46039f"
             ],
             [
              0.2222222222222222,
              "#7201a8"
             ],
             [
              0.3333333333333333,
              "#9c179e"
             ],
             [
              0.4444444444444444,
              "#bd3786"
             ],
             [
              0.5555555555555556,
              "#d8576b"
             ],
             [
              0.6666666666666666,
              "#ed7953"
             ],
             [
              0.7777777777777778,
              "#fb9f3a"
             ],
             [
              0.8888888888888888,
              "#fdca26"
             ],
             [
              1,
              "#f0f921"
             ]
            ],
            "type": "surface"
           }
          ],
          "table": [
           {
            "cells": {
             "fill": {
              "color": "#EBF0F8"
             },
             "line": {
              "color": "white"
             }
            },
            "header": {
             "fill": {
              "color": "#C8D4E3"
             },
             "line": {
              "color": "white"
             }
            },
            "type": "table"
           }
          ]
         },
         "layout": {
          "annotationdefaults": {
           "arrowcolor": "#2a3f5f",
           "arrowhead": 0,
           "arrowwidth": 1
          },
          "autotypenumbers": "strict",
          "coloraxis": {
           "colorbar": {
            "outlinewidth": 0,
            "ticks": ""
           }
          },
          "colorscale": {
           "diverging": [
            [
             0,
             "#8e0152"
            ],
            [
             0.1,
             "#c51b7d"
            ],
            [
             0.2,
             "#de77ae"
            ],
            [
             0.3,
             "#f1b6da"
            ],
            [
             0.4,
             "#fde0ef"
            ],
            [
             0.5,
             "#f7f7f7"
            ],
            [
             0.6,
             "#e6f5d0"
            ],
            [
             0.7,
             "#b8e186"
            ],
            [
             0.8,
             "#7fbc41"
            ],
            [
             0.9,
             "#4d9221"
            ],
            [
             1,
             "#276419"
            ]
           ],
           "sequential": [
            [
             0,
             "#0d0887"
            ],
            [
             0.1111111111111111,
             "#46039f"
            ],
            [
             0.2222222222222222,
             "#7201a8"
            ],
            [
             0.3333333333333333,
             "#9c179e"
            ],
            [
             0.4444444444444444,
             "#bd3786"
            ],
            [
             0.5555555555555556,
             "#d8576b"
            ],
            [
             0.6666666666666666,
             "#ed7953"
            ],
            [
             0.7777777777777778,
             "#fb9f3a"
            ],
            [
             0.8888888888888888,
             "#fdca26"
            ],
            [
             1,
             "#f0f921"
            ]
           ],
           "sequentialminus": [
            [
             0,
             "#0d0887"
            ],
            [
             0.1111111111111111,
             "#46039f"
            ],
            [
             0.2222222222222222,
             "#7201a8"
            ],
            [
             0.3333333333333333,
             "#9c179e"
            ],
            [
             0.4444444444444444,
             "#bd3786"
            ],
            [
             0.5555555555555556,
             "#d8576b"
            ],
            [
             0.6666666666666666,
             "#ed7953"
            ],
            [
             0.7777777777777778,
             "#fb9f3a"
            ],
            [
             0.8888888888888888,
             "#fdca26"
            ],
            [
             1,
             "#f0f921"
            ]
           ]
          },
          "colorway": [
           "#636efa",
           "#EF553B",
           "#00cc96",
           "#ab63fa",
           "#FFA15A",
           "#19d3f3",
           "#FF6692",
           "#B6E880",
           "#FF97FF",
           "#FECB52"
          ],
          "font": {
           "color": "#2a3f5f"
          },
          "geo": {
           "bgcolor": "white",
           "lakecolor": "white",
           "landcolor": "#E5ECF6",
           "showlakes": true,
           "showland": true,
           "subunitcolor": "white"
          },
          "hoverlabel": {
           "align": "left"
          },
          "hovermode": "closest",
          "mapbox": {
           "style": "light"
          },
          "paper_bgcolor": "white",
          "plot_bgcolor": "#E5ECF6",
          "polar": {
           "angularaxis": {
            "gridcolor": "white",
            "linecolor": "white",
            "ticks": ""
           },
           "bgcolor": "#E5ECF6",
           "radialaxis": {
            "gridcolor": "white",
            "linecolor": "white",
            "ticks": ""
           }
          },
          "scene": {
           "xaxis": {
            "backgroundcolor": "#E5ECF6",
            "gridcolor": "white",
            "gridwidth": 2,
            "linecolor": "white",
            "showbackground": true,
            "ticks": "",
            "zerolinecolor": "white"
           },
           "yaxis": {
            "backgroundcolor": "#E5ECF6",
            "gridcolor": "white",
            "gridwidth": 2,
            "linecolor": "white",
            "showbackground": true,
            "ticks": "",
            "zerolinecolor": "white"
           },
           "zaxis": {
            "backgroundcolor": "#E5ECF6",
            "gridcolor": "white",
            "gridwidth": 2,
            "linecolor": "white",
            "showbackground": true,
            "ticks": "",
            "zerolinecolor": "white"
           }
          },
          "shapedefaults": {
           "line": {
            "color": "#2a3f5f"
           }
          },
          "ternary": {
           "aaxis": {
            "gridcolor": "white",
            "linecolor": "white",
            "ticks": ""
           },
           "baxis": {
            "gridcolor": "white",
            "linecolor": "white",
            "ticks": ""
           },
           "bgcolor": "#E5ECF6",
           "caxis": {
            "gridcolor": "white",
            "linecolor": "white",
            "ticks": ""
           }
          },
          "title": {
           "x": 0.05
          },
          "xaxis": {
           "automargin": true,
           "gridcolor": "white",
           "linecolor": "white",
           "ticks": "",
           "title": {
            "standoff": 15
           },
           "zerolinecolor": "white",
           "zerolinewidth": 2
          },
          "yaxis": {
           "automargin": true,
           "gridcolor": "white",
           "linecolor": "white",
           "ticks": "",
           "title": {
            "standoff": 15
           },
           "zerolinecolor": "white",
           "zerolinewidth": 2
          }
         }
        },
        "title": {
         "text": "Cumulative Multi-year Probability of Default"
        },
        "width": 600,
        "xaxis": {
         "anchor": "y",
         "domain": [
          0,
          1
         ],
         "title": {
          "text": "Years"
         }
        },
        "yaxis": {
         "anchor": "x",
         "domain": [
          0,
          1
         ],
         "title": {
          "text": "Cumulative Multi-year Probability of Default"
         }
        }
       }
      }
     },
     "metadata": {},
     "output_type": "display_data"
    }
   ],
   "source": [
    "# Creating a plot of MPD using plotly.express\n",
    "import plotly.express as px\n",
    "\n",
    "\n",
    "df = pd.DataFrame(MPD)\n",
    "\n",
    "fig = px.line(df)\n",
    "fig.update_layout(title='Cumulative Multi-year Probability of Default', autosize=False,\n",
    "                  width=600, height=600,\n",
    "                  margin=dict(l=65, r=50, t=90),\n",
    "                  xaxis_title=\"Years\",\n",
    "                  yaxis_title=\"Cumulative Multi-year Probability of Default\")\n",
    "\n",
    "fig.update_traces(mode='markers+lines')\n",
    "fig.show()"
   ]
  },
  {
   "cell_type": "markdown",
   "metadata": {},
   "source": [
    "A further step that can be taken is the calculation the Marginal Probabilities of Default using the Cumulative multi-year PDs (MPD) obtained before. This will allow, and also simplify, the calculation of Conditional Probabilities of Default."
   ]
  },
  {
   "cell_type": "code",
   "execution_count": 18,
   "metadata": {},
   "outputs": [
    {
     "data": {
      "text/html": [
       "<style type=\"text/css\">\n",
       "#T_beca3_row0_col0, #T_beca3_row0_col1, #T_beca3_row0_col2, #T_beca3_row0_col3, #T_beca3_row0_col4, #T_beca3_row9_col5, #T_beca3_row9_col6 {\n",
       "  background-color: #f0f0f3;\n",
       "  color: #000000;\n",
       "}\n",
       "#T_beca3_row0_col5 {\n",
       "  background-color: #9595f7;\n",
       "  color: #f1f1f1;\n",
       "}\n",
       "#T_beca3_row0_col6, #T_beca3_row2_col5, #T_beca3_row5_col4, #T_beca3_row9_col0, #T_beca3_row9_col1, #T_beca3_row9_col2, #T_beca3_row9_col3 {\n",
       "  background-color: #0000ff;\n",
       "  color: #f1f1f1;\n",
       "}\n",
       "#T_beca3_row1_col0 {\n",
       "  background-color: #ccccf5;\n",
       "  color: #000000;\n",
       "}\n",
       "#T_beca3_row1_col1 {\n",
       "  background-color: #d9d9f4;\n",
       "  color: #000000;\n",
       "}\n",
       "#T_beca3_row1_col2 {\n",
       "  background-color: #d2d2f4;\n",
       "  color: #000000;\n",
       "}\n",
       "#T_beca3_row1_col3, #T_beca3_row8_col5 {\n",
       "  background-color: #c5c5f5;\n",
       "  color: #000000;\n",
       "}\n",
       "#T_beca3_row1_col4 {\n",
       "  background-color: #9a9af7;\n",
       "  color: #f1f1f1;\n",
       "}\n",
       "#T_beca3_row1_col5 {\n",
       "  background-color: #2121fd;\n",
       "  color: #f1f1f1;\n",
       "}\n",
       "#T_beca3_row1_col6 {\n",
       "  background-color: #3a3afc;\n",
       "  color: #f1f1f1;\n",
       "}\n",
       "#T_beca3_row2_col0 {\n",
       "  background-color: #adadf6;\n",
       "  color: #000000;\n",
       "}\n",
       "#T_beca3_row2_col1 {\n",
       "  background-color: #bfbff5;\n",
       "  color: #000000;\n",
       "}\n",
       "#T_beca3_row2_col2 {\n",
       "  background-color: #b4b4f6;\n",
       "  color: #000000;\n",
       "}\n",
       "#T_beca3_row2_col3 {\n",
       "  background-color: #9e9ef7;\n",
       "  color: #f1f1f1;\n",
       "}\n",
       "#T_beca3_row2_col4 {\n",
       "  background-color: #5656fb;\n",
       "  color: #f1f1f1;\n",
       "}\n",
       "#T_beca3_row2_col6 {\n",
       "  background-color: #7171f9;\n",
       "  color: #f1f1f1;\n",
       "}\n",
       "#T_beca3_row3_col0 {\n",
       "  background-color: #8f8ff8;\n",
       "  color: #f1f1f1;\n",
       "}\n",
       "#T_beca3_row3_col1 {\n",
       "  background-color: #a6a6f7;\n",
       "  color: #000000;\n",
       "}\n",
       "#T_beca3_row3_col2 {\n",
       "  background-color: #9797f7;\n",
       "  color: #f1f1f1;\n",
       "}\n",
       "#T_beca3_row3_col3 {\n",
       "  background-color: #7c7cf9;\n",
       "  color: #f1f1f1;\n",
       "}\n",
       "#T_beca3_row3_col4 {\n",
       "  background-color: #2727fd;\n",
       "  color: #f1f1f1;\n",
       "}\n",
       "#T_beca3_row3_col5 {\n",
       "  background-color: #0606ff;\n",
       "  color: #f1f1f1;\n",
       "}\n",
       "#T_beca3_row3_col6 {\n",
       "  background-color: #9c9cf7;\n",
       "  color: #f1f1f1;\n",
       "}\n",
       "#T_beca3_row4_col0 {\n",
       "  background-color: #7575f9;\n",
       "  color: #f1f1f1;\n",
       "}\n",
       "#T_beca3_row4_col1 {\n",
       "  background-color: #8c8cf8;\n",
       "  color: #f1f1f1;\n",
       "}\n",
       "#T_beca3_row4_col2 {\n",
       "  background-color: #7b7bf9;\n",
       "  color: #f1f1f1;\n",
       "}\n",
       "#T_beca3_row4_col3 {\n",
       "  background-color: #5e5efa;\n",
       "  color: #f1f1f1;\n",
       "}\n",
       "#T_beca3_row4_col4 {\n",
       "  background-color: #0a0afe;\n",
       "  color: #f1f1f1;\n",
       "}\n",
       "#T_beca3_row4_col5 {\n",
       "  background-color: #2020fd;\n",
       "  color: #f1f1f1;\n",
       "}\n",
       "#T_beca3_row4_col6 {\n",
       "  background-color: #babaf6;\n",
       "  color: #000000;\n",
       "}\n",
       "#T_beca3_row5_col0 {\n",
       "  background-color: #5c5cfa;\n",
       "  color: #f1f1f1;\n",
       "}\n",
       "#T_beca3_row5_col1 {\n",
       "  background-color: #7070f9;\n",
       "  color: #f1f1f1;\n",
       "}\n",
       "#T_beca3_row5_col2 {\n",
       "  background-color: #5f5ffa;\n",
       "  color: #f1f1f1;\n",
       "}\n",
       "#T_beca3_row5_col3, #T_beca3_row5_col5, #T_beca3_row6_col0, #T_beca3_row9_col4 {\n",
       "  background-color: #4444fc;\n",
       "  color: #f1f1f1;\n",
       "}\n",
       "#T_beca3_row5_col6 {\n",
       "  background-color: #cecef5;\n",
       "  color: #000000;\n",
       "}\n",
       "#T_beca3_row6_col1 {\n",
       "  background-color: #5555fb;\n",
       "  color: #f1f1f1;\n",
       "}\n",
       "#T_beca3_row6_col2 {\n",
       "  background-color: #4646fb;\n",
       "  color: #f1f1f1;\n",
       "}\n",
       "#T_beca3_row6_col3 {\n",
       "  background-color: #2d2dfd;\n",
       "  color: #f1f1f1;\n",
       "}\n",
       "#T_beca3_row6_col4 {\n",
       "  background-color: #0202ff;\n",
       "  color: #f1f1f1;\n",
       "}\n",
       "#T_beca3_row6_col5 {\n",
       "  background-color: #6d6df9;\n",
       "  color: #f1f1f1;\n",
       "}\n",
       "#T_beca3_row6_col6 {\n",
       "  background-color: #dbdbf4;\n",
       "  color: #000000;\n",
       "}\n",
       "#T_beca3_row7_col0, #T_beca3_row7_col2 {\n",
       "  background-color: #2c2cfd;\n",
       "  color: #f1f1f1;\n",
       "}\n",
       "#T_beca3_row7_col1 {\n",
       "  background-color: #3939fc;\n",
       "  color: #f1f1f1;\n",
       "}\n",
       "#T_beca3_row7_col3 {\n",
       "  background-color: #1a1afe;\n",
       "  color: #f1f1f1;\n",
       "}\n",
       "#T_beca3_row7_col4 {\n",
       "  background-color: #0f0ffe;\n",
       "  color: #f1f1f1;\n",
       "}\n",
       "#T_beca3_row7_col5 {\n",
       "  background-color: #9999f7;\n",
       "  color: #f1f1f1;\n",
       "}\n",
       "#T_beca3_row7_col6 {\n",
       "  background-color: #e4e4f3;\n",
       "  color: #000000;\n",
       "}\n",
       "#T_beca3_row8_col0, #T_beca3_row8_col2 {\n",
       "  background-color: #1616fe;\n",
       "  color: #f1f1f1;\n",
       "}\n",
       "#T_beca3_row8_col1 {\n",
       "  background-color: #1c1cfe;\n",
       "  color: #f1f1f1;\n",
       "}\n",
       "#T_beca3_row8_col3 {\n",
       "  background-color: #0b0bfe;\n",
       "  color: #f1f1f1;\n",
       "}\n",
       "#T_beca3_row8_col4 {\n",
       "  background-color: #2626fd;\n",
       "  color: #f1f1f1;\n",
       "}\n",
       "#T_beca3_row8_col6 {\n",
       "  background-color: #ebebf3;\n",
       "  color: #000000;\n",
       "}\n",
       "</style>\n",
       "<table id=\"T_beca3\">\n",
       "  <thead>\n",
       "    <tr>\n",
       "      <th class=\"blank level0\" >&nbsp;</th>\n",
       "      <th id=\"T_beca3_level0_col0\" class=\"col_heading level0 col0\" >AAA</th>\n",
       "      <th id=\"T_beca3_level0_col1\" class=\"col_heading level0 col1\" >AA</th>\n",
       "      <th id=\"T_beca3_level0_col2\" class=\"col_heading level0 col2\" >A</th>\n",
       "      <th id=\"T_beca3_level0_col3\" class=\"col_heading level0 col3\" >BBB</th>\n",
       "      <th id=\"T_beca3_level0_col4\" class=\"col_heading level0 col4\" >BB</th>\n",
       "      <th id=\"T_beca3_level0_col5\" class=\"col_heading level0 col5\" >B</th>\n",
       "      <th id=\"T_beca3_level0_col6\" class=\"col_heading level0 col6\" >CCC</th>\n",
       "    </tr>\n",
       "  </thead>\n",
       "  <tbody>\n",
       "    <tr>\n",
       "      <th id=\"T_beca3_level0_row0\" class=\"row_heading level0 row0\" >1-year Default</th>\n",
       "      <td id=\"T_beca3_row0_col0\" class=\"data row0 col0\" >3.11%</td>\n",
       "      <td id=\"T_beca3_row0_col1\" class=\"data row0 col1\" >3.88%</td>\n",
       "      <td id=\"T_beca3_row0_col2\" class=\"data row0 col2\" >4.26%</td>\n",
       "      <td id=\"T_beca3_row0_col3\" class=\"data row0 col3\" >5.97%</td>\n",
       "      <td id=\"T_beca3_row0_col4\" class=\"data row0 col4\" >10.08%</td>\n",
       "      <td id=\"T_beca3_row0_col5\" class=\"data row0 col5\" >15.64%</td>\n",
       "      <td id=\"T_beca3_row0_col6\" class=\"data row0 col6\" >40.85%</td>\n",
       "    </tr>\n",
       "    <tr>\n",
       "      <th id=\"T_beca3_level0_row1\" class=\"row_heading level0 row1\" >2-year Default</th>\n",
       "      <td id=\"T_beca3_row1_col0\" class=\"data row1 col0\" >3.22%</td>\n",
       "      <td id=\"T_beca3_row1_col1\" class=\"data row1 col1\" >3.93%</td>\n",
       "      <td id=\"T_beca3_row1_col2\" class=\"data row1 col2\" >4.37%</td>\n",
       "      <td id=\"T_beca3_row1_col3\" class=\"data row1 col3\" >6.13%</td>\n",
       "      <td id=\"T_beca3_row1_col4\" class=\"data row1 col4\" >10.45%</td>\n",
       "      <td id=\"T_beca3_row1_col5\" class=\"data row1 col5\" >16.75%</td>\n",
       "      <td id=\"T_beca3_row1_col6\" class=\"data row1 col6\" >34.63%</td>\n",
       "    </tr>\n",
       "    <tr>\n",
       "      <th id=\"T_beca3_level0_row2\" class=\"row_heading level0 row2\" >3-year Default</th>\n",
       "      <td id=\"T_beca3_row2_col0\" class=\"data row2 col0\" >3.31%</td>\n",
       "      <td id=\"T_beca3_row2_col1\" class=\"data row2 col1\" >3.99%</td>\n",
       "      <td id=\"T_beca3_row2_col2\" class=\"data row2 col2\" >4.48%</td>\n",
       "      <td id=\"T_beca3_row2_col3\" class=\"data row2 col3\" >6.28%</td>\n",
       "      <td id=\"T_beca3_row2_col4\" class=\"data row2 col4\" >10.74%</td>\n",
       "      <td id=\"T_beca3_row2_col5\" class=\"data row2 col5\" >17.08%</td>\n",
       "      <td id=\"T_beca3_row2_col6\" class=\"data row2 col6\" >28.85%</td>\n",
       "    </tr>\n",
       "    <tr>\n",
       "      <th id=\"T_beca3_level0_row3\" class=\"row_heading level0 row3\" >4-year Default</th>\n",
       "      <td id=\"T_beca3_row3_col0\" class=\"data row3 col0\" >3.40%</td>\n",
       "      <td id=\"T_beca3_row3_col1\" class=\"data row3 col1\" >4.05%</td>\n",
       "      <td id=\"T_beca3_row3_col2\" class=\"data row3 col2\" >4.59%</td>\n",
       "      <td id=\"T_beca3_row3_col3\" class=\"data row3 col3\" >6.41%</td>\n",
       "      <td id=\"T_beca3_row3_col4\" class=\"data row3 col4\" >10.94%</td>\n",
       "      <td id=\"T_beca3_row3_col5\" class=\"data row3 col5\" >17.02%</td>\n",
       "      <td id=\"T_beca3_row3_col6\" class=\"data row3 col6\" >24.31%</td>\n",
       "    </tr>\n",
       "    <tr>\n",
       "      <th id=\"T_beca3_level0_row4\" class=\"row_heading level0 row4\" >5-year Default</th>\n",
       "      <td id=\"T_beca3_row4_col0\" class=\"data row4 col0\" >3.48%</td>\n",
       "      <td id=\"T_beca3_row4_col1\" class=\"data row4 col1\" >4.11%</td>\n",
       "      <td id=\"T_beca3_row4_col2\" class=\"data row4 col2\" >4.69%</td>\n",
       "      <td id=\"T_beca3_row4_col3\" class=\"data row4 col3\" >6.52%</td>\n",
       "      <td id=\"T_beca3_row4_col4\" class=\"data row4 col4\" >11.06%</td>\n",
       "      <td id=\"T_beca3_row4_col5\" class=\"data row4 col5\" >16.77%</td>\n",
       "      <td id=\"T_beca3_row4_col6\" class=\"data row4 col6\" >21.13%</td>\n",
       "    </tr>\n",
       "    <tr>\n",
       "      <th id=\"T_beca3_level0_row5\" class=\"row_heading level0 row5\" >6-year Default</th>\n",
       "      <td id=\"T_beca3_row5_col0\" class=\"data row5 col0\" >3.55%</td>\n",
       "      <td id=\"T_beca3_row5_col1\" class=\"data row5 col1\" >4.17%</td>\n",
       "      <td id=\"T_beca3_row5_col2\" class=\"data row5 col2\" >4.79%</td>\n",
       "      <td id=\"T_beca3_row5_col3\" class=\"data row5 col3\" >6.62%</td>\n",
       "      <td id=\"T_beca3_row5_col4\" class=\"data row5 col4\" >11.11%</td>\n",
       "      <td id=\"T_beca3_row5_col5\" class=\"data row5 col5\" >16.42%</td>\n",
       "      <td id=\"T_beca3_row5_col6\" class=\"data row5 col6\" >19.02%</td>\n",
       "    </tr>\n",
       "    <tr>\n",
       "      <th id=\"T_beca3_level0_row6\" class=\"row_heading level0 row6\" >7-year Default</th>\n",
       "      <td id=\"T_beca3_row6_col0\" class=\"data row6 col0\" >3.63%</td>\n",
       "      <td id=\"T_beca3_row6_col1\" class=\"data row6 col1\" >4.23%</td>\n",
       "      <td id=\"T_beca3_row6_col2\" class=\"data row6 col2\" >4.88%</td>\n",
       "      <td id=\"T_beca3_row6_col3\" class=\"data row6 col3\" >6.70%</td>\n",
       "      <td id=\"T_beca3_row6_col4\" class=\"data row6 col4\" >11.10%</td>\n",
       "      <td id=\"T_beca3_row6_col5\" class=\"data row6 col5\" >16.02%</td>\n",
       "      <td id=\"T_beca3_row6_col6\" class=\"data row6 col6\" >17.61%</td>\n",
       "    </tr>\n",
       "    <tr>\n",
       "      <th id=\"T_beca3_level0_row7\" class=\"row_heading level0 row7\" >8-year Default</th>\n",
       "      <td id=\"T_beca3_row7_col0\" class=\"data row7 col0\" >3.70%</td>\n",
       "      <td id=\"T_beca3_row7_col1\" class=\"data row7 col1\" >4.29%</td>\n",
       "      <td id=\"T_beca3_row7_col2\" class=\"data row7 col2\" >4.97%</td>\n",
       "      <td id=\"T_beca3_row7_col3\" class=\"data row7 col3\" >6.77%</td>\n",
       "      <td id=\"T_beca3_row7_col4\" class=\"data row7 col4\" >11.04%</td>\n",
       "      <td id=\"T_beca3_row7_col5\" class=\"data row7 col5\" >15.60%</td>\n",
       "      <td id=\"T_beca3_row7_col6\" class=\"data row7 col6\" >16.63%</td>\n",
       "    </tr>\n",
       "    <tr>\n",
       "      <th id=\"T_beca3_level0_row8\" class=\"row_heading level0 row8\" >9-year Default</th>\n",
       "      <td id=\"T_beca3_row8_col0\" class=\"data row8 col0\" >3.76%</td>\n",
       "      <td id=\"T_beca3_row8_col1\" class=\"data row8 col1\" >4.36%</td>\n",
       "      <td id=\"T_beca3_row8_col2\" class=\"data row8 col2\" >5.05%</td>\n",
       "      <td id=\"T_beca3_row8_col3\" class=\"data row8 col3\" >6.83%</td>\n",
       "      <td id=\"T_beca3_row8_col4\" class=\"data row8 col4\" >10.94%</td>\n",
       "      <td id=\"T_beca3_row8_col5\" class=\"data row8 col5\" >15.17%</td>\n",
       "      <td id=\"T_beca3_row8_col6\" class=\"data row8 col6\" >15.89%</td>\n",
       "    </tr>\n",
       "    <tr>\n",
       "      <th id=\"T_beca3_level0_row9\" class=\"row_heading level0 row9\" >10-year Default</th>\n",
       "      <td id=\"T_beca3_row9_col0\" class=\"data row9 col0\" >3.83%</td>\n",
       "      <td id=\"T_beca3_row9_col1\" class=\"data row9 col1\" >4.42%</td>\n",
       "      <td id=\"T_beca3_row9_col2\" class=\"data row9 col2\" >5.13%</td>\n",
       "      <td id=\"T_beca3_row9_col3\" class=\"data row9 col3\" >6.88%</td>\n",
       "      <td id=\"T_beca3_row9_col4\" class=\"data row9 col4\" >10.82%</td>\n",
       "      <td id=\"T_beca3_row9_col5\" class=\"data row9 col5\" >14.75%</td>\n",
       "      <td id=\"T_beca3_row9_col6\" class=\"data row9 col6\" >15.29%</td>\n",
       "    </tr>\n",
       "  </tbody>\n",
       "</table>\n"
      ],
      "text/plain": [
       "<pandas.io.formats.style.Styler at 0x1efed249190>"
      ]
     },
     "execution_count": 18,
     "metadata": {},
     "output_type": "execute_result"
    }
   ],
   "source": [
    "# Calculation of the Marginal Probabilities of Deafult,\n",
    "    # using Cumulative Multi-year PDs obtained before\n",
    "\n",
    "# This will allow,and also simplify,\n",
    "    # the calculation of Conditional Probabilities of Default\n",
    "\n",
    "PDMU = pd.DataFrame(MPD.iloc[1:].values - MPD.iloc[:-1].values, columns= MPD.columns)\n",
    "\n",
    "# Through-The-Cycle Conditional PDs\n",
    "x = 1 - MPD.iloc[:-1].values \n",
    "SPD  = pd.DataFrame(PDMU/x, columns=MPD.columns)\n",
    "SPD = SPD.set_index(MPD.index[1:])\n",
    "SPD.style.format(\"{:.2%}\") \n",
    "SPD.loc['1-year Default'] = MPD.iloc[0,:].to_list() \n",
    "\n",
    "SPD.reindex(MPD.index).style.background_gradient(cmap=cm).format(\"{:.2%}\")"
   ]
  },
  {
   "cell_type": "code",
   "execution_count": 19,
   "metadata": {},
   "outputs": [],
   "source": [
    "# Saving the Data Frame for further creation of PIT-PD model. Saved as csv \n",
    "SPD.to_csv('cond.csv')"
   ]
  },
  {
   "cell_type": "code",
   "execution_count": 20,
   "metadata": {},
   "outputs": [
    {
     "data": {
      "text/html": [
       "<style type=\"text/css\">\n",
       "#T_11032_row0_col0 {\n",
       "  background-color: #0707ff;\n",
       "  color: #f1f1f1;\n",
       "}\n",
       "#T_11032_row0_col1, #T_11032_row0_col2, #T_11032_row0_col3, #T_11032_row0_col4, #T_11032_row0_col5, #T_11032_row0_col6, #T_11032_row1_col0 {\n",
       "  background-color: #0000ff;\n",
       "  color: #f1f1f1;\n",
       "}\n",
       "#T_11032_row1_col1, #T_11032_row3_col0 {\n",
       "  background-color: #1b1bfe;\n",
       "  color: #f1f1f1;\n",
       "}\n",
       "#T_11032_row1_col2 {\n",
       "  background-color: #1313fe;\n",
       "  color: #f1f1f1;\n",
       "}\n",
       "#T_11032_row1_col3 {\n",
       "  background-color: #1616fe;\n",
       "  color: #f1f1f1;\n",
       "}\n",
       "#T_11032_row1_col4 {\n",
       "  background-color: #1a1afe;\n",
       "  color: #f1f1f1;\n",
       "}\n",
       "#T_11032_row1_col5 {\n",
       "  background-color: #1c1cfe;\n",
       "  color: #f1f1f1;\n",
       "}\n",
       "#T_11032_row1_col6 {\n",
       "  background-color: #7c7cf9;\n",
       "  color: #f1f1f1;\n",
       "}\n",
       "#T_11032_row2_col0 {\n",
       "  background-color: #0808ff;\n",
       "  color: #f1f1f1;\n",
       "}\n",
       "#T_11032_row2_col1, #T_11032_row2_col4 {\n",
       "  background-color: #3737fc;\n",
       "  color: #f1f1f1;\n",
       "}\n",
       "#T_11032_row2_col2 {\n",
       "  background-color: #2929fd;\n",
       "  color: #f1f1f1;\n",
       "}\n",
       "#T_11032_row2_col3 {\n",
       "  background-color: #2e2efd;\n",
       "  color: #f1f1f1;\n",
       "}\n",
       "#T_11032_row2_col5 {\n",
       "  background-color: #4545fb;\n",
       "  color: #f1f1f1;\n",
       "}\n",
       "#T_11032_row2_col6 {\n",
       "  background-color: #b4b4f6;\n",
       "  color: #000000;\n",
       "}\n",
       "#T_11032_row3_col1 {\n",
       "  background-color: #5252fb;\n",
       "  color: #f1f1f1;\n",
       "}\n",
       "#T_11032_row3_col2 {\n",
       "  background-color: #4040fc;\n",
       "  color: #f1f1f1;\n",
       "}\n",
       "#T_11032_row3_col3 {\n",
       "  background-color: #4949fb;\n",
       "  color: #f1f1f1;\n",
       "}\n",
       "#T_11032_row3_col4 {\n",
       "  background-color: #5656fb;\n",
       "  color: #f1f1f1;\n",
       "}\n",
       "#T_11032_row3_col5 {\n",
       "  background-color: #6c6cf9;\n",
       "  color: #f1f1f1;\n",
       "}\n",
       "#T_11032_row3_col6 {\n",
       "  background-color: #cfcff4;\n",
       "  color: #000000;\n",
       "}\n",
       "#T_11032_row4_col0 {\n",
       "  background-color: #3535fc;\n",
       "  color: #f1f1f1;\n",
       "}\n",
       "#T_11032_row4_col1 {\n",
       "  background-color: #6d6df9;\n",
       "  color: #f1f1f1;\n",
       "}\n",
       "#T_11032_row4_col2 {\n",
       "  background-color: #5b5bfa;\n",
       "  color: #f1f1f1;\n",
       "}\n",
       "#T_11032_row4_col3 {\n",
       "  background-color: #6565fa;\n",
       "  color: #f1f1f1;\n",
       "}\n",
       "#T_11032_row4_col4 {\n",
       "  background-color: #7474f9;\n",
       "  color: #f1f1f1;\n",
       "}\n",
       "#T_11032_row4_col5 {\n",
       "  background-color: #8f8ff8;\n",
       "  color: #f1f1f1;\n",
       "}\n",
       "#T_11032_row4_col6 {\n",
       "  background-color: #dedef4;\n",
       "  color: #000000;\n",
       "}\n",
       "#T_11032_row5_col0 {\n",
       "  background-color: #5454fb;\n",
       "  color: #f1f1f1;\n",
       "}\n",
       "#T_11032_row5_col1 {\n",
       "  background-color: #8888f8;\n",
       "  color: #f1f1f1;\n",
       "}\n",
       "#T_11032_row5_col2 {\n",
       "  background-color: #7676f9;\n",
       "  color: #f1f1f1;\n",
       "}\n",
       "#T_11032_row5_col3 {\n",
       "  background-color: #8080f8;\n",
       "  color: #f1f1f1;\n",
       "}\n",
       "#T_11032_row5_col4 {\n",
       "  background-color: #9191f8;\n",
       "  color: #f1f1f1;\n",
       "}\n",
       "#T_11032_row5_col5 {\n",
       "  background-color: #acacf6;\n",
       "  color: #000000;\n",
       "}\n",
       "#T_11032_row5_col6, #T_11032_row8_col5 {\n",
       "  background-color: #e5e5f3;\n",
       "  color: #000000;\n",
       "}\n",
       "#T_11032_row6_col0 {\n",
       "  background-color: #7777f9;\n",
       "  color: #f1f1f1;\n",
       "}\n",
       "#T_11032_row6_col1 {\n",
       "  background-color: #a2a2f7;\n",
       "  color: #f1f1f1;\n",
       "}\n",
       "#T_11032_row6_col2 {\n",
       "  background-color: #9393f8;\n",
       "  color: #f1f1f1;\n",
       "}\n",
       "#T_11032_row6_col3, #T_11032_row7_col0 {\n",
       "  background-color: #9d9df7;\n",
       "  color: #f1f1f1;\n",
       "}\n",
       "#T_11032_row6_col4 {\n",
       "  background-color: #adadf6;\n",
       "  color: #000000;\n",
       "}\n",
       "#T_11032_row6_col5 {\n",
       "  background-color: #c3c3f5;\n",
       "  color: #000000;\n",
       "}\n",
       "#T_11032_row6_col6 {\n",
       "  background-color: #eaeaf3;\n",
       "  color: #000000;\n",
       "}\n",
       "#T_11032_row7_col1 {\n",
       "  background-color: #bdbdf5;\n",
       "  color: #000000;\n",
       "}\n",
       "#T_11032_row7_col2 {\n",
       "  background-color: #b1b1f6;\n",
       "  color: #000000;\n",
       "}\n",
       "#T_11032_row7_col3 {\n",
       "  background-color: #babaf6;\n",
       "  color: #000000;\n",
       "}\n",
       "#T_11032_row7_col4, #T_11032_row8_col0 {\n",
       "  background-color: #c6c6f5;\n",
       "  color: #000000;\n",
       "}\n",
       "#T_11032_row7_col5, #T_11032_row8_col3 {\n",
       "  background-color: #d6d6f4;\n",
       "  color: #000000;\n",
       "}\n",
       "#T_11032_row7_col6 {\n",
       "  background-color: #ededf3;\n",
       "  color: #000000;\n",
       "}\n",
       "#T_11032_row8_col1 {\n",
       "  background-color: #d7d7f4;\n",
       "  color: #000000;\n",
       "}\n",
       "#T_11032_row8_col2 {\n",
       "  background-color: #d0d0f4;\n",
       "  color: #000000;\n",
       "}\n",
       "#T_11032_row8_col4 {\n",
       "  background-color: #ddddf4;\n",
       "  color: #000000;\n",
       "}\n",
       "#T_11032_row8_col6 {\n",
       "  background-color: #efeff3;\n",
       "  color: #000000;\n",
       "}\n",
       "#T_11032_row9_col0, #T_11032_row9_col1, #T_11032_row9_col2, #T_11032_row9_col3, #T_11032_row9_col4, #T_11032_row9_col5, #T_11032_row9_col6 {\n",
       "  background-color: #f0f0f3;\n",
       "  color: #000000;\n",
       "}\n",
       "</style>\n",
       "<table id=\"T_11032\">\n",
       "  <thead>\n",
       "    <tr>\n",
       "      <th class=\"blank level0\" >&nbsp;</th>\n",
       "      <th id=\"T_11032_level0_col0\" class=\"col_heading level0 col0\" >AAA</th>\n",
       "      <th id=\"T_11032_level0_col1\" class=\"col_heading level0 col1\" >AA</th>\n",
       "      <th id=\"T_11032_level0_col2\" class=\"col_heading level0 col2\" >A</th>\n",
       "      <th id=\"T_11032_level0_col3\" class=\"col_heading level0 col3\" >BBB</th>\n",
       "      <th id=\"T_11032_level0_col4\" class=\"col_heading level0 col4\" >BB</th>\n",
       "      <th id=\"T_11032_level0_col5\" class=\"col_heading level0 col5\" >B</th>\n",
       "      <th id=\"T_11032_level0_col6\" class=\"col_heading level0 col6\" >CCC</th>\n",
       "    </tr>\n",
       "  </thead>\n",
       "  <tbody>\n",
       "    <tr>\n",
       "      <th id=\"T_11032_level0_row0\" class=\"row_heading level0 row0\" >1-year Default</th>\n",
       "      <td id=\"T_11032_row0_col0\" class=\"data row0 col0\" >3.11%</td>\n",
       "      <td id=\"T_11032_row0_col1\" class=\"data row0 col1\" >3.88%</td>\n",
       "      <td id=\"T_11032_row0_col2\" class=\"data row0 col2\" >4.26%</td>\n",
       "      <td id=\"T_11032_row0_col3\" class=\"data row0 col3\" >5.97%</td>\n",
       "      <td id=\"T_11032_row0_col4\" class=\"data row0 col4\" >10.08%</td>\n",
       "      <td id=\"T_11032_row0_col5\" class=\"data row0 col5\" >15.64%</td>\n",
       "      <td id=\"T_11032_row0_col6\" class=\"data row0 col6\" >40.85%</td>\n",
       "    </tr>\n",
       "    <tr>\n",
       "      <th id=\"T_11032_level0_row1\" class=\"row_heading level0 row1\" >2-year Default</th>\n",
       "      <td id=\"T_11032_row1_col0\" class=\"data row1 col0\" >3.12%</td>\n",
       "      <td id=\"T_11032_row1_col1\" class=\"data row1 col1\" >3.78%</td>\n",
       "      <td id=\"T_11032_row1_col2\" class=\"data row1 col2\" >4.19%</td>\n",
       "      <td id=\"T_11032_row1_col3\" class=\"data row1 col3\" >5.77%</td>\n",
       "      <td id=\"T_11032_row1_col4\" class=\"data row1 col4\" >9.40%</td>\n",
       "      <td id=\"T_11032_row1_col5\" class=\"data row1 col5\" >14.13%</td>\n",
       "      <td id=\"T_11032_row1_col6\" class=\"data row1 col6\" >20.48%</td>\n",
       "    </tr>\n",
       "    <tr>\n",
       "      <th id=\"T_11032_level0_row2\" class=\"row_heading level0 row2\" >3-year Default</th>\n",
       "      <td id=\"T_11032_row2_col0\" class=\"data row2 col0\" >3.11%</td>\n",
       "      <td id=\"T_11032_row2_col1\" class=\"data row2 col1\" >3.68%</td>\n",
       "      <td id=\"T_11032_row2_col2\" class=\"data row2 col2\" >4.10%</td>\n",
       "      <td id=\"T_11032_row2_col3\" class=\"data row2 col3\" >5.54%</td>\n",
       "      <td id=\"T_11032_row2_col4\" class=\"data row2 col4\" >8.65%</td>\n",
       "      <td id=\"T_11032_row2_col5\" class=\"data row2 col5\" >11.99%</td>\n",
       "      <td id=\"T_11032_row2_col6\" class=\"data row2 col6\" >11.16%</td>\n",
       "    </tr>\n",
       "    <tr>\n",
       "      <th id=\"T_11032_level0_row3\" class=\"row_heading level0 row3\" >4-year Default</th>\n",
       "      <td id=\"T_11032_row3_col0\" class=\"data row3 col0\" >3.08%</td>\n",
       "      <td id=\"T_11032_row3_col1\" class=\"data row3 col1\" >3.59%</td>\n",
       "      <td id=\"T_11032_row3_col2\" class=\"data row3 col2\" >4.01%</td>\n",
       "      <td id=\"T_11032_row3_col3\" class=\"data row3 col3\" >5.30%</td>\n",
       "      <td id=\"T_11032_row3_col4\" class=\"data row3 col4\" >7.86%</td>\n",
       "      <td id=\"T_11032_row3_col5\" class=\"data row3 col5\" >9.91%</td>\n",
       "      <td id=\"T_11032_row3_col6\" class=\"data row3 col6\" >6.69%</td>\n",
       "    </tr>\n",
       "    <tr>\n",
       "      <th id=\"T_11032_level0_row4\" class=\"row_heading level0 row4\" >5-year Default</th>\n",
       "      <td id=\"T_11032_row4_col0\" class=\"data row4 col0\" >3.05%</td>\n",
       "      <td id=\"T_11032_row4_col1\" class=\"data row4 col1\" >3.49%</td>\n",
       "      <td id=\"T_11032_row4_col2\" class=\"data row4 col2\" >3.91%</td>\n",
       "      <td id=\"T_11032_row4_col3\" class=\"data row4 col3\" >5.05%</td>\n",
       "      <td id=\"T_11032_row4_col4\" class=\"data row4 col4\" >7.08%</td>\n",
       "      <td id=\"T_11032_row4_col5\" class=\"data row4 col5\" >8.10%</td>\n",
       "      <td id=\"T_11032_row4_col6\" class=\"data row4 col6\" >4.40%</td>\n",
       "    </tr>\n",
       "    <tr>\n",
       "      <th id=\"T_11032_level0_row5\" class=\"row_heading level0 row5\" >6-year Default</th>\n",
       "      <td id=\"T_11032_row5_col0\" class=\"data row5 col0\" >3.00%</td>\n",
       "      <td id=\"T_11032_row5_col1\" class=\"data row5 col1\" >3.40%</td>\n",
       "      <td id=\"T_11032_row5_col2\" class=\"data row5 col2\" >3.81%</td>\n",
       "      <td id=\"T_11032_row5_col3\" class=\"data row5 col3\" >4.79%</td>\n",
       "      <td id=\"T_11032_row5_col4\" class=\"data row5 col4\" >6.32%</td>\n",
       "      <td id=\"T_11032_row5_col5\" class=\"data row5 col5\" >6.60%</td>\n",
       "      <td id=\"T_11032_row5_col6\" class=\"data row5 col6\" >3.12%</td>\n",
       "    </tr>\n",
       "    <tr>\n",
       "      <th id=\"T_11032_level0_row6\" class=\"row_heading level0 row6\" >7-year Default</th>\n",
       "      <td id=\"T_11032_row6_col0\" class=\"data row6 col0\" >2.96%</td>\n",
       "      <td id=\"T_11032_row6_col1\" class=\"data row6 col1\" >3.31%</td>\n",
       "      <td id=\"T_11032_row6_col2\" class=\"data row6 col2\" >3.69%</td>\n",
       "      <td id=\"T_11032_row6_col3\" class=\"data row6 col3\" >4.53%</td>\n",
       "      <td id=\"T_11032_row6_col4\" class=\"data row6 col4\" >5.62%</td>\n",
       "      <td id=\"T_11032_row6_col5\" class=\"data row6 col5\" >5.39%</td>\n",
       "      <td id=\"T_11032_row6_col6\" class=\"data row6 col6\" >2.34%</td>\n",
       "    </tr>\n",
       "    <tr>\n",
       "      <th id=\"T_11032_level0_row7\" class=\"row_heading level0 row7\" >8-year Default</th>\n",
       "      <td id=\"T_11032_row7_col0\" class=\"data row7 col0\" >2.90%</td>\n",
       "      <td id=\"T_11032_row7_col1\" class=\"data row7 col1\" >3.21%</td>\n",
       "      <td id=\"T_11032_row7_col2\" class=\"data row7 col2\" >3.58%</td>\n",
       "      <td id=\"T_11032_row7_col3\" class=\"data row7 col3\" >4.27%</td>\n",
       "      <td id=\"T_11032_row7_col4\" class=\"data row7 col4\" >4.97%</td>\n",
       "      <td id=\"T_11032_row7_col5\" class=\"data row7 col5\" >4.40%</td>\n",
       "      <td id=\"T_11032_row7_col6\" class=\"data row7 col6\" >1.82%</td>\n",
       "    </tr>\n",
       "    <tr>\n",
       "      <th id=\"T_11032_level0_row8\" class=\"row_heading level0 row8\" >9-year Default</th>\n",
       "      <td id=\"T_11032_row8_col0\" class=\"data row8 col0\" >2.85%</td>\n",
       "      <td id=\"T_11032_row8_col1\" class=\"data row8 col1\" >3.12%</td>\n",
       "      <td id=\"T_11032_row8_col2\" class=\"data row8 col2\" >3.46%</td>\n",
       "      <td id=\"T_11032_row8_col3\" class=\"data row8 col3\" >4.01%</td>\n",
       "      <td id=\"T_11032_row8_col4\" class=\"data row8 col4\" >4.38%</td>\n",
       "      <td id=\"T_11032_row8_col5\" class=\"data row8 col5\" >3.62%</td>\n",
       "      <td id=\"T_11032_row8_col6\" class=\"data row8 col6\" >1.45%</td>\n",
       "    </tr>\n",
       "    <tr>\n",
       "      <th id=\"T_11032_level0_row9\" class=\"row_heading level0 row9\" >10-year Default</th>\n",
       "      <td id=\"T_11032_row9_col0\" class=\"data row9 col0\" >2.79%</td>\n",
       "      <td id=\"T_11032_row9_col1\" class=\"data row9 col1\" >3.03%</td>\n",
       "      <td id=\"T_11032_row9_col2\" class=\"data row9 col2\" >3.33%</td>\n",
       "      <td id=\"T_11032_row9_col3\" class=\"data row9 col3\" >3.77%</td>\n",
       "      <td id=\"T_11032_row9_col4\" class=\"data row9 col4\" >3.86%</td>\n",
       "      <td id=\"T_11032_row9_col5\" class=\"data row9 col5\" >2.98%</td>\n",
       "      <td id=\"T_11032_row9_col6\" class=\"data row9 col6\" >1.17%</td>\n",
       "    </tr>\n",
       "  </tbody>\n",
       "</table>\n"
      ],
      "text/plain": [
       "<pandas.io.formats.style.Styler at 0x1efed485650>"
      ]
     },
     "execution_count": 20,
     "metadata": {},
     "output_type": "execute_result"
    }
   ],
   "source": [
    "PDMU = PDMU.set_index(MPD.index[1:])\n",
    "PDMU.style.format(\"{:.2%}\") \n",
    "PDMU.loc['1-year Default'] = MPD.iloc[0,:].to_list() \n",
    "\n",
    "# Through-The-Cycle Marginal PD\n",
    "PDMU.reindex(MPD.index).style.background_gradient(cmap=cm).format(\"{:.2%}\")\n"
   ]
  },
  {
   "cell_type": "code",
   "execution_count": 21,
   "metadata": {},
   "outputs": [
    {
     "data": {
      "application/vnd.plotly.v1+json": {
       "config": {
        "plotlyServerURL": "https://plot.ly"
       },
       "data": [
        {
         "hovertemplate": "variable=AAA<br>index=%{x}<br>value=%{y}<extra></extra>",
         "legendgroup": "AAA",
         "line": {
          "color": "#636efa",
          "dash": "solid"
         },
         "marker": {
          "symbol": "circle"
         },
         "mode": "markers+lines",
         "name": "AAA",
         "orientation": "v",
         "showlegend": true,
         "type": "scatter",
         "x": [
          "1-year Default",
          "2-year Default",
          "3-year Default",
          "4-year Default",
          "5-year Default",
          "6-year Default",
          "7-year Default",
          "8-year Default",
          "9-year Default",
          "10-year Default"
         ],
         "xaxis": "x",
         "y": [
          0.031100000000000128,
          0.03220118691299423,
          0.03314473948162572,
          0.033995629662687196,
          0.03478685569339556,
          0.03553659618149399,
          0.03625580371040268,
          0.03695162717747577,
          0.037629004548677895,
          0.038291446989069555
         ],
         "yaxis": "y"
        },
        {
         "hovertemplate": "variable=AA<br>index=%{x}<br>value=%{y}<extra></extra>",
         "legendgroup": "AA",
         "line": {
          "color": "#EF553B",
          "dash": "solid"
         },
         "marker": {
          "symbol": "circle"
         },
         "mode": "markers+lines",
         "name": "AA",
         "orientation": "v",
         "showlegend": true,
         "type": "scatter",
         "x": [
          "1-year Default",
          "2-year Default",
          "3-year Default",
          "4-year Default",
          "5-year Default",
          "6-year Default",
          "7-year Default",
          "8-year Default",
          "9-year Default",
          "10-year Default"
         ],
         "xaxis": "x",
         "y": [
          0.038799999999999946,
          0.039346993341656214,
          0.039901964929550574,
          0.040474414821298564,
          0.04106593764559939,
          0.041674645468845875,
          0.042297188273942896,
          0.042929699611534936,
          0.04356825314254461,
          0.04420908987002172
         ],
         "yaxis": "y"
        },
        {
         "hovertemplate": "variable=A<br>index=%{x}<br>value=%{y}<extra></extra>",
         "legendgroup": "A",
         "line": {
          "color": "#00cc96",
          "dash": "solid"
         },
         "marker": {
          "symbol": "circle"
         },
         "mode": "markers+lines",
         "name": "A",
         "orientation": "v",
         "showlegend": true,
         "type": "scatter",
         "x": [
          "1-year Default",
          "2-year Default",
          "3-year Default",
          "4-year Default",
          "5-year Default",
          "6-year Default",
          "7-year Default",
          "8-year Default",
          "9-year Default",
          "10-year Default"
         ],
         "xaxis": "x",
         "y": [
          0.04260000000000019,
          0.043713567996657814,
          0.04480303722916409,
          0.04585881619083604,
          0.046875668545588035,
          0.04785031540034523,
          0.04878055303807355,
          0.04966494085394339,
          0.050502681678059345,
          0.05129355319471217
         ],
         "yaxis": "y"
        },
        {
         "hovertemplate": "variable=BBB<br>index=%{x}<br>value=%{y}<extra></extra>",
         "legendgroup": "BBB",
         "line": {
          "color": "#ab63fa",
          "dash": "solid"
         },
         "marker": {
          "symbol": "circle"
         },
         "mode": "markers+lines",
         "name": "BBB",
         "orientation": "v",
         "showlegend": true,
         "type": "scatter",
         "x": [
          "1-year Default",
          "2-year Default",
          "3-year Default",
          "4-year Default",
          "5-year Default",
          "6-year Default",
          "7-year Default",
          "8-year Default",
          "9-year Default",
          "10-year Default"
         ],
         "xaxis": "x",
         "y": [
          0.059699999999999975,
          0.06133559502286502,
          0.06278286129164494,
          0.06406963700670555,
          0.06520346644290526,
          0.06618770538893004,
          0.0670268837255593,
          0.06772787365882393,
          0.06829958982949519,
          0.06875230843414869
         ],
         "yaxis": "y"
        },
        {
         "hovertemplate": "variable=BB<br>index=%{x}<br>value=%{y}<extra></extra>",
         "legendgroup": "BB",
         "line": {
          "color": "#FFA15A",
          "dash": "solid"
         },
         "marker": {
          "symbol": "circle"
         },
         "mode": "markers+lines",
         "name": "BB",
         "orientation": "v",
         "showlegend": true,
         "type": "scatter",
         "x": [
          "1-year Default",
          "2-year Default",
          "3-year Default",
          "4-year Default",
          "5-year Default",
          "6-year Default",
          "7-year Default",
          "8-year Default",
          "9-year Default",
          "10-year Default"
         ],
         "xaxis": "x",
         "y": [
          0.10080000000000011,
          0.10451554715302502,
          0.10741099805541267,
          0.10941153587211022,
          0.1105920631704143,
          0.11107037793270154,
          0.11096653854273493,
          0.1103891544694105,
          0.10943222588700707,
          0.10817579250271071
         ],
         "yaxis": "y"
        },
        {
         "hovertemplate": "variable=B<br>index=%{x}<br>value=%{y}<extra></extra>",
         "legendgroup": "B",
         "line": {
          "color": "#19d3f3",
          "dash": "solid"
         },
         "marker": {
          "symbol": "circle"
         },
         "mode": "markers+lines",
         "name": "B",
         "orientation": "v",
         "showlegend": true,
         "type": "scatter",
         "x": [
          "1-year Default",
          "2-year Default",
          "3-year Default",
          "4-year Default",
          "5-year Default",
          "6-year Default",
          "7-year Default",
          "8-year Default",
          "9-year Default",
          "10-year Default"
         ],
         "xaxis": "x",
         "y": [
          0.15639999999999998,
          0.16752750118539586,
          0.1707878670213811,
          0.17019924978181994,
          0.16767251883026005,
          0.1641710019276318,
          0.1601944308955224,
          0.1560055348091104,
          0.15174348208208524,
          0.14748272181622257
         ],
         "yaxis": "y"
        },
        {
         "hovertemplate": "variable=CCC<br>index=%{x}<br>value=%{y}<extra></extra>",
         "legendgroup": "CCC",
         "line": {
          "color": "#FF6692",
          "dash": "solid"
         },
         "marker": {
          "symbol": "circle"
         },
         "mode": "markers+lines",
         "name": "CCC",
         "orientation": "v",
         "showlegend": true,
         "type": "scatter",
         "x": [
          "1-year Default",
          "2-year Default",
          "3-year Default",
          "4-year Default",
          "5-year Default",
          "6-year Default",
          "7-year Default",
          "8-year Default",
          "9-year Default",
          "10-year Default"
         ],
         "xaxis": "x",
         "y": [
          0.4085,
          0.34625239222316145,
          0.2885334294340057,
          0.24312279422893981,
          0.21128998253392345,
          0.190175844433554,
          0.17613599307186806,
          0.1663277228891793,
          0.15892675311349916,
          0.1528713755717189
         ],
         "yaxis": "y"
        }
       ],
       "layout": {
        "autosize": false,
        "height": 600,
        "legend": {
         "title": {
          "text": "variable"
         },
         "tracegroupgap": 0
        },
        "margin": {
         "b": 65,
         "l": 65,
         "r": 50,
         "t": 90
        },
        "template": {
         "data": {
          "bar": [
           {
            "error_x": {
             "color": "#2a3f5f"
            },
            "error_y": {
             "color": "#2a3f5f"
            },
            "marker": {
             "line": {
              "color": "#E5ECF6",
              "width": 0.5
             },
             "pattern": {
              "fillmode": "overlay",
              "size": 10,
              "solidity": 0.2
             }
            },
            "type": "bar"
           }
          ],
          "barpolar": [
           {
            "marker": {
             "line": {
              "color": "#E5ECF6",
              "width": 0.5
             },
             "pattern": {
              "fillmode": "overlay",
              "size": 10,
              "solidity": 0.2
             }
            },
            "type": "barpolar"
           }
          ],
          "carpet": [
           {
            "aaxis": {
             "endlinecolor": "#2a3f5f",
             "gridcolor": "white",
             "linecolor": "white",
             "minorgridcolor": "white",
             "startlinecolor": "#2a3f5f"
            },
            "baxis": {
             "endlinecolor": "#2a3f5f",
             "gridcolor": "white",
             "linecolor": "white",
             "minorgridcolor": "white",
             "startlinecolor": "#2a3f5f"
            },
            "type": "carpet"
           }
          ],
          "choropleth": [
           {
            "colorbar": {
             "outlinewidth": 0,
             "ticks": ""
            },
            "type": "choropleth"
           }
          ],
          "contour": [
           {
            "colorbar": {
             "outlinewidth": 0,
             "ticks": ""
            },
            "colorscale": [
             [
              0,
              "#0d0887"
             ],
             [
              0.1111111111111111,
              "#46039f"
             ],
             [
              0.2222222222222222,
              "#7201a8"
             ],
             [
              0.3333333333333333,
              "#9c179e"
             ],
             [
              0.4444444444444444,
              "#bd3786"
             ],
             [
              0.5555555555555556,
              "#d8576b"
             ],
             [
              0.6666666666666666,
              "#ed7953"
             ],
             [
              0.7777777777777778,
              "#fb9f3a"
             ],
             [
              0.8888888888888888,
              "#fdca26"
             ],
             [
              1,
              "#f0f921"
             ]
            ],
            "type": "contour"
           }
          ],
          "contourcarpet": [
           {
            "colorbar": {
             "outlinewidth": 0,
             "ticks": ""
            },
            "type": "contourcarpet"
           }
          ],
          "heatmap": [
           {
            "colorbar": {
             "outlinewidth": 0,
             "ticks": ""
            },
            "colorscale": [
             [
              0,
              "#0d0887"
             ],
             [
              0.1111111111111111,
              "#46039f"
             ],
             [
              0.2222222222222222,
              "#7201a8"
             ],
             [
              0.3333333333333333,
              "#9c179e"
             ],
             [
              0.4444444444444444,
              "#bd3786"
             ],
             [
              0.5555555555555556,
              "#d8576b"
             ],
             [
              0.6666666666666666,
              "#ed7953"
             ],
             [
              0.7777777777777778,
              "#fb9f3a"
             ],
             [
              0.8888888888888888,
              "#fdca26"
             ],
             [
              1,
              "#f0f921"
             ]
            ],
            "type": "heatmap"
           }
          ],
          "heatmapgl": [
           {
            "colorbar": {
             "outlinewidth": 0,
             "ticks": ""
            },
            "colorscale": [
             [
              0,
              "#0d0887"
             ],
             [
              0.1111111111111111,
              "#46039f"
             ],
             [
              0.2222222222222222,
              "#7201a8"
             ],
             [
              0.3333333333333333,
              "#9c179e"
             ],
             [
              0.4444444444444444,
              "#bd3786"
             ],
             [
              0.5555555555555556,
              "#d8576b"
             ],
             [
              0.6666666666666666,
              "#ed7953"
             ],
             [
              0.7777777777777778,
              "#fb9f3a"
             ],
             [
              0.8888888888888888,
              "#fdca26"
             ],
             [
              1,
              "#f0f921"
             ]
            ],
            "type": "heatmapgl"
           }
          ],
          "histogram": [
           {
            "marker": {
             "pattern": {
              "fillmode": "overlay",
              "size": 10,
              "solidity": 0.2
             }
            },
            "type": "histogram"
           }
          ],
          "histogram2d": [
           {
            "colorbar": {
             "outlinewidth": 0,
             "ticks": ""
            },
            "colorscale": [
             [
              0,
              "#0d0887"
             ],
             [
              0.1111111111111111,
              "#46039f"
             ],
             [
              0.2222222222222222,
              "#7201a8"
             ],
             [
              0.3333333333333333,
              "#9c179e"
             ],
             [
              0.4444444444444444,
              "#bd3786"
             ],
             [
              0.5555555555555556,
              "#d8576b"
             ],
             [
              0.6666666666666666,
              "#ed7953"
             ],
             [
              0.7777777777777778,
              "#fb9f3a"
             ],
             [
              0.8888888888888888,
              "#fdca26"
             ],
             [
              1,
              "#f0f921"
             ]
            ],
            "type": "histogram2d"
           }
          ],
          "histogram2dcontour": [
           {
            "colorbar": {
             "outlinewidth": 0,
             "ticks": ""
            },
            "colorscale": [
             [
              0,
              "#0d0887"
             ],
             [
              0.1111111111111111,
              "#46039f"
             ],
             [
              0.2222222222222222,
              "#7201a8"
             ],
             [
              0.3333333333333333,
              "#9c179e"
             ],
             [
              0.4444444444444444,
              "#bd3786"
             ],
             [
              0.5555555555555556,
              "#d8576b"
             ],
             [
              0.6666666666666666,
              "#ed7953"
             ],
             [
              0.7777777777777778,
              "#fb9f3a"
             ],
             [
              0.8888888888888888,
              "#fdca26"
             ],
             [
              1,
              "#f0f921"
             ]
            ],
            "type": "histogram2dcontour"
           }
          ],
          "mesh3d": [
           {
            "colorbar": {
             "outlinewidth": 0,
             "ticks": ""
            },
            "type": "mesh3d"
           }
          ],
          "parcoords": [
           {
            "line": {
             "colorbar": {
              "outlinewidth": 0,
              "ticks": ""
             }
            },
            "type": "parcoords"
           }
          ],
          "pie": [
           {
            "automargin": true,
            "type": "pie"
           }
          ],
          "scatter": [
           {
            "fillpattern": {
             "fillmode": "overlay",
             "size": 10,
             "solidity": 0.2
            },
            "type": "scatter"
           }
          ],
          "scatter3d": [
           {
            "line": {
             "colorbar": {
              "outlinewidth": 0,
              "ticks": ""
             }
            },
            "marker": {
             "colorbar": {
              "outlinewidth": 0,
              "ticks": ""
             }
            },
            "type": "scatter3d"
           }
          ],
          "scattercarpet": [
           {
            "marker": {
             "colorbar": {
              "outlinewidth": 0,
              "ticks": ""
             }
            },
            "type": "scattercarpet"
           }
          ],
          "scattergeo": [
           {
            "marker": {
             "colorbar": {
              "outlinewidth": 0,
              "ticks": ""
             }
            },
            "type": "scattergeo"
           }
          ],
          "scattergl": [
           {
            "marker": {
             "colorbar": {
              "outlinewidth": 0,
              "ticks": ""
             }
            },
            "type": "scattergl"
           }
          ],
          "scattermapbox": [
           {
            "marker": {
             "colorbar": {
              "outlinewidth": 0,
              "ticks": ""
             }
            },
            "type": "scattermapbox"
           }
          ],
          "scatterpolar": [
           {
            "marker": {
             "colorbar": {
              "outlinewidth": 0,
              "ticks": ""
             }
            },
            "type": "scatterpolar"
           }
          ],
          "scatterpolargl": [
           {
            "marker": {
             "colorbar": {
              "outlinewidth": 0,
              "ticks": ""
             }
            },
            "type": "scatterpolargl"
           }
          ],
          "scatterternary": [
           {
            "marker": {
             "colorbar": {
              "outlinewidth": 0,
              "ticks": ""
             }
            },
            "type": "scatterternary"
           }
          ],
          "surface": [
           {
            "colorbar": {
             "outlinewidth": 0,
             "ticks": ""
            },
            "colorscale": [
             [
              0,
              "#0d0887"
             ],
             [
              0.1111111111111111,
              "#46039f"
             ],
             [
              0.2222222222222222,
              "#7201a8"
             ],
             [
              0.3333333333333333,
              "#9c179e"
             ],
             [
              0.4444444444444444,
              "#bd3786"
             ],
             [
              0.5555555555555556,
              "#d8576b"
             ],
             [
              0.6666666666666666,
              "#ed7953"
             ],
             [
              0.7777777777777778,
              "#fb9f3a"
             ],
             [
              0.8888888888888888,
              "#fdca26"
             ],
             [
              1,
              "#f0f921"
             ]
            ],
            "type": "surface"
           }
          ],
          "table": [
           {
            "cells": {
             "fill": {
              "color": "#EBF0F8"
             },
             "line": {
              "color": "white"
             }
            },
            "header": {
             "fill": {
              "color": "#C8D4E3"
             },
             "line": {
              "color": "white"
             }
            },
            "type": "table"
           }
          ]
         },
         "layout": {
          "annotationdefaults": {
           "arrowcolor": "#2a3f5f",
           "arrowhead": 0,
           "arrowwidth": 1
          },
          "autotypenumbers": "strict",
          "coloraxis": {
           "colorbar": {
            "outlinewidth": 0,
            "ticks": ""
           }
          },
          "colorscale": {
           "diverging": [
            [
             0,
             "#8e0152"
            ],
            [
             0.1,
             "#c51b7d"
            ],
            [
             0.2,
             "#de77ae"
            ],
            [
             0.3,
             "#f1b6da"
            ],
            [
             0.4,
             "#fde0ef"
            ],
            [
             0.5,
             "#f7f7f7"
            ],
            [
             0.6,
             "#e6f5d0"
            ],
            [
             0.7,
             "#b8e186"
            ],
            [
             0.8,
             "#7fbc41"
            ],
            [
             0.9,
             "#4d9221"
            ],
            [
             1,
             "#276419"
            ]
           ],
           "sequential": [
            [
             0,
             "#0d0887"
            ],
            [
             0.1111111111111111,
             "#46039f"
            ],
            [
             0.2222222222222222,
             "#7201a8"
            ],
            [
             0.3333333333333333,
             "#9c179e"
            ],
            [
             0.4444444444444444,
             "#bd3786"
            ],
            [
             0.5555555555555556,
             "#d8576b"
            ],
            [
             0.6666666666666666,
             "#ed7953"
            ],
            [
             0.7777777777777778,
             "#fb9f3a"
            ],
            [
             0.8888888888888888,
             "#fdca26"
            ],
            [
             1,
             "#f0f921"
            ]
           ],
           "sequentialminus": [
            [
             0,
             "#0d0887"
            ],
            [
             0.1111111111111111,
             "#46039f"
            ],
            [
             0.2222222222222222,
             "#7201a8"
            ],
            [
             0.3333333333333333,
             "#9c179e"
            ],
            [
             0.4444444444444444,
             "#bd3786"
            ],
            [
             0.5555555555555556,
             "#d8576b"
            ],
            [
             0.6666666666666666,
             "#ed7953"
            ],
            [
             0.7777777777777778,
             "#fb9f3a"
            ],
            [
             0.8888888888888888,
             "#fdca26"
            ],
            [
             1,
             "#f0f921"
            ]
           ]
          },
          "colorway": [
           "#636efa",
           "#EF553B",
           "#00cc96",
           "#ab63fa",
           "#FFA15A",
           "#19d3f3",
           "#FF6692",
           "#B6E880",
           "#FF97FF",
           "#FECB52"
          ],
          "font": {
           "color": "#2a3f5f"
          },
          "geo": {
           "bgcolor": "white",
           "lakecolor": "white",
           "landcolor": "#E5ECF6",
           "showlakes": true,
           "showland": true,
           "subunitcolor": "white"
          },
          "hoverlabel": {
           "align": "left"
          },
          "hovermode": "closest",
          "mapbox": {
           "style": "light"
          },
          "paper_bgcolor": "white",
          "plot_bgcolor": "#E5ECF6",
          "polar": {
           "angularaxis": {
            "gridcolor": "white",
            "linecolor": "white",
            "ticks": ""
           },
           "bgcolor": "#E5ECF6",
           "radialaxis": {
            "gridcolor": "white",
            "linecolor": "white",
            "ticks": ""
           }
          },
          "scene": {
           "xaxis": {
            "backgroundcolor": "#E5ECF6",
            "gridcolor": "white",
            "gridwidth": 2,
            "linecolor": "white",
            "showbackground": true,
            "ticks": "",
            "zerolinecolor": "white"
           },
           "yaxis": {
            "backgroundcolor": "#E5ECF6",
            "gridcolor": "white",
            "gridwidth": 2,
            "linecolor": "white",
            "showbackground": true,
            "ticks": "",
            "zerolinecolor": "white"
           },
           "zaxis": {
            "backgroundcolor": "#E5ECF6",
            "gridcolor": "white",
            "gridwidth": 2,
            "linecolor": "white",
            "showbackground": true,
            "ticks": "",
            "zerolinecolor": "white"
           }
          },
          "shapedefaults": {
           "line": {
            "color": "#2a3f5f"
           }
          },
          "ternary": {
           "aaxis": {
            "gridcolor": "white",
            "linecolor": "white",
            "ticks": ""
           },
           "baxis": {
            "gridcolor": "white",
            "linecolor": "white",
            "ticks": ""
           },
           "bgcolor": "#E5ECF6",
           "caxis": {
            "gridcolor": "white",
            "linecolor": "white",
            "ticks": ""
           }
          },
          "title": {
           "x": 0.05
          },
          "xaxis": {
           "automargin": true,
           "gridcolor": "white",
           "linecolor": "white",
           "ticks": "",
           "title": {
            "standoff": 15
           },
           "zerolinecolor": "white",
           "zerolinewidth": 2
          },
          "yaxis": {
           "automargin": true,
           "gridcolor": "white",
           "linecolor": "white",
           "ticks": "",
           "title": {
            "standoff": 15
           },
           "zerolinecolor": "white",
           "zerolinewidth": 2
          }
         }
        },
        "title": {
         "text": "TTC Conditional Probability of Default"
        },
        "width": 600,
        "xaxis": {
         "anchor": "y",
         "domain": [
          0,
          1
         ],
         "title": {
          "text": "Years"
         }
        },
        "yaxis": {
         "anchor": "x",
         "domain": [
          0,
          1
         ],
         "title": {
          "text": "TTC Conditional Probability of Default"
         }
        }
       }
      }
     },
     "metadata": {},
     "output_type": "display_data"
    }
   ],
   "source": [
    "# Final outcome can be presented in plot.\n",
    "# To do that, the plotly express is used. Style is matching previous plot\n",
    "\n",
    "df1 = pd.DataFrame(SPD.reindex(MPD.index))\n",
    "\n",
    "fig = px.line(df1)\n",
    "fig.update_layout(title='TTC Conditional Probability of Default', autosize=False,\n",
    "                    width=600, height=600,\n",
    "                    margin=dict(l=65, r=50, b=65, t=90),\n",
    "                    xaxis_title=\"Years\",\n",
    "                    yaxis_title=\"TTC Conditional Probability of Default\")\n",
    "\n",
    "fig.update_traces(mode='markers+lines')\n",
    "fig.show()"
   ]
  },
  {
   "cell_type": "markdown",
   "metadata": {},
   "source": [
    "The above graph represents the TTC Conditional Probability of Default. It can be observed that the CCC rating has constantly decreasing it’s probably of default with the relatively high starting point. It is due to being the last non-default rating class before the actual default and with the time, it can be assumed that less and less CCC rated credits are left in the pool. All other rating classes possess a very slight upward trend. All PDs are non-overlapping."
   ]
  }
 ],
 "metadata": {
  "kernelspec": {
   "display_name": "CS1-env",
   "language": "python",
   "name": "python3"
  },
  "language_info": {
   "codemirror_mode": {
    "name": "ipython",
    "version": 3
   },
   "file_extension": ".py",
   "mimetype": "text/x-python",
   "name": "python",
   "nbconvert_exporter": "python",
   "pygments_lexer": "ipython3",
   "version": "3.11.8"
  }
 },
 "nbformat": 4,
 "nbformat_minor": 2
}
