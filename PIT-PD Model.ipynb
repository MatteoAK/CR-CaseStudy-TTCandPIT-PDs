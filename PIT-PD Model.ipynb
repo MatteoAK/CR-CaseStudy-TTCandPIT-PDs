{
 "cells": [
  {
   "cell_type": "markdown",
   "metadata": {},
   "source": [
    "The further presented attempt to create a macro economic Point-in-Time PD model will be based on the assumption of having Default Rate as a target variable and the usage of Historical Macroeconomic Data as explanatory variables. Both Default Rate and Macroeconomic variables will be discussed."
   ]
  },
  {
   "cell_type": "code",
   "execution_count": 241,
   "metadata": {},
   "outputs": [],
   "source": [
    "import pandas as pd \n",
    "import numpy as np \n",
    "import matplotlib.pyplot as plt \n",
    "import seaborn as sns \n",
    "from sklearn.model_selection import train_test_split \n",
    "from sklearn.linear_model import LinearRegression \n",
    "from sklearn.metrics import mean_squared_error, mean_absolute_error \n",
    "from sklearn import preprocessing \n",
    "\n",
    "from statsmodels.tsa.stattools import adfuller\n",
    "\n",
    "import statsmodels.api as sm\n",
    "\n",
    "import plotly.express as px\n",
    "import plotly.graph_objects as go"
   ]
  },
  {
   "cell_type": "code",
   "execution_count": 242,
   "metadata": {},
   "outputs": [
    {
     "data": {
      "text/html": [
       "<div>\n",
       "<style scoped>\n",
       "    .dataframe tbody tr th:only-of-type {\n",
       "        vertical-align: middle;\n",
       "    }\n",
       "\n",
       "    .dataframe tbody tr th {\n",
       "        vertical-align: top;\n",
       "    }\n",
       "\n",
       "    .dataframe thead th {\n",
       "        text-align: right;\n",
       "    }\n",
       "</style>\n",
       "<table border=\"1\" class=\"dataframe\">\n",
       "  <thead>\n",
       "    <tr style=\"text-align: right;\">\n",
       "      <th></th>\n",
       "      <th>Year</th>\n",
       "      <th>Default_Rate</th>\n",
       "    </tr>\n",
       "  </thead>\n",
       "  <tbody>\n",
       "    <tr>\n",
       "      <th>0</th>\n",
       "      <td>2000</td>\n",
       "      <td>2.48</td>\n",
       "    </tr>\n",
       "    <tr>\n",
       "      <th>1</th>\n",
       "      <td>2001</td>\n",
       "      <td>3.77</td>\n",
       "    </tr>\n",
       "    <tr>\n",
       "      <th>2</th>\n",
       "      <td>2002</td>\n",
       "      <td>3.60</td>\n",
       "    </tr>\n",
       "    <tr>\n",
       "      <th>3</th>\n",
       "      <td>2003</td>\n",
       "      <td>1.93</td>\n",
       "    </tr>\n",
       "    <tr>\n",
       "      <th>4</th>\n",
       "      <td>2004</td>\n",
       "      <td>0.78</td>\n",
       "    </tr>\n",
       "    <tr>\n",
       "      <th>5</th>\n",
       "      <td>2005</td>\n",
       "      <td>0.60</td>\n",
       "    </tr>\n",
       "    <tr>\n",
       "      <th>6</th>\n",
       "      <td>2006</td>\n",
       "      <td>0.48</td>\n",
       "    </tr>\n",
       "    <tr>\n",
       "      <th>7</th>\n",
       "      <td>2007</td>\n",
       "      <td>0.37</td>\n",
       "    </tr>\n",
       "    <tr>\n",
       "      <th>8</th>\n",
       "      <td>2008</td>\n",
       "      <td>1.80</td>\n",
       "    </tr>\n",
       "    <tr>\n",
       "      <th>9</th>\n",
       "      <td>2009</td>\n",
       "      <td>4.19</td>\n",
       "    </tr>\n",
       "    <tr>\n",
       "      <th>10</th>\n",
       "      <td>2010</td>\n",
       "      <td>1.21</td>\n",
       "    </tr>\n",
       "    <tr>\n",
       "      <th>11</th>\n",
       "      <td>2011</td>\n",
       "      <td>0.80</td>\n",
       "    </tr>\n",
       "    <tr>\n",
       "      <th>12</th>\n",
       "      <td>2012</td>\n",
       "      <td>1.14</td>\n",
       "    </tr>\n",
       "    <tr>\n",
       "      <th>13</th>\n",
       "      <td>2013</td>\n",
       "      <td>1.06</td>\n",
       "    </tr>\n",
       "    <tr>\n",
       "      <th>14</th>\n",
       "      <td>2014</td>\n",
       "      <td>0.69</td>\n",
       "    </tr>\n",
       "    <tr>\n",
       "      <th>15</th>\n",
       "      <td>2015</td>\n",
       "      <td>1.36</td>\n",
       "    </tr>\n",
       "    <tr>\n",
       "      <th>16</th>\n",
       "      <td>2016</td>\n",
       "      <td>2.09</td>\n",
       "    </tr>\n",
       "    <tr>\n",
       "      <th>17</th>\n",
       "      <td>2017</td>\n",
       "      <td>1.21</td>\n",
       "    </tr>\n",
       "    <tr>\n",
       "      <th>18</th>\n",
       "      <td>2018</td>\n",
       "      <td>1.03</td>\n",
       "    </tr>\n",
       "    <tr>\n",
       "      <th>19</th>\n",
       "      <td>2019</td>\n",
       "      <td>1.30</td>\n",
       "    </tr>\n",
       "    <tr>\n",
       "      <th>20</th>\n",
       "      <td>2020</td>\n",
       "      <td>2.75</td>\n",
       "    </tr>\n",
       "    <tr>\n",
       "      <th>21</th>\n",
       "      <td>2021</td>\n",
       "      <td>0.84</td>\n",
       "    </tr>\n",
       "    <tr>\n",
       "      <th>22</th>\n",
       "      <td>2022</td>\n",
       "      <td>0.98</td>\n",
       "    </tr>\n",
       "  </tbody>\n",
       "</table>\n",
       "</div>"
      ],
      "text/plain": [
       "    Year  Default_Rate\n",
       "0   2000          2.48\n",
       "1   2001          3.77\n",
       "2   2002          3.60\n",
       "3   2003          1.93\n",
       "4   2004          0.78\n",
       "5   2005          0.60\n",
       "6   2006          0.48\n",
       "7   2007          0.37\n",
       "8   2008          1.80\n",
       "9   2009          4.19\n",
       "10  2010          1.21\n",
       "11  2011          0.80\n",
       "12  2012          1.14\n",
       "13  2013          1.06\n",
       "14  2014          0.69\n",
       "15  2015          1.36\n",
       "16  2016          2.09\n",
       "17  2017          1.21\n",
       "18  2018          1.03\n",
       "19  2019          1.30\n",
       "20  2020          2.75\n",
       "21  2021          0.84\n",
       "22  2022          0.98"
      ]
     },
     "execution_count": 242,
     "metadata": {},
     "output_type": "execute_result"
    }
   ],
   "source": [
    "# The Default Rate data import and prep.\n",
    "data_default_rate = pd.read_excel('CaseStudyData_2023-1.xlsx', sheet_name='Corporate Default Rate')\n",
    "\n",
    "df = pd.DataFrame(data_default_rate, columns=['Year', 'Global Corporate Default Rate'])\n",
    "df.columns = ['Year', 'Default_Rate']\n",
    "df"
   ]
  },
  {
   "cell_type": "code",
   "execution_count": 243,
   "metadata": {},
   "outputs": [
    {
     "data": {
      "text/html": [
       "<div>\n",
       "<style scoped>\n",
       "    .dataframe tbody tr th:only-of-type {\n",
       "        vertical-align: middle;\n",
       "    }\n",
       "\n",
       "    .dataframe tbody tr th {\n",
       "        vertical-align: top;\n",
       "    }\n",
       "\n",
       "    .dataframe thead th {\n",
       "        text-align: right;\n",
       "    }\n",
       "</style>\n",
       "<table border=\"1\" class=\"dataframe\">\n",
       "  <thead>\n",
       "    <tr style=\"text-align: right;\">\n",
       "      <th></th>\n",
       "      <th>Description:</th>\n",
       "      <th>Labor Markets: Unemployment rate, (%, SA)</th>\n",
       "      <th>Consumer Price Index: EU Harmonized - Total, (Index 2015=100, SA)</th>\n",
       "      <th>National Accounts: Real Gross Domestic Product [GDP] - Market exchange rate, (Bil. 2012 USD, CDASAAR)</th>\n",
       "      <th>Interest Rate: EURIBOR - 3-Month, (% p.a., NSA)</th>\n",
       "      <th>Interest Rates: Central government bond yield curve - All bond ratings total - Spot rate - 10 year maturity, (% p.a., NSA)</th>\n",
       "      <th>GDP growth rate</th>\n",
       "      <th>Yield Structure, long-term - short-term (%)</th>\n",
       "      <th>CPI rate</th>\n",
       "      <th>Unemployment rate</th>\n",
       "    </tr>\n",
       "  </thead>\n",
       "  <tbody>\n",
       "    <tr>\n",
       "      <th>0</th>\n",
       "      <td>2000</td>\n",
       "      <td>9.554567</td>\n",
       "      <td>75.807483</td>\n",
       "      <td>11155.393303</td>\n",
       "      <td>4.391767</td>\n",
       "      <td>5.438877</td>\n",
       "      <td>NaN</td>\n",
       "      <td>1.047110</td>\n",
       "      <td>NaN</td>\n",
       "      <td>0.095546</td>\n",
       "    </tr>\n",
       "    <tr>\n",
       "      <th>1</th>\n",
       "      <td>2001</td>\n",
       "      <td>8.743238</td>\n",
       "      <td>77.637991</td>\n",
       "      <td>11402.944194</td>\n",
       "      <td>4.261783</td>\n",
       "      <td>5.027295</td>\n",
       "      <td>0.022191</td>\n",
       "      <td>0.765512</td>\n",
       "      <td>0.024147</td>\n",
       "      <td>0.087432</td>\n",
       "    </tr>\n",
       "    <tr>\n",
       "      <th>2</th>\n",
       "      <td>2002</td>\n",
       "      <td>8.965001</td>\n",
       "      <td>79.398093</td>\n",
       "      <td>11512.194638</td>\n",
       "      <td>3.318592</td>\n",
       "      <td>4.922900</td>\n",
       "      <td>0.009581</td>\n",
       "      <td>1.604308</td>\n",
       "      <td>0.022671</td>\n",
       "      <td>0.089650</td>\n",
       "    </tr>\n",
       "    <tr>\n",
       "      <th>3</th>\n",
       "      <td>2003</td>\n",
       "      <td>9.363403</td>\n",
       "      <td>81.082631</td>\n",
       "      <td>11596.698815</td>\n",
       "      <td>2.333467</td>\n",
       "      <td>4.160854</td>\n",
       "      <td>0.007340</td>\n",
       "      <td>1.827387</td>\n",
       "      <td>0.021216</td>\n",
       "      <td>0.093634</td>\n",
       "    </tr>\n",
       "    <tr>\n",
       "      <th>4</th>\n",
       "      <td>2004</td>\n",
       "      <td>9.408270</td>\n",
       "      <td>82.847143</td>\n",
       "      <td>11834.274098</td>\n",
       "      <td>2.106333</td>\n",
       "      <td>4.140425</td>\n",
       "      <td>0.020486</td>\n",
       "      <td>2.034092</td>\n",
       "      <td>0.021762</td>\n",
       "      <td>0.094083</td>\n",
       "    </tr>\n",
       "    <tr>\n",
       "      <th>5</th>\n",
       "      <td>2005</td>\n",
       "      <td>9.363484</td>\n",
       "      <td>84.665718</td>\n",
       "      <td>12046.125375</td>\n",
       "      <td>2.184683</td>\n",
       "      <td>3.443947</td>\n",
       "      <td>0.017902</td>\n",
       "      <td>1.259264</td>\n",
       "      <td>0.021951</td>\n",
       "      <td>0.093635</td>\n",
       "    </tr>\n",
       "    <tr>\n",
       "      <th>6</th>\n",
       "      <td>2006</td>\n",
       "      <td>8.653446</td>\n",
       "      <td>86.533181</td>\n",
       "      <td>12449.391838</td>\n",
       "      <td>3.079225</td>\n",
       "      <td>3.811601</td>\n",
       "      <td>0.033477</td>\n",
       "      <td>0.732376</td>\n",
       "      <td>0.022057</td>\n",
       "      <td>0.086534</td>\n",
       "    </tr>\n",
       "    <tr>\n",
       "      <th>7</th>\n",
       "      <td>2007</td>\n",
       "      <td>7.713766</td>\n",
       "      <td>88.406260</td>\n",
       "      <td>12822.815358</td>\n",
       "      <td>4.277608</td>\n",
       "      <td>4.281329</td>\n",
       "      <td>0.029995</td>\n",
       "      <td>0.003721</td>\n",
       "      <td>0.021646</td>\n",
       "      <td>0.077138</td>\n",
       "    </tr>\n",
       "    <tr>\n",
       "      <th>8</th>\n",
       "      <td>2008</td>\n",
       "      <td>7.747383</td>\n",
       "      <td>91.363413</td>\n",
       "      <td>12863.750637</td>\n",
       "      <td>4.634233</td>\n",
       "      <td>4.369707</td>\n",
       "      <td>0.003192</td>\n",
       "      <td>-0.264527</td>\n",
       "      <td>0.033450</td>\n",
       "      <td>0.077474</td>\n",
       "    </tr>\n",
       "    <tr>\n",
       "      <th>9</th>\n",
       "      <td>2009</td>\n",
       "      <td>9.845381</td>\n",
       "      <td>91.653570</td>\n",
       "      <td>12287.567824</td>\n",
       "      <td>1.228358</td>\n",
       "      <td>4.047733</td>\n",
       "      <td>-0.044791</td>\n",
       "      <td>2.819374</td>\n",
       "      <td>0.003176</td>\n",
       "      <td>0.098454</td>\n",
       "    </tr>\n",
       "    <tr>\n",
       "      <th>10</th>\n",
       "      <td>2010</td>\n",
       "      <td>10.464669</td>\n",
       "      <td>93.129777</td>\n",
       "      <td>12540.817967</td>\n",
       "      <td>0.810958</td>\n",
       "      <td>3.741637</td>\n",
       "      <td>0.020610</td>\n",
       "      <td>2.930679</td>\n",
       "      <td>0.016106</td>\n",
       "      <td>0.104647</td>\n",
       "    </tr>\n",
       "    <tr>\n",
       "      <th>11</th>\n",
       "      <td>2011</td>\n",
       "      <td>10.599683</td>\n",
       "      <td>95.667533</td>\n",
       "      <td>12757.556053</td>\n",
       "      <td>1.390600</td>\n",
       "      <td>4.273259</td>\n",
       "      <td>0.017283</td>\n",
       "      <td>2.882659</td>\n",
       "      <td>0.027250</td>\n",
       "      <td>0.105997</td>\n",
       "    </tr>\n",
       "    <tr>\n",
       "      <th>12</th>\n",
       "      <td>2012</td>\n",
       "      <td>11.833400</td>\n",
       "      <td>98.026367</td>\n",
       "      <td>12654.539664</td>\n",
       "      <td>0.573183</td>\n",
       "      <td>3.650546</td>\n",
       "      <td>-0.008075</td>\n",
       "      <td>3.077363</td>\n",
       "      <td>0.024657</td>\n",
       "      <td>0.118334</td>\n",
       "    </tr>\n",
       "    <tr>\n",
       "      <th>13</th>\n",
       "      <td>2013</td>\n",
       "      <td>12.482158</td>\n",
       "      <td>99.381465</td>\n",
       "      <td>12630.947979</td>\n",
       "      <td>0.220667</td>\n",
       "      <td>3.014494</td>\n",
       "      <td>-0.001864</td>\n",
       "      <td>2.793827</td>\n",
       "      <td>0.013824</td>\n",
       "      <td>0.124822</td>\n",
       "    </tr>\n",
       "    <tr>\n",
       "      <th>14</th>\n",
       "      <td>2014</td>\n",
       "      <td>12.080830</td>\n",
       "      <td>99.809073</td>\n",
       "      <td>12808.422733</td>\n",
       "      <td>0.209933</td>\n",
       "      <td>2.100664</td>\n",
       "      <td>0.014051</td>\n",
       "      <td>1.890731</td>\n",
       "      <td>0.004303</td>\n",
       "      <td>0.120808</td>\n",
       "    </tr>\n",
       "    <tr>\n",
       "      <th>15</th>\n",
       "      <td>2015</td>\n",
       "      <td>11.340624</td>\n",
       "      <td>99.998810</td>\n",
       "      <td>13056.380454</td>\n",
       "      <td>-0.019367</td>\n",
       "      <td>1.205064</td>\n",
       "      <td>0.019359</td>\n",
       "      <td>1.224431</td>\n",
       "      <td>0.001901</td>\n",
       "      <td>0.113406</td>\n",
       "    </tr>\n",
       "    <tr>\n",
       "      <th>16</th>\n",
       "      <td>2016</td>\n",
       "      <td>10.559424</td>\n",
       "      <td>100.233140</td>\n",
       "      <td>13296.636220</td>\n",
       "      <td>-0.263692</td>\n",
       "      <td>0.788319</td>\n",
       "      <td>0.018401</td>\n",
       "      <td>1.052011</td>\n",
       "      <td>0.002343</td>\n",
       "      <td>0.105594</td>\n",
       "    </tr>\n",
       "    <tr>\n",
       "      <th>17</th>\n",
       "      <td>2017</td>\n",
       "      <td>9.605382</td>\n",
       "      <td>101.775403</td>\n",
       "      <td>13662.190360</td>\n",
       "      <td>-0.329050</td>\n",
       "      <td>1.120725</td>\n",
       "      <td>0.027492</td>\n",
       "      <td>1.449775</td>\n",
       "      <td>0.015387</td>\n",
       "      <td>0.096054</td>\n",
       "    </tr>\n",
       "    <tr>\n",
       "      <th>18</th>\n",
       "      <td>2018</td>\n",
       "      <td>8.671778</td>\n",
       "      <td>103.560026</td>\n",
       "      <td>13909.560632</td>\n",
       "      <td>-0.322092</td>\n",
       "      <td>1.170923</td>\n",
       "      <td>0.018106</td>\n",
       "      <td>1.493014</td>\n",
       "      <td>0.017535</td>\n",
       "      <td>0.086718</td>\n",
       "    </tr>\n",
       "    <tr>\n",
       "      <th>19</th>\n",
       "      <td>2019</td>\n",
       "      <td>8.045568</td>\n",
       "      <td>104.799350</td>\n",
       "      <td>14129.014526</td>\n",
       "      <td>-0.356333</td>\n",
       "      <td>0.413095</td>\n",
       "      <td>0.015777</td>\n",
       "      <td>0.769429</td>\n",
       "      <td>0.011967</td>\n",
       "      <td>0.080456</td>\n",
       "    </tr>\n",
       "    <tr>\n",
       "      <th>20</th>\n",
       "      <td>2020</td>\n",
       "      <td>8.452443</td>\n",
       "      <td>105.086846</td>\n",
       "      <td>13199.360254</td>\n",
       "      <td>-0.425167</td>\n",
       "      <td>0.083607</td>\n",
       "      <td>-0.065798</td>\n",
       "      <td>0.508774</td>\n",
       "      <td>0.002743</td>\n",
       "      <td>0.084524</td>\n",
       "    </tr>\n",
       "    <tr>\n",
       "      <th>21</th>\n",
       "      <td>2021</td>\n",
       "      <td>8.273933</td>\n",
       "      <td>107.782173</td>\n",
       "      <td>13893.156986</td>\n",
       "      <td>-0.548767</td>\n",
       "      <td>0.104247</td>\n",
       "      <td>0.052563</td>\n",
       "      <td>0.653014</td>\n",
       "      <td>0.025649</td>\n",
       "      <td>0.082739</td>\n",
       "    </tr>\n",
       "    <tr>\n",
       "      <th>22</th>\n",
       "      <td>2022</td>\n",
       "      <td>6.700000</td>\n",
       "      <td>116.835875</td>\n",
       "      <td>14365.524324</td>\n",
       "      <td>0.350000</td>\n",
       "      <td>1.790000</td>\n",
       "      <td>0.034000</td>\n",
       "      <td>1.440000</td>\n",
       "      <td>0.084000</td>\n",
       "      <td>0.067000</td>\n",
       "    </tr>\n",
       "  </tbody>\n",
       "</table>\n",
       "</div>"
      ],
      "text/plain": [
       "    Description:  Labor Markets: Unemployment rate, (%, SA)  \\\n",
       "0           2000                                   9.554567   \n",
       "1           2001                                   8.743238   \n",
       "2           2002                                   8.965001   \n",
       "3           2003                                   9.363403   \n",
       "4           2004                                   9.408270   \n",
       "5           2005                                   9.363484   \n",
       "6           2006                                   8.653446   \n",
       "7           2007                                   7.713766   \n",
       "8           2008                                   7.747383   \n",
       "9           2009                                   9.845381   \n",
       "10          2010                                  10.464669   \n",
       "11          2011                                  10.599683   \n",
       "12          2012                                  11.833400   \n",
       "13          2013                                  12.482158   \n",
       "14          2014                                  12.080830   \n",
       "15          2015                                  11.340624   \n",
       "16          2016                                  10.559424   \n",
       "17          2017                                   9.605382   \n",
       "18          2018                                   8.671778   \n",
       "19          2019                                   8.045568   \n",
       "20          2020                                   8.452443   \n",
       "21          2021                                   8.273933   \n",
       "22          2022                                   6.700000   \n",
       "\n",
       "    Consumer Price Index: EU Harmonized - Total, (Index 2015=100, SA)  \\\n",
       "0                                           75.807483                   \n",
       "1                                           77.637991                   \n",
       "2                                           79.398093                   \n",
       "3                                           81.082631                   \n",
       "4                                           82.847143                   \n",
       "5                                           84.665718                   \n",
       "6                                           86.533181                   \n",
       "7                                           88.406260                   \n",
       "8                                           91.363413                   \n",
       "9                                           91.653570                   \n",
       "10                                          93.129777                   \n",
       "11                                          95.667533                   \n",
       "12                                          98.026367                   \n",
       "13                                          99.381465                   \n",
       "14                                          99.809073                   \n",
       "15                                          99.998810                   \n",
       "16                                         100.233140                   \n",
       "17                                         101.775403                   \n",
       "18                                         103.560026                   \n",
       "19                                         104.799350                   \n",
       "20                                         105.086846                   \n",
       "21                                         107.782173                   \n",
       "22                                         116.835875                   \n",
       "\n",
       "    National Accounts: Real Gross Domestic Product [GDP] - Market exchange rate, (Bil. 2012 USD, CDASAAR)  \\\n",
       "0                                        11155.393303                                                       \n",
       "1                                        11402.944194                                                       \n",
       "2                                        11512.194638                                                       \n",
       "3                                        11596.698815                                                       \n",
       "4                                        11834.274098                                                       \n",
       "5                                        12046.125375                                                       \n",
       "6                                        12449.391838                                                       \n",
       "7                                        12822.815358                                                       \n",
       "8                                        12863.750637                                                       \n",
       "9                                        12287.567824                                                       \n",
       "10                                       12540.817967                                                       \n",
       "11                                       12757.556053                                                       \n",
       "12                                       12654.539664                                                       \n",
       "13                                       12630.947979                                                       \n",
       "14                                       12808.422733                                                       \n",
       "15                                       13056.380454                                                       \n",
       "16                                       13296.636220                                                       \n",
       "17                                       13662.190360                                                       \n",
       "18                                       13909.560632                                                       \n",
       "19                                       14129.014526                                                       \n",
       "20                                       13199.360254                                                       \n",
       "21                                       13893.156986                                                       \n",
       "22                                       14365.524324                                                       \n",
       "\n",
       "    Interest Rate: EURIBOR - 3-Month, (% p.a., NSA)  \\\n",
       "0                                          4.391767   \n",
       "1                                          4.261783   \n",
       "2                                          3.318592   \n",
       "3                                          2.333467   \n",
       "4                                          2.106333   \n",
       "5                                          2.184683   \n",
       "6                                          3.079225   \n",
       "7                                          4.277608   \n",
       "8                                          4.634233   \n",
       "9                                          1.228358   \n",
       "10                                         0.810958   \n",
       "11                                         1.390600   \n",
       "12                                         0.573183   \n",
       "13                                         0.220667   \n",
       "14                                         0.209933   \n",
       "15                                        -0.019367   \n",
       "16                                        -0.263692   \n",
       "17                                        -0.329050   \n",
       "18                                        -0.322092   \n",
       "19                                        -0.356333   \n",
       "20                                        -0.425167   \n",
       "21                                        -0.548767   \n",
       "22                                         0.350000   \n",
       "\n",
       "    Interest Rates: Central government bond yield curve - All bond ratings total - Spot rate - 10 year maturity, (% p.a., NSA)  \\\n",
       "0                                            5.438877                                                                            \n",
       "1                                            5.027295                                                                            \n",
       "2                                            4.922900                                                                            \n",
       "3                                            4.160854                                                                            \n",
       "4                                            4.140425                                                                            \n",
       "5                                            3.443947                                                                            \n",
       "6                                            3.811601                                                                            \n",
       "7                                            4.281329                                                                            \n",
       "8                                            4.369707                                                                            \n",
       "9                                            4.047733                                                                            \n",
       "10                                           3.741637                                                                            \n",
       "11                                           4.273259                                                                            \n",
       "12                                           3.650546                                                                            \n",
       "13                                           3.014494                                                                            \n",
       "14                                           2.100664                                                                            \n",
       "15                                           1.205064                                                                            \n",
       "16                                           0.788319                                                                            \n",
       "17                                           1.120725                                                                            \n",
       "18                                           1.170923                                                                            \n",
       "19                                           0.413095                                                                            \n",
       "20                                           0.083607                                                                            \n",
       "21                                           0.104247                                                                            \n",
       "22                                           1.790000                                                                            \n",
       "\n",
       "    GDP growth rate  Yield Structure, long-term - short-term (%)  CPI rate  \\\n",
       "0               NaN                                     1.047110       NaN   \n",
       "1          0.022191                                     0.765512  0.024147   \n",
       "2          0.009581                                     1.604308  0.022671   \n",
       "3          0.007340                                     1.827387  0.021216   \n",
       "4          0.020486                                     2.034092  0.021762   \n",
       "5          0.017902                                     1.259264  0.021951   \n",
       "6          0.033477                                     0.732376  0.022057   \n",
       "7          0.029995                                     0.003721  0.021646   \n",
       "8          0.003192                                    -0.264527  0.033450   \n",
       "9         -0.044791                                     2.819374  0.003176   \n",
       "10         0.020610                                     2.930679  0.016106   \n",
       "11         0.017283                                     2.882659  0.027250   \n",
       "12        -0.008075                                     3.077363  0.024657   \n",
       "13        -0.001864                                     2.793827  0.013824   \n",
       "14         0.014051                                     1.890731  0.004303   \n",
       "15         0.019359                                     1.224431  0.001901   \n",
       "16         0.018401                                     1.052011  0.002343   \n",
       "17         0.027492                                     1.449775  0.015387   \n",
       "18         0.018106                                     1.493014  0.017535   \n",
       "19         0.015777                                     0.769429  0.011967   \n",
       "20        -0.065798                                     0.508774  0.002743   \n",
       "21         0.052563                                     0.653014  0.025649   \n",
       "22         0.034000                                     1.440000  0.084000   \n",
       "\n",
       "    Unemployment rate  \n",
       "0            0.095546  \n",
       "1            0.087432  \n",
       "2            0.089650  \n",
       "3            0.093634  \n",
       "4            0.094083  \n",
       "5            0.093635  \n",
       "6            0.086534  \n",
       "7            0.077138  \n",
       "8            0.077474  \n",
       "9            0.098454  \n",
       "10           0.104647  \n",
       "11           0.105997  \n",
       "12           0.118334  \n",
       "13           0.124822  \n",
       "14           0.120808  \n",
       "15           0.113406  \n",
       "16           0.105594  \n",
       "17           0.096054  \n",
       "18           0.086718  \n",
       "19           0.080456  \n",
       "20           0.084524  \n",
       "21           0.082739  \n",
       "22           0.067000  "
      ]
     },
     "execution_count": 243,
     "metadata": {},
     "output_type": "execute_result"
    }
   ],
   "source": [
    "# The Macroeconomic data import and prep.\n",
    "dfHD = pd.read_excel('CaseStudyData_2023-1.xlsx', sheet_name= 'Historic Data')\n",
    "Nofirstcol = dfHD.iloc[:, 1:]\n",
    "Nofirstcol.columns = ['DELETE_Unemployment','Consumer Price Index','Real Gross Domestic Product','EURIBOR - 3-Month', 'Central government bond yield curve ','GDP growth rate','Yield Structure','CPI rate','Unemployment rate',]\n",
    "Nofirstcol\n",
    "\n",
    "Nofirstcol = Nofirstcol.loc[:,['Unemployment rate',\n",
    "                'Consumer Price Index',\n",
    "                'Real Gross Domestic Product',\n",
    "                'EURIBOR - 3-Month',\n",
    "                'Central government bond yield curve ',\n",
    "                'Yield Structure']]\n",
    "dfHD"
   ]
  },
  {
   "cell_type": "markdown",
   "metadata": {},
   "source": [
    "First step in preparing the Default Rate data for modelling is to ensure that predicted DR are always between the 0 and 1 to be applicable for use in a regression. In order to do that, Log Odds formula is used and results are presented in the below Table 16. For purpose of calculation, DR are presented in decimal numbers."
   ]
  },
  {
   "cell_type": "code",
   "execution_count": 244,
   "metadata": {},
   "outputs": [
    {
     "data": {
      "text/html": [
       "<div>\n",
       "<style scoped>\n",
       "    .dataframe tbody tr th:only-of-type {\n",
       "        vertical-align: middle;\n",
       "    }\n",
       "\n",
       "    .dataframe tbody tr th {\n",
       "        vertical-align: top;\n",
       "    }\n",
       "\n",
       "    .dataframe thead th {\n",
       "        text-align: right;\n",
       "    }\n",
       "</style>\n",
       "<table border=\"1\" class=\"dataframe\">\n",
       "  <thead>\n",
       "    <tr style=\"text-align: right;\">\n",
       "      <th></th>\n",
       "      <th>Year</th>\n",
       "      <th>Default_Rate</th>\n",
       "      <th>Logistic_Odds</th>\n",
       "    </tr>\n",
       "  </thead>\n",
       "  <tbody>\n",
       "    <tr>\n",
       "      <th>0</th>\n",
       "      <td>2000</td>\n",
       "      <td>0.0248</td>\n",
       "      <td>-3.671799</td>\n",
       "    </tr>\n",
       "    <tr>\n",
       "      <th>1</th>\n",
       "      <td>2001</td>\n",
       "      <td>0.0377</td>\n",
       "      <td>-3.239666</td>\n",
       "    </tr>\n",
       "    <tr>\n",
       "      <th>2</th>\n",
       "      <td>2002</td>\n",
       "      <td>0.0360</td>\n",
       "      <td>-3.287572</td>\n",
       "    </tr>\n",
       "    <tr>\n",
       "      <th>3</th>\n",
       "      <td>2003</td>\n",
       "      <td>0.0193</td>\n",
       "      <td>-3.928162</td>\n",
       "    </tr>\n",
       "    <tr>\n",
       "      <th>4</th>\n",
       "      <td>2004</td>\n",
       "      <td>0.0078</td>\n",
       "      <td>-4.845801</td>\n",
       "    </tr>\n",
       "    <tr>\n",
       "      <th>5</th>\n",
       "      <td>2005</td>\n",
       "      <td>0.0060</td>\n",
       "      <td>-5.109978</td>\n",
       "    </tr>\n",
       "    <tr>\n",
       "      <th>6</th>\n",
       "      <td>2006</td>\n",
       "      <td>0.0048</td>\n",
       "      <td>-5.334328</td>\n",
       "    </tr>\n",
       "    <tr>\n",
       "      <th>7</th>\n",
       "      <td>2007</td>\n",
       "      <td>0.0037</td>\n",
       "      <td>-5.595716</td>\n",
       "    </tr>\n",
       "    <tr>\n",
       "      <th>8</th>\n",
       "      <td>2008</td>\n",
       "      <td>0.0180</td>\n",
       "      <td>-3.999220</td>\n",
       "    </tr>\n",
       "    <tr>\n",
       "      <th>9</th>\n",
       "      <td>2009</td>\n",
       "      <td>0.0419</td>\n",
       "      <td>-3.129666</td>\n",
       "    </tr>\n",
       "    <tr>\n",
       "      <th>10</th>\n",
       "      <td>2010</td>\n",
       "      <td>0.0121</td>\n",
       "      <td>-4.402376</td>\n",
       "    </tr>\n",
       "    <tr>\n",
       "      <th>11</th>\n",
       "      <td>2011</td>\n",
       "      <td>0.0080</td>\n",
       "      <td>-4.820282</td>\n",
       "    </tr>\n",
       "    <tr>\n",
       "      <th>12</th>\n",
       "      <td>2012</td>\n",
       "      <td>0.0114</td>\n",
       "      <td>-4.462676</td>\n",
       "    </tr>\n",
       "    <tr>\n",
       "      <th>13</th>\n",
       "      <td>2013</td>\n",
       "      <td>0.0106</td>\n",
       "      <td>-4.536245</td>\n",
       "    </tr>\n",
       "    <tr>\n",
       "      <th>14</th>\n",
       "      <td>2014</td>\n",
       "      <td>0.0069</td>\n",
       "      <td>-4.969310</td>\n",
       "    </tr>\n",
       "    <tr>\n",
       "      <th>15</th>\n",
       "      <td>2015</td>\n",
       "      <td>0.0136</td>\n",
       "      <td>-4.283992</td>\n",
       "    </tr>\n",
       "    <tr>\n",
       "      <th>16</th>\n",
       "      <td>2016</td>\n",
       "      <td>0.0209</td>\n",
       "      <td>-3.846885</td>\n",
       "    </tr>\n",
       "    <tr>\n",
       "      <th>17</th>\n",
       "      <td>2017</td>\n",
       "      <td>0.0121</td>\n",
       "      <td>-4.402376</td>\n",
       "    </tr>\n",
       "    <tr>\n",
       "      <th>18</th>\n",
       "      <td>2018</td>\n",
       "      <td>0.0103</td>\n",
       "      <td>-4.565258</td>\n",
       "    </tr>\n",
       "    <tr>\n",
       "      <th>19</th>\n",
       "      <td>2019</td>\n",
       "      <td>0.0130</td>\n",
       "      <td>-4.329721</td>\n",
       "    </tr>\n",
       "    <tr>\n",
       "      <th>20</th>\n",
       "      <td>2020</td>\n",
       "      <td>0.0275</td>\n",
       "      <td>-3.565684</td>\n",
       "    </tr>\n",
       "    <tr>\n",
       "      <th>21</th>\n",
       "      <td>2021</td>\n",
       "      <td>0.0084</td>\n",
       "      <td>-4.771088</td>\n",
       "    </tr>\n",
       "    <tr>\n",
       "      <th>22</th>\n",
       "      <td>2022</td>\n",
       "      <td>0.0098</td>\n",
       "      <td>-4.615525</td>\n",
       "    </tr>\n",
       "  </tbody>\n",
       "</table>\n",
       "</div>"
      ],
      "text/plain": [
       "    Year  Default_Rate  Logistic_Odds\n",
       "0   2000        0.0248      -3.671799\n",
       "1   2001        0.0377      -3.239666\n",
       "2   2002        0.0360      -3.287572\n",
       "3   2003        0.0193      -3.928162\n",
       "4   2004        0.0078      -4.845801\n",
       "5   2005        0.0060      -5.109978\n",
       "6   2006        0.0048      -5.334328\n",
       "7   2007        0.0037      -5.595716\n",
       "8   2008        0.0180      -3.999220\n",
       "9   2009        0.0419      -3.129666\n",
       "10  2010        0.0121      -4.402376\n",
       "11  2011        0.0080      -4.820282\n",
       "12  2012        0.0114      -4.462676\n",
       "13  2013        0.0106      -4.536245\n",
       "14  2014        0.0069      -4.969310\n",
       "15  2015        0.0136      -4.283992\n",
       "16  2016        0.0209      -3.846885\n",
       "17  2017        0.0121      -4.402376\n",
       "18  2018        0.0103      -4.565258\n",
       "19  2019        0.0130      -4.329721\n",
       "20  2020        0.0275      -3.565684\n",
       "21  2021        0.0084      -4.771088\n",
       "22  2022        0.0098      -4.615525"
      ]
     },
     "execution_count": 244,
     "metadata": {},
     "output_type": "execute_result"
    }
   ],
   "source": [
    "# Creating the logistic odds \n",
    "df['Default_Rate'] = df['Default_Rate']/100\n",
    "def logit(dr):\n",
    "    return np.log(dr / (1 - dr))\n",
    "df['Logistic_Odds'] = df.apply(lambda row: logit(row['Default_Rate']), axis=1)\n",
    "df"
   ]
  },
  {
   "cell_type": "markdown",
   "metadata": {},
   "source": [
    "Prior to the estimation of an econometric model, a critical preparatory step is the examination of stationarity in Default Rate and macroeconomic variables. Stationarity, a fundamental premise in regression analysis, necessitates the constancy of mean, variance, and autocorrelation over time. Non-adherence to this assumption can lead to erroneous interpretations and misleading conclusions regarding the interrelationships among variables. Ensuring stationarity is pivotal for the integrity and reliability of regression outcomes, as any deviations may result in spurious correlations and diminished predictive precision of the model. A preliminary assessment of stationarity can be conducted visually by analysing the time series graph, where a stationary series is indicated by a consistent mean and variance throughout, absent of any significant long-term trends, and exhibiting stable fluctuations around the mean."
   ]
  },
  {
   "cell_type": "code",
   "execution_count": 245,
   "metadata": {},
   "outputs": [
    {
     "data": {
      "application/vnd.plotly.v1+json": {
       "config": {
        "plotlyServerURL": "https://plot.ly"
       },
       "data": [
        {
         "hovertemplate": "index=%{x}<br>Default_Rate=%{y}<extra></extra>",
         "legendgroup": "",
         "line": {
          "color": "#636efa",
          "dash": "solid",
          "shape": "linear"
         },
         "marker": {
          "symbol": "circle"
         },
         "mode": "markers+lines",
         "name": "",
         "orientation": "v",
         "showlegend": false,
         "type": "scatter",
         "x": [
          0,
          1,
          2,
          3,
          4,
          5,
          6,
          7,
          8,
          9,
          10,
          11,
          12,
          13,
          14,
          15,
          16,
          17,
          18,
          19,
          20,
          21,
          22
         ],
         "xaxis": "x",
         "y": [
          0.0248,
          0.0377,
          0.036000000000000004,
          0.019299999999999998,
          0.0078000000000000005,
          0.006,
          0.0048,
          0.0037,
          0.018000000000000002,
          0.04190000000000001,
          0.0121,
          0.008,
          0.011399999999999999,
          0.0106,
          0.0069,
          0.013600000000000001,
          0.0209,
          0.0121,
          0.0103,
          0.013000000000000001,
          0.0275,
          0.0084,
          0.0098
         ],
         "yaxis": "y"
        }
       ],
       "layout": {
        "height": 600,
        "legend": {
         "tracegroupgap": 0
        },
        "template": {
         "data": {
          "bar": [
           {
            "error_x": {
             "color": "#2a3f5f"
            },
            "error_y": {
             "color": "#2a3f5f"
            },
            "marker": {
             "line": {
              "color": "#E5ECF6",
              "width": 0.5
             },
             "pattern": {
              "fillmode": "overlay",
              "size": 10,
              "solidity": 0.2
             }
            },
            "type": "bar"
           }
          ],
          "barpolar": [
           {
            "marker": {
             "line": {
              "color": "#E5ECF6",
              "width": 0.5
             },
             "pattern": {
              "fillmode": "overlay",
              "size": 10,
              "solidity": 0.2
             }
            },
            "type": "barpolar"
           }
          ],
          "carpet": [
           {
            "aaxis": {
             "endlinecolor": "#2a3f5f",
             "gridcolor": "white",
             "linecolor": "white",
             "minorgridcolor": "white",
             "startlinecolor": "#2a3f5f"
            },
            "baxis": {
             "endlinecolor": "#2a3f5f",
             "gridcolor": "white",
             "linecolor": "white",
             "minorgridcolor": "white",
             "startlinecolor": "#2a3f5f"
            },
            "type": "carpet"
           }
          ],
          "choropleth": [
           {
            "colorbar": {
             "outlinewidth": 0,
             "ticks": ""
            },
            "type": "choropleth"
           }
          ],
          "contour": [
           {
            "colorbar": {
             "outlinewidth": 0,
             "ticks": ""
            },
            "colorscale": [
             [
              0,
              "#0d0887"
             ],
             [
              0.1111111111111111,
              "#46039f"
             ],
             [
              0.2222222222222222,
              "#7201a8"
             ],
             [
              0.3333333333333333,
              "#9c179e"
             ],
             [
              0.4444444444444444,
              "#bd3786"
             ],
             [
              0.5555555555555556,
              "#d8576b"
             ],
             [
              0.6666666666666666,
              "#ed7953"
             ],
             [
              0.7777777777777778,
              "#fb9f3a"
             ],
             [
              0.8888888888888888,
              "#fdca26"
             ],
             [
              1,
              "#f0f921"
             ]
            ],
            "type": "contour"
           }
          ],
          "contourcarpet": [
           {
            "colorbar": {
             "outlinewidth": 0,
             "ticks": ""
            },
            "type": "contourcarpet"
           }
          ],
          "heatmap": [
           {
            "colorbar": {
             "outlinewidth": 0,
             "ticks": ""
            },
            "colorscale": [
             [
              0,
              "#0d0887"
             ],
             [
              0.1111111111111111,
              "#46039f"
             ],
             [
              0.2222222222222222,
              "#7201a8"
             ],
             [
              0.3333333333333333,
              "#9c179e"
             ],
             [
              0.4444444444444444,
              "#bd3786"
             ],
             [
              0.5555555555555556,
              "#d8576b"
             ],
             [
              0.6666666666666666,
              "#ed7953"
             ],
             [
              0.7777777777777778,
              "#fb9f3a"
             ],
             [
              0.8888888888888888,
              "#fdca26"
             ],
             [
              1,
              "#f0f921"
             ]
            ],
            "type": "heatmap"
           }
          ],
          "heatmapgl": [
           {
            "colorbar": {
             "outlinewidth": 0,
             "ticks": ""
            },
            "colorscale": [
             [
              0,
              "#0d0887"
             ],
             [
              0.1111111111111111,
              "#46039f"
             ],
             [
              0.2222222222222222,
              "#7201a8"
             ],
             [
              0.3333333333333333,
              "#9c179e"
             ],
             [
              0.4444444444444444,
              "#bd3786"
             ],
             [
              0.5555555555555556,
              "#d8576b"
             ],
             [
              0.6666666666666666,
              "#ed7953"
             ],
             [
              0.7777777777777778,
              "#fb9f3a"
             ],
             [
              0.8888888888888888,
              "#fdca26"
             ],
             [
              1,
              "#f0f921"
             ]
            ],
            "type": "heatmapgl"
           }
          ],
          "histogram": [
           {
            "marker": {
             "pattern": {
              "fillmode": "overlay",
              "size": 10,
              "solidity": 0.2
             }
            },
            "type": "histogram"
           }
          ],
          "histogram2d": [
           {
            "colorbar": {
             "outlinewidth": 0,
             "ticks": ""
            },
            "colorscale": [
             [
              0,
              "#0d0887"
             ],
             [
              0.1111111111111111,
              "#46039f"
             ],
             [
              0.2222222222222222,
              "#7201a8"
             ],
             [
              0.3333333333333333,
              "#9c179e"
             ],
             [
              0.4444444444444444,
              "#bd3786"
             ],
             [
              0.5555555555555556,
              "#d8576b"
             ],
             [
              0.6666666666666666,
              "#ed7953"
             ],
             [
              0.7777777777777778,
              "#fb9f3a"
             ],
             [
              0.8888888888888888,
              "#fdca26"
             ],
             [
              1,
              "#f0f921"
             ]
            ],
            "type": "histogram2d"
           }
          ],
          "histogram2dcontour": [
           {
            "colorbar": {
             "outlinewidth": 0,
             "ticks": ""
            },
            "colorscale": [
             [
              0,
              "#0d0887"
             ],
             [
              0.1111111111111111,
              "#46039f"
             ],
             [
              0.2222222222222222,
              "#7201a8"
             ],
             [
              0.3333333333333333,
              "#9c179e"
             ],
             [
              0.4444444444444444,
              "#bd3786"
             ],
             [
              0.5555555555555556,
              "#d8576b"
             ],
             [
              0.6666666666666666,
              "#ed7953"
             ],
             [
              0.7777777777777778,
              "#fb9f3a"
             ],
             [
              0.8888888888888888,
              "#fdca26"
             ],
             [
              1,
              "#f0f921"
             ]
            ],
            "type": "histogram2dcontour"
           }
          ],
          "mesh3d": [
           {
            "colorbar": {
             "outlinewidth": 0,
             "ticks": ""
            },
            "type": "mesh3d"
           }
          ],
          "parcoords": [
           {
            "line": {
             "colorbar": {
              "outlinewidth": 0,
              "ticks": ""
             }
            },
            "type": "parcoords"
           }
          ],
          "pie": [
           {
            "automargin": true,
            "type": "pie"
           }
          ],
          "scatter": [
           {
            "fillpattern": {
             "fillmode": "overlay",
             "size": 10,
             "solidity": 0.2
            },
            "type": "scatter"
           }
          ],
          "scatter3d": [
           {
            "line": {
             "colorbar": {
              "outlinewidth": 0,
              "ticks": ""
             }
            },
            "marker": {
             "colorbar": {
              "outlinewidth": 0,
              "ticks": ""
             }
            },
            "type": "scatter3d"
           }
          ],
          "scattercarpet": [
           {
            "marker": {
             "colorbar": {
              "outlinewidth": 0,
              "ticks": ""
             }
            },
            "type": "scattercarpet"
           }
          ],
          "scattergeo": [
           {
            "marker": {
             "colorbar": {
              "outlinewidth": 0,
              "ticks": ""
             }
            },
            "type": "scattergeo"
           }
          ],
          "scattergl": [
           {
            "marker": {
             "colorbar": {
              "outlinewidth": 0,
              "ticks": ""
             }
            },
            "type": "scattergl"
           }
          ],
          "scattermapbox": [
           {
            "marker": {
             "colorbar": {
              "outlinewidth": 0,
              "ticks": ""
             }
            },
            "type": "scattermapbox"
           }
          ],
          "scatterpolar": [
           {
            "marker": {
             "colorbar": {
              "outlinewidth": 0,
              "ticks": ""
             }
            },
            "type": "scatterpolar"
           }
          ],
          "scatterpolargl": [
           {
            "marker": {
             "colorbar": {
              "outlinewidth": 0,
              "ticks": ""
             }
            },
            "type": "scatterpolargl"
           }
          ],
          "scatterternary": [
           {
            "marker": {
             "colorbar": {
              "outlinewidth": 0,
              "ticks": ""
             }
            },
            "type": "scatterternary"
           }
          ],
          "surface": [
           {
            "colorbar": {
             "outlinewidth": 0,
             "ticks": ""
            },
            "colorscale": [
             [
              0,
              "#0d0887"
             ],
             [
              0.1111111111111111,
              "#46039f"
             ],
             [
              0.2222222222222222,
              "#7201a8"
             ],
             [
              0.3333333333333333,
              "#9c179e"
             ],
             [
              0.4444444444444444,
              "#bd3786"
             ],
             [
              0.5555555555555556,
              "#d8576b"
             ],
             [
              0.6666666666666666,
              "#ed7953"
             ],
             [
              0.7777777777777778,
              "#fb9f3a"
             ],
             [
              0.8888888888888888,
              "#fdca26"
             ],
             [
              1,
              "#f0f921"
             ]
            ],
            "type": "surface"
           }
          ],
          "table": [
           {
            "cells": {
             "fill": {
              "color": "#EBF0F8"
             },
             "line": {
              "color": "white"
             }
            },
            "header": {
             "fill": {
              "color": "#C8D4E3"
             },
             "line": {
              "color": "white"
             }
            },
            "type": "table"
           }
          ]
         },
         "layout": {
          "annotationdefaults": {
           "arrowcolor": "#2a3f5f",
           "arrowhead": 0,
           "arrowwidth": 1
          },
          "autotypenumbers": "strict",
          "coloraxis": {
           "colorbar": {
            "outlinewidth": 0,
            "ticks": ""
           }
          },
          "colorscale": {
           "diverging": [
            [
             0,
             "#8e0152"
            ],
            [
             0.1,
             "#c51b7d"
            ],
            [
             0.2,
             "#de77ae"
            ],
            [
             0.3,
             "#f1b6da"
            ],
            [
             0.4,
             "#fde0ef"
            ],
            [
             0.5,
             "#f7f7f7"
            ],
            [
             0.6,
             "#e6f5d0"
            ],
            [
             0.7,
             "#b8e186"
            ],
            [
             0.8,
             "#7fbc41"
            ],
            [
             0.9,
             "#4d9221"
            ],
            [
             1,
             "#276419"
            ]
           ],
           "sequential": [
            [
             0,
             "#0d0887"
            ],
            [
             0.1111111111111111,
             "#46039f"
            ],
            [
             0.2222222222222222,
             "#7201a8"
            ],
            [
             0.3333333333333333,
             "#9c179e"
            ],
            [
             0.4444444444444444,
             "#bd3786"
            ],
            [
             0.5555555555555556,
             "#d8576b"
            ],
            [
             0.6666666666666666,
             "#ed7953"
            ],
            [
             0.7777777777777778,
             "#fb9f3a"
            ],
            [
             0.8888888888888888,
             "#fdca26"
            ],
            [
             1,
             "#f0f921"
            ]
           ],
           "sequentialminus": [
            [
             0,
             "#0d0887"
            ],
            [
             0.1111111111111111,
             "#46039f"
            ],
            [
             0.2222222222222222,
             "#7201a8"
            ],
            [
             0.3333333333333333,
             "#9c179e"
            ],
            [
             0.4444444444444444,
             "#bd3786"
            ],
            [
             0.5555555555555556,
             "#d8576b"
            ],
            [
             0.6666666666666666,
             "#ed7953"
            ],
            [
             0.7777777777777778,
             "#fb9f3a"
            ],
            [
             0.8888888888888888,
             "#fdca26"
            ],
            [
             1,
             "#f0f921"
            ]
           ]
          },
          "colorway": [
           "#636efa",
           "#EF553B",
           "#00cc96",
           "#ab63fa",
           "#FFA15A",
           "#19d3f3",
           "#FF6692",
           "#B6E880",
           "#FF97FF",
           "#FECB52"
          ],
          "font": {
           "color": "#2a3f5f"
          },
          "geo": {
           "bgcolor": "white",
           "lakecolor": "white",
           "landcolor": "#E5ECF6",
           "showlakes": true,
           "showland": true,
           "subunitcolor": "white"
          },
          "hoverlabel": {
           "align": "left"
          },
          "hovermode": "closest",
          "mapbox": {
           "style": "light"
          },
          "paper_bgcolor": "white",
          "plot_bgcolor": "#E5ECF6",
          "polar": {
           "angularaxis": {
            "gridcolor": "white",
            "linecolor": "white",
            "ticks": ""
           },
           "bgcolor": "#E5ECF6",
           "radialaxis": {
            "gridcolor": "white",
            "linecolor": "white",
            "ticks": ""
           }
          },
          "scene": {
           "xaxis": {
            "backgroundcolor": "#E5ECF6",
            "gridcolor": "white",
            "gridwidth": 2,
            "linecolor": "white",
            "showbackground": true,
            "ticks": "",
            "zerolinecolor": "white"
           },
           "yaxis": {
            "backgroundcolor": "#E5ECF6",
            "gridcolor": "white",
            "gridwidth": 2,
            "linecolor": "white",
            "showbackground": true,
            "ticks": "",
            "zerolinecolor": "white"
           },
           "zaxis": {
            "backgroundcolor": "#E5ECF6",
            "gridcolor": "white",
            "gridwidth": 2,
            "linecolor": "white",
            "showbackground": true,
            "ticks": "",
            "zerolinecolor": "white"
           }
          },
          "shapedefaults": {
           "line": {
            "color": "#2a3f5f"
           }
          },
          "ternary": {
           "aaxis": {
            "gridcolor": "white",
            "linecolor": "white",
            "ticks": ""
           },
           "baxis": {
            "gridcolor": "white",
            "linecolor": "white",
            "ticks": ""
           },
           "bgcolor": "#E5ECF6",
           "caxis": {
            "gridcolor": "white",
            "linecolor": "white",
            "ticks": ""
           }
          },
          "title": {
           "x": 0.05
          },
          "xaxis": {
           "automargin": true,
           "gridcolor": "white",
           "linecolor": "white",
           "ticks": "",
           "title": {
            "standoff": 15
           },
           "zerolinecolor": "white",
           "zerolinewidth": 2
          },
          "yaxis": {
           "automargin": true,
           "gridcolor": "white",
           "linecolor": "white",
           "ticks": "",
           "title": {
            "standoff": 15
           },
           "zerolinecolor": "white",
           "zerolinewidth": 2
          }
         }
        },
        "title": {
         "text": "Default Rate"
        },
        "width": 600,
        "xaxis": {
         "anchor": "y",
         "domain": [
          0,
          1
         ],
         "showgrid": true,
         "showline": true,
         "showticklabels": true,
         "title": {
          "text": "index"
         },
         "zeroline": true
        },
        "yaxis": {
         "anchor": "x",
         "domain": [
          0,
          1
         ],
         "title": {
          "text": "Default_Rate"
         }
        }
       }
      }
     },
     "metadata": {},
     "output_type": "display_data"
    }
   ],
   "source": [
    "# Plot of the Default Rate \n",
    "\n",
    "import plotly.express as px \n",
    "\n",
    "fig = px.line(df, y=\"Default_Rate\", #, x=\"Year\"\n",
    "              title='Default Rate',\n",
    "              width=600, height=600,\n",
    "              line_shape='linear')\n",
    "\n",
    "fig.update_xaxes(showgrid=True,\n",
    "        zeroline=True,\n",
    "        showline=True,\n",
    "        showticklabels=True,)\n",
    "\n",
    "fig.update_traces(mode='markers+lines')\n",
    "fig.show()"
   ]
  },
  {
   "cell_type": "markdown",
   "metadata": {},
   "source": [
    "It is possible to see on the above presented graph that Default Rates seems to be without an obvious trend which would suggest that it is a stationary time series. To make sure, one of the most popular among unit root tests is performed. Statistical test called Augmented Dickey-Fuller (ADF) test is used and the same is performed for the other variables i.e Macroeconomic Variables. This test assesses the H0 hypothesis – time series is non-stationary, where the alternative hypothesis H1 means that time series is stationary. To indicate that, the p-value of the test lower than 5% allow for rejection of null hypothesis."
   ]
  },
  {
   "cell_type": "code",
   "execution_count": 246,
   "metadata": {},
   "outputs": [],
   "source": [
    "# Defining a function to perform stationarity test ADF\n",
    "\n",
    "def stationarity_test(df1, df2, lag):\n",
    "\n",
    "    dff = pd.DataFrame(columns=['ADF Statistic:', 'p-value:', 'usedlags:','nobs:'])\n",
    "\n",
    "    def perform_adf_test(series, col):\n",
    "        result = adfuller(series, maxlag=lag,  autolag=None, regression='ct')\n",
    "        dff.loc[col, ['ADF Statistic:']] = result[0]\n",
    "        dff.loc[col, ['p-value:']] = result[1]\n",
    "        dff.loc[col, ['usedlags:']] = result[2]\n",
    "        dff.loc[col, ['nobs:']] = result[3]\n",
    "\n",
    "    for column in df1.columns:\n",
    "        perform_adf_test(df1[column], column)\n",
    "\n",
    "    result = adfuller(df2['Default_Rate'], maxlag=lag,  autolag=None, regression='ct')              #maxlag=0, autolag='t-stat',)\n",
    "    if 'Default_Rate_diff' in df2.columns: \n",
    "        result2 = adfuller(df2['Default_Rate_diff'], maxlag=lag,  autolag=None, regression='ct')\n",
    "        dff.loc['Default_Rate_diff', ['ADF Statistic:']] = result2[0]\n",
    "        dff.loc['Default_Rate_diff', ['p-value:']] = result2[1]\n",
    "        dff.loc['Default_Rate_diff', ['usedlags:']] = result2[2]\n",
    "        dff.loc['Default_Rate_diff', ['nobs:']] = result2[3]\n",
    "    dff.loc['Default_Rate', ['ADF Statistic:']] = result[0]\n",
    "    dff.loc['Default_Rate', ['p-value:']] = result[1]\n",
    "    dff.loc['Default_Rate', ['usedlags:']] = result[2]\n",
    "    dff.loc['Default_Rate', ['nobs:']] = result[3]\n",
    "\n",
    "    return dff\n",
    "\n",
    "df0lag = stationarity_test(Nofirstcol, df, 0)\n",
    "df1lag = stationarity_test(Nofirstcol, df, 1)\n",
    "df2lag = stationarity_test(Nofirstcol, df, 2)"
   ]
  },
  {
   "cell_type": "code",
   "execution_count": 247,
   "metadata": {},
   "outputs": [
    {
     "data": {
      "text/html": [
       "<div>\n",
       "<style scoped>\n",
       "    .dataframe tbody tr th:only-of-type {\n",
       "        vertical-align: middle;\n",
       "    }\n",
       "\n",
       "    .dataframe tbody tr th {\n",
       "        vertical-align: top;\n",
       "    }\n",
       "\n",
       "    .dataframe thead th {\n",
       "        text-align: right;\n",
       "    }\n",
       "</style>\n",
       "<table border=\"1\" class=\"dataframe\">\n",
       "  <thead>\n",
       "    <tr style=\"text-align: right;\">\n",
       "      <th></th>\n",
       "      <th>ADF Statistic:</th>\n",
       "      <th>p-value:</th>\n",
       "      <th>usedlags:</th>\n",
       "      <th>nobs:</th>\n",
       "    </tr>\n",
       "  </thead>\n",
       "  <tbody>\n",
       "    <tr>\n",
       "      <th>Unemployment rate</th>\n",
       "      <td>-1.205772</td>\n",
       "      <td>0.909313</td>\n",
       "      <td>1</td>\n",
       "      <td>21</td>\n",
       "    </tr>\n",
       "    <tr>\n",
       "      <th>Consumer Price Index</th>\n",
       "      <td>-2.120793</td>\n",
       "      <td>0.534435</td>\n",
       "      <td>1</td>\n",
       "      <td>21</td>\n",
       "    </tr>\n",
       "    <tr>\n",
       "      <th>Real Gross Domestic Product</th>\n",
       "      <td>-3.004985</td>\n",
       "      <td>0.130693</td>\n",
       "      <td>1</td>\n",
       "      <td>21</td>\n",
       "    </tr>\n",
       "    <tr>\n",
       "      <th>EURIBOR - 3-Month</th>\n",
       "      <td>-3.005445</td>\n",
       "      <td>0.130565</td>\n",
       "      <td>1</td>\n",
       "      <td>21</td>\n",
       "    </tr>\n",
       "    <tr>\n",
       "      <th>Central government bond yield curve</th>\n",
       "      <td>-1.967249</td>\n",
       "      <td>0.619155</td>\n",
       "      <td>1</td>\n",
       "      <td>21</td>\n",
       "    </tr>\n",
       "    <tr>\n",
       "      <th>Yield Structure</th>\n",
       "      <td>-2.751716</td>\n",
       "      <td>0.215243</td>\n",
       "      <td>1</td>\n",
       "      <td>21</td>\n",
       "    </tr>\n",
       "    <tr>\n",
       "      <th>Default_Rate</th>\n",
       "      <td>-3.732317</td>\n",
       "      <td>0.020315</td>\n",
       "      <td>1</td>\n",
       "      <td>21</td>\n",
       "    </tr>\n",
       "  </tbody>\n",
       "</table>\n",
       "</div>"
      ],
      "text/plain": [
       "                                     ADF Statistic:  p-value: usedlags: nobs:\n",
       "Unemployment rate                         -1.205772  0.909313         1    21\n",
       "Consumer Price Index                      -2.120793  0.534435         1    21\n",
       "Real Gross Domestic Product               -3.004985  0.130693         1    21\n",
       "EURIBOR - 3-Month                         -3.005445  0.130565         1    21\n",
       "Central government bond yield curve       -1.967249  0.619155         1    21\n",
       "Yield Structure                           -2.751716  0.215243         1    21\n",
       "Default_Rate                              -3.732317  0.020315         1    21"
      ]
     },
     "execution_count": 247,
     "metadata": {},
     "output_type": "execute_result"
    }
   ],
   "source": [
    "stationarity_test(Nofirstcol.dropna(),df.dropna(),1)"
   ]
  },
  {
   "cell_type": "markdown",
   "metadata": {},
   "source": [
    "As expected, the test results presented in the above table allow for rejection of null hypothesis for the Default Rate, however null hypothesis is confirmed for the rest of variables tested. In order to make macroeconomic variables stationary which is needed for further model, a simple differencing method is used. By looking at the data and even on the Figure 2 it can be seen that unfortunately a negative values occur for example for EURIBOR – 3-month which wont allow to perform log differencing."
   ]
  },
  {
   "cell_type": "markdown",
   "metadata": {},
   "source": [
    "To maintain consistency, simple differencing with the below presented formula is performed. (Please see pdf report)\n",
    "Application of this differencing formula should make variables stationary. To confirm that the ADF test was performed again and the results are presented on the below Table"
   ]
  },
  {
   "cell_type": "code",
   "execution_count": 248,
   "metadata": {},
   "outputs": [
    {
     "data": {
      "text/html": [
       "<div>\n",
       "<style scoped>\n",
       "    .dataframe tbody tr th:only-of-type {\n",
       "        vertical-align: middle;\n",
       "    }\n",
       "\n",
       "    .dataframe tbody tr th {\n",
       "        vertical-align: top;\n",
       "    }\n",
       "\n",
       "    .dataframe thead th {\n",
       "        text-align: right;\n",
       "    }\n",
       "</style>\n",
       "<table border=\"1\" class=\"dataframe\">\n",
       "  <thead>\n",
       "    <tr style=\"text-align: right;\">\n",
       "      <th></th>\n",
       "      <th>Year</th>\n",
       "      <th>Default_Rate</th>\n",
       "      <th>Logistic_Odds</th>\n",
       "      <th>Default_Rate_diff</th>\n",
       "    </tr>\n",
       "  </thead>\n",
       "  <tbody>\n",
       "    <tr>\n",
       "      <th>1</th>\n",
       "      <td>2001</td>\n",
       "      <td>0.0377</td>\n",
       "      <td>-3.239666</td>\n",
       "      <td>0.0129</td>\n",
       "    </tr>\n",
       "    <tr>\n",
       "      <th>2</th>\n",
       "      <td>2002</td>\n",
       "      <td>0.0360</td>\n",
       "      <td>-3.287572</td>\n",
       "      <td>-0.0017</td>\n",
       "    </tr>\n",
       "    <tr>\n",
       "      <th>3</th>\n",
       "      <td>2003</td>\n",
       "      <td>0.0193</td>\n",
       "      <td>-3.928162</td>\n",
       "      <td>-0.0167</td>\n",
       "    </tr>\n",
       "    <tr>\n",
       "      <th>4</th>\n",
       "      <td>2004</td>\n",
       "      <td>0.0078</td>\n",
       "      <td>-4.845801</td>\n",
       "      <td>-0.0115</td>\n",
       "    </tr>\n",
       "    <tr>\n",
       "      <th>5</th>\n",
       "      <td>2005</td>\n",
       "      <td>0.0060</td>\n",
       "      <td>-5.109978</td>\n",
       "      <td>-0.0018</td>\n",
       "    </tr>\n",
       "    <tr>\n",
       "      <th>6</th>\n",
       "      <td>2006</td>\n",
       "      <td>0.0048</td>\n",
       "      <td>-5.334328</td>\n",
       "      <td>-0.0012</td>\n",
       "    </tr>\n",
       "    <tr>\n",
       "      <th>7</th>\n",
       "      <td>2007</td>\n",
       "      <td>0.0037</td>\n",
       "      <td>-5.595716</td>\n",
       "      <td>-0.0011</td>\n",
       "    </tr>\n",
       "    <tr>\n",
       "      <th>8</th>\n",
       "      <td>2008</td>\n",
       "      <td>0.0180</td>\n",
       "      <td>-3.999220</td>\n",
       "      <td>0.0143</td>\n",
       "    </tr>\n",
       "    <tr>\n",
       "      <th>9</th>\n",
       "      <td>2009</td>\n",
       "      <td>0.0419</td>\n",
       "      <td>-3.129666</td>\n",
       "      <td>0.0239</td>\n",
       "    </tr>\n",
       "    <tr>\n",
       "      <th>10</th>\n",
       "      <td>2010</td>\n",
       "      <td>0.0121</td>\n",
       "      <td>-4.402376</td>\n",
       "      <td>-0.0298</td>\n",
       "    </tr>\n",
       "    <tr>\n",
       "      <th>11</th>\n",
       "      <td>2011</td>\n",
       "      <td>0.0080</td>\n",
       "      <td>-4.820282</td>\n",
       "      <td>-0.0041</td>\n",
       "    </tr>\n",
       "    <tr>\n",
       "      <th>12</th>\n",
       "      <td>2012</td>\n",
       "      <td>0.0114</td>\n",
       "      <td>-4.462676</td>\n",
       "      <td>0.0034</td>\n",
       "    </tr>\n",
       "    <tr>\n",
       "      <th>13</th>\n",
       "      <td>2013</td>\n",
       "      <td>0.0106</td>\n",
       "      <td>-4.536245</td>\n",
       "      <td>-0.0008</td>\n",
       "    </tr>\n",
       "    <tr>\n",
       "      <th>14</th>\n",
       "      <td>2014</td>\n",
       "      <td>0.0069</td>\n",
       "      <td>-4.969310</td>\n",
       "      <td>-0.0037</td>\n",
       "    </tr>\n",
       "    <tr>\n",
       "      <th>15</th>\n",
       "      <td>2015</td>\n",
       "      <td>0.0136</td>\n",
       "      <td>-4.283992</td>\n",
       "      <td>0.0067</td>\n",
       "    </tr>\n",
       "    <tr>\n",
       "      <th>16</th>\n",
       "      <td>2016</td>\n",
       "      <td>0.0209</td>\n",
       "      <td>-3.846885</td>\n",
       "      <td>0.0073</td>\n",
       "    </tr>\n",
       "    <tr>\n",
       "      <th>17</th>\n",
       "      <td>2017</td>\n",
       "      <td>0.0121</td>\n",
       "      <td>-4.402376</td>\n",
       "      <td>-0.0088</td>\n",
       "    </tr>\n",
       "    <tr>\n",
       "      <th>18</th>\n",
       "      <td>2018</td>\n",
       "      <td>0.0103</td>\n",
       "      <td>-4.565258</td>\n",
       "      <td>-0.0018</td>\n",
       "    </tr>\n",
       "    <tr>\n",
       "      <th>19</th>\n",
       "      <td>2019</td>\n",
       "      <td>0.0130</td>\n",
       "      <td>-4.329721</td>\n",
       "      <td>0.0027</td>\n",
       "    </tr>\n",
       "    <tr>\n",
       "      <th>20</th>\n",
       "      <td>2020</td>\n",
       "      <td>0.0275</td>\n",
       "      <td>-3.565684</td>\n",
       "      <td>0.0145</td>\n",
       "    </tr>\n",
       "    <tr>\n",
       "      <th>21</th>\n",
       "      <td>2021</td>\n",
       "      <td>0.0084</td>\n",
       "      <td>-4.771088</td>\n",
       "      <td>-0.0191</td>\n",
       "    </tr>\n",
       "    <tr>\n",
       "      <th>22</th>\n",
       "      <td>2022</td>\n",
       "      <td>0.0098</td>\n",
       "      <td>-4.615525</td>\n",
       "      <td>0.0014</td>\n",
       "    </tr>\n",
       "  </tbody>\n",
       "</table>\n",
       "</div>"
      ],
      "text/plain": [
       "    Year  Default_Rate  Logistic_Odds  Default_Rate_diff\n",
       "1   2001        0.0377      -3.239666             0.0129\n",
       "2   2002        0.0360      -3.287572            -0.0017\n",
       "3   2003        0.0193      -3.928162            -0.0167\n",
       "4   2004        0.0078      -4.845801            -0.0115\n",
       "5   2005        0.0060      -5.109978            -0.0018\n",
       "6   2006        0.0048      -5.334328            -0.0012\n",
       "7   2007        0.0037      -5.595716            -0.0011\n",
       "8   2008        0.0180      -3.999220             0.0143\n",
       "9   2009        0.0419      -3.129666             0.0239\n",
       "10  2010        0.0121      -4.402376            -0.0298\n",
       "11  2011        0.0080      -4.820282            -0.0041\n",
       "12  2012        0.0114      -4.462676             0.0034\n",
       "13  2013        0.0106      -4.536245            -0.0008\n",
       "14  2014        0.0069      -4.969310            -0.0037\n",
       "15  2015        0.0136      -4.283992             0.0067\n",
       "16  2016        0.0209      -3.846885             0.0073\n",
       "17  2017        0.0121      -4.402376            -0.0088\n",
       "18  2018        0.0103      -4.565258            -0.0018\n",
       "19  2019        0.0130      -4.329721             0.0027\n",
       "20  2020        0.0275      -3.565684             0.0145\n",
       "21  2021        0.0084      -4.771088            -0.0191\n",
       "22  2022        0.0098      -4.615525             0.0014"
      ]
     },
     "execution_count": 248,
     "metadata": {},
     "output_type": "execute_result"
    }
   ],
   "source": [
    "# Differencing to make variables stationary\n",
    "\n",
    "for column in Nofirstcol.columns:\n",
    "    Nofirstcol[f'{column}_diff'] = Nofirstcol[column].diff()\n",
    "\n",
    "df['Default_Rate_diff'] = df['Default_Rate'].diff()\n",
    "\n",
    "# Dropna to exclude first row that contains nan values due to differencing\n",
    "Nofirstcol.dropna()\n",
    "df.dropna()"
   ]
  },
  {
   "cell_type": "code",
   "execution_count": 249,
   "metadata": {},
   "outputs": [
    {
     "data": {
      "text/html": [
       "<div>\n",
       "<style scoped>\n",
       "    .dataframe tbody tr th:only-of-type {\n",
       "        vertical-align: middle;\n",
       "    }\n",
       "\n",
       "    .dataframe tbody tr th {\n",
       "        vertical-align: top;\n",
       "    }\n",
       "\n",
       "    .dataframe thead th {\n",
       "        text-align: right;\n",
       "    }\n",
       "</style>\n",
       "<table border=\"1\" class=\"dataframe\">\n",
       "  <thead>\n",
       "    <tr style=\"text-align: right;\">\n",
       "      <th></th>\n",
       "      <th>ADF Statistic:</th>\n",
       "      <th>p-value:</th>\n",
       "      <th>usedlags:</th>\n",
       "      <th>nobs:</th>\n",
       "    </tr>\n",
       "  </thead>\n",
       "  <tbody>\n",
       "    <tr>\n",
       "      <th>Unemployment rate</th>\n",
       "      <td>-1.170983</td>\n",
       "      <td>0.916281</td>\n",
       "      <td>1</td>\n",
       "      <td>20</td>\n",
       "    </tr>\n",
       "    <tr>\n",
       "      <th>Consumer Price Index</th>\n",
       "      <td>-2.025984</td>\n",
       "      <td>0.587211</td>\n",
       "      <td>1</td>\n",
       "      <td>20</td>\n",
       "    </tr>\n",
       "    <tr>\n",
       "      <th>Real Gross Domestic Product</th>\n",
       "      <td>-2.998865</td>\n",
       "      <td>0.132399</td>\n",
       "      <td>1</td>\n",
       "      <td>20</td>\n",
       "    </tr>\n",
       "    <tr>\n",
       "      <th>EURIBOR - 3-Month</th>\n",
       "      <td>-2.862584</td>\n",
       "      <td>0.174908</td>\n",
       "      <td>1</td>\n",
       "      <td>20</td>\n",
       "    </tr>\n",
       "    <tr>\n",
       "      <th>Central government bond yield curve</th>\n",
       "      <td>-1.8741</td>\n",
       "      <td>0.667982</td>\n",
       "      <td>1</td>\n",
       "      <td>20</td>\n",
       "    </tr>\n",
       "    <tr>\n",
       "      <th>Yield Structure</th>\n",
       "      <td>-2.55375</td>\n",
       "      <td>0.30163</td>\n",
       "      <td>1</td>\n",
       "      <td>20</td>\n",
       "    </tr>\n",
       "    <tr>\n",
       "      <th>Unemployment rate_diff</th>\n",
       "      <td>-3.023537</td>\n",
       "      <td>0.125619</td>\n",
       "      <td>1</td>\n",
       "      <td>20</td>\n",
       "    </tr>\n",
       "    <tr>\n",
       "      <th>Consumer Price Index_diff</th>\n",
       "      <td>-1.072176</td>\n",
       "      <td>0.933585</td>\n",
       "      <td>1</td>\n",
       "      <td>20</td>\n",
       "    </tr>\n",
       "    <tr>\n",
       "      <th>Real Gross Domestic Product_diff</th>\n",
       "      <td>-4.047442</td>\n",
       "      <td>0.007521</td>\n",
       "      <td>1</td>\n",
       "      <td>20</td>\n",
       "    </tr>\n",
       "    <tr>\n",
       "      <th>EURIBOR - 3-Month_diff</th>\n",
       "      <td>-4.093784</td>\n",
       "      <td>0.00644</td>\n",
       "      <td>1</td>\n",
       "      <td>20</td>\n",
       "    </tr>\n",
       "    <tr>\n",
       "      <th>Central government bond yield curve _diff</th>\n",
       "      <td>-1.803408</td>\n",
       "      <td>0.703113</td>\n",
       "      <td>1</td>\n",
       "      <td>20</td>\n",
       "    </tr>\n",
       "    <tr>\n",
       "      <th>Yield Structure_diff</th>\n",
       "      <td>-3.157319</td>\n",
       "      <td>0.093247</td>\n",
       "      <td>1</td>\n",
       "      <td>20</td>\n",
       "    </tr>\n",
       "    <tr>\n",
       "      <th>Default_Rate_diff</th>\n",
       "      <td>-4.712749</td>\n",
       "      <td>0.000664</td>\n",
       "      <td>1</td>\n",
       "      <td>20</td>\n",
       "    </tr>\n",
       "    <tr>\n",
       "      <th>Default_Rate</th>\n",
       "      <td>-4.319384</td>\n",
       "      <td>0.002935</td>\n",
       "      <td>1</td>\n",
       "      <td>20</td>\n",
       "    </tr>\n",
       "  </tbody>\n",
       "</table>\n",
       "</div>"
      ],
      "text/plain": [
       "                                          ADF Statistic:  p-value: usedlags:  \\\n",
       "Unemployment rate                              -1.170983  0.916281         1   \n",
       "Consumer Price Index                           -2.025984  0.587211         1   \n",
       "Real Gross Domestic Product                    -2.998865  0.132399         1   \n",
       "EURIBOR - 3-Month                              -2.862584  0.174908         1   \n",
       "Central government bond yield curve              -1.8741  0.667982         1   \n",
       "Yield Structure                                 -2.55375   0.30163         1   \n",
       "Unemployment rate_diff                         -3.023537  0.125619         1   \n",
       "Consumer Price Index_diff                      -1.072176  0.933585         1   \n",
       "Real Gross Domestic Product_diff               -4.047442  0.007521         1   \n",
       "EURIBOR - 3-Month_diff                         -4.093784   0.00644         1   \n",
       "Central government bond yield curve _diff      -1.803408  0.703113         1   \n",
       "Yield Structure_diff                           -3.157319  0.093247         1   \n",
       "Default_Rate_diff                              -4.712749  0.000664         1   \n",
       "Default_Rate                                   -4.319384  0.002935         1   \n",
       "\n",
       "                                          nobs:  \n",
       "Unemployment rate                            20  \n",
       "Consumer Price Index                         20  \n",
       "Real Gross Domestic Product                  20  \n",
       "EURIBOR - 3-Month                            20  \n",
       "Central government bond yield curve          20  \n",
       "Yield Structure                              20  \n",
       "Unemployment rate_diff                       20  \n",
       "Consumer Price Index_diff                    20  \n",
       "Real Gross Domestic Product_diff             20  \n",
       "EURIBOR - 3-Month_diff                       20  \n",
       "Central government bond yield curve _diff    20  \n",
       "Yield Structure_diff                         20  \n",
       "Default_Rate_diff                            20  \n",
       "Default_Rate                                 20  "
      ]
     },
     "execution_count": 249,
     "metadata": {},
     "output_type": "execute_result"
    }
   ],
   "source": [
    "stationarity_test(Nofirstcol.dropna(),df.dropna(),1)"
   ]
  },
  {
   "cell_type": "code",
   "execution_count": 250,
   "metadata": {},
   "outputs": [
    {
     "data": {
      "application/vnd.plotly.v1+json": {
       "config": {
        "plotlyServerURL": "https://plot.ly"
       },
       "data": [
        {
         "hovertemplate": "index=%{x}<br>Yield Structure=%{y}<extra></extra>",
         "legendgroup": "",
         "line": {
          "color": "#636efa",
          "dash": "solid",
          "shape": "linear"
         },
         "marker": {
          "symbol": "circle"
         },
         "mode": "markers+lines",
         "name": "",
         "orientation": "v",
         "showlegend": false,
         "type": "scatter",
         "x": [
          0,
          1,
          2,
          3,
          4,
          5,
          6,
          7,
          8,
          9,
          10,
          11,
          12,
          13,
          14,
          15,
          16,
          17,
          18,
          19,
          20,
          21,
          22
         ],
         "xaxis": "x",
         "y": [
          1.0471103174524758,
          0.7655121125823445,
          1.6043082206011987,
          1.8273868820479655,
          2.034091886716585,
          1.2592638960207303,
          0.7323760683740992,
          0.0037211146544144924,
          -0.2645267679542398,
          2.8193742282950014,
          2.9306785218253975,
          2.8826587885664683,
          3.077363085990488,
          2.793826913755571,
          1.890731029934098,
          1.224430860005586,
          1.0520105838424176,
          1.4497752178549224,
          1.4930143365063941,
          0.7694287775297013,
          0.5087737824696922,
          0.6530138526407098,
          1.44
         ],
         "yaxis": "y"
        }
       ],
       "layout": {
        "height": 600,
        "legend": {
         "tracegroupgap": 0
        },
        "template": {
         "data": {
          "bar": [
           {
            "error_x": {
             "color": "#2a3f5f"
            },
            "error_y": {
             "color": "#2a3f5f"
            },
            "marker": {
             "line": {
              "color": "#E5ECF6",
              "width": 0.5
             },
             "pattern": {
              "fillmode": "overlay",
              "size": 10,
              "solidity": 0.2
             }
            },
            "type": "bar"
           }
          ],
          "barpolar": [
           {
            "marker": {
             "line": {
              "color": "#E5ECF6",
              "width": 0.5
             },
             "pattern": {
              "fillmode": "overlay",
              "size": 10,
              "solidity": 0.2
             }
            },
            "type": "barpolar"
           }
          ],
          "carpet": [
           {
            "aaxis": {
             "endlinecolor": "#2a3f5f",
             "gridcolor": "white",
             "linecolor": "white",
             "minorgridcolor": "white",
             "startlinecolor": "#2a3f5f"
            },
            "baxis": {
             "endlinecolor": "#2a3f5f",
             "gridcolor": "white",
             "linecolor": "white",
             "minorgridcolor": "white",
             "startlinecolor": "#2a3f5f"
            },
            "type": "carpet"
           }
          ],
          "choropleth": [
           {
            "colorbar": {
             "outlinewidth": 0,
             "ticks": ""
            },
            "type": "choropleth"
           }
          ],
          "contour": [
           {
            "colorbar": {
             "outlinewidth": 0,
             "ticks": ""
            },
            "colorscale": [
             [
              0,
              "#0d0887"
             ],
             [
              0.1111111111111111,
              "#46039f"
             ],
             [
              0.2222222222222222,
              "#7201a8"
             ],
             [
              0.3333333333333333,
              "#9c179e"
             ],
             [
              0.4444444444444444,
              "#bd3786"
             ],
             [
              0.5555555555555556,
              "#d8576b"
             ],
             [
              0.6666666666666666,
              "#ed7953"
             ],
             [
              0.7777777777777778,
              "#fb9f3a"
             ],
             [
              0.8888888888888888,
              "#fdca26"
             ],
             [
              1,
              "#f0f921"
             ]
            ],
            "type": "contour"
           }
          ],
          "contourcarpet": [
           {
            "colorbar": {
             "outlinewidth": 0,
             "ticks": ""
            },
            "type": "contourcarpet"
           }
          ],
          "heatmap": [
           {
            "colorbar": {
             "outlinewidth": 0,
             "ticks": ""
            },
            "colorscale": [
             [
              0,
              "#0d0887"
             ],
             [
              0.1111111111111111,
              "#46039f"
             ],
             [
              0.2222222222222222,
              "#7201a8"
             ],
             [
              0.3333333333333333,
              "#9c179e"
             ],
             [
              0.4444444444444444,
              "#bd3786"
             ],
             [
              0.5555555555555556,
              "#d8576b"
             ],
             [
              0.6666666666666666,
              "#ed7953"
             ],
             [
              0.7777777777777778,
              "#fb9f3a"
             ],
             [
              0.8888888888888888,
              "#fdca26"
             ],
             [
              1,
              "#f0f921"
             ]
            ],
            "type": "heatmap"
           }
          ],
          "heatmapgl": [
           {
            "colorbar": {
             "outlinewidth": 0,
             "ticks": ""
            },
            "colorscale": [
             [
              0,
              "#0d0887"
             ],
             [
              0.1111111111111111,
              "#46039f"
             ],
             [
              0.2222222222222222,
              "#7201a8"
             ],
             [
              0.3333333333333333,
              "#9c179e"
             ],
             [
              0.4444444444444444,
              "#bd3786"
             ],
             [
              0.5555555555555556,
              "#d8576b"
             ],
             [
              0.6666666666666666,
              "#ed7953"
             ],
             [
              0.7777777777777778,
              "#fb9f3a"
             ],
             [
              0.8888888888888888,
              "#fdca26"
             ],
             [
              1,
              "#f0f921"
             ]
            ],
            "type": "heatmapgl"
           }
          ],
          "histogram": [
           {
            "marker": {
             "pattern": {
              "fillmode": "overlay",
              "size": 10,
              "solidity": 0.2
             }
            },
            "type": "histogram"
           }
          ],
          "histogram2d": [
           {
            "colorbar": {
             "outlinewidth": 0,
             "ticks": ""
            },
            "colorscale": [
             [
              0,
              "#0d0887"
             ],
             [
              0.1111111111111111,
              "#46039f"
             ],
             [
              0.2222222222222222,
              "#7201a8"
             ],
             [
              0.3333333333333333,
              "#9c179e"
             ],
             [
              0.4444444444444444,
              "#bd3786"
             ],
             [
              0.5555555555555556,
              "#d8576b"
             ],
             [
              0.6666666666666666,
              "#ed7953"
             ],
             [
              0.7777777777777778,
              "#fb9f3a"
             ],
             [
              0.8888888888888888,
              "#fdca26"
             ],
             [
              1,
              "#f0f921"
             ]
            ],
            "type": "histogram2d"
           }
          ],
          "histogram2dcontour": [
           {
            "colorbar": {
             "outlinewidth": 0,
             "ticks": ""
            },
            "colorscale": [
             [
              0,
              "#0d0887"
             ],
             [
              0.1111111111111111,
              "#46039f"
             ],
             [
              0.2222222222222222,
              "#7201a8"
             ],
             [
              0.3333333333333333,
              "#9c179e"
             ],
             [
              0.4444444444444444,
              "#bd3786"
             ],
             [
              0.5555555555555556,
              "#d8576b"
             ],
             [
              0.6666666666666666,
              "#ed7953"
             ],
             [
              0.7777777777777778,
              "#fb9f3a"
             ],
             [
              0.8888888888888888,
              "#fdca26"
             ],
             [
              1,
              "#f0f921"
             ]
            ],
            "type": "histogram2dcontour"
           }
          ],
          "mesh3d": [
           {
            "colorbar": {
             "outlinewidth": 0,
             "ticks": ""
            },
            "type": "mesh3d"
           }
          ],
          "parcoords": [
           {
            "line": {
             "colorbar": {
              "outlinewidth": 0,
              "ticks": ""
             }
            },
            "type": "parcoords"
           }
          ],
          "pie": [
           {
            "automargin": true,
            "type": "pie"
           }
          ],
          "scatter": [
           {
            "fillpattern": {
             "fillmode": "overlay",
             "size": 10,
             "solidity": 0.2
            },
            "type": "scatter"
           }
          ],
          "scatter3d": [
           {
            "line": {
             "colorbar": {
              "outlinewidth": 0,
              "ticks": ""
             }
            },
            "marker": {
             "colorbar": {
              "outlinewidth": 0,
              "ticks": ""
             }
            },
            "type": "scatter3d"
           }
          ],
          "scattercarpet": [
           {
            "marker": {
             "colorbar": {
              "outlinewidth": 0,
              "ticks": ""
             }
            },
            "type": "scattercarpet"
           }
          ],
          "scattergeo": [
           {
            "marker": {
             "colorbar": {
              "outlinewidth": 0,
              "ticks": ""
             }
            },
            "type": "scattergeo"
           }
          ],
          "scattergl": [
           {
            "marker": {
             "colorbar": {
              "outlinewidth": 0,
              "ticks": ""
             }
            },
            "type": "scattergl"
           }
          ],
          "scattermapbox": [
           {
            "marker": {
             "colorbar": {
              "outlinewidth": 0,
              "ticks": ""
             }
            },
            "type": "scattermapbox"
           }
          ],
          "scatterpolar": [
           {
            "marker": {
             "colorbar": {
              "outlinewidth": 0,
              "ticks": ""
             }
            },
            "type": "scatterpolar"
           }
          ],
          "scatterpolargl": [
           {
            "marker": {
             "colorbar": {
              "outlinewidth": 0,
              "ticks": ""
             }
            },
            "type": "scatterpolargl"
           }
          ],
          "scatterternary": [
           {
            "marker": {
             "colorbar": {
              "outlinewidth": 0,
              "ticks": ""
             }
            },
            "type": "scatterternary"
           }
          ],
          "surface": [
           {
            "colorbar": {
             "outlinewidth": 0,
             "ticks": ""
            },
            "colorscale": [
             [
              0,
              "#0d0887"
             ],
             [
              0.1111111111111111,
              "#46039f"
             ],
             [
              0.2222222222222222,
              "#7201a8"
             ],
             [
              0.3333333333333333,
              "#9c179e"
             ],
             [
              0.4444444444444444,
              "#bd3786"
             ],
             [
              0.5555555555555556,
              "#d8576b"
             ],
             [
              0.6666666666666666,
              "#ed7953"
             ],
             [
              0.7777777777777778,
              "#fb9f3a"
             ],
             [
              0.8888888888888888,
              "#fdca26"
             ],
             [
              1,
              "#f0f921"
             ]
            ],
            "type": "surface"
           }
          ],
          "table": [
           {
            "cells": {
             "fill": {
              "color": "#EBF0F8"
             },
             "line": {
              "color": "white"
             }
            },
            "header": {
             "fill": {
              "color": "#C8D4E3"
             },
             "line": {
              "color": "white"
             }
            },
            "type": "table"
           }
          ]
         },
         "layout": {
          "annotationdefaults": {
           "arrowcolor": "#2a3f5f",
           "arrowhead": 0,
           "arrowwidth": 1
          },
          "autotypenumbers": "strict",
          "coloraxis": {
           "colorbar": {
            "outlinewidth": 0,
            "ticks": ""
           }
          },
          "colorscale": {
           "diverging": [
            [
             0,
             "#8e0152"
            ],
            [
             0.1,
             "#c51b7d"
            ],
            [
             0.2,
             "#de77ae"
            ],
            [
             0.3,
             "#f1b6da"
            ],
            [
             0.4,
             "#fde0ef"
            ],
            [
             0.5,
             "#f7f7f7"
            ],
            [
             0.6,
             "#e6f5d0"
            ],
            [
             0.7,
             "#b8e186"
            ],
            [
             0.8,
             "#7fbc41"
            ],
            [
             0.9,
             "#4d9221"
            ],
            [
             1,
             "#276419"
            ]
           ],
           "sequential": [
            [
             0,
             "#0d0887"
            ],
            [
             0.1111111111111111,
             "#46039f"
            ],
            [
             0.2222222222222222,
             "#7201a8"
            ],
            [
             0.3333333333333333,
             "#9c179e"
            ],
            [
             0.4444444444444444,
             "#bd3786"
            ],
            [
             0.5555555555555556,
             "#d8576b"
            ],
            [
             0.6666666666666666,
             "#ed7953"
            ],
            [
             0.7777777777777778,
             "#fb9f3a"
            ],
            [
             0.8888888888888888,
             "#fdca26"
            ],
            [
             1,
             "#f0f921"
            ]
           ],
           "sequentialminus": [
            [
             0,
             "#0d0887"
            ],
            [
             0.1111111111111111,
             "#46039f"
            ],
            [
             0.2222222222222222,
             "#7201a8"
            ],
            [
             0.3333333333333333,
             "#9c179e"
            ],
            [
             0.4444444444444444,
             "#bd3786"
            ],
            [
             0.5555555555555556,
             "#d8576b"
            ],
            [
             0.6666666666666666,
             "#ed7953"
            ],
            [
             0.7777777777777778,
             "#fb9f3a"
            ],
            [
             0.8888888888888888,
             "#fdca26"
            ],
            [
             1,
             "#f0f921"
            ]
           ]
          },
          "colorway": [
           "#636efa",
           "#EF553B",
           "#00cc96",
           "#ab63fa",
           "#FFA15A",
           "#19d3f3",
           "#FF6692",
           "#B6E880",
           "#FF97FF",
           "#FECB52"
          ],
          "font": {
           "color": "#2a3f5f"
          },
          "geo": {
           "bgcolor": "white",
           "lakecolor": "white",
           "landcolor": "#E5ECF6",
           "showlakes": true,
           "showland": true,
           "subunitcolor": "white"
          },
          "hoverlabel": {
           "align": "left"
          },
          "hovermode": "closest",
          "mapbox": {
           "style": "light"
          },
          "paper_bgcolor": "white",
          "plot_bgcolor": "#E5ECF6",
          "polar": {
           "angularaxis": {
            "gridcolor": "white",
            "linecolor": "white",
            "ticks": ""
           },
           "bgcolor": "#E5ECF6",
           "radialaxis": {
            "gridcolor": "white",
            "linecolor": "white",
            "ticks": ""
           }
          },
          "scene": {
           "xaxis": {
            "backgroundcolor": "#E5ECF6",
            "gridcolor": "white",
            "gridwidth": 2,
            "linecolor": "white",
            "showbackground": true,
            "ticks": "",
            "zerolinecolor": "white"
           },
           "yaxis": {
            "backgroundcolor": "#E5ECF6",
            "gridcolor": "white",
            "gridwidth": 2,
            "linecolor": "white",
            "showbackground": true,
            "ticks": "",
            "zerolinecolor": "white"
           },
           "zaxis": {
            "backgroundcolor": "#E5ECF6",
            "gridcolor": "white",
            "gridwidth": 2,
            "linecolor": "white",
            "showbackground": true,
            "ticks": "",
            "zerolinecolor": "white"
           }
          },
          "shapedefaults": {
           "line": {
            "color": "#2a3f5f"
           }
          },
          "ternary": {
           "aaxis": {
            "gridcolor": "white",
            "linecolor": "white",
            "ticks": ""
           },
           "baxis": {
            "gridcolor": "white",
            "linecolor": "white",
            "ticks": ""
           },
           "bgcolor": "#E5ECF6",
           "caxis": {
            "gridcolor": "white",
            "linecolor": "white",
            "ticks": ""
           }
          },
          "title": {
           "x": 0.05
          },
          "xaxis": {
           "automargin": true,
           "gridcolor": "white",
           "linecolor": "white",
           "ticks": "",
           "title": {
            "standoff": 15
           },
           "zerolinecolor": "white",
           "zerolinewidth": 2
          },
          "yaxis": {
           "automargin": true,
           "gridcolor": "white",
           "linecolor": "white",
           "ticks": "",
           "title": {
            "standoff": 15
           },
           "zerolinecolor": "white",
           "zerolinewidth": 2
          }
         }
        },
        "title": {
         "text": "Yield Structure"
        },
        "width": 600,
        "xaxis": {
         "anchor": "y",
         "domain": [
          0,
          1
         ],
         "showgrid": true,
         "showline": true,
         "showticklabels": true,
         "title": {
          "text": "index"
         },
         "zeroline": true
        },
        "yaxis": {
         "anchor": "x",
         "domain": [
          0,
          1
         ],
         "title": {
          "text": "Yield Structure"
         }
        }
       }
      }
     },
     "metadata": {},
     "output_type": "display_data"
    }
   ],
   "source": [
    "# Example of a plot of the macroeconomic variable and also applicable for differenced variables \n",
    "fig = px.line(Nofirstcol, y='Yield Structure',\n",
    "              title='Yield Structure',\n",
    "              width=600, height=600,\n",
    "              line_shape='linear')\n",
    "\n",
    "\n",
    "fig.update_xaxes(showgrid=True,\n",
    "        zeroline=True,\n",
    "        showline=True,\n",
    "        showticklabels=True,)\n",
    "\n",
    "\n",
    "fig.update_traces(mode='markers+lines')\n",
    "fig.show()"
   ]
  },
  {
   "cell_type": "markdown",
   "metadata": {},
   "source": [
    "Estimation of the Default rate was performed using three differenced macroeconomic variables i.e. Real Gross Domestic Product_diff, EURIBOR – 3-month_diff and Yield Structure_diff as the explanatory variables. The below tables present the regression results."
   ]
  },
  {
   "cell_type": "code",
   "execution_count": 251,
   "metadata": {},
   "outputs": [
    {
     "name": "stdout",
     "output_type": "stream",
     "text": [
      "                            OLS Regression Results                            \n",
      "==============================================================================\n",
      "Dep. Variable:          Logistic_Odds   R-squared:                       0.500\n",
      "Model:                            OLS   Adj. R-squared:                  0.417\n",
      "Method:                 Least Squares   F-statistic:                     5.998\n",
      "Date:                Thu, 15 Feb 2024   Prob (F-statistic):            0.00511\n",
      "Time:                        15:54:56   Log-Likelihood:                -14.141\n",
      "No. Observations:                  22   AIC:                             36.28\n",
      "Df Residuals:                      18   BIC:                             40.65\n",
      "Df Model:                           3                                         \n",
      "Covariance Type:            nonrobust                                         \n",
      "====================================================================================================\n",
      "                                       coef    std err          t      P>|t|      [0.025      0.975]\n",
      "----------------------------------------------------------------------------------------------------\n",
      "const                               -4.3417      0.135    -32.164      0.000      -4.625      -4.058\n",
      "Real Gross Domestic Product_diff    -0.0006      0.000     -1.455      0.163      -0.001       0.000\n",
      "EURIBOR - 3-Month_diff              -0.3112      0.211     -1.476      0.157      -0.754       0.132\n",
      "Yield Structure_diff                 0.0863      0.206      0.418      0.681      -0.348       0.520\n",
      "==============================================================================\n",
      "Omnibus:                        3.870   Durbin-Watson:                   0.965\n",
      "Prob(Omnibus):                  0.144   Jarque-Bera (JB):                2.454\n",
      "Skew:                           0.809   Prob(JB):                        0.293\n",
      "Kurtosis:                       3.238   Cond. No.                         938.\n",
      "==============================================================================\n",
      "\n",
      "Notes:\n",
      "[1] Standard Errors assume that the covariance matrix of the errors is correctly specified.\n"
     ]
    }
   ],
   "source": [
    "Explanatory = Nofirstcol.loc[:, ['Real Gross Domestic Product_diff',\n",
    "                                  'EURIBOR - 3-Month_diff', \n",
    "                                  'Yield Structure_diff']].dropna()\n",
    "dependent = df.iloc[1:]['Logistic_Odds']\n",
    "\n",
    "# print(Explanatory) \n",
    "# print(dependent)\n",
    "\n",
    "Explanatory_train_sm = sm.add_constant(Explanatory) \n",
    "LRmodel2 = sm.OLS(dependent, Explanatory_train_sm).fit()\n",
    "print(LRmodel2.summary())\n",
    "\n",
    "residuals =LRmodel2.resid\n",
    "\n",
    "DRpredictions = LRmodel2.predict(Explanatory_train_sm)"
   ]
  },
  {
   "cell_type": "code",
   "execution_count": 252,
   "metadata": {},
   "outputs": [
    {
     "data": {
      "image/png": "[encoded data removed]",
      "text/plain": [
       "<Figure size 700x700 with 1 Axes>"
      ]
     },
     "metadata": {},
     "output_type": "display_data"
    },
    {
     "data": {
      "image/png": "[encoded data removed]",
      "text/plain": [
       "<Figure size 640x480 with 1 Axes>"
      ]
     },
     "metadata": {},
     "output_type": "display_data"
    }
   ],
   "source": [
    "# Density Plot of Residuals\n",
    "plt.figure(figsize=(7, 7))\n",
    "sns.histplot(residuals, kde=True, bins=7)\n",
    "\n",
    "plt.title('Density Plot of Residuals')\n",
    "plt.xlabel('Residuals')\n",
    "plt.grid(False)\n",
    "plt.show()\n",
    "\n",
    "# QQ plot\n",
    "sm.qqplot(residuals, line ='r', fit=True)\n",
    "plt.title('QQ Plot of Residuals')\n",
    "plt.show()"
   ]
  },
  {
   "cell_type": "markdown",
   "metadata": {},
   "source": [
    "The QQ plot above presents, that the dataset follows a theoretical normal distribution as points on the graph seems to be not far from the line so this may suggest that residuals are normally distributed. The Figure 8 on the left shows the estimated values together with the historical provided data of Default Rates which were taken as dependent variable. By looking at the graph, estimated model fits good the data with minor exceptions. This model is simplified as possible which allows this well fitting of data and easiness of interpretation."
   ]
  },
  {
   "cell_type": "code",
   "execution_count": 253,
   "metadata": {},
   "outputs": [
    {
     "data": {
      "application/vnd.plotly.v1+json": {
       "config": {
        "plotlyServerURL": "https://plot.ly"
       },
       "data": [
        {
         "mode": "lines",
         "name": "Actual Values",
         "type": "scatter",
         "x": [
          0,
          1,
          2,
          3,
          4,
          5,
          6,
          7,
          8,
          9,
          10,
          11,
          12,
          13,
          14,
          15,
          16,
          17,
          18,
          19,
          20,
          21
         ],
         "y": [
          -3.6717989249961254,
          -3.23966615790839,
          -3.2875723561544357,
          -3.928161506487435,
          -4.845800966171402,
          -5.109977737428519,
          -5.33432780407107,
          -5.595715597400631,
          -3.9992195504583012,
          -3.1296663297287353,
          -4.402376025447733,
          -4.820281565605037,
          -4.462676445472409,
          -4.536244697675587,
          -4.969309952306099,
          -4.283992159108128,
          -3.8468846233892604,
          -4.402376025447733,
          -4.565257971667055,
          -4.329720681971945,
          -3.5656840708200757,
          -4.771088094311768,
          -4.615524557250796
         ]
        },
        {
         "mode": "lines",
         "name": "Predicted Values",
         "type": "scatter",
         "x": [
          1,
          2,
          3,
          4,
          5,
          6,
          7,
          8,
          9,
          10,
          11,
          12,
          13,
          14,
          15,
          16,
          17,
          18,
          19,
          20,
          21
         ],
         "y": [
          -4.465595817716665,
          -4.0376086052853735,
          -4.0636691332203325,
          -4.3875941639889735,
          -4.552774180234071,
          -4.893709780739873,
          -4.988781821213523,
          -4.498948715827525,
          -2.6896499137138496,
          -4.3454836567642925,
          -4.648843728218414,
          -4.012186100354142,
          -4.243065918667309,
          -4.516662113928339,
          -4.4681048656547535,
          -4.41646611033679,
          -4.493882509588729,
          -4.480087864229954,
          -4.517617766252575,
          -3.816615974788425,
          -4.683386690870527,
          -4.820789444688079
         ]
        }
       ],
       "layout": {
        "height": 1000,
        "template": {
         "data": {
          "bar": [
           {
            "error_x": {
             "color": "#2a3f5f"
            },
            "error_y": {
             "color": "#2a3f5f"
            },
            "marker": {
             "line": {
              "color": "#E5ECF6",
              "width": 0.5
             },
             "pattern": {
              "fillmode": "overlay",
              "size": 10,
              "solidity": 0.2
             }
            },
            "type": "bar"
           }
          ],
          "barpolar": [
           {
            "marker": {
             "line": {
              "color": "#E5ECF6",
              "width": 0.5
             },
             "pattern": {
              "fillmode": "overlay",
              "size": 10,
              "solidity": 0.2
             }
            },
            "type": "barpolar"
           }
          ],
          "carpet": [
           {
            "aaxis": {
             "endlinecolor": "#2a3f5f",
             "gridcolor": "white",
             "linecolor": "white",
             "minorgridcolor": "white",
             "startlinecolor": "#2a3f5f"
            },
            "baxis": {
             "endlinecolor": "#2a3f5f",
             "gridcolor": "white",
             "linecolor": "white",
             "minorgridcolor": "white",
             "startlinecolor": "#2a3f5f"
            },
            "type": "carpet"
           }
          ],
          "choropleth": [
           {
            "colorbar": {
             "outlinewidth": 0,
             "ticks": ""
            },
            "type": "choropleth"
           }
          ],
          "contour": [
           {
            "colorbar": {
             "outlinewidth": 0,
             "ticks": ""
            },
            "colorscale": [
             [
              0,
              "#0d0887"
             ],
             [
              0.1111111111111111,
              "#46039f"
             ],
             [
              0.2222222222222222,
              "#7201a8"
             ],
             [
              0.3333333333333333,
              "#9c179e"
             ],
             [
              0.4444444444444444,
              "#bd3786"
             ],
             [
              0.5555555555555556,
              "#d8576b"
             ],
             [
              0.6666666666666666,
              "#ed7953"
             ],
             [
              0.7777777777777778,
              "#fb9f3a"
             ],
             [
              0.8888888888888888,
              "#fdca26"
             ],
             [
              1,
              "#f0f921"
             ]
            ],
            "type": "contour"
           }
          ],
          "contourcarpet": [
           {
            "colorbar": {
             "outlinewidth": 0,
             "ticks": ""
            },
            "type": "contourcarpet"
           }
          ],
          "heatmap": [
           {
            "colorbar": {
             "outlinewidth": 0,
             "ticks": ""
            },
            "colorscale": [
             [
              0,
              "#0d0887"
             ],
             [
              0.1111111111111111,
              "#46039f"
             ],
             [
              0.2222222222222222,
              "#7201a8"
             ],
             [
              0.3333333333333333,
              "#9c179e"
             ],
             [
              0.4444444444444444,
              "#bd3786"
             ],
             [
              0.5555555555555556,
              "#d8576b"
             ],
             [
              0.6666666666666666,
              "#ed7953"
             ],
             [
              0.7777777777777778,
              "#fb9f3a"
             ],
             [
              0.8888888888888888,
              "#fdca26"
             ],
             [
              1,
              "#f0f921"
             ]
            ],
            "type": "heatmap"
           }
          ],
          "heatmapgl": [
           {
            "colorbar": {
             "outlinewidth": 0,
             "ticks": ""
            },
            "colorscale": [
             [
              0,
              "#0d0887"
             ],
             [
              0.1111111111111111,
              "#46039f"
             ],
             [
              0.2222222222222222,
              "#7201a8"
             ],
             [
              0.3333333333333333,
              "#9c179e"
             ],
             [
              0.4444444444444444,
              "#bd3786"
             ],
             [
              0.5555555555555556,
              "#d8576b"
             ],
             [
              0.6666666666666666,
              "#ed7953"
             ],
             [
              0.7777777777777778,
              "#fb9f3a"
             ],
             [
              0.8888888888888888,
              "#fdca26"
             ],
             [
              1,
              "#f0f921"
             ]
            ],
            "type": "heatmapgl"
           }
          ],
          "histogram": [
           {
            "marker": {
             "pattern": {
              "fillmode": "overlay",
              "size": 10,
              "solidity": 0.2
             }
            },
            "type": "histogram"
           }
          ],
          "histogram2d": [
           {
            "colorbar": {
             "outlinewidth": 0,
             "ticks": ""
            },
            "colorscale": [
             [
              0,
              "#0d0887"
             ],
             [
              0.1111111111111111,
              "#46039f"
             ],
             [
              0.2222222222222222,
              "#7201a8"
             ],
             [
              0.3333333333333333,
              "#9c179e"
             ],
             [
              0.4444444444444444,
              "#bd3786"
             ],
             [
              0.5555555555555556,
              "#d8576b"
             ],
             [
              0.6666666666666666,
              "#ed7953"
             ],
             [
              0.7777777777777778,
              "#fb9f3a"
             ],
             [
              0.8888888888888888,
              "#fdca26"
             ],
             [
              1,
              "#f0f921"
             ]
            ],
            "type": "histogram2d"
           }
          ],
          "histogram2dcontour": [
           {
            "colorbar": {
             "outlinewidth": 0,
             "ticks": ""
            },
            "colorscale": [
             [
              0,
              "#0d0887"
             ],
             [
              0.1111111111111111,
              "#46039f"
             ],
             [
              0.2222222222222222,
              "#7201a8"
             ],
             [
              0.3333333333333333,
              "#9c179e"
             ],
             [
              0.4444444444444444,
              "#bd3786"
             ],
             [
              0.5555555555555556,
              "#d8576b"
             ],
             [
              0.6666666666666666,
              "#ed7953"
             ],
             [
              0.7777777777777778,
              "#fb9f3a"
             ],
             [
              0.8888888888888888,
              "#fdca26"
             ],
             [
              1,
              "#f0f921"
             ]
            ],
            "type": "histogram2dcontour"
           }
          ],
          "mesh3d": [
           {
            "colorbar": {
             "outlinewidth": 0,
             "ticks": ""
            },
            "type": "mesh3d"
           }
          ],
          "parcoords": [
           {
            "line": {
             "colorbar": {
              "outlinewidth": 0,
              "ticks": ""
             }
            },
            "type": "parcoords"
           }
          ],
          "pie": [
           {
            "automargin": true,
            "type": "pie"
           }
          ],
          "scatter": [
           {
            "fillpattern": {
             "fillmode": "overlay",
             "size": 10,
             "solidity": 0.2
            },
            "type": "scatter"
           }
          ],
          "scatter3d": [
           {
            "line": {
             "colorbar": {
              "outlinewidth": 0,
              "ticks": ""
             }
            },
            "marker": {
             "colorbar": {
              "outlinewidth": 0,
              "ticks": ""
             }
            },
            "type": "scatter3d"
           }
          ],
          "scattercarpet": [
           {
            "marker": {
             "colorbar": {
              "outlinewidth": 0,
              "ticks": ""
             }
            },
            "type": "scattercarpet"
           }
          ],
          "scattergeo": [
           {
            "marker": {
             "colorbar": {
              "outlinewidth": 0,
              "ticks": ""
             }
            },
            "type": "scattergeo"
           }
          ],
          "scattergl": [
           {
            "marker": {
             "colorbar": {
              "outlinewidth": 0,
              "ticks": ""
             }
            },
            "type": "scattergl"
           }
          ],
          "scattermapbox": [
           {
            "marker": {
             "colorbar": {
              "outlinewidth": 0,
              "ticks": ""
             }
            },
            "type": "scattermapbox"
           }
          ],
          "scatterpolar": [
           {
            "marker": {
             "colorbar": {
              "outlinewidth": 0,
              "ticks": ""
             }
            },
            "type": "scatterpolar"
           }
          ],
          "scatterpolargl": [
           {
            "marker": {
             "colorbar": {
              "outlinewidth": 0,
              "ticks": ""
             }
            },
            "type": "scatterpolargl"
           }
          ],
          "scatterternary": [
           {
            "marker": {
             "colorbar": {
              "outlinewidth": 0,
              "ticks": ""
             }
            },
            "type": "scatterternary"
           }
          ],
          "surface": [
           {
            "colorbar": {
             "outlinewidth": 0,
             "ticks": ""
            },
            "colorscale": [
             [
              0,
              "#0d0887"
             ],
             [
              0.1111111111111111,
              "#46039f"
             ],
             [
              0.2222222222222222,
              "#7201a8"
             ],
             [
              0.3333333333333333,
              "#9c179e"
             ],
             [
              0.4444444444444444,
              "#bd3786"
             ],
             [
              0.5555555555555556,
              "#d8576b"
             ],
             [
              0.6666666666666666,
              "#ed7953"
             ],
             [
              0.7777777777777778,
              "#fb9f3a"
             ],
             [
              0.8888888888888888,
              "#fdca26"
             ],
             [
              1,
              "#f0f921"
             ]
            ],
            "type": "surface"
           }
          ],
          "table": [
           {
            "cells": {
             "fill": {
              "color": "#EBF0F8"
             },
             "line": {
              "color": "white"
             }
            },
            "header": {
             "fill": {
              "color": "#C8D4E3"
             },
             "line": {
              "color": "white"
             }
            },
            "type": "table"
           }
          ]
         },
         "layout": {
          "annotationdefaults": {
           "arrowcolor": "#2a3f5f",
           "arrowhead": 0,
           "arrowwidth": 1
          },
          "autotypenumbers": "strict",
          "coloraxis": {
           "colorbar": {
            "outlinewidth": 0,
            "ticks": ""
           }
          },
          "colorscale": {
           "diverging": [
            [
             0,
             "#8e0152"
            ],
            [
             0.1,
             "#c51b7d"
            ],
            [
             0.2,
             "#de77ae"
            ],
            [
             0.3,
             "#f1b6da"
            ],
            [
             0.4,
             "#fde0ef"
            ],
            [
             0.5,
             "#f7f7f7"
            ],
            [
             0.6,
             "#e6f5d0"
            ],
            [
             0.7,
             "#b8e186"
            ],
            [
             0.8,
             "#7fbc41"
            ],
            [
             0.9,
             "#4d9221"
            ],
            [
             1,
             "#276419"
            ]
           ],
           "sequential": [
            [
             0,
             "#0d0887"
            ],
            [
             0.1111111111111111,
             "#46039f"
            ],
            [
             0.2222222222222222,
             "#7201a8"
            ],
            [
             0.3333333333333333,
             "#9c179e"
            ],
            [
             0.4444444444444444,
             "#bd3786"
            ],
            [
             0.5555555555555556,
             "#d8576b"
            ],
            [
             0.6666666666666666,
             "#ed7953"
            ],
            [
             0.7777777777777778,
             "#fb9f3a"
            ],
            [
             0.8888888888888888,
             "#fdca26"
            ],
            [
             1,
             "#f0f921"
            ]
           ],
           "sequentialminus": [
            [
             0,
             "#0d0887"
            ],
            [
             0.1111111111111111,
             "#46039f"
            ],
            [
             0.2222222222222222,
             "#7201a8"
            ],
            [
             0.3333333333333333,
             "#9c179e"
            ],
            [
             0.4444444444444444,
             "#bd3786"
            ],
            [
             0.5555555555555556,
             "#d8576b"
            ],
            [
             0.6666666666666666,
             "#ed7953"
            ],
            [
             0.7777777777777778,
             "#fb9f3a"
            ],
            [
             0.8888888888888888,
             "#fdca26"
            ],
            [
             1,
             "#f0f921"
            ]
           ]
          },
          "colorway": [
           "#636efa",
           "#EF553B",
           "#00cc96",
           "#ab63fa",
           "#FFA15A",
           "#19d3f3",
           "#FF6692",
           "#B6E880",
           "#FF97FF",
           "#FECB52"
          ],
          "font": {
           "color": "#2a3f5f"
          },
          "geo": {
           "bgcolor": "white",
           "lakecolor": "white",
           "landcolor": "#E5ECF6",
           "showlakes": true,
           "showland": true,
           "subunitcolor": "white"
          },
          "hoverlabel": {
           "align": "left"
          },
          "hovermode": "closest",
          "mapbox": {
           "style": "light"
          },
          "paper_bgcolor": "white",
          "plot_bgcolor": "#E5ECF6",
          "polar": {
           "angularaxis": {
            "gridcolor": "white",
            "linecolor": "white",
            "ticks": ""
           },
           "bgcolor": "#E5ECF6",
           "radialaxis": {
            "gridcolor": "white",
            "linecolor": "white",
            "ticks": ""
           }
          },
          "scene": {
           "xaxis": {
            "backgroundcolor": "#E5ECF6",
            "gridcolor": "white",
            "gridwidth": 2,
            "linecolor": "white",
            "showbackground": true,
            "ticks": "",
            "zerolinecolor": "white"
           },
           "yaxis": {
            "backgroundcolor": "#E5ECF6",
            "gridcolor": "white",
            "gridwidth": 2,
            "linecolor": "white",
            "showbackground": true,
            "ticks": "",
            "zerolinecolor": "white"
           },
           "zaxis": {
            "backgroundcolor": "#E5ECF6",
            "gridcolor": "white",
            "gridwidth": 2,
            "linecolor": "white",
            "showbackground": true,
            "ticks": "",
            "zerolinecolor": "white"
           }
          },
          "shapedefaults": {
           "line": {
            "color": "#2a3f5f"
           }
          },
          "ternary": {
           "aaxis": {
            "gridcolor": "white",
            "linecolor": "white",
            "ticks": ""
           },
           "baxis": {
            "gridcolor": "white",
            "linecolor": "white",
            "ticks": ""
           },
           "bgcolor": "#E5ECF6",
           "caxis": {
            "gridcolor": "white",
            "linecolor": "white",
            "ticks": ""
           }
          },
          "title": {
           "x": 0.05
          },
          "xaxis": {
           "automargin": true,
           "gridcolor": "white",
           "linecolor": "white",
           "ticks": "",
           "title": {
            "standoff": 15
           },
           "zerolinecolor": "white",
           "zerolinewidth": 2
          },
          "yaxis": {
           "automargin": true,
           "gridcolor": "white",
           "linecolor": "white",
           "ticks": "",
           "title": {
            "standoff": 15
           },
           "zerolinecolor": "white",
           "zerolinewidth": 2
          }
         }
        },
        "title": {
         "text": "Actual vs Predicted Values"
        },
        "width": 1000,
        "xaxis": {
         "title": {
          "text": "Index"
         }
        },
        "yaxis": {
         "title": {
          "text": "Values"
         }
        }
       }
      }
     },
     "metadata": {},
     "output_type": "display_data"
    }
   ],
   "source": [
    "# Create traces\n",
    "trace1 = go.Scatter(\n",
    "    x=list(range(len(df.iloc[1:,:]['Logistic_Odds']))), # Assuming sequential x values, modify as needed\n",
    "    y=df['Logistic_Odds'],\n",
    "    mode='lines',\n",
    "    name='Actual Values'\n",
    ")\n",
    "\n",
    "trace2 = go.Scatter(\n",
    "    x=list(range(1,len(DRpredictions))),       \n",
    "    y=DRpredictions,\n",
    "    mode='lines',\n",
    "    name='Predicted Values'\n",
    ")\n",
    "\n",
    "# Create the figure\n",
    "fig = go.Figure()\n",
    "\n",
    "# Add traces to the figure\n",
    "fig.add_trace(trace1)\n",
    "fig.add_trace(trace2)\n",
    "\n",
    "# Add titles and labels\n",
    "fig.update_layout(title='Actual vs Predicted Values',\n",
    "    xaxis_title='Index',\n",
    "    yaxis_title='Values',\n",
    "    width=1000, height=1000,)\n",
    "\n",
    "# Show the plot\n",
    "fig.show()"
   ]
  },
  {
   "cell_type": "markdown",
   "metadata": {},
   "source": [
    "Following the application of the econometric model, the subsequent task is to estimate Default Rates for the ensuing three-year prediction period (2023, 2024, 2024). These estimations are outlined in table 20, reflecting values under three projected scenarios: optimistic, baseline, and pessimistic. The differing Default Rate predictions for each scenario arise from the unique behaviour of the macroeconomic variables in the model. An integral step in calculating Point-in-Time PDs is the derivation of Shift Factors, which is done using the formula provided below: (please see pdf report)"
   ]
  },
  {
   "cell_type": "code",
   "execution_count": 254,
   "metadata": {},
   "outputs": [
    {
     "data": {
      "text/plain": [
       "1    -4.465596\n",
       "2    -4.037609\n",
       "3    -4.063669\n",
       "4    -4.387594\n",
       "5    -4.552774\n",
       "6    -4.893710\n",
       "7    -4.988782\n",
       "8    -4.498949\n",
       "9    -2.689650\n",
       "10   -4.345484\n",
       "11   -4.648844\n",
       "12   -4.012186\n",
       "13   -4.243066\n",
       "14   -4.516662\n",
       "15   -4.468105\n",
       "16   -4.416466\n",
       "17   -4.493883\n",
       "18   -4.480088\n",
       "19   -4.517618\n",
       "20   -3.816616\n",
       "21   -4.683387\n",
       "22   -4.820789\n",
       "dtype: float64"
      ]
     },
     "execution_count": 254,
     "metadata": {},
     "output_type": "execute_result"
    }
   ],
   "source": [
    "DRpredictions"
   ]
  },
  {
   "cell_type": "code",
   "execution_count": 255,
   "metadata": {},
   "outputs": [],
   "source": [
    "# Importing the data for scenarios \n",
    "# 'Real Gross Domestic Product_diff',\n",
    "# 'EURIBOR - 3-Month_diff', \n",
    "# 'Yield Structure_diff'\n",
    "\n",
    "data_fdb = pd.read_excel('CaseStudyData_2023-1.xlsx', \n",
    "                         sheet_name='Forecast Data (Baseline)').iloc[:, [3,4,7]]\n",
    "data_fdp = pd.read_excel('CaseStudyData_2023-1.xlsx', \n",
    "                         sheet_name='Forecast Data (Pessimistic)').iloc[:, [3,4,7]]\n",
    "data_fdo = pd.read_excel('CaseStudyData_2023-1.xlsx', \n",
    "                         sheet_name='Forecast Data (Optimistic)').iloc[:, [3,4,7]]\n",
    "\n",
    "data_fdb.columns = ['Real Gross Domestic Product', 'EURIBOR - 3-Month', 'Yield Structure']\n",
    "data_fdp.columns = ['Real Gross Domestic Product', 'EURIBOR - 3-Month', 'Yield Structure']\n",
    "data_fdo.columns = ['Real Gross Domestic Product', 'EURIBOR - 3-Month', 'Yield Structure']"
   ]
  },
  {
   "cell_type": "code",
   "execution_count": 256,
   "metadata": {},
   "outputs": [],
   "source": [
    "# The Macroeconomic data import and prep.\n",
    "dfHD = pd.read_excel('CaseStudyData_2023-1.xlsx', sheet_name= 'Historic Data').iloc[:, [3,4,7]]\n",
    "\n",
    "dfHD.columns = ['Real Gross Domestic Product', 'EURIBOR - 3-Month', 'Yield Structure']"
   ]
  },
  {
   "cell_type": "code",
   "execution_count": 257,
   "metadata": {},
   "outputs": [],
   "source": [
    "def calculate_diff(df1):\n",
    "    df1 = pd.concat([dfHD, df1]).reset_index(drop=True)\n",
    "    for column in df1.columns: \n",
    "        df1[f'{column}_diff'] = df1[column].diff()\n",
    "\n",
    "    return df1"
   ]
  },
  {
   "cell_type": "code",
   "execution_count": 258,
   "metadata": {},
   "outputs": [],
   "source": [
    "data_fdb = calculate_diff(data_fdb)\n",
    "data_fdp = calculate_diff(data_fdp)\n",
    "data_fdo = calculate_diff(data_fdo)"
   ]
  },
  {
   "cell_type": "code",
   "execution_count": 259,
   "metadata": {},
   "outputs": [],
   "source": [
    "def log_odds_to_probability(log_odds):\n",
    "    return 1 / (1 + np.exp(-log_odds))"
   ]
  },
  {
   "cell_type": "code",
   "execution_count": 260,
   "metadata": {},
   "outputs": [
    {
     "data": {
      "text/plain": [
       "array([0.01136715, 0.01733384, 0.01689548, 0.01227798, 0.01042804,\n",
       "       0.00743784, 0.00676784, 0.01099837, 0.06358686, 0.01279929,\n",
       "       0.0094819 , 0.01777223, 0.0141601 , 0.01080736, 0.01133898,\n",
       "       0.01193273, 0.01105362, 0.01120543, 0.01079714, 0.02152846,\n",
       "       0.00916291, 0.00799597, 0.00482928, 0.01196237, 0.01225816])"
      ]
     },
     "execution_count": 260,
     "metadata": {},
     "output_type": "execute_result"
    }
   ],
   "source": [
    "# Predicting the scenarios step by step without loop to maintain better controll \n",
    "\n",
    "# Base \n",
    "predictBasic = data_fdb.loc[:, ['Real Gross Domestic Product_diff',\n",
    "                                  'EURIBOR - 3-Month_diff', \n",
    "                                  'Yield Structure_diff']].dropna()\n",
    "\n",
    "PredictSample = sm.add_constant(predictBasic) \n",
    "\n",
    "DRpredictionsBasic = LRmodel2.predict(PredictSample)\n",
    "\n",
    "probabilitiesBasic = log_odds_to_probability(np.array(list(DRpredictionsBasic)))\n",
    "probabilitiesBasic"
   ]
  },
  {
   "cell_type": "code",
   "execution_count": 261,
   "metadata": {},
   "outputs": [
    {
     "data": {
      "text/plain": [
       "array([0.01136715, 0.01733384, 0.01689548, 0.01227798, 0.01042804,\n",
       "       0.00743784, 0.00676784, 0.01099837, 0.06358686, 0.01279929,\n",
       "       0.0094819 , 0.01777223, 0.0141601 , 0.01080736, 0.01133898,\n",
       "       0.01193273, 0.01105362, 0.01120543, 0.01079714, 0.02152846,\n",
       "       0.00916291, 0.00799597, 0.00461525, 0.02033703, 0.01316011])"
      ]
     },
     "execution_count": 261,
     "metadata": {},
     "output_type": "execute_result"
    }
   ],
   "source": [
    "# Pessimistic \n",
    "predictPessimistic = data_fdp.loc[:, ['Real Gross Domestic Product_diff',\n",
    "                                  'EURIBOR - 3-Month_diff', \n",
    "                                  'Yield Structure_diff']].dropna()\n",
    "\n",
    "PredictSample = sm.add_constant(predictPessimistic) \n",
    "\n",
    "DRpredictionsPessimistic = LRmodel2.predict(PredictSample)\n",
    "\n",
    "probabilitiesPessimistic = log_odds_to_probability(np.array(list(DRpredictionsPessimistic)))\n",
    "probabilitiesPessimistic"
   ]
  },
  {
   "cell_type": "code",
   "execution_count": 262,
   "metadata": {},
   "outputs": [
    {
     "data": {
      "text/plain": [
       "array([0.01136715, 0.01733384, 0.01689548, 0.01227798, 0.01042804,\n",
       "       0.00743784, 0.00676784, 0.01099837, 0.06358686, 0.01279929,\n",
       "       0.0094819 , 0.01777223, 0.0141601 , 0.01080736, 0.01133898,\n",
       "       0.01193273, 0.01105362, 0.01120543, 0.01079714, 0.02152846,\n",
       "       0.00916291, 0.00799597, 0.00642488, 0.0063531 , 0.01109508])"
      ]
     },
     "execution_count": 262,
     "metadata": {},
     "output_type": "execute_result"
    }
   ],
   "source": [
    "# Optimistic \n",
    "predictOptimistic = data_fdo.loc[:, ['Real Gross Domestic Product_diff',\n",
    "                                  'EURIBOR - 3-Month_diff', \n",
    "                                  'Yield Structure_diff']].dropna()\n",
    "\n",
    "PredictSample = sm.add_constant(predictOptimistic) \n",
    "\n",
    "DRpredictionsOptimistic = LRmodel2.predict(PredictSample)\n",
    "\n",
    "probabilitiesOptimistic = log_odds_to_probability(np.array(list(DRpredictionsOptimistic)))\n",
    "probabilitiesOptimistic"
   ]
  },
  {
   "cell_type": "code",
   "execution_count": 263,
   "metadata": {},
   "outputs": [
    {
     "name": "stderr",
     "output_type": "stream",
     "text": [
      "C:\\Users\\mateu\\AppData\\Local\\Temp\\ipykernel_11804\\1513731611.py:7: FutureWarning:\n",
      "\n",
      "The behavior of DataFrame concatenation with empty or all-NA entries is deprecated. In a future version, this will no longer exclude empty or all-NA columns when determining the result dtypes. To retain the old behavior, exclude the relevant entries before the concat operation.\n",
      "\n"
     ]
    },
    {
     "data": {
      "text/html": [
       "<div>\n",
       "<style scoped>\n",
       "    .dataframe tbody tr th:only-of-type {\n",
       "        vertical-align: middle;\n",
       "    }\n",
       "\n",
       "    .dataframe tbody tr th {\n",
       "        vertical-align: top;\n",
       "    }\n",
       "\n",
       "    .dataframe thead th {\n",
       "        text-align: right;\n",
       "    }\n",
       "</style>\n",
       "<table border=\"1\" class=\"dataframe\">\n",
       "  <thead>\n",
       "    <tr style=\"text-align: right;\">\n",
       "      <th></th>\n",
       "      <th>Scenario</th>\n",
       "      <th>Year</th>\n",
       "      <th>Estimated DR</th>\n",
       "      <th>AVG</th>\n",
       "      <th>Shift factor</th>\n",
       "    </tr>\n",
       "  </thead>\n",
       "  <tbody>\n",
       "    <tr>\n",
       "      <th>0</th>\n",
       "      <td>Optimistic</td>\n",
       "      <td>2023</td>\n",
       "      <td>0.006425</td>\n",
       "      <td>0.159</td>\n",
       "      <td>0.040408</td>\n",
       "    </tr>\n",
       "    <tr>\n",
       "      <th>1</th>\n",
       "      <td>Optimistic</td>\n",
       "      <td>2024</td>\n",
       "      <td>0.006353</td>\n",
       "      <td>0.159</td>\n",
       "      <td>0.039957</td>\n",
       "    </tr>\n",
       "    <tr>\n",
       "      <th>2</th>\n",
       "      <td>Optimistic</td>\n",
       "      <td>2025</td>\n",
       "      <td>0.011095</td>\n",
       "      <td>0.159</td>\n",
       "      <td>0.069780</td>\n",
       "    </tr>\n",
       "    <tr>\n",
       "      <th>3</th>\n",
       "      <td>Pesimistic</td>\n",
       "      <td>2023</td>\n",
       "      <td>0.004615</td>\n",
       "      <td>0.159</td>\n",
       "      <td>0.029027</td>\n",
       "    </tr>\n",
       "    <tr>\n",
       "      <th>4</th>\n",
       "      <td>Pesimistic</td>\n",
       "      <td>2024</td>\n",
       "      <td>0.020337</td>\n",
       "      <td>0.159</td>\n",
       "      <td>0.127906</td>\n",
       "    </tr>\n",
       "    <tr>\n",
       "      <th>5</th>\n",
       "      <td>Pesimistic</td>\n",
       "      <td>2025</td>\n",
       "      <td>0.013160</td>\n",
       "      <td>0.159</td>\n",
       "      <td>0.082768</td>\n",
       "    </tr>\n",
       "    <tr>\n",
       "      <th>6</th>\n",
       "      <td>Base</td>\n",
       "      <td>2023</td>\n",
       "      <td>0.004829</td>\n",
       "      <td>0.159</td>\n",
       "      <td>0.030373</td>\n",
       "    </tr>\n",
       "    <tr>\n",
       "      <th>7</th>\n",
       "      <td>Base</td>\n",
       "      <td>2024</td>\n",
       "      <td>0.011962</td>\n",
       "      <td>0.159</td>\n",
       "      <td>0.075235</td>\n",
       "    </tr>\n",
       "    <tr>\n",
       "      <th>8</th>\n",
       "      <td>Base</td>\n",
       "      <td>2025</td>\n",
       "      <td>0.012258</td>\n",
       "      <td>0.159</td>\n",
       "      <td>0.077095</td>\n",
       "    </tr>\n",
       "  </tbody>\n",
       "</table>\n",
       "</div>"
      ],
      "text/plain": [
       "     Scenario  Year  Estimated DR    AVG  Shift factor\n",
       "0  Optimistic  2023      0.006425  0.159      0.040408\n",
       "1  Optimistic  2024      0.006353  0.159      0.039957\n",
       "2  Optimistic  2025      0.011095  0.159      0.069780\n",
       "3  Pesimistic  2023      0.004615  0.159      0.029027\n",
       "4  Pesimistic  2024      0.020337  0.159      0.127906\n",
       "5  Pesimistic  2025      0.013160  0.159      0.082768\n",
       "6        Base  2023      0.004829  0.159      0.030373\n",
       "7        Base  2024      0.011962  0.159      0.075235\n",
       "8        Base  2025      0.012258  0.159      0.077095"
      ]
     },
     "execution_count": 263,
     "metadata": {},
     "output_type": "execute_result"
    }
   ],
   "source": [
    "# Creating the DataFrame with the results for each year and scenario \n",
    "DataTs = pd.DataFrame(columns = ['Scenario','Year', 'Estimated DR'])\n",
    "xx = 0\n",
    "for x,y in zip([probabilitiesOptimistic, probabilitiesPesimistic, probabilitiesBasic],\n",
    "                ['Optimistic', 'Pesimistic', 'Base']):\n",
    "    for i in [3,2,1]:\n",
    "        DataTs = pd.concat([DataTs, pd.DataFrame({'Scenario':y,\n",
    "                                                   'Year':2026-i,\n",
    "                                                     'Estimated DR':x[-i]},\n",
    "                                                       index=[xx])])\n",
    "        xx +=1\n",
    "\n",
    "# Incorporating the Average DR (2000-2022) and calculating the Shift Factor \n",
    "DataTs['AVG'] = 0.159\n",
    "DataTs['Shift factor'] = DataTs['Estimated DR'] / DataTs['AVG']\n",
    "DataTs"
   ]
  },
  {
   "cell_type": "markdown",
   "metadata": {},
   "source": [
    "It can be seen that Base scenario presents higher estimations of Default Rate than the Optimistic Scenario. Also the Pessimistic Scenario estimates higher PD than in Optimistic Scenario only for the year 2024. Value of Shift Factor for that year is also relatively much higher (1.28) than for other years and scenarios. It tends to be a common problem when estimating PiT PD model that results are not intuitive as explained above i.e. Base Scenario higher estimates than optimistic.\n",
    "Applying the above-calculated shift factors, the formula for adjusting the Conditional Through-the-Cycle PDs (Table 15.) is as follows: (please see pdf report)"
   ]
  },
  {
   "cell_type": "code",
   "execution_count": 264,
   "metadata": {},
   "outputs": [
    {
     "data": {
      "text/html": [
       "<div>\n",
       "<style scoped>\n",
       "    .dataframe tbody tr th:only-of-type {\n",
       "        vertical-align: middle;\n",
       "    }\n",
       "\n",
       "    .dataframe tbody tr th {\n",
       "        vertical-align: top;\n",
       "    }\n",
       "\n",
       "    .dataframe thead th {\n",
       "        text-align: right;\n",
       "    }\n",
       "</style>\n",
       "<table border=\"1\" class=\"dataframe\">\n",
       "  <thead>\n",
       "    <tr style=\"text-align: right;\">\n",
       "      <th></th>\n",
       "      <th>AAA</th>\n",
       "      <th>AA</th>\n",
       "      <th>A</th>\n",
       "      <th>BBB</th>\n",
       "      <th>BB</th>\n",
       "      <th>B</th>\n",
       "      <th>CCC</th>\n",
       "    </tr>\n",
       "    <tr>\n",
       "      <th>Unnamed: 0</th>\n",
       "      <th></th>\n",
       "      <th></th>\n",
       "      <th></th>\n",
       "      <th></th>\n",
       "      <th></th>\n",
       "      <th></th>\n",
       "      <th></th>\n",
       "    </tr>\n",
       "  </thead>\n",
       "  <tbody>\n",
       "    <tr>\n",
       "      <th>1-year Default</th>\n",
       "      <td>0.031100</td>\n",
       "      <td>0.038800</td>\n",
       "      <td>0.042600</td>\n",
       "      <td>0.059700</td>\n",
       "      <td>0.100800</td>\n",
       "      <td>0.156400</td>\n",
       "      <td>0.408500</td>\n",
       "    </tr>\n",
       "    <tr>\n",
       "      <th>2-year Default</th>\n",
       "      <td>0.032201</td>\n",
       "      <td>0.039347</td>\n",
       "      <td>0.043714</td>\n",
       "      <td>0.061336</td>\n",
       "      <td>0.104516</td>\n",
       "      <td>0.167528</td>\n",
       "      <td>0.346252</td>\n",
       "    </tr>\n",
       "    <tr>\n",
       "      <th>3-year Default</th>\n",
       "      <td>0.033145</td>\n",
       "      <td>0.039902</td>\n",
       "      <td>0.044803</td>\n",
       "      <td>0.062783</td>\n",
       "      <td>0.107411</td>\n",
       "      <td>0.170788</td>\n",
       "      <td>0.288533</td>\n",
       "    </tr>\n",
       "    <tr>\n",
       "      <th>4-year Default</th>\n",
       "      <td>0.033996</td>\n",
       "      <td>0.040474</td>\n",
       "      <td>0.045859</td>\n",
       "      <td>0.064070</td>\n",
       "      <td>0.109412</td>\n",
       "      <td>0.170199</td>\n",
       "      <td>0.243123</td>\n",
       "    </tr>\n",
       "    <tr>\n",
       "      <th>5-year Default</th>\n",
       "      <td>0.034787</td>\n",
       "      <td>0.041066</td>\n",
       "      <td>0.046876</td>\n",
       "      <td>0.065203</td>\n",
       "      <td>0.110592</td>\n",
       "      <td>0.167673</td>\n",
       "      <td>0.211290</td>\n",
       "    </tr>\n",
       "    <tr>\n",
       "      <th>6-year Default</th>\n",
       "      <td>0.035537</td>\n",
       "      <td>0.041675</td>\n",
       "      <td>0.047850</td>\n",
       "      <td>0.066188</td>\n",
       "      <td>0.111070</td>\n",
       "      <td>0.164171</td>\n",
       "      <td>0.190176</td>\n",
       "    </tr>\n",
       "    <tr>\n",
       "      <th>7-year Default</th>\n",
       "      <td>0.036256</td>\n",
       "      <td>0.042297</td>\n",
       "      <td>0.048781</td>\n",
       "      <td>0.067027</td>\n",
       "      <td>0.110967</td>\n",
       "      <td>0.160194</td>\n",
       "      <td>0.176136</td>\n",
       "    </tr>\n",
       "    <tr>\n",
       "      <th>8-year Default</th>\n",
       "      <td>0.036952</td>\n",
       "      <td>0.042930</td>\n",
       "      <td>0.049665</td>\n",
       "      <td>0.067728</td>\n",
       "      <td>0.110389</td>\n",
       "      <td>0.156006</td>\n",
       "      <td>0.166328</td>\n",
       "    </tr>\n",
       "    <tr>\n",
       "      <th>9-year Default</th>\n",
       "      <td>0.037629</td>\n",
       "      <td>0.043568</td>\n",
       "      <td>0.050503</td>\n",
       "      <td>0.068300</td>\n",
       "      <td>0.109432</td>\n",
       "      <td>0.151743</td>\n",
       "      <td>0.158927</td>\n",
       "    </tr>\n",
       "    <tr>\n",
       "      <th>10-year Default</th>\n",
       "      <td>0.038291</td>\n",
       "      <td>0.044209</td>\n",
       "      <td>0.051294</td>\n",
       "      <td>0.068752</td>\n",
       "      <td>0.108176</td>\n",
       "      <td>0.147483</td>\n",
       "      <td>0.152871</td>\n",
       "    </tr>\n",
       "  </tbody>\n",
       "</table>\n",
       "</div>"
      ],
      "text/plain": [
       "                      AAA        AA         A       BBB        BB         B  \\\n",
       "Unnamed: 0                                                                    \n",
       "1-year Default   0.031100  0.038800  0.042600  0.059700  0.100800  0.156400   \n",
       "2-year Default   0.032201  0.039347  0.043714  0.061336  0.104516  0.167528   \n",
       "3-year Default   0.033145  0.039902  0.044803  0.062783  0.107411  0.170788   \n",
       "4-year Default   0.033996  0.040474  0.045859  0.064070  0.109412  0.170199   \n",
       "5-year Default   0.034787  0.041066  0.046876  0.065203  0.110592  0.167673   \n",
       "6-year Default   0.035537  0.041675  0.047850  0.066188  0.111070  0.164171   \n",
       "7-year Default   0.036256  0.042297  0.048781  0.067027  0.110967  0.160194   \n",
       "8-year Default   0.036952  0.042930  0.049665  0.067728  0.110389  0.156006   \n",
       "9-year Default   0.037629  0.043568  0.050503  0.068300  0.109432  0.151743   \n",
       "10-year Default  0.038291  0.044209  0.051294  0.068752  0.108176  0.147483   \n",
       "\n",
       "                      CCC  \n",
       "Unnamed: 0                 \n",
       "1-year Default   0.408500  \n",
       "2-year Default   0.346252  \n",
       "3-year Default   0.288533  \n",
       "4-year Default   0.243123  \n",
       "5-year Default   0.211290  \n",
       "6-year Default   0.190176  \n",
       "7-year Default   0.176136  \n",
       "8-year Default   0.166328  \n",
       "9-year Default   0.158927  \n",
       "10-year Default  0.152871  "
      ]
     },
     "execution_count": 264,
     "metadata": {},
     "output_type": "execute_result"
    }
   ],
   "source": [
    "# Reading the Data Frames from csv files that were created in TTC-PD\n",
    "# model as this is going to be used for PIT-PD\n",
    "\n",
    "conditional = pd.read_csv('cond.csv').set_index('Unnamed: 0')\n",
    "\n",
    "conditional = conditional.reindex(['1-year Default',\n",
    "                                   '2-year Default',\n",
    "                                   '3-year Default',\n",
    "                                   '4-year Default',\n",
    "                                   '5-year Default',\n",
    "                                   '6-year Default',\n",
    "                                   '7-year Default',\n",
    "                                   '8-year Default',\n",
    "                                   '9-year Default',\n",
    "                                   '10-year Default'])\n",
    "conditional"
   ]
  },
  {
   "cell_type": "code",
   "execution_count": 265,
   "metadata": {},
   "outputs": [
    {
     "data": {
      "text/html": [
       "<div>\n",
       "<style scoped>\n",
       "    .dataframe tbody tr th:only-of-type {\n",
       "        vertical-align: middle;\n",
       "    }\n",
       "\n",
       "    .dataframe tbody tr th {\n",
       "        vertical-align: top;\n",
       "    }\n",
       "\n",
       "    .dataframe thead th {\n",
       "        text-align: right;\n",
       "    }\n",
       "</style>\n",
       "<table border=\"1\" class=\"dataframe\">\n",
       "  <thead>\n",
       "    <tr style=\"text-align: right;\">\n",
       "      <th></th>\n",
       "      <th>AAA</th>\n",
       "      <th>AA</th>\n",
       "      <th>A</th>\n",
       "      <th>BBB</th>\n",
       "      <th>BB</th>\n",
       "      <th>B</th>\n",
       "      <th>CCC</th>\n",
       "    </tr>\n",
       "    <tr>\n",
       "      <th>Unnamed: 0</th>\n",
       "      <th></th>\n",
       "      <th></th>\n",
       "      <th></th>\n",
       "      <th></th>\n",
       "      <th></th>\n",
       "      <th></th>\n",
       "      <th></th>\n",
       "    </tr>\n",
       "  </thead>\n",
       "  <tbody>\n",
       "    <tr>\n",
       "      <th>1-year Default</th>\n",
       "      <td>0.031100</td>\n",
       "      <td>0.038800</td>\n",
       "      <td>0.042600</td>\n",
       "      <td>0.059700</td>\n",
       "      <td>0.100800</td>\n",
       "      <td>0.156400</td>\n",
       "      <td>0.408500</td>\n",
       "    </tr>\n",
       "    <tr>\n",
       "      <th>2-year Default</th>\n",
       "      <td>0.062300</td>\n",
       "      <td>0.076620</td>\n",
       "      <td>0.084451</td>\n",
       "      <td>0.117374</td>\n",
       "      <td>0.194780</td>\n",
       "      <td>0.297726</td>\n",
       "      <td>0.613308</td>\n",
       "    </tr>\n",
       "    <tr>\n",
       "      <th>3-year Default</th>\n",
       "      <td>0.093380</td>\n",
       "      <td>0.113465</td>\n",
       "      <td>0.125471</td>\n",
       "      <td>0.172788</td>\n",
       "      <td>0.281270</td>\n",
       "      <td>0.417666</td>\n",
       "      <td>0.724882</td>\n",
       "    </tr>\n",
       "    <tr>\n",
       "      <th>4-year Default</th>\n",
       "      <td>0.124201</td>\n",
       "      <td>0.149347</td>\n",
       "      <td>0.165576</td>\n",
       "      <td>0.225787</td>\n",
       "      <td>0.359907</td>\n",
       "      <td>0.516779</td>\n",
       "      <td>0.791769</td>\n",
       "    </tr>\n",
       "    <tr>\n",
       "      <th>5-year Default</th>\n",
       "      <td>0.154667</td>\n",
       "      <td>0.184280</td>\n",
       "      <td>0.204690</td>\n",
       "      <td>0.276268</td>\n",
       "      <td>0.430696</td>\n",
       "      <td>0.597802</td>\n",
       "      <td>0.835766</td>\n",
       "    </tr>\n",
       "    <tr>\n",
       "      <th>6-year Default</th>\n",
       "      <td>0.184707</td>\n",
       "      <td>0.218275</td>\n",
       "      <td>0.242746</td>\n",
       "      <td>0.324170</td>\n",
       "      <td>0.493929</td>\n",
       "      <td>0.663831</td>\n",
       "      <td>0.867000</td>\n",
       "    </tr>\n",
       "    <tr>\n",
       "      <th>7-year Default</th>\n",
       "      <td>0.214266</td>\n",
       "      <td>0.251339</td>\n",
       "      <td>0.279685</td>\n",
       "      <td>0.369469</td>\n",
       "      <td>0.550086</td>\n",
       "      <td>0.717683</td>\n",
       "      <td>0.890426</td>\n",
       "    </tr>\n",
       "    <tr>\n",
       "      <th>8-year Default</th>\n",
       "      <td>0.243300</td>\n",
       "      <td>0.283479</td>\n",
       "      <td>0.315459</td>\n",
       "      <td>0.412174</td>\n",
       "      <td>0.599752</td>\n",
       "      <td>0.761726</td>\n",
       "      <td>0.908651</td>\n",
       "    </tr>\n",
       "    <tr>\n",
       "      <th>9-year Default</th>\n",
       "      <td>0.271774</td>\n",
       "      <td>0.314697</td>\n",
       "      <td>0.350030</td>\n",
       "      <td>0.452322</td>\n",
       "      <td>0.643552</td>\n",
       "      <td>0.797883</td>\n",
       "      <td>0.923169</td>\n",
       "    </tr>\n",
       "    <tr>\n",
       "      <th>10-year Default</th>\n",
       "      <td>0.299659</td>\n",
       "      <td>0.344993</td>\n",
       "      <td>0.383370</td>\n",
       "      <td>0.489976</td>\n",
       "      <td>0.682111</td>\n",
       "      <td>0.827692</td>\n",
       "      <td>0.934914</td>\n",
       "    </tr>\n",
       "  </tbody>\n",
       "</table>\n",
       "</div>"
      ],
      "text/plain": [
       "                      AAA        AA         A       BBB        BB         B  \\\n",
       "Unnamed: 0                                                                    \n",
       "1-year Default   0.031100  0.038800  0.042600  0.059700  0.100800  0.156400   \n",
       "2-year Default   0.062300  0.076620  0.084451  0.117374  0.194780  0.297726   \n",
       "3-year Default   0.093380  0.113465  0.125471  0.172788  0.281270  0.417666   \n",
       "4-year Default   0.124201  0.149347  0.165576  0.225787  0.359907  0.516779   \n",
       "5-year Default   0.154667  0.184280  0.204690  0.276268  0.430696  0.597802   \n",
       "6-year Default   0.184707  0.218275  0.242746  0.324170  0.493929  0.663831   \n",
       "7-year Default   0.214266  0.251339  0.279685  0.369469  0.550086  0.717683   \n",
       "8-year Default   0.243300  0.283479  0.315459  0.412174  0.599752  0.761726   \n",
       "9-year Default   0.271774  0.314697  0.350030  0.452322  0.643552  0.797883   \n",
       "10-year Default  0.299659  0.344993  0.383370  0.489976  0.682111  0.827692   \n",
       "\n",
       "                      CCC  \n",
       "Unnamed: 0                 \n",
       "1-year Default   0.408500  \n",
       "2-year Default   0.613308  \n",
       "3-year Default   0.724882  \n",
       "4-year Default   0.791769  \n",
       "5-year Default   0.835766  \n",
       "6-year Default   0.867000  \n",
       "7-year Default   0.890426  \n",
       "8-year Default   0.908651  \n",
       "9-year Default   0.923169  \n",
       "10-year Default  0.934914  "
      ]
     },
     "execution_count": 265,
     "metadata": {},
     "output_type": "execute_result"
    }
   ],
   "source": [
    "cumulative = pd.read_csv('cum.csv').set_index('Unnamed: 0')\n",
    "cumulative"
   ]
  },
  {
   "cell_type": "code",
   "execution_count": 266,
   "metadata": {},
   "outputs": [
    {
     "name": "stderr",
     "output_type": "stream",
     "text": [
      "C:\\Users\\mateu\\AppData\\Local\\Temp\\ipykernel_11804\\2028815988.py:3: DeprecationWarning:\n",
      "\n",
      "Conversion of an array with ndim > 0 to a scalar is deprecated, and will error in future. Ensure you extract a single element from your array before performing this operation. (Deprecated NumPy 1.25.)\n",
      "\n",
      "C:\\Users\\mateu\\AppData\\Local\\Temp\\ipykernel_11804\\2028815988.py:3: DeprecationWarning:\n",
      "\n",
      "Conversion of an array with ndim > 0 to a scalar is deprecated, and will error in future. Ensure you extract a single element from your array before performing this operation. (Deprecated NumPy 1.25.)\n",
      "\n",
      "C:\\Users\\mateu\\AppData\\Local\\Temp\\ipykernel_11804\\2028815988.py:3: DeprecationWarning:\n",
      "\n",
      "Conversion of an array with ndim > 0 to a scalar is deprecated, and will error in future. Ensure you extract a single element from your array before performing this operation. (Deprecated NumPy 1.25.)\n",
      "\n",
      "C:\\Users\\mateu\\AppData\\Local\\Temp\\ipykernel_11804\\2028815988.py:8: DeprecationWarning:\n",
      "\n",
      "Conversion of an array with ndim > 0 to a scalar is deprecated, and will error in future. Ensure you extract a single element from your array before performing this operation. (Deprecated NumPy 1.25.)\n",
      "\n",
      "C:\\Users\\mateu\\AppData\\Local\\Temp\\ipykernel_11804\\2028815988.py:8: DeprecationWarning:\n",
      "\n",
      "Conversion of an array with ndim > 0 to a scalar is deprecated, and will error in future. Ensure you extract a single element from your array before performing this operation. (Deprecated NumPy 1.25.)\n",
      "\n",
      "C:\\Users\\mateu\\AppData\\Local\\Temp\\ipykernel_11804\\2028815988.py:8: DeprecationWarning:\n",
      "\n",
      "Conversion of an array with ndim > 0 to a scalar is deprecated, and will error in future. Ensure you extract a single element from your array before performing this operation. (Deprecated NumPy 1.25.)\n",
      "\n",
      "C:\\Users\\mateu\\AppData\\Local\\Temp\\ipykernel_11804\\2028815988.py:13: DeprecationWarning:\n",
      "\n",
      "Conversion of an array with ndim > 0 to a scalar is deprecated, and will error in future. Ensure you extract a single element from your array before performing this operation. (Deprecated NumPy 1.25.)\n",
      "\n",
      "C:\\Users\\mateu\\AppData\\Local\\Temp\\ipykernel_11804\\2028815988.py:13: DeprecationWarning:\n",
      "\n",
      "Conversion of an array with ndim > 0 to a scalar is deprecated, and will error in future. Ensure you extract a single element from your array before performing this operation. (Deprecated NumPy 1.25.)\n",
      "\n",
      "C:\\Users\\mateu\\AppData\\Local\\Temp\\ipykernel_11804\\2028815988.py:13: DeprecationWarning:\n",
      "\n",
      "Conversion of an array with ndim > 0 to a scalar is deprecated, and will error in future. Ensure you extract a single element from your array before performing this operation. (Deprecated NumPy 1.25.)\n",
      "\n"
     ]
    }
   ],
   "source": [
    "Optimistic = pd.DataFrame(index=conditional.columns)\n",
    "for year, x in zip(conditional.index[:3], [2023,2024,2025]):\n",
    "    f = conditional.loc[year] * float(DataTs[(DataTs['Scenario'] == 'Optimistic')& (DataTs['Year'] == x)]['Shift factor'].values)\n",
    "    Optimistic = pd.concat([Optimistic, pd.DataFrame(f).T]).dropna()\n",
    "\n",
    "Pesimistic = pd.DataFrame(index=conditional.columns)\n",
    "for year, x in zip(conditional.index[:3], [2023,2024,2025]):\n",
    "    f = conditional.loc[year] * float(DataTs[(DataTs['Scenario'] == 'Pesimistic')& (DataTs['Year'] == x)]['Shift factor'].values)\n",
    "    Pesimistic = pd.concat([Pesimistic, pd.DataFrame(f).T]).dropna()\n",
    "\n",
    "Base = pd.DataFrame(index=conditional.columns)\n",
    "for year, x in zip(conditional.index[:3], [2023,2024,2025]):\n",
    "    f = conditional.loc[year] * float(DataTs[(DataTs['Scenario'] == 'Base')& (DataTs['Year'] == x)]['Shift factor'].values)\n",
    "    Base = pd.concat([Base, pd.DataFrame(f).T]).dropna()\n",
    "    # print(Base)\n",
    "\n",
    "Base_final = conditional.copy()\n",
    "Base_final.loc[Base_final.index[:3]] =Base \n",
    "Base_final.index = Base_final.index.rename(\"years\")\n",
    "Base_final.iloc[:3] = Base_final.iloc[:3] *10\n",
    "\n",
    "Optimistic_final = conditional.copy()\n",
    "Optimistic_final.loc[Optimistic_final.index[:3]] =Optimistic \n",
    "Optimistic_final.index = Optimistic_final.index.rename(\"years\")\n",
    "Optimistic_final.iloc[:3] = Optimistic_final.iloc[:3] *10\n",
    "\n",
    "Pesimistic_final = conditional.copy()\n",
    "Pesimistic_final.loc[Pesimistic_final.index[:3]] =Pesimistic \n",
    "Pesimistic_final.index = Pesimistic_final.index.rename(\"years\")\n",
    "Pesimistic_final.iloc[:3] = Pesimistic_final.iloc[:3] *10"
   ]
  },
  {
   "cell_type": "markdown",
   "metadata": {},
   "source": [
    "In Table 21 below, the Conditional Point-in-Time-PDs are enumerated. To enable a comprehensive comparison with the Conditional TTC-PDs, both are estimated for a period of ten years. Nevertheless, given that shift factors were determined exclusively for the initial trio of years, the PDs for the remaining seven-year period (2026-2032) are identical to those in the TTC model for each assessed scenario."
   ]
  },
  {
   "cell_type": "code",
   "execution_count": 267,
   "metadata": {},
   "outputs": [
    {
     "data": {
      "text/html": [
       "<style type=\"text/css\">\n",
       "#T_976dc_row0_col0, #T_976dc_row0_col1, #T_976dc_row0_col2, #T_976dc_row0_col3, #T_976dc_row0_col4, #T_976dc_row0_col5, #T_976dc_row0_col6, #T_976dc_row1_col0, #T_976dc_row1_col1, #T_976dc_row1_col2, #T_976dc_row1_col3, #T_976dc_row1_col4, #T_976dc_row1_col5, #T_976dc_row1_col6, #T_976dc_row2_col0, #T_976dc_row2_col1, #T_976dc_row2_col2, #T_976dc_row2_col3, #T_976dc_row2_col4, #T_976dc_row2_col5, #T_976dc_row2_col6, #T_976dc_row3_col0, #T_976dc_row3_col1, #T_976dc_row3_col2, #T_976dc_row3_col3, #T_976dc_row3_col4, #T_976dc_row3_col5, #T_976dc_row3_col6, #T_976dc_row4_col0, #T_976dc_row4_col1, #T_976dc_row4_col2, #T_976dc_row4_col3, #T_976dc_row4_col4, #T_976dc_row4_col5, #T_976dc_row4_col6, #T_976dc_row5_col0, #T_976dc_row5_col1, #T_976dc_row5_col2, #T_976dc_row5_col3, #T_976dc_row5_col4, #T_976dc_row5_col5, #T_976dc_row5_col6, #T_976dc_row6_col0, #T_976dc_row6_col1, #T_976dc_row6_col2, #T_976dc_row6_col3, #T_976dc_row6_col4, #T_976dc_row6_col5, #T_976dc_row6_col6, #T_976dc_row7_col0, #T_976dc_row7_col1, #T_976dc_row7_col2, #T_976dc_row7_col3, #T_976dc_row7_col4, #T_976dc_row7_col5, #T_976dc_row7_col6, #T_976dc_row8_col0, #T_976dc_row8_col1, #T_976dc_row8_col2, #T_976dc_row8_col3, #T_976dc_row8_col4, #T_976dc_row8_col5, #T_976dc_row8_col6, #T_976dc_row9_col0, #T_976dc_row9_col1, #T_976dc_row9_col2, #T_976dc_row9_col3, #T_976dc_row9_col4, #T_976dc_row9_col5, #T_976dc_row9_col6 {\n",
       "  background-color: blue;\n",
       "  color: white;\n",
       "}\n",
       "</style>\n",
       "<table id=\"T_976dc\">\n",
       "  <thead>\n",
       "    <tr>\n",
       "      <th class=\"blank level0\" >&nbsp;</th>\n",
       "      <th id=\"T_976dc_level0_col0\" class=\"col_heading level0 col0\" >AAA</th>\n",
       "      <th id=\"T_976dc_level0_col1\" class=\"col_heading level0 col1\" >AA</th>\n",
       "      <th id=\"T_976dc_level0_col2\" class=\"col_heading level0 col2\" >A</th>\n",
       "      <th id=\"T_976dc_level0_col3\" class=\"col_heading level0 col3\" >BBB</th>\n",
       "      <th id=\"T_976dc_level0_col4\" class=\"col_heading level0 col4\" >BB</th>\n",
       "      <th id=\"T_976dc_level0_col5\" class=\"col_heading level0 col5\" >B</th>\n",
       "      <th id=\"T_976dc_level0_col6\" class=\"col_heading level0 col6\" >CCC</th>\n",
       "    </tr>\n",
       "    <tr>\n",
       "      <th class=\"index_name level0\" >years</th>\n",
       "      <th class=\"blank col0\" >&nbsp;</th>\n",
       "      <th class=\"blank col1\" >&nbsp;</th>\n",
       "      <th class=\"blank col2\" >&nbsp;</th>\n",
       "      <th class=\"blank col3\" >&nbsp;</th>\n",
       "      <th class=\"blank col4\" >&nbsp;</th>\n",
       "      <th class=\"blank col5\" >&nbsp;</th>\n",
       "      <th class=\"blank col6\" >&nbsp;</th>\n",
       "    </tr>\n",
       "  </thead>\n",
       "  <tbody>\n",
       "    <tr>\n",
       "      <th id=\"T_976dc_level0_row0\" class=\"row_heading level0 row0\" >1-year Default</th>\n",
       "      <td id=\"T_976dc_row0_col0\" class=\"data row0 col0\" >0.94%</td>\n",
       "      <td id=\"T_976dc_row0_col1\" class=\"data row0 col1\" >1.18%</td>\n",
       "      <td id=\"T_976dc_row0_col2\" class=\"data row0 col2\" >1.29%</td>\n",
       "      <td id=\"T_976dc_row0_col3\" class=\"data row0 col3\" >1.81%</td>\n",
       "      <td id=\"T_976dc_row0_col4\" class=\"data row0 col4\" >3.06%</td>\n",
       "      <td id=\"T_976dc_row0_col5\" class=\"data row0 col5\" >4.75%</td>\n",
       "      <td id=\"T_976dc_row0_col6\" class=\"data row0 col6\" >12.41%</td>\n",
       "    </tr>\n",
       "    <tr>\n",
       "      <th id=\"T_976dc_level0_row1\" class=\"row_heading level0 row1\" >2-year Default</th>\n",
       "      <td id=\"T_976dc_row1_col0\" class=\"data row1 col0\" >2.42%</td>\n",
       "      <td id=\"T_976dc_row1_col1\" class=\"data row1 col1\" >2.96%</td>\n",
       "      <td id=\"T_976dc_row1_col2\" class=\"data row1 col2\" >3.29%</td>\n",
       "      <td id=\"T_976dc_row1_col3\" class=\"data row1 col3\" >4.61%</td>\n",
       "      <td id=\"T_976dc_row1_col4\" class=\"data row1 col4\" >7.86%</td>\n",
       "      <td id=\"T_976dc_row1_col5\" class=\"data row1 col5\" >12.60%</td>\n",
       "      <td id=\"T_976dc_row1_col6\" class=\"data row1 col6\" >26.05%</td>\n",
       "    </tr>\n",
       "    <tr>\n",
       "      <th id=\"T_976dc_level0_row2\" class=\"row_heading level0 row2\" >3-year Default</th>\n",
       "      <td id=\"T_976dc_row2_col0\" class=\"data row2 col0\" >2.56%</td>\n",
       "      <td id=\"T_976dc_row2_col1\" class=\"data row2 col1\" >3.08%</td>\n",
       "      <td id=\"T_976dc_row2_col2\" class=\"data row2 col2\" >3.45%</td>\n",
       "      <td id=\"T_976dc_row2_col3\" class=\"data row2 col3\" >4.84%</td>\n",
       "      <td id=\"T_976dc_row2_col4\" class=\"data row2 col4\" >8.28%</td>\n",
       "      <td id=\"T_976dc_row2_col5\" class=\"data row2 col5\" >13.17%</td>\n",
       "      <td id=\"T_976dc_row2_col6\" class=\"data row2 col6\" >22.24%</td>\n",
       "    </tr>\n",
       "    <tr>\n",
       "      <th id=\"T_976dc_level0_row3\" class=\"row_heading level0 row3\" >4-year Default</th>\n",
       "      <td id=\"T_976dc_row3_col0\" class=\"data row3 col0\" >3.40%</td>\n",
       "      <td id=\"T_976dc_row3_col1\" class=\"data row3 col1\" >4.05%</td>\n",
       "      <td id=\"T_976dc_row3_col2\" class=\"data row3 col2\" >4.59%</td>\n",
       "      <td id=\"T_976dc_row3_col3\" class=\"data row3 col3\" >6.41%</td>\n",
       "      <td id=\"T_976dc_row3_col4\" class=\"data row3 col4\" >10.94%</td>\n",
       "      <td id=\"T_976dc_row3_col5\" class=\"data row3 col5\" >17.02%</td>\n",
       "      <td id=\"T_976dc_row3_col6\" class=\"data row3 col6\" >24.31%</td>\n",
       "    </tr>\n",
       "    <tr>\n",
       "      <th id=\"T_976dc_level0_row4\" class=\"row_heading level0 row4\" >5-year Default</th>\n",
       "      <td id=\"T_976dc_row4_col0\" class=\"data row4 col0\" >3.48%</td>\n",
       "      <td id=\"T_976dc_row4_col1\" class=\"data row4 col1\" >4.11%</td>\n",
       "      <td id=\"T_976dc_row4_col2\" class=\"data row4 col2\" >4.69%</td>\n",
       "      <td id=\"T_976dc_row4_col3\" class=\"data row4 col3\" >6.52%</td>\n",
       "      <td id=\"T_976dc_row4_col4\" class=\"data row4 col4\" >11.06%</td>\n",
       "      <td id=\"T_976dc_row4_col5\" class=\"data row4 col5\" >16.77%</td>\n",
       "      <td id=\"T_976dc_row4_col6\" class=\"data row4 col6\" >21.13%</td>\n",
       "    </tr>\n",
       "    <tr>\n",
       "      <th id=\"T_976dc_level0_row5\" class=\"row_heading level0 row5\" >6-year Default</th>\n",
       "      <td id=\"T_976dc_row5_col0\" class=\"data row5 col0\" >3.55%</td>\n",
       "      <td id=\"T_976dc_row5_col1\" class=\"data row5 col1\" >4.17%</td>\n",
       "      <td id=\"T_976dc_row5_col2\" class=\"data row5 col2\" >4.79%</td>\n",
       "      <td id=\"T_976dc_row5_col3\" class=\"data row5 col3\" >6.62%</td>\n",
       "      <td id=\"T_976dc_row5_col4\" class=\"data row5 col4\" >11.11%</td>\n",
       "      <td id=\"T_976dc_row5_col5\" class=\"data row5 col5\" >16.42%</td>\n",
       "      <td id=\"T_976dc_row5_col6\" class=\"data row5 col6\" >19.02%</td>\n",
       "    </tr>\n",
       "    <tr>\n",
       "      <th id=\"T_976dc_level0_row6\" class=\"row_heading level0 row6\" >7-year Default</th>\n",
       "      <td id=\"T_976dc_row6_col0\" class=\"data row6 col0\" >3.63%</td>\n",
       "      <td id=\"T_976dc_row6_col1\" class=\"data row6 col1\" >4.23%</td>\n",
       "      <td id=\"T_976dc_row6_col2\" class=\"data row6 col2\" >4.88%</td>\n",
       "      <td id=\"T_976dc_row6_col3\" class=\"data row6 col3\" >6.70%</td>\n",
       "      <td id=\"T_976dc_row6_col4\" class=\"data row6 col4\" >11.10%</td>\n",
       "      <td id=\"T_976dc_row6_col5\" class=\"data row6 col5\" >16.02%</td>\n",
       "      <td id=\"T_976dc_row6_col6\" class=\"data row6 col6\" >17.61%</td>\n",
       "    </tr>\n",
       "    <tr>\n",
       "      <th id=\"T_976dc_level0_row7\" class=\"row_heading level0 row7\" >8-year Default</th>\n",
       "      <td id=\"T_976dc_row7_col0\" class=\"data row7 col0\" >3.70%</td>\n",
       "      <td id=\"T_976dc_row7_col1\" class=\"data row7 col1\" >4.29%</td>\n",
       "      <td id=\"T_976dc_row7_col2\" class=\"data row7 col2\" >4.97%</td>\n",
       "      <td id=\"T_976dc_row7_col3\" class=\"data row7 col3\" >6.77%</td>\n",
       "      <td id=\"T_976dc_row7_col4\" class=\"data row7 col4\" >11.04%</td>\n",
       "      <td id=\"T_976dc_row7_col5\" class=\"data row7 col5\" >15.60%</td>\n",
       "      <td id=\"T_976dc_row7_col6\" class=\"data row7 col6\" >16.63%</td>\n",
       "    </tr>\n",
       "    <tr>\n",
       "      <th id=\"T_976dc_level0_row8\" class=\"row_heading level0 row8\" >9-year Default</th>\n",
       "      <td id=\"T_976dc_row8_col0\" class=\"data row8 col0\" >3.76%</td>\n",
       "      <td id=\"T_976dc_row8_col1\" class=\"data row8 col1\" >4.36%</td>\n",
       "      <td id=\"T_976dc_row8_col2\" class=\"data row8 col2\" >5.05%</td>\n",
       "      <td id=\"T_976dc_row8_col3\" class=\"data row8 col3\" >6.83%</td>\n",
       "      <td id=\"T_976dc_row8_col4\" class=\"data row8 col4\" >10.94%</td>\n",
       "      <td id=\"T_976dc_row8_col5\" class=\"data row8 col5\" >15.17%</td>\n",
       "      <td id=\"T_976dc_row8_col6\" class=\"data row8 col6\" >15.89%</td>\n",
       "    </tr>\n",
       "    <tr>\n",
       "      <th id=\"T_976dc_level0_row9\" class=\"row_heading level0 row9\" >10-year Default</th>\n",
       "      <td id=\"T_976dc_row9_col0\" class=\"data row9 col0\" >3.83%</td>\n",
       "      <td id=\"T_976dc_row9_col1\" class=\"data row9 col1\" >4.42%</td>\n",
       "      <td id=\"T_976dc_row9_col2\" class=\"data row9 col2\" >5.13%</td>\n",
       "      <td id=\"T_976dc_row9_col3\" class=\"data row9 col3\" >6.88%</td>\n",
       "      <td id=\"T_976dc_row9_col4\" class=\"data row9 col4\" >10.82%</td>\n",
       "      <td id=\"T_976dc_row9_col5\" class=\"data row9 col5\" >14.75%</td>\n",
       "      <td id=\"T_976dc_row9_col6\" class=\"data row9 col6\" >15.29%</td>\n",
       "    </tr>\n",
       "  </tbody>\n",
       "</table>\n"
      ],
      "text/plain": [
       "<pandas.io.formats.style.Styler at 0x25e5fc1c350>"
      ]
     },
     "execution_count": 267,
     "metadata": {},
     "output_type": "execute_result"
    }
   ],
   "source": [
    "Base_final.style.set_properties(**{'background-color': 'blue',\n",
    "                           'color': 'white'}).format(\"{:.2%}\")"
   ]
  },
  {
   "cell_type": "code",
   "execution_count": 268,
   "metadata": {},
   "outputs": [
    {
     "data": {
      "text/html": [
       "<style type=\"text/css\">\n",
       "#T_9a2d1_row0_col0, #T_9a2d1_row0_col1, #T_9a2d1_row0_col2, #T_9a2d1_row0_col3, #T_9a2d1_row0_col4, #T_9a2d1_row0_col5, #T_9a2d1_row0_col6, #T_9a2d1_row1_col0, #T_9a2d1_row1_col1, #T_9a2d1_row1_col2, #T_9a2d1_row1_col3, #T_9a2d1_row1_col4, #T_9a2d1_row1_col5, #T_9a2d1_row1_col6, #T_9a2d1_row2_col0, #T_9a2d1_row2_col1, #T_9a2d1_row2_col2, #T_9a2d1_row2_col3, #T_9a2d1_row2_col4, #T_9a2d1_row2_col5, #T_9a2d1_row2_col6, #T_9a2d1_row3_col0, #T_9a2d1_row3_col1, #T_9a2d1_row3_col2, #T_9a2d1_row3_col3, #T_9a2d1_row3_col4, #T_9a2d1_row3_col5, #T_9a2d1_row3_col6, #T_9a2d1_row4_col0, #T_9a2d1_row4_col1, #T_9a2d1_row4_col2, #T_9a2d1_row4_col3, #T_9a2d1_row4_col4, #T_9a2d1_row4_col5, #T_9a2d1_row4_col6, #T_9a2d1_row5_col0, #T_9a2d1_row5_col1, #T_9a2d1_row5_col2, #T_9a2d1_row5_col3, #T_9a2d1_row5_col4, #T_9a2d1_row5_col5, #T_9a2d1_row5_col6, #T_9a2d1_row6_col0, #T_9a2d1_row6_col1, #T_9a2d1_row6_col2, #T_9a2d1_row6_col3, #T_9a2d1_row6_col4, #T_9a2d1_row6_col5, #T_9a2d1_row6_col6, #T_9a2d1_row7_col0, #T_9a2d1_row7_col1, #T_9a2d1_row7_col2, #T_9a2d1_row7_col3, #T_9a2d1_row7_col4, #T_9a2d1_row7_col5, #T_9a2d1_row7_col6, #T_9a2d1_row8_col0, #T_9a2d1_row8_col1, #T_9a2d1_row8_col2, #T_9a2d1_row8_col3, #T_9a2d1_row8_col4, #T_9a2d1_row8_col5, #T_9a2d1_row8_col6, #T_9a2d1_row9_col0, #T_9a2d1_row9_col1, #T_9a2d1_row9_col2, #T_9a2d1_row9_col3, #T_9a2d1_row9_col4, #T_9a2d1_row9_col5, #T_9a2d1_row9_col6 {\n",
       "  background-color: blue;\n",
       "  color: white;\n",
       "}\n",
       "</style>\n",
       "<table id=\"T_9a2d1\">\n",
       "  <thead>\n",
       "    <tr>\n",
       "      <th class=\"blank level0\" >&nbsp;</th>\n",
       "      <th id=\"T_9a2d1_level0_col0\" class=\"col_heading level0 col0\" >AAA</th>\n",
       "      <th id=\"T_9a2d1_level0_col1\" class=\"col_heading level0 col1\" >AA</th>\n",
       "      <th id=\"T_9a2d1_level0_col2\" class=\"col_heading level0 col2\" >A</th>\n",
       "      <th id=\"T_9a2d1_level0_col3\" class=\"col_heading level0 col3\" >BBB</th>\n",
       "      <th id=\"T_9a2d1_level0_col4\" class=\"col_heading level0 col4\" >BB</th>\n",
       "      <th id=\"T_9a2d1_level0_col5\" class=\"col_heading level0 col5\" >B</th>\n",
       "      <th id=\"T_9a2d1_level0_col6\" class=\"col_heading level0 col6\" >CCC</th>\n",
       "    </tr>\n",
       "    <tr>\n",
       "      <th class=\"index_name level0\" >years</th>\n",
       "      <th class=\"blank col0\" >&nbsp;</th>\n",
       "      <th class=\"blank col1\" >&nbsp;</th>\n",
       "      <th class=\"blank col2\" >&nbsp;</th>\n",
       "      <th class=\"blank col3\" >&nbsp;</th>\n",
       "      <th class=\"blank col4\" >&nbsp;</th>\n",
       "      <th class=\"blank col5\" >&nbsp;</th>\n",
       "      <th class=\"blank col6\" >&nbsp;</th>\n",
       "    </tr>\n",
       "  </thead>\n",
       "  <tbody>\n",
       "    <tr>\n",
       "      <th id=\"T_9a2d1_level0_row0\" class=\"row_heading level0 row0\" >1-year Default</th>\n",
       "      <td id=\"T_9a2d1_row0_col0\" class=\"data row0 col0\" >0.90%</td>\n",
       "      <td id=\"T_9a2d1_row0_col1\" class=\"data row0 col1\" >1.13%</td>\n",
       "      <td id=\"T_9a2d1_row0_col2\" class=\"data row0 col2\" >1.24%</td>\n",
       "      <td id=\"T_9a2d1_row0_col3\" class=\"data row0 col3\" >1.73%</td>\n",
       "      <td id=\"T_9a2d1_row0_col4\" class=\"data row0 col4\" >2.93%</td>\n",
       "      <td id=\"T_9a2d1_row0_col5\" class=\"data row0 col5\" >4.54%</td>\n",
       "      <td id=\"T_9a2d1_row0_col6\" class=\"data row0 col6\" >11.86%</td>\n",
       "    </tr>\n",
       "    <tr>\n",
       "      <th id=\"T_9a2d1_level0_row1\" class=\"row_heading level0 row1\" >2-year Default</th>\n",
       "      <td id=\"T_9a2d1_row1_col0\" class=\"data row1 col0\" >4.12%</td>\n",
       "      <td id=\"T_9a2d1_row1_col1\" class=\"data row1 col1\" >5.03%</td>\n",
       "      <td id=\"T_9a2d1_row1_col2\" class=\"data row1 col2\" >5.59%</td>\n",
       "      <td id=\"T_9a2d1_row1_col3\" class=\"data row1 col3\" >7.85%</td>\n",
       "      <td id=\"T_9a2d1_row1_col4\" class=\"data row1 col4\" >13.37%</td>\n",
       "      <td id=\"T_9a2d1_row1_col5\" class=\"data row1 col5\" >21.43%</td>\n",
       "      <td id=\"T_9a2d1_row1_col6\" class=\"data row1 col6\" >44.29%</td>\n",
       "    </tr>\n",
       "    <tr>\n",
       "      <th id=\"T_9a2d1_level0_row2\" class=\"row_heading level0 row2\" >3-year Default</th>\n",
       "      <td id=\"T_9a2d1_row2_col0\" class=\"data row2 col0\" >2.74%</td>\n",
       "      <td id=\"T_9a2d1_row2_col1\" class=\"data row2 col1\" >3.30%</td>\n",
       "      <td id=\"T_9a2d1_row2_col2\" class=\"data row2 col2\" >3.71%</td>\n",
       "      <td id=\"T_9a2d1_row2_col3\" class=\"data row2 col3\" >5.20%</td>\n",
       "      <td id=\"T_9a2d1_row2_col4\" class=\"data row2 col4\" >8.89%</td>\n",
       "      <td id=\"T_9a2d1_row2_col5\" class=\"data row2 col5\" >14.14%</td>\n",
       "      <td id=\"T_9a2d1_row2_col6\" class=\"data row2 col6\" >23.88%</td>\n",
       "    </tr>\n",
       "    <tr>\n",
       "      <th id=\"T_9a2d1_level0_row3\" class=\"row_heading level0 row3\" >4-year Default</th>\n",
       "      <td id=\"T_9a2d1_row3_col0\" class=\"data row3 col0\" >3.40%</td>\n",
       "      <td id=\"T_9a2d1_row3_col1\" class=\"data row3 col1\" >4.05%</td>\n",
       "      <td id=\"T_9a2d1_row3_col2\" class=\"data row3 col2\" >4.59%</td>\n",
       "      <td id=\"T_9a2d1_row3_col3\" class=\"data row3 col3\" >6.41%</td>\n",
       "      <td id=\"T_9a2d1_row3_col4\" class=\"data row3 col4\" >10.94%</td>\n",
       "      <td id=\"T_9a2d1_row3_col5\" class=\"data row3 col5\" >17.02%</td>\n",
       "      <td id=\"T_9a2d1_row3_col6\" class=\"data row3 col6\" >24.31%</td>\n",
       "    </tr>\n",
       "    <tr>\n",
       "      <th id=\"T_9a2d1_level0_row4\" class=\"row_heading level0 row4\" >5-year Default</th>\n",
       "      <td id=\"T_9a2d1_row4_col0\" class=\"data row4 col0\" >3.48%</td>\n",
       "      <td id=\"T_9a2d1_row4_col1\" class=\"data row4 col1\" >4.11%</td>\n",
       "      <td id=\"T_9a2d1_row4_col2\" class=\"data row4 col2\" >4.69%</td>\n",
       "      <td id=\"T_9a2d1_row4_col3\" class=\"data row4 col3\" >6.52%</td>\n",
       "      <td id=\"T_9a2d1_row4_col4\" class=\"data row4 col4\" >11.06%</td>\n",
       "      <td id=\"T_9a2d1_row4_col5\" class=\"data row4 col5\" >16.77%</td>\n",
       "      <td id=\"T_9a2d1_row4_col6\" class=\"data row4 col6\" >21.13%</td>\n",
       "    </tr>\n",
       "    <tr>\n",
       "      <th id=\"T_9a2d1_level0_row5\" class=\"row_heading level0 row5\" >6-year Default</th>\n",
       "      <td id=\"T_9a2d1_row5_col0\" class=\"data row5 col0\" >3.55%</td>\n",
       "      <td id=\"T_9a2d1_row5_col1\" class=\"data row5 col1\" >4.17%</td>\n",
       "      <td id=\"T_9a2d1_row5_col2\" class=\"data row5 col2\" >4.79%</td>\n",
       "      <td id=\"T_9a2d1_row5_col3\" class=\"data row5 col3\" >6.62%</td>\n",
       "      <td id=\"T_9a2d1_row5_col4\" class=\"data row5 col4\" >11.11%</td>\n",
       "      <td id=\"T_9a2d1_row5_col5\" class=\"data row5 col5\" >16.42%</td>\n",
       "      <td id=\"T_9a2d1_row5_col6\" class=\"data row5 col6\" >19.02%</td>\n",
       "    </tr>\n",
       "    <tr>\n",
       "      <th id=\"T_9a2d1_level0_row6\" class=\"row_heading level0 row6\" >7-year Default</th>\n",
       "      <td id=\"T_9a2d1_row6_col0\" class=\"data row6 col0\" >3.63%</td>\n",
       "      <td id=\"T_9a2d1_row6_col1\" class=\"data row6 col1\" >4.23%</td>\n",
       "      <td id=\"T_9a2d1_row6_col2\" class=\"data row6 col2\" >4.88%</td>\n",
       "      <td id=\"T_9a2d1_row6_col3\" class=\"data row6 col3\" >6.70%</td>\n",
       "      <td id=\"T_9a2d1_row6_col4\" class=\"data row6 col4\" >11.10%</td>\n",
       "      <td id=\"T_9a2d1_row6_col5\" class=\"data row6 col5\" >16.02%</td>\n",
       "      <td id=\"T_9a2d1_row6_col6\" class=\"data row6 col6\" >17.61%</td>\n",
       "    </tr>\n",
       "    <tr>\n",
       "      <th id=\"T_9a2d1_level0_row7\" class=\"row_heading level0 row7\" >8-year Default</th>\n",
       "      <td id=\"T_9a2d1_row7_col0\" class=\"data row7 col0\" >3.70%</td>\n",
       "      <td id=\"T_9a2d1_row7_col1\" class=\"data row7 col1\" >4.29%</td>\n",
       "      <td id=\"T_9a2d1_row7_col2\" class=\"data row7 col2\" >4.97%</td>\n",
       "      <td id=\"T_9a2d1_row7_col3\" class=\"data row7 col3\" >6.77%</td>\n",
       "      <td id=\"T_9a2d1_row7_col4\" class=\"data row7 col4\" >11.04%</td>\n",
       "      <td id=\"T_9a2d1_row7_col5\" class=\"data row7 col5\" >15.60%</td>\n",
       "      <td id=\"T_9a2d1_row7_col6\" class=\"data row7 col6\" >16.63%</td>\n",
       "    </tr>\n",
       "    <tr>\n",
       "      <th id=\"T_9a2d1_level0_row8\" class=\"row_heading level0 row8\" >9-year Default</th>\n",
       "      <td id=\"T_9a2d1_row8_col0\" class=\"data row8 col0\" >3.76%</td>\n",
       "      <td id=\"T_9a2d1_row8_col1\" class=\"data row8 col1\" >4.36%</td>\n",
       "      <td id=\"T_9a2d1_row8_col2\" class=\"data row8 col2\" >5.05%</td>\n",
       "      <td id=\"T_9a2d1_row8_col3\" class=\"data row8 col3\" >6.83%</td>\n",
       "      <td id=\"T_9a2d1_row8_col4\" class=\"data row8 col4\" >10.94%</td>\n",
       "      <td id=\"T_9a2d1_row8_col5\" class=\"data row8 col5\" >15.17%</td>\n",
       "      <td id=\"T_9a2d1_row8_col6\" class=\"data row8 col6\" >15.89%</td>\n",
       "    </tr>\n",
       "    <tr>\n",
       "      <th id=\"T_9a2d1_level0_row9\" class=\"row_heading level0 row9\" >10-year Default</th>\n",
       "      <td id=\"T_9a2d1_row9_col0\" class=\"data row9 col0\" >3.83%</td>\n",
       "      <td id=\"T_9a2d1_row9_col1\" class=\"data row9 col1\" >4.42%</td>\n",
       "      <td id=\"T_9a2d1_row9_col2\" class=\"data row9 col2\" >5.13%</td>\n",
       "      <td id=\"T_9a2d1_row9_col3\" class=\"data row9 col3\" >6.88%</td>\n",
       "      <td id=\"T_9a2d1_row9_col4\" class=\"data row9 col4\" >10.82%</td>\n",
       "      <td id=\"T_9a2d1_row9_col5\" class=\"data row9 col5\" >14.75%</td>\n",
       "      <td id=\"T_9a2d1_row9_col6\" class=\"data row9 col6\" >15.29%</td>\n",
       "    </tr>\n",
       "  </tbody>\n",
       "</table>\n"
      ],
      "text/plain": [
       "<pandas.io.formats.style.Styler at 0x25e6282ee90>"
      ]
     },
     "execution_count": 268,
     "metadata": {},
     "output_type": "execute_result"
    }
   ],
   "source": [
    "Pesimistic_final.style.set_properties(**{'background-color': 'blue',\n",
    "                           'color': 'white'}).format(\"{:.2%}\")"
   ]
  },
  {
   "cell_type": "code",
   "execution_count": 269,
   "metadata": {},
   "outputs": [
    {
     "data": {
      "text/html": [
       "<style type=\"text/css\">\n",
       "#T_ae3c5_row0_col0, #T_ae3c5_row0_col1, #T_ae3c5_row0_col2, #T_ae3c5_row0_col3, #T_ae3c5_row0_col4, #T_ae3c5_row0_col5, #T_ae3c5_row0_col6, #T_ae3c5_row1_col0, #T_ae3c5_row1_col1, #T_ae3c5_row1_col2, #T_ae3c5_row1_col3, #T_ae3c5_row1_col4, #T_ae3c5_row1_col5, #T_ae3c5_row1_col6, #T_ae3c5_row2_col0, #T_ae3c5_row2_col1, #T_ae3c5_row2_col2, #T_ae3c5_row2_col3, #T_ae3c5_row2_col4, #T_ae3c5_row2_col5, #T_ae3c5_row2_col6, #T_ae3c5_row3_col0, #T_ae3c5_row3_col1, #T_ae3c5_row3_col2, #T_ae3c5_row3_col3, #T_ae3c5_row3_col4, #T_ae3c5_row3_col5, #T_ae3c5_row3_col6, #T_ae3c5_row4_col0, #T_ae3c5_row4_col1, #T_ae3c5_row4_col2, #T_ae3c5_row4_col3, #T_ae3c5_row4_col4, #T_ae3c5_row4_col5, #T_ae3c5_row4_col6, #T_ae3c5_row5_col0, #T_ae3c5_row5_col1, #T_ae3c5_row5_col2, #T_ae3c5_row5_col3, #T_ae3c5_row5_col4, #T_ae3c5_row5_col5, #T_ae3c5_row5_col6, #T_ae3c5_row6_col0, #T_ae3c5_row6_col1, #T_ae3c5_row6_col2, #T_ae3c5_row6_col3, #T_ae3c5_row6_col4, #T_ae3c5_row6_col5, #T_ae3c5_row6_col6, #T_ae3c5_row7_col0, #T_ae3c5_row7_col1, #T_ae3c5_row7_col2, #T_ae3c5_row7_col3, #T_ae3c5_row7_col4, #T_ae3c5_row7_col5, #T_ae3c5_row7_col6, #T_ae3c5_row8_col0, #T_ae3c5_row8_col1, #T_ae3c5_row8_col2, #T_ae3c5_row8_col3, #T_ae3c5_row8_col4, #T_ae3c5_row8_col5, #T_ae3c5_row8_col6, #T_ae3c5_row9_col0, #T_ae3c5_row9_col1, #T_ae3c5_row9_col2, #T_ae3c5_row9_col3, #T_ae3c5_row9_col4, #T_ae3c5_row9_col5, #T_ae3c5_row9_col6 {\n",
       "  background-color: blue;\n",
       "  color: white;\n",
       "}\n",
       "</style>\n",
       "<table id=\"T_ae3c5\">\n",
       "  <thead>\n",
       "    <tr>\n",
       "      <th class=\"blank level0\" >&nbsp;</th>\n",
       "      <th id=\"T_ae3c5_level0_col0\" class=\"col_heading level0 col0\" >AAA</th>\n",
       "      <th id=\"T_ae3c5_level0_col1\" class=\"col_heading level0 col1\" >AA</th>\n",
       "      <th id=\"T_ae3c5_level0_col2\" class=\"col_heading level0 col2\" >A</th>\n",
       "      <th id=\"T_ae3c5_level0_col3\" class=\"col_heading level0 col3\" >BBB</th>\n",
       "      <th id=\"T_ae3c5_level0_col4\" class=\"col_heading level0 col4\" >BB</th>\n",
       "      <th id=\"T_ae3c5_level0_col5\" class=\"col_heading level0 col5\" >B</th>\n",
       "      <th id=\"T_ae3c5_level0_col6\" class=\"col_heading level0 col6\" >CCC</th>\n",
       "    </tr>\n",
       "    <tr>\n",
       "      <th class=\"index_name level0\" >years</th>\n",
       "      <th class=\"blank col0\" >&nbsp;</th>\n",
       "      <th class=\"blank col1\" >&nbsp;</th>\n",
       "      <th class=\"blank col2\" >&nbsp;</th>\n",
       "      <th class=\"blank col3\" >&nbsp;</th>\n",
       "      <th class=\"blank col4\" >&nbsp;</th>\n",
       "      <th class=\"blank col5\" >&nbsp;</th>\n",
       "      <th class=\"blank col6\" >&nbsp;</th>\n",
       "    </tr>\n",
       "  </thead>\n",
       "  <tbody>\n",
       "    <tr>\n",
       "      <th id=\"T_ae3c5_level0_row0\" class=\"row_heading level0 row0\" >1-year Default</th>\n",
       "      <td id=\"T_ae3c5_row0_col0\" class=\"data row0 col0\" >1.26%</td>\n",
       "      <td id=\"T_ae3c5_row0_col1\" class=\"data row0 col1\" >1.57%</td>\n",
       "      <td id=\"T_ae3c5_row0_col2\" class=\"data row0 col2\" >1.72%</td>\n",
       "      <td id=\"T_ae3c5_row0_col3\" class=\"data row0 col3\" >2.41%</td>\n",
       "      <td id=\"T_ae3c5_row0_col4\" class=\"data row0 col4\" >4.07%</td>\n",
       "      <td id=\"T_ae3c5_row0_col5\" class=\"data row0 col5\" >6.32%</td>\n",
       "      <td id=\"T_ae3c5_row0_col6\" class=\"data row0 col6\" >16.51%</td>\n",
       "    </tr>\n",
       "    <tr>\n",
       "      <th id=\"T_ae3c5_level0_row1\" class=\"row_heading level0 row1\" >2-year Default</th>\n",
       "      <td id=\"T_ae3c5_row1_col0\" class=\"data row1 col0\" >1.29%</td>\n",
       "      <td id=\"T_ae3c5_row1_col1\" class=\"data row1 col1\" >1.57%</td>\n",
       "      <td id=\"T_ae3c5_row1_col2\" class=\"data row1 col2\" >1.75%</td>\n",
       "      <td id=\"T_ae3c5_row1_col3\" class=\"data row1 col3\" >2.45%</td>\n",
       "      <td id=\"T_ae3c5_row1_col4\" class=\"data row1 col4\" >4.18%</td>\n",
       "      <td id=\"T_ae3c5_row1_col5\" class=\"data row1 col5\" >6.69%</td>\n",
       "      <td id=\"T_ae3c5_row1_col6\" class=\"data row1 col6\" >13.84%</td>\n",
       "    </tr>\n",
       "    <tr>\n",
       "      <th id=\"T_ae3c5_level0_row2\" class=\"row_heading level0 row2\" >3-year Default</th>\n",
       "      <td id=\"T_ae3c5_row2_col0\" class=\"data row2 col0\" >2.31%</td>\n",
       "      <td id=\"T_ae3c5_row2_col1\" class=\"data row2 col1\" >2.78%</td>\n",
       "      <td id=\"T_ae3c5_row2_col2\" class=\"data row2 col2\" >3.13%</td>\n",
       "      <td id=\"T_ae3c5_row2_col3\" class=\"data row2 col3\" >4.38%</td>\n",
       "      <td id=\"T_ae3c5_row2_col4\" class=\"data row2 col4\" >7.50%</td>\n",
       "      <td id=\"T_ae3c5_row2_col5\" class=\"data row2 col5\" >11.92%</td>\n",
       "      <td id=\"T_ae3c5_row2_col6\" class=\"data row2 col6\" >20.13%</td>\n",
       "    </tr>\n",
       "    <tr>\n",
       "      <th id=\"T_ae3c5_level0_row3\" class=\"row_heading level0 row3\" >4-year Default</th>\n",
       "      <td id=\"T_ae3c5_row3_col0\" class=\"data row3 col0\" >3.40%</td>\n",
       "      <td id=\"T_ae3c5_row3_col1\" class=\"data row3 col1\" >4.05%</td>\n",
       "      <td id=\"T_ae3c5_row3_col2\" class=\"data row3 col2\" >4.59%</td>\n",
       "      <td id=\"T_ae3c5_row3_col3\" class=\"data row3 col3\" >6.41%</td>\n",
       "      <td id=\"T_ae3c5_row3_col4\" class=\"data row3 col4\" >10.94%</td>\n",
       "      <td id=\"T_ae3c5_row3_col5\" class=\"data row3 col5\" >17.02%</td>\n",
       "      <td id=\"T_ae3c5_row3_col6\" class=\"data row3 col6\" >24.31%</td>\n",
       "    </tr>\n",
       "    <tr>\n",
       "      <th id=\"T_ae3c5_level0_row4\" class=\"row_heading level0 row4\" >5-year Default</th>\n",
       "      <td id=\"T_ae3c5_row4_col0\" class=\"data row4 col0\" >3.48%</td>\n",
       "      <td id=\"T_ae3c5_row4_col1\" class=\"data row4 col1\" >4.11%</td>\n",
       "      <td id=\"T_ae3c5_row4_col2\" class=\"data row4 col2\" >4.69%</td>\n",
       "      <td id=\"T_ae3c5_row4_col3\" class=\"data row4 col3\" >6.52%</td>\n",
       "      <td id=\"T_ae3c5_row4_col4\" class=\"data row4 col4\" >11.06%</td>\n",
       "      <td id=\"T_ae3c5_row4_col5\" class=\"data row4 col5\" >16.77%</td>\n",
       "      <td id=\"T_ae3c5_row4_col6\" class=\"data row4 col6\" >21.13%</td>\n",
       "    </tr>\n",
       "    <tr>\n",
       "      <th id=\"T_ae3c5_level0_row5\" class=\"row_heading level0 row5\" >6-year Default</th>\n",
       "      <td id=\"T_ae3c5_row5_col0\" class=\"data row5 col0\" >3.55%</td>\n",
       "      <td id=\"T_ae3c5_row5_col1\" class=\"data row5 col1\" >4.17%</td>\n",
       "      <td id=\"T_ae3c5_row5_col2\" class=\"data row5 col2\" >4.79%</td>\n",
       "      <td id=\"T_ae3c5_row5_col3\" class=\"data row5 col3\" >6.62%</td>\n",
       "      <td id=\"T_ae3c5_row5_col4\" class=\"data row5 col4\" >11.11%</td>\n",
       "      <td id=\"T_ae3c5_row5_col5\" class=\"data row5 col5\" >16.42%</td>\n",
       "      <td id=\"T_ae3c5_row5_col6\" class=\"data row5 col6\" >19.02%</td>\n",
       "    </tr>\n",
       "    <tr>\n",
       "      <th id=\"T_ae3c5_level0_row6\" class=\"row_heading level0 row6\" >7-year Default</th>\n",
       "      <td id=\"T_ae3c5_row6_col0\" class=\"data row6 col0\" >3.63%</td>\n",
       "      <td id=\"T_ae3c5_row6_col1\" class=\"data row6 col1\" >4.23%</td>\n",
       "      <td id=\"T_ae3c5_row6_col2\" class=\"data row6 col2\" >4.88%</td>\n",
       "      <td id=\"T_ae3c5_row6_col3\" class=\"data row6 col3\" >6.70%</td>\n",
       "      <td id=\"T_ae3c5_row6_col4\" class=\"data row6 col4\" >11.10%</td>\n",
       "      <td id=\"T_ae3c5_row6_col5\" class=\"data row6 col5\" >16.02%</td>\n",
       "      <td id=\"T_ae3c5_row6_col6\" class=\"data row6 col6\" >17.61%</td>\n",
       "    </tr>\n",
       "    <tr>\n",
       "      <th id=\"T_ae3c5_level0_row7\" class=\"row_heading level0 row7\" >8-year Default</th>\n",
       "      <td id=\"T_ae3c5_row7_col0\" class=\"data row7 col0\" >3.70%</td>\n",
       "      <td id=\"T_ae3c5_row7_col1\" class=\"data row7 col1\" >4.29%</td>\n",
       "      <td id=\"T_ae3c5_row7_col2\" class=\"data row7 col2\" >4.97%</td>\n",
       "      <td id=\"T_ae3c5_row7_col3\" class=\"data row7 col3\" >6.77%</td>\n",
       "      <td id=\"T_ae3c5_row7_col4\" class=\"data row7 col4\" >11.04%</td>\n",
       "      <td id=\"T_ae3c5_row7_col5\" class=\"data row7 col5\" >15.60%</td>\n",
       "      <td id=\"T_ae3c5_row7_col6\" class=\"data row7 col6\" >16.63%</td>\n",
       "    </tr>\n",
       "    <tr>\n",
       "      <th id=\"T_ae3c5_level0_row8\" class=\"row_heading level0 row8\" >9-year Default</th>\n",
       "      <td id=\"T_ae3c5_row8_col0\" class=\"data row8 col0\" >3.76%</td>\n",
       "      <td id=\"T_ae3c5_row8_col1\" class=\"data row8 col1\" >4.36%</td>\n",
       "      <td id=\"T_ae3c5_row8_col2\" class=\"data row8 col2\" >5.05%</td>\n",
       "      <td id=\"T_ae3c5_row8_col3\" class=\"data row8 col3\" >6.83%</td>\n",
       "      <td id=\"T_ae3c5_row8_col4\" class=\"data row8 col4\" >10.94%</td>\n",
       "      <td id=\"T_ae3c5_row8_col5\" class=\"data row8 col5\" >15.17%</td>\n",
       "      <td id=\"T_ae3c5_row8_col6\" class=\"data row8 col6\" >15.89%</td>\n",
       "    </tr>\n",
       "    <tr>\n",
       "      <th id=\"T_ae3c5_level0_row9\" class=\"row_heading level0 row9\" >10-year Default</th>\n",
       "      <td id=\"T_ae3c5_row9_col0\" class=\"data row9 col0\" >3.83%</td>\n",
       "      <td id=\"T_ae3c5_row9_col1\" class=\"data row9 col1\" >4.42%</td>\n",
       "      <td id=\"T_ae3c5_row9_col2\" class=\"data row9 col2\" >5.13%</td>\n",
       "      <td id=\"T_ae3c5_row9_col3\" class=\"data row9 col3\" >6.88%</td>\n",
       "      <td id=\"T_ae3c5_row9_col4\" class=\"data row9 col4\" >10.82%</td>\n",
       "      <td id=\"T_ae3c5_row9_col5\" class=\"data row9 col5\" >14.75%</td>\n",
       "      <td id=\"T_ae3c5_row9_col6\" class=\"data row9 col6\" >15.29%</td>\n",
       "    </tr>\n",
       "  </tbody>\n",
       "</table>\n"
      ],
      "text/plain": [
       "<pandas.io.formats.style.Styler at 0x25e6281c190>"
      ]
     },
     "execution_count": 269,
     "metadata": {},
     "output_type": "execute_result"
    }
   ],
   "source": [
    "Optimistic_final.style.set_properties(**{'background-color': 'blue',\n",
    "                           'color': 'white'}).format(\"{:.2%}\")"
   ]
  },
  {
   "cell_type": "markdown",
   "metadata": {},
   "source": [
    "By looking at the values presented in above tables in can be observed that PiT PDs are lower in first 3 years than in TTC PDs, all else for each scenario is the same. This can be seen on the below presented figures.\n",
    "This values can be used to compute the Cumulative multi-year Point-in-Time PD (Table 22 below the graphs) by the use of the following formula: (see pdf report)"
   ]
  },
  {
   "cell_type": "code",
   "execution_count": 270,
   "metadata": {},
   "outputs": [
    {
     "data": {
      "application/vnd.plotly.v1+json": {
       "config": {
        "plotlyServerURL": "https://plot.ly"
       },
       "data": [
        {
         "hovertemplate": "variable=AAA<br>years=%{x}<br>value=%{y}<extra></extra>",
         "legendgroup": "AAA",
         "line": {
          "color": "#636efa",
          "dash": "solid"
         },
         "marker": {
          "symbol": "circle"
         },
         "mode": "markers+lines",
         "name": "AAA",
         "orientation": "v",
         "showlegend": true,
         "type": "scatter",
         "x": [
          "1-year Default",
          "2-year Default",
          "3-year Default",
          "4-year Default",
          "5-year Default",
          "6-year Default",
          "7-year Default",
          "8-year Default",
          "9-year Default",
          "10-year Default"
         ],
         "xaxis": "x",
         "y": [
          0.012566901311845045,
          0.012866505776615264,
          0.023128533218319258,
          0.0339956296626871,
          0.0347868556933955,
          0.0355365961814939,
          0.0362558037104026,
          0.0369516271774757,
          0.0376290045486778,
          0.0382914469890695
         ],
         "yaxis": "y"
        },
        {
         "hovertemplate": "variable=AA<br>years=%{x}<br>value=%{y}<extra></extra>",
         "legendgroup": "AA",
         "line": {
          "color": "#EF553B",
          "dash": "solid"
         },
         "marker": {
          "symbol": "circle"
         },
         "mode": "markers+lines",
         "name": "AA",
         "orientation": "v",
         "showlegend": true,
         "type": "scatter",
         "x": [
          "1-year Default",
          "2-year Default",
          "3-year Default",
          "4-year Default",
          "5-year Default",
          "6-year Default",
          "7-year Default",
          "8-year Default",
          "9-year Default",
          "10-year Default"
         ],
         "xaxis": "x",
         "y": [
          0.015678320607703692,
          0.015721728472020094,
          0.027843752456130428,
          0.0404744148212985,
          0.0410659376455993,
          0.0416746454688458,
          0.0422971882739428,
          0.0429296996115349,
          0.0435682531425446,
          0.0442090898700217
         ],
         "yaxis": "y"
        },
        {
         "hovertemplate": "variable=A<br>years=%{x}<br>value=%{y}<extra></extra>",
         "legendgroup": "A",
         "line": {
          "color": "#00cc96",
          "dash": "solid"
         },
         "marker": {
          "symbol": "circle"
         },
         "mode": "markers+lines",
         "name": "A",
         "orientation": "v",
         "showlegend": true,
         "type": "scatter",
         "x": [
          "1-year Default",
          "2-year Default",
          "3-year Default",
          "4-year Default",
          "5-year Default",
          "6-year Default",
          "7-year Default",
          "8-year Default",
          "9-year Default",
          "10-year Default"
         ],
         "xaxis": "x",
         "y": [
          0.017213826234231462,
          0.017466464098517404,
          0.031263740522406686,
          0.045858816190836,
          0.046875668545588,
          0.0478503154003452,
          0.0487805530380735,
          0.0496649408539433,
          0.0505026816780593,
          0.0512935531947121
         ],
         "yaxis": "y"
        },
        {
         "hovertemplate": "variable=BBB<br>years=%{x}<br>value=%{y}<extra></extra>",
         "legendgroup": "BBB",
         "line": {
          "color": "#ab63fa",
          "dash": "solid"
         },
         "marker": {
          "symbol": "circle"
         },
         "mode": "markers+lines",
         "name": "BBB",
         "orientation": "v",
         "showlegend": true,
         "type": "scatter",
         "x": [
          "1-year Default",
          "2-year Default",
          "3-year Default",
          "4-year Default",
          "5-year Default",
          "6-year Default",
          "7-year Default",
          "8-year Default",
          "9-year Default",
          "10-year Default"
         ],
         "xaxis": "x",
         "y": [
          0.024123601553605965,
          0.024507630411454484,
          0.04381013444772797,
          0.0640696370067055,
          0.0652034664429052,
          0.06618770538893,
          0.0670268837255593,
          0.0677278736588239,
          0.0682995898294951,
          0.0687523084341486
         ],
         "yaxis": "y"
        },
        {
         "hovertemplate": "variable=BB<br>years=%{x}<br>value=%{y}<extra></extra>",
         "legendgroup": "BB",
         "line": {
          "color": "#FFA15A",
          "dash": "solid"
         },
         "marker": {
          "symbol": "circle"
         },
         "mode": "markers+lines",
         "name": "BB",
         "orientation": "v",
         "showlegend": true,
         "type": "scatter",
         "x": [
          "1-year Default",
          "2-year Default",
          "3-year Default",
          "4-year Default",
          "5-year Default",
          "6-year Default",
          "7-year Default",
          "8-year Default",
          "9-year Default",
          "10-year Default"
         ],
         "xaxis": "x",
         "y": [
          0.040731307145787064,
          0.0417608796478198,
          0.07495182871823818,
          0.1094115358721102,
          0.1105920631704143,
          0.1110703779327015,
          0.1109665385427349,
          0.1103891544694105,
          0.109432225887007,
          0.1081757925027107
         ],
         "yaxis": "y"
        },
        {
         "hovertemplate": "variable=B<br>years=%{x}<br>value=%{y}<extra></extra>",
         "legendgroup": "B",
         "line": {
          "color": "#19d3f3",
          "dash": "solid"
         },
         "marker": {
          "symbol": "circle"
         },
         "mode": "markers+lines",
         "name": "B",
         "orientation": "v",
         "showlegend": true,
         "type": "scatter",
         "x": [
          "1-year Default",
          "2-year Default",
          "3-year Default",
          "4-year Default",
          "5-year Default",
          "6-year Default",
          "7-year Default",
          "8-year Default",
          "9-year Default",
          "10-year Default"
         ],
         "xaxis": "x",
         "y": [
          0.06319817894445522,
          0.06693832645261921,
          0.11917646412275135,
          0.1701992497818199,
          0.16767251883026,
          0.1641710019276318,
          0.1601944308955224,
          0.1560055348091104,
          0.1517434820820852,
          0.1474827218162225
         ],
         "yaxis": "y"
        },
        {
         "hovertemplate": "variable=CCC<br>years=%{x}<br>value=%{y}<extra></extra>",
         "legendgroup": "CCC",
         "line": {
          "color": "#FF6692",
          "dash": "solid"
         },
         "marker": {
          "symbol": "circle"
         },
         "mode": "markers+lines",
         "name": "CCC",
         "orientation": "v",
         "showlegend": true,
         "type": "scatter",
         "x": [
          "1-year Default",
          "2-year Default",
          "3-year Default",
          "4-year Default",
          "5-year Default",
          "6-year Default",
          "7-year Default",
          "8-year Default",
          "9-year Default",
          "10-year Default"
         ],
         "xaxis": "x",
         "y": [
          0.16506685485172617,
          0.13835075137893138,
          0.201339793633299,
          0.2431227942289398,
          0.2112899825339234,
          0.190175844433554,
          0.176135993071868,
          0.1663277228891793,
          0.1589267531134991,
          0.1528713755717189
         ],
         "yaxis": "y"
        }
       ],
       "layout": {
        "autosize": false,
        "height": 600,
        "legend": {
         "title": {
          "text": "variable"
         },
         "tracegroupgap": 0
        },
        "margin": {
         "b": 65,
         "l": 65,
         "r": 50,
         "t": 90
        },
        "template": {
         "data": {
          "bar": [
           {
            "error_x": {
             "color": "#2a3f5f"
            },
            "error_y": {
             "color": "#2a3f5f"
            },
            "marker": {
             "line": {
              "color": "#E5ECF6",
              "width": 0.5
             },
             "pattern": {
              "fillmode": "overlay",
              "size": 10,
              "solidity": 0.2
             }
            },
            "type": "bar"
           }
          ],
          "barpolar": [
           {
            "marker": {
             "line": {
              "color": "#E5ECF6",
              "width": 0.5
             },
             "pattern": {
              "fillmode": "overlay",
              "size": 10,
              "solidity": 0.2
             }
            },
            "type": "barpolar"
           }
          ],
          "carpet": [
           {
            "aaxis": {
             "endlinecolor": "#2a3f5f",
             "gridcolor": "white",
             "linecolor": "white",
             "minorgridcolor": "white",
             "startlinecolor": "#2a3f5f"
            },
            "baxis": {
             "endlinecolor": "#2a3f5f",
             "gridcolor": "white",
             "linecolor": "white",
             "minorgridcolor": "white",
             "startlinecolor": "#2a3f5f"
            },
            "type": "carpet"
           }
          ],
          "choropleth": [
           {
            "colorbar": {
             "outlinewidth": 0,
             "ticks": ""
            },
            "type": "choropleth"
           }
          ],
          "contour": [
           {
            "colorbar": {
             "outlinewidth": 0,
             "ticks": ""
            },
            "colorscale": [
             [
              0,
              "#0d0887"
             ],
             [
              0.1111111111111111,
              "#46039f"
             ],
             [
              0.2222222222222222,
              "#7201a8"
             ],
             [
              0.3333333333333333,
              "#9c179e"
             ],
             [
              0.4444444444444444,
              "#bd3786"
             ],
             [
              0.5555555555555556,
              "#d8576b"
             ],
             [
              0.6666666666666666,
              "#ed7953"
             ],
             [
              0.7777777777777778,
              "#fb9f3a"
             ],
             [
              0.8888888888888888,
              "#fdca26"
             ],
             [
              1,
              "#f0f921"
             ]
            ],
            "type": "contour"
           }
          ],
          "contourcarpet": [
           {
            "colorbar": {
             "outlinewidth": 0,
             "ticks": ""
            },
            "type": "contourcarpet"
           }
          ],
          "heatmap": [
           {
            "colorbar": {
             "outlinewidth": 0,
             "ticks": ""
            },
            "colorscale": [
             [
              0,
              "#0d0887"
             ],
             [
              0.1111111111111111,
              "#46039f"
             ],
             [
              0.2222222222222222,
              "#7201a8"
             ],
             [
              0.3333333333333333,
              "#9c179e"
             ],
             [
              0.4444444444444444,
              "#bd3786"
             ],
             [
              0.5555555555555556,
              "#d8576b"
             ],
             [
              0.6666666666666666,
              "#ed7953"
             ],
             [
              0.7777777777777778,
              "#fb9f3a"
             ],
             [
              0.8888888888888888,
              "#fdca26"
             ],
             [
              1,
              "#f0f921"
             ]
            ],
            "type": "heatmap"
           }
          ],
          "heatmapgl": [
           {
            "colorbar": {
             "outlinewidth": 0,
             "ticks": ""
            },
            "colorscale": [
             [
              0,
              "#0d0887"
             ],
             [
              0.1111111111111111,
              "#46039f"
             ],
             [
              0.2222222222222222,
              "#7201a8"
             ],
             [
              0.3333333333333333,
              "#9c179e"
             ],
             [
              0.4444444444444444,
              "#bd3786"
             ],
             [
              0.5555555555555556,
              "#d8576b"
             ],
             [
              0.6666666666666666,
              "#ed7953"
             ],
             [
              0.7777777777777778,
              "#fb9f3a"
             ],
             [
              0.8888888888888888,
              "#fdca26"
             ],
             [
              1,
              "#f0f921"
             ]
            ],
            "type": "heatmapgl"
           }
          ],
          "histogram": [
           {
            "marker": {
             "pattern": {
              "fillmode": "overlay",
              "size": 10,
              "solidity": 0.2
             }
            },
            "type": "histogram"
           }
          ],
          "histogram2d": [
           {
            "colorbar": {
             "outlinewidth": 0,
             "ticks": ""
            },
            "colorscale": [
             [
              0,
              "#0d0887"
             ],
             [
              0.1111111111111111,
              "#46039f"
             ],
             [
              0.2222222222222222,
              "#7201a8"
             ],
             [
              0.3333333333333333,
              "#9c179e"
             ],
             [
              0.4444444444444444,
              "#bd3786"
             ],
             [
              0.5555555555555556,
              "#d8576b"
             ],
             [
              0.6666666666666666,
              "#ed7953"
             ],
             [
              0.7777777777777778,
              "#fb9f3a"
             ],
             [
              0.8888888888888888,
              "#fdca26"
             ],
             [
              1,
              "#f0f921"
             ]
            ],
            "type": "histogram2d"
           }
          ],
          "histogram2dcontour": [
           {
            "colorbar": {
             "outlinewidth": 0,
             "ticks": ""
            },
            "colorscale": [
             [
              0,
              "#0d0887"
             ],
             [
              0.1111111111111111,
              "#46039f"
             ],
             [
              0.2222222222222222,
              "#7201a8"
             ],
             [
              0.3333333333333333,
              "#9c179e"
             ],
             [
              0.4444444444444444,
              "#bd3786"
             ],
             [
              0.5555555555555556,
              "#d8576b"
             ],
             [
              0.6666666666666666,
              "#ed7953"
             ],
             [
              0.7777777777777778,
              "#fb9f3a"
             ],
             [
              0.8888888888888888,
              "#fdca26"
             ],
             [
              1,
              "#f0f921"
             ]
            ],
            "type": "histogram2dcontour"
           }
          ],
          "mesh3d": [
           {
            "colorbar": {
             "outlinewidth": 0,
             "ticks": ""
            },
            "type": "mesh3d"
           }
          ],
          "parcoords": [
           {
            "line": {
             "colorbar": {
              "outlinewidth": 0,
              "ticks": ""
             }
            },
            "type": "parcoords"
           }
          ],
          "pie": [
           {
            "automargin": true,
            "type": "pie"
           }
          ],
          "scatter": [
           {
            "fillpattern": {
             "fillmode": "overlay",
             "size": 10,
             "solidity": 0.2
            },
            "type": "scatter"
           }
          ],
          "scatter3d": [
           {
            "line": {
             "colorbar": {
              "outlinewidth": 0,
              "ticks": ""
             }
            },
            "marker": {
             "colorbar": {
              "outlinewidth": 0,
              "ticks": ""
             }
            },
            "type": "scatter3d"
           }
          ],
          "scattercarpet": [
           {
            "marker": {
             "colorbar": {
              "outlinewidth": 0,
              "ticks": ""
             }
            },
            "type": "scattercarpet"
           }
          ],
          "scattergeo": [
           {
            "marker": {
             "colorbar": {
              "outlinewidth": 0,
              "ticks": ""
             }
            },
            "type": "scattergeo"
           }
          ],
          "scattergl": [
           {
            "marker": {
             "colorbar": {
              "outlinewidth": 0,
              "ticks": ""
             }
            },
            "type": "scattergl"
           }
          ],
          "scattermapbox": [
           {
            "marker": {
             "colorbar": {
              "outlinewidth": 0,
              "ticks": ""
             }
            },
            "type": "scattermapbox"
           }
          ],
          "scatterpolar": [
           {
            "marker": {
             "colorbar": {
              "outlinewidth": 0,
              "ticks": ""
             }
            },
            "type": "scatterpolar"
           }
          ],
          "scatterpolargl": [
           {
            "marker": {
             "colorbar": {
              "outlinewidth": 0,
              "ticks": ""
             }
            },
            "type": "scatterpolargl"
           }
          ],
          "scatterternary": [
           {
            "marker": {
             "colorbar": {
              "outlinewidth": 0,
              "ticks": ""
             }
            },
            "type": "scatterternary"
           }
          ],
          "surface": [
           {
            "colorbar": {
             "outlinewidth": 0,
             "ticks": ""
            },
            "colorscale": [
             [
              0,
              "#0d0887"
             ],
             [
              0.1111111111111111,
              "#46039f"
             ],
             [
              0.2222222222222222,
              "#7201a8"
             ],
             [
              0.3333333333333333,
              "#9c179e"
             ],
             [
              0.4444444444444444,
              "#bd3786"
             ],
             [
              0.5555555555555556,
              "#d8576b"
             ],
             [
              0.6666666666666666,
              "#ed7953"
             ],
             [
              0.7777777777777778,
              "#fb9f3a"
             ],
             [
              0.8888888888888888,
              "#fdca26"
             ],
             [
              1,
              "#f0f921"
             ]
            ],
            "type": "surface"
           }
          ],
          "table": [
           {
            "cells": {
             "fill": {
              "color": "#EBF0F8"
             },
             "line": {
              "color": "white"
             }
            },
            "header": {
             "fill": {
              "color": "#C8D4E3"
             },
             "line": {
              "color": "white"
             }
            },
            "type": "table"
           }
          ]
         },
         "layout": {
          "annotationdefaults": {
           "arrowcolor": "#2a3f5f",
           "arrowhead": 0,
           "arrowwidth": 1
          },
          "autotypenumbers": "strict",
          "coloraxis": {
           "colorbar": {
            "outlinewidth": 0,
            "ticks": ""
           }
          },
          "colorscale": {
           "diverging": [
            [
             0,
             "#8e0152"
            ],
            [
             0.1,
             "#c51b7d"
            ],
            [
             0.2,
             "#de77ae"
            ],
            [
             0.3,
             "#f1b6da"
            ],
            [
             0.4,
             "#fde0ef"
            ],
            [
             0.5,
             "#f7f7f7"
            ],
            [
             0.6,
             "#e6f5d0"
            ],
            [
             0.7,
             "#b8e186"
            ],
            [
             0.8,
             "#7fbc41"
            ],
            [
             0.9,
             "#4d9221"
            ],
            [
             1,
             "#276419"
            ]
           ],
           "sequential": [
            [
             0,
             "#0d0887"
            ],
            [
             0.1111111111111111,
             "#46039f"
            ],
            [
             0.2222222222222222,
             "#7201a8"
            ],
            [
             0.3333333333333333,
             "#9c179e"
            ],
            [
             0.4444444444444444,
             "#bd3786"
            ],
            [
             0.5555555555555556,
             "#d8576b"
            ],
            [
             0.6666666666666666,
             "#ed7953"
            ],
            [
             0.7777777777777778,
             "#fb9f3a"
            ],
            [
             0.8888888888888888,
             "#fdca26"
            ],
            [
             1,
             "#f0f921"
            ]
           ],
           "sequentialminus": [
            [
             0,
             "#0d0887"
            ],
            [
             0.1111111111111111,
             "#46039f"
            ],
            [
             0.2222222222222222,
             "#7201a8"
            ],
            [
             0.3333333333333333,
             "#9c179e"
            ],
            [
             0.4444444444444444,
             "#bd3786"
            ],
            [
             0.5555555555555556,
             "#d8576b"
            ],
            [
             0.6666666666666666,
             "#ed7953"
            ],
            [
             0.7777777777777778,
             "#fb9f3a"
            ],
            [
             0.8888888888888888,
             "#fdca26"
            ],
            [
             1,
             "#f0f921"
            ]
           ]
          },
          "colorway": [
           "#636efa",
           "#EF553B",
           "#00cc96",
           "#ab63fa",
           "#FFA15A",
           "#19d3f3",
           "#FF6692",
           "#B6E880",
           "#FF97FF",
           "#FECB52"
          ],
          "font": {
           "color": "#2a3f5f"
          },
          "geo": {
           "bgcolor": "white",
           "lakecolor": "white",
           "landcolor": "#E5ECF6",
           "showlakes": true,
           "showland": true,
           "subunitcolor": "white"
          },
          "hoverlabel": {
           "align": "left"
          },
          "hovermode": "closest",
          "mapbox": {
           "style": "light"
          },
          "paper_bgcolor": "white",
          "plot_bgcolor": "#E5ECF6",
          "polar": {
           "angularaxis": {
            "gridcolor": "white",
            "linecolor": "white",
            "ticks": ""
           },
           "bgcolor": "#E5ECF6",
           "radialaxis": {
            "gridcolor": "white",
            "linecolor": "white",
            "ticks": ""
           }
          },
          "scene": {
           "xaxis": {
            "backgroundcolor": "#E5ECF6",
            "gridcolor": "white",
            "gridwidth": 2,
            "linecolor": "white",
            "showbackground": true,
            "ticks": "",
            "zerolinecolor": "white"
           },
           "yaxis": {
            "backgroundcolor": "#E5ECF6",
            "gridcolor": "white",
            "gridwidth": 2,
            "linecolor": "white",
            "showbackground": true,
            "ticks": "",
            "zerolinecolor": "white"
           },
           "zaxis": {
            "backgroundcolor": "#E5ECF6",
            "gridcolor": "white",
            "gridwidth": 2,
            "linecolor": "white",
            "showbackground": true,
            "ticks": "",
            "zerolinecolor": "white"
           }
          },
          "shapedefaults": {
           "line": {
            "color": "#2a3f5f"
           }
          },
          "ternary": {
           "aaxis": {
            "gridcolor": "white",
            "linecolor": "white",
            "ticks": ""
           },
           "baxis": {
            "gridcolor": "white",
            "linecolor": "white",
            "ticks": ""
           },
           "bgcolor": "#E5ECF6",
           "caxis": {
            "gridcolor": "white",
            "linecolor": "white",
            "ticks": ""
           }
          },
          "title": {
           "x": 0.05
          },
          "xaxis": {
           "automargin": true,
           "gridcolor": "white",
           "linecolor": "white",
           "ticks": "",
           "title": {
            "standoff": 15
           },
           "zerolinecolor": "white",
           "zerolinewidth": 2
          },
          "yaxis": {
           "automargin": true,
           "gridcolor": "white",
           "linecolor": "white",
           "ticks": "",
           "title": {
            "standoff": 15
           },
           "zerolinecolor": "white",
           "zerolinewidth": 2
          }
         }
        },
        "title": {
         "text": "Optimistic scenario"
        },
        "width": 600,
        "xaxis": {
         "anchor": "y",
         "domain": [
          0,
          1
         ],
         "title": {
          "text": "Years"
         }
        },
        "yaxis": {
         "anchor": "x",
         "domain": [
          0,
          1
         ],
         "title": {
          "text": "Cummulative multi-year Probability of Default"
         }
        }
       }
      }
     },
     "metadata": {},
     "output_type": "display_data"
    }
   ],
   "source": [
    "import plotly.express as px \n",
    "\n",
    "fig = px.line(Optimistic_final)\n",
    "fig.update_layout(title='Optimistic scenario', autosize=False,\n",
    "                    width=600, height=600,\n",
    "                    margin=dict(l=65, r=50, b=65, t=90),\n",
    "                    xaxis_title=\"Years\",\n",
    "                    yaxis_title=\"Cummulative multi-year Probability of Default\")\n",
    "\n",
    "fig.update_traces(mode='markers+lines')\n",
    "fig.show()"
   ]
  },
  {
   "cell_type": "code",
   "execution_count": 271,
   "metadata": {},
   "outputs": [
    {
     "data": {
      "application/vnd.plotly.v1+json": {
       "config": {
        "plotlyServerURL": "https://plot.ly"
       },
       "data": [
        {
         "hovertemplate": "variable=AAA<br>years=%{x}<br>value=%{y}<extra></extra>",
         "legendgroup": "AAA",
         "line": {
          "color": "#636efa",
          "dash": "solid"
         },
         "marker": {
          "symbol": "circle"
         },
         "mode": "markers+lines",
         "name": "AAA",
         "orientation": "v",
         "showlegend": true,
         "type": "scatter",
         "x": [
          "1-year Default",
          "2-year Default",
          "3-year Default",
          "4-year Default",
          "5-year Default",
          "6-year Default",
          "7-year Default",
          "8-year Default",
          "9-year Default",
          "10-year Default"
         ],
         "xaxis": "x",
         "y": [
          0.009027311925833706,
          0.0411871939856991,
          0.027433237272782816,
          0.0339956296626871,
          0.0347868556933955,
          0.0355365961814939,
          0.0362558037104026,
          0.0369516271774757,
          0.0376290045486778,
          0.0382914469890695
         ],
         "yaxis": "y"
        },
        {
         "hovertemplate": "variable=AA<br>years=%{x}<br>value=%{y}<extra></extra>",
         "legendgroup": "AA",
         "line": {
          "color": "#EF553B",
          "dash": "solid"
         },
         "marker": {
          "symbol": "circle"
         },
         "mode": "markers+lines",
         "name": "AA",
         "orientation": "v",
         "showlegend": true,
         "type": "scatter",
         "x": [
          "1-year Default",
          "2-year Default",
          "3-year Default",
          "4-year Default",
          "5-year Default",
          "6-year Default",
          "7-year Default",
          "8-year Default",
          "9-year Default",
          "10-year Default"
         ],
         "xaxis": "x",
         "y": [
          0.011262369862454847,
          0.050327096696638984,
          0.03302605748853293,
          0.0404744148212985,
          0.0410659376455993,
          0.0416746454688458,
          0.0422971882739428,
          0.0429296996115349,
          0.0435682531425446,
          0.0442090898700217
         ],
         "yaxis": "y"
        },
        {
         "hovertemplate": "variable=A<br>years=%{x}<br>value=%{y}<extra></extra>",
         "legendgroup": "A",
         "line": {
          "color": "#00cc96",
          "dash": "solid"
         },
         "marker": {
          "symbol": "circle"
         },
         "mode": "markers+lines",
         "name": "A",
         "orientation": "v",
         "showlegend": true,
         "type": "scatter",
         "x": [
          "1-year Default",
          "2-year Default",
          "3-year Default",
          "4-year Default",
          "5-year Default",
          "6-year Default",
          "7-year Default",
          "8-year Default",
          "9-year Default",
          "10-year Default"
         ],
         "xaxis": "x",
         "y": [
          0.012365385467540695,
          0.05591220006113684,
          0.037082576905766426,
          0.045858816190836,
          0.046875668545588,
          0.0478503154003452,
          0.0487805530380735,
          0.0496649408539433,
          0.0505026816780593,
          0.0512935531947121
         ],
         "yaxis": "y"
        },
        {
         "hovertemplate": "variable=BBB<br>years=%{x}<br>value=%{y}<extra></extra>",
         "legendgroup": "BBB",
         "line": {
          "color": "#ab63fa",
          "dash": "solid"
         },
         "marker": {
          "symbol": "circle"
         },
         "mode": "markers+lines",
         "name": "BBB",
         "orientation": "v",
         "showlegend": true,
         "type": "scatter",
         "x": [
          "1-year Default",
          "2-year Default",
          "3-year Default",
          "4-year Default",
          "5-year Default",
          "6-year Default",
          "7-year Default",
          "8-year Default",
          "9-year Default",
          "10-year Default"
         ],
         "xaxis": "x",
         "y": [
          0.017328955690426674,
          0.07845179922282937,
          0.05196411730533319,
          0.0640696370067055,
          0.0652034664429052,
          0.06618770538893,
          0.0670268837255593,
          0.0677278736588239,
          0.0682995898294951,
          0.0687523084341486
         ],
         "yaxis": "y"
        },
        {
         "hovertemplate": "variable=BB<br>years=%{x}<br>value=%{y}<extra></extra>",
         "legendgroup": "BB",
         "line": {
          "color": "#FFA15A",
          "dash": "solid"
         },
         "marker": {
          "symbol": "circle"
         },
         "mode": "markers+lines",
         "name": "BB",
         "orientation": "v",
         "showlegend": true,
         "type": "scatter",
         "x": [
          "1-year Default",
          "2-year Default",
          "3-year Default",
          "4-year Default",
          "5-year Default",
          "6-year Default",
          "7-year Default",
          "8-year Default",
          "9-year Default",
          "10-year Default"
         ],
         "xaxis": "x",
         "y": [
          0.029258940261223006,
          0.1336814735041968,
          0.08890193259760146,
          0.1094115358721102,
          0.1105920631704143,
          0.1110703779327015,
          0.1109665385427349,
          0.1103891544694105,
          0.109432225887007,
          0.1081757925027107
         ],
         "yaxis": "y"
        },
        {
         "hovertemplate": "variable=B<br>years=%{x}<br>value=%{y}<extra></extra>",
         "legendgroup": "B",
         "line": {
          "color": "#19d3f3",
          "dash": "solid"
         },
         "marker": {
          "symbol": "circle"
         },
         "mode": "markers+lines",
         "name": "B",
         "orientation": "v",
         "showlegend": true,
         "type": "scatter",
         "x": [
          "1-year Default",
          "2-year Default",
          "3-year Default",
          "4-year Default",
          "5-year Default",
          "6-year Default",
          "7-year Default",
          "8-year Default",
          "9-year Default",
          "10-year Default"
         ],
         "xaxis": "x",
         "y": [
          0.045397800167214994,
          0.21427743355876022,
          0.1413576981622491,
          0.1701992497818199,
          0.16767251883026,
          0.1641710019276318,
          0.1601944308955224,
          0.1560055348091104,
          0.1517434820820852,
          0.1474827218162225
         ],
         "yaxis": "y"
        },
        {
         "hovertemplate": "variable=CCC<br>years=%{x}<br>value=%{y}<extra></extra>",
         "legendgroup": "CCC",
         "line": {
          "color": "#FF6692",
          "dash": "solid"
         },
         "marker": {
          "symbol": "circle"
         },
         "mode": "markers+lines",
         "name": "CCC",
         "orientation": "v",
         "showlegend": true,
         "type": "scatter",
         "x": [
          "1-year Default",
          "2-year Default",
          "3-year Default",
          "4-year Default",
          "5-year Default",
          "6-year Default",
          "7-year Default",
          "8-year Default",
          "9-year Default",
          "10-year Default"
         ],
         "xaxis": "x",
         "y": [
          0.11857417754672209,
          0.4428769810578904,
          0.23881334276834015,
          0.2431227942289398,
          0.2112899825339234,
          0.190175844433554,
          0.176135993071868,
          0.1663277228891793,
          0.1589267531134991,
          0.1528713755717189
         ],
         "yaxis": "y"
        }
       ],
       "layout": {
        "autosize": false,
        "height": 600,
        "legend": {
         "title": {
          "text": "variable"
         },
         "tracegroupgap": 0
        },
        "margin": {
         "b": 65,
         "l": 65,
         "r": 50,
         "t": 90
        },
        "template": {
         "data": {
          "bar": [
           {
            "error_x": {
             "color": "#2a3f5f"
            },
            "error_y": {
             "color": "#2a3f5f"
            },
            "marker": {
             "line": {
              "color": "#E5ECF6",
              "width": 0.5
             },
             "pattern": {
              "fillmode": "overlay",
              "size": 10,
              "solidity": 0.2
             }
            },
            "type": "bar"
           }
          ],
          "barpolar": [
           {
            "marker": {
             "line": {
              "color": "#E5ECF6",
              "width": 0.5
             },
             "pattern": {
              "fillmode": "overlay",
              "size": 10,
              "solidity": 0.2
             }
            },
            "type": "barpolar"
           }
          ],
          "carpet": [
           {
            "aaxis": {
             "endlinecolor": "#2a3f5f",
             "gridcolor": "white",
             "linecolor": "white",
             "minorgridcolor": "white",
             "startlinecolor": "#2a3f5f"
            },
            "baxis": {
             "endlinecolor": "#2a3f5f",
             "gridcolor": "white",
             "linecolor": "white",
             "minorgridcolor": "white",
             "startlinecolor": "#2a3f5f"
            },
            "type": "carpet"
           }
          ],
          "choropleth": [
           {
            "colorbar": {
             "outlinewidth": 0,
             "ticks": ""
            },
            "type": "choropleth"
           }
          ],
          "contour": [
           {
            "colorbar": {
             "outlinewidth": 0,
             "ticks": ""
            },
            "colorscale": [
             [
              0,
              "#0d0887"
             ],
             [
              0.1111111111111111,
              "#46039f"
             ],
             [
              0.2222222222222222,
              "#7201a8"
             ],
             [
              0.3333333333333333,
              "#9c179e"
             ],
             [
              0.4444444444444444,
              "#bd3786"
             ],
             [
              0.5555555555555556,
              "#d8576b"
             ],
             [
              0.6666666666666666,
              "#ed7953"
             ],
             [
              0.7777777777777778,
              "#fb9f3a"
             ],
             [
              0.8888888888888888,
              "#fdca26"
             ],
             [
              1,
              "#f0f921"
             ]
            ],
            "type": "contour"
           }
          ],
          "contourcarpet": [
           {
            "colorbar": {
             "outlinewidth": 0,
             "ticks": ""
            },
            "type": "contourcarpet"
           }
          ],
          "heatmap": [
           {
            "colorbar": {
             "outlinewidth": 0,
             "ticks": ""
            },
            "colorscale": [
             [
              0,
              "#0d0887"
             ],
             [
              0.1111111111111111,
              "#46039f"
             ],
             [
              0.2222222222222222,
              "#7201a8"
             ],
             [
              0.3333333333333333,
              "#9c179e"
             ],
             [
              0.4444444444444444,
              "#bd3786"
             ],
             [
              0.5555555555555556,
              "#d8576b"
             ],
             [
              0.6666666666666666,
              "#ed7953"
             ],
             [
              0.7777777777777778,
              "#fb9f3a"
             ],
             [
              0.8888888888888888,
              "#fdca26"
             ],
             [
              1,
              "#f0f921"
             ]
            ],
            "type": "heatmap"
           }
          ],
          "heatmapgl": [
           {
            "colorbar": {
             "outlinewidth": 0,
             "ticks": ""
            },
            "colorscale": [
             [
              0,
              "#0d0887"
             ],
             [
              0.1111111111111111,
              "#46039f"
             ],
             [
              0.2222222222222222,
              "#7201a8"
             ],
             [
              0.3333333333333333,
              "#9c179e"
             ],
             [
              0.4444444444444444,
              "#bd3786"
             ],
             [
              0.5555555555555556,
              "#d8576b"
             ],
             [
              0.6666666666666666,
              "#ed7953"
             ],
             [
              0.7777777777777778,
              "#fb9f3a"
             ],
             [
              0.8888888888888888,
              "#fdca26"
             ],
             [
              1,
              "#f0f921"
             ]
            ],
            "type": "heatmapgl"
           }
          ],
          "histogram": [
           {
            "marker": {
             "pattern": {
              "fillmode": "overlay",
              "size": 10,
              "solidity": 0.2
             }
            },
            "type": "histogram"
           }
          ],
          "histogram2d": [
           {
            "colorbar": {
             "outlinewidth": 0,
             "ticks": ""
            },
            "colorscale": [
             [
              0,
              "#0d0887"
             ],
             [
              0.1111111111111111,
              "#46039f"
             ],
             [
              0.2222222222222222,
              "#7201a8"
             ],
             [
              0.3333333333333333,
              "#9c179e"
             ],
             [
              0.4444444444444444,
              "#bd3786"
             ],
             [
              0.5555555555555556,
              "#d8576b"
             ],
             [
              0.6666666666666666,
              "#ed7953"
             ],
             [
              0.7777777777777778,
              "#fb9f3a"
             ],
             [
              0.8888888888888888,
              "#fdca26"
             ],
             [
              1,
              "#f0f921"
             ]
            ],
            "type": "histogram2d"
           }
          ],
          "histogram2dcontour": [
           {
            "colorbar": {
             "outlinewidth": 0,
             "ticks": ""
            },
            "colorscale": [
             [
              0,
              "#0d0887"
             ],
             [
              0.1111111111111111,
              "#46039f"
             ],
             [
              0.2222222222222222,
              "#7201a8"
             ],
             [
              0.3333333333333333,
              "#9c179e"
             ],
             [
              0.4444444444444444,
              "#bd3786"
             ],
             [
              0.5555555555555556,
              "#d8576b"
             ],
             [
              0.6666666666666666,
              "#ed7953"
             ],
             [
              0.7777777777777778,
              "#fb9f3a"
             ],
             [
              0.8888888888888888,
              "#fdca26"
             ],
             [
              1,
              "#f0f921"
             ]
            ],
            "type": "histogram2dcontour"
           }
          ],
          "mesh3d": [
           {
            "colorbar": {
             "outlinewidth": 0,
             "ticks": ""
            },
            "type": "mesh3d"
           }
          ],
          "parcoords": [
           {
            "line": {
             "colorbar": {
              "outlinewidth": 0,
              "ticks": ""
             }
            },
            "type": "parcoords"
           }
          ],
          "pie": [
           {
            "automargin": true,
            "type": "pie"
           }
          ],
          "scatter": [
           {
            "fillpattern": {
             "fillmode": "overlay",
             "size": 10,
             "solidity": 0.2
            },
            "type": "scatter"
           }
          ],
          "scatter3d": [
           {
            "line": {
             "colorbar": {
              "outlinewidth": 0,
              "ticks": ""
             }
            },
            "marker": {
             "colorbar": {
              "outlinewidth": 0,
              "ticks": ""
             }
            },
            "type": "scatter3d"
           }
          ],
          "scattercarpet": [
           {
            "marker": {
             "colorbar": {
              "outlinewidth": 0,
              "ticks": ""
             }
            },
            "type": "scattercarpet"
           }
          ],
          "scattergeo": [
           {
            "marker": {
             "colorbar": {
              "outlinewidth": 0,
              "ticks": ""
             }
            },
            "type": "scattergeo"
           }
          ],
          "scattergl": [
           {
            "marker": {
             "colorbar": {
              "outlinewidth": 0,
              "ticks": ""
             }
            },
            "type": "scattergl"
           }
          ],
          "scattermapbox": [
           {
            "marker": {
             "colorbar": {
              "outlinewidth": 0,
              "ticks": ""
             }
            },
            "type": "scattermapbox"
           }
          ],
          "scatterpolar": [
           {
            "marker": {
             "colorbar": {
              "outlinewidth": 0,
              "ticks": ""
             }
            },
            "type": "scatterpolar"
           }
          ],
          "scatterpolargl": [
           {
            "marker": {
             "colorbar": {
              "outlinewidth": 0,
              "ticks": ""
             }
            },
            "type": "scatterpolargl"
           }
          ],
          "scatterternary": [
           {
            "marker": {
             "colorbar": {
              "outlinewidth": 0,
              "ticks": ""
             }
            },
            "type": "scatterternary"
           }
          ],
          "surface": [
           {
            "colorbar": {
             "outlinewidth": 0,
             "ticks": ""
            },
            "colorscale": [
             [
              0,
              "#0d0887"
             ],
             [
              0.1111111111111111,
              "#46039f"
             ],
             [
              0.2222222222222222,
              "#7201a8"
             ],
             [
              0.3333333333333333,
              "#9c179e"
             ],
             [
              0.4444444444444444,
              "#bd3786"
             ],
             [
              0.5555555555555556,
              "#d8576b"
             ],
             [
              0.6666666666666666,
              "#ed7953"
             ],
             [
              0.7777777777777778,
              "#fb9f3a"
             ],
             [
              0.8888888888888888,
              "#fdca26"
             ],
             [
              1,
              "#f0f921"
             ]
            ],
            "type": "surface"
           }
          ],
          "table": [
           {
            "cells": {
             "fill": {
              "color": "#EBF0F8"
             },
             "line": {
              "color": "white"
             }
            },
            "header": {
             "fill": {
              "color": "#C8D4E3"
             },
             "line": {
              "color": "white"
             }
            },
            "type": "table"
           }
          ]
         },
         "layout": {
          "annotationdefaults": {
           "arrowcolor": "#2a3f5f",
           "arrowhead": 0,
           "arrowwidth": 1
          },
          "autotypenumbers": "strict",
          "coloraxis": {
           "colorbar": {
            "outlinewidth": 0,
            "ticks": ""
           }
          },
          "colorscale": {
           "diverging": [
            [
             0,
             "#8e0152"
            ],
            [
             0.1,
             "#c51b7d"
            ],
            [
             0.2,
             "#de77ae"
            ],
            [
             0.3,
             "#f1b6da"
            ],
            [
             0.4,
             "#fde0ef"
            ],
            [
             0.5,
             "#f7f7f7"
            ],
            [
             0.6,
             "#e6f5d0"
            ],
            [
             0.7,
             "#b8e186"
            ],
            [
             0.8,
             "#7fbc41"
            ],
            [
             0.9,
             "#4d9221"
            ],
            [
             1,
             "#276419"
            ]
           ],
           "sequential": [
            [
             0,
             "#0d0887"
            ],
            [
             0.1111111111111111,
             "#46039f"
            ],
            [
             0.2222222222222222,
             "#7201a8"
            ],
            [
             0.3333333333333333,
             "#9c179e"
            ],
            [
             0.4444444444444444,
             "#bd3786"
            ],
            [
             0.5555555555555556,
             "#d8576b"
            ],
            [
             0.6666666666666666,
             "#ed7953"
            ],
            [
             0.7777777777777778,
             "#fb9f3a"
            ],
            [
             0.8888888888888888,
             "#fdca26"
            ],
            [
             1,
             "#f0f921"
            ]
           ],
           "sequentialminus": [
            [
             0,
             "#0d0887"
            ],
            [
             0.1111111111111111,
             "#46039f"
            ],
            [
             0.2222222222222222,
             "#7201a8"
            ],
            [
             0.3333333333333333,
             "#9c179e"
            ],
            [
             0.4444444444444444,
             "#bd3786"
            ],
            [
             0.5555555555555556,
             "#d8576b"
            ],
            [
             0.6666666666666666,
             "#ed7953"
            ],
            [
             0.7777777777777778,
             "#fb9f3a"
            ],
            [
             0.8888888888888888,
             "#fdca26"
            ],
            [
             1,
             "#f0f921"
            ]
           ]
          },
          "colorway": [
           "#636efa",
           "#EF553B",
           "#00cc96",
           "#ab63fa",
           "#FFA15A",
           "#19d3f3",
           "#FF6692",
           "#B6E880",
           "#FF97FF",
           "#FECB52"
          ],
          "font": {
           "color": "#2a3f5f"
          },
          "geo": {
           "bgcolor": "white",
           "lakecolor": "white",
           "landcolor": "#E5ECF6",
           "showlakes": true,
           "showland": true,
           "subunitcolor": "white"
          },
          "hoverlabel": {
           "align": "left"
          },
          "hovermode": "closest",
          "mapbox": {
           "style": "light"
          },
          "paper_bgcolor": "white",
          "plot_bgcolor": "#E5ECF6",
          "polar": {
           "angularaxis": {
            "gridcolor": "white",
            "linecolor": "white",
            "ticks": ""
           },
           "bgcolor": "#E5ECF6",
           "radialaxis": {
            "gridcolor": "white",
            "linecolor": "white",
            "ticks": ""
           }
          },
          "scene": {
           "xaxis": {
            "backgroundcolor": "#E5ECF6",
            "gridcolor": "white",
            "gridwidth": 2,
            "linecolor": "white",
            "showbackground": true,
            "ticks": "",
            "zerolinecolor": "white"
           },
           "yaxis": {
            "backgroundcolor": "#E5ECF6",
            "gridcolor": "white",
            "gridwidth": 2,
            "linecolor": "white",
            "showbackground": true,
            "ticks": "",
            "zerolinecolor": "white"
           },
           "zaxis": {
            "backgroundcolor": "#E5ECF6",
            "gridcolor": "white",
            "gridwidth": 2,
            "linecolor": "white",
            "showbackground": true,
            "ticks": "",
            "zerolinecolor": "white"
           }
          },
          "shapedefaults": {
           "line": {
            "color": "#2a3f5f"
           }
          },
          "ternary": {
           "aaxis": {
            "gridcolor": "white",
            "linecolor": "white",
            "ticks": ""
           },
           "baxis": {
            "gridcolor": "white",
            "linecolor": "white",
            "ticks": ""
           },
           "bgcolor": "#E5ECF6",
           "caxis": {
            "gridcolor": "white",
            "linecolor": "white",
            "ticks": ""
           }
          },
          "title": {
           "x": 0.05
          },
          "xaxis": {
           "automargin": true,
           "gridcolor": "white",
           "linecolor": "white",
           "ticks": "",
           "title": {
            "standoff": 15
           },
           "zerolinecolor": "white",
           "zerolinewidth": 2
          },
          "yaxis": {
           "automargin": true,
           "gridcolor": "white",
           "linecolor": "white",
           "ticks": "",
           "title": {
            "standoff": 15
           },
           "zerolinecolor": "white",
           "zerolinewidth": 2
          }
         }
        },
        "title": {
         "text": "Pesymistic scenario"
        },
        "width": 600,
        "xaxis": {
         "anchor": "y",
         "domain": [
          0,
          1
         ],
         "title": {
          "text": "Years"
         }
        },
        "yaxis": {
         "anchor": "x",
         "domain": [
          0,
          1
         ],
         "title": {
          "text": "Cummulative multi-year Probability of Default"
         }
        }
       }
      }
     },
     "metadata": {},
     "output_type": "display_data"
    }
   ],
   "source": [
    "fig = px.line(Pesimistic_final)\n",
    "fig.update_layout(title='Pesymistic scenario', autosize=False,\n",
    "                    width=600, height=600,\n",
    "                    margin=dict(l=65, r=50, b=65, t=90),\n",
    "                    xaxis_title=\"Years\",\n",
    "                    yaxis_title=\"Cummulative multi-year Probability of Default\")\n",
    "\n",
    "fig.update_traces(mode='markers+lines')\n",
    "fig.show()"
   ]
  },
  {
   "cell_type": "code",
   "execution_count": 272,
   "metadata": {},
   "outputs": [
    {
     "data": {
      "application/vnd.plotly.v1+json": {
       "config": {
        "plotlyServerURL": "https://plot.ly"
       },
       "data": [
        {
         "hovertemplate": "variable=AAA<br>years=%{x}<br>value=%{y}<extra></extra>",
         "legendgroup": "AAA",
         "line": {
          "color": "#636efa",
          "dash": "solid"
         },
         "marker": {
          "symbol": "circle"
         },
         "mode": "markers+lines",
         "name": "AAA",
         "orientation": "v",
         "showlegend": true,
         "type": "scatter",
         "x": [
          "1-year Default",
          "2-year Default",
          "3-year Default",
          "4-year Default",
          "5-year Default",
          "6-year Default",
          "7-year Default",
          "8-year Default",
          "9-year Default",
          "10-year Default"
         ],
         "xaxis": "x",
         "y": [
          0.009445940468182503,
          0.024226580743971743,
          0.025553056704335025,
          0.0339956296626871,
          0.0347868556933955,
          0.0355365961814939,
          0.0362558037104026,
          0.0369516271774757,
          0.0376290045486778,
          0.0382914469890695
         ],
         "yaxis": "y"
        },
        {
         "hovertemplate": "variable=AA<br>years=%{x}<br>value=%{y}<extra></extra>",
         "legendgroup": "AA",
         "line": {
          "color": "#EF553B",
          "dash": "solid"
         },
         "marker": {
          "symbol": "circle"
         },
         "mode": "markers+lines",
         "name": "AA",
         "orientation": "v",
         "showlegend": true,
         "type": "scatter",
         "x": [
          "1-year Default",
          "2-year Default",
          "3-year Default",
          "4-year Default",
          "5-year Default",
          "6-year Default",
          "7-year Default",
          "8-year Default",
          "9-year Default",
          "10-year Default"
         ],
         "xaxis": "x",
         "y": [
          0.01178464598602826,
          0.029602732153934632,
          0.030762564087264344,
          0.0404744148212985,
          0.0410659376455993,
          0.0416746454688458,
          0.0422971882739428,
          0.0429296996115349,
          0.0435682531425446,
          0.0442090898700217
         ],
         "yaxis": "y"
        },
        {
         "hovertemplate": "variable=A<br>years=%{x}<br>value=%{y}<extra></extra>",
         "legendgroup": "A",
         "line": {
          "color": "#00cc96",
          "dash": "solid"
         },
         "marker": {
          "symbol": "circle"
         },
         "mode": "markers+lines",
         "name": "A",
         "orientation": "v",
         "showlegend": true,
         "type": "scatter",
         "x": [
          "1-year Default",
          "2-year Default",
          "3-year Default",
          "4-year Default",
          "5-year Default",
          "6-year Default",
          "7-year Default",
          "8-year Default",
          "9-year Default",
          "10-year Default"
         ],
         "xaxis": "x",
         "y": [
          0.012938812345484703,
          0.032887927005286165,
          0.034541063491475885,
          0.045858816190836,
          0.046875668545588,
          0.0478503154003452,
          0.0487805530380735,
          0.0496649408539433,
          0.0505026816780593,
          0.0512935531947121
         ],
         "yaxis": "y"
        },
        {
         "hovertemplate": "variable=BBB<br>years=%{x}<br>value=%{y}<extra></extra>",
         "legendgroup": "BBB",
         "line": {
          "color": "#ab63fa",
          "dash": "solid"
         },
         "marker": {
          "symbol": "circle"
         },
         "mode": "markers+lines",
         "name": "BBB",
         "orientation": "v",
         "showlegend": true,
         "type": "scatter",
         "x": [
          "1-year Default",
          "2-year Default",
          "3-year Default",
          "4-year Default",
          "5-year Default",
          "6-year Default",
          "7-year Default",
          "8-year Default",
          "9-year Default",
          "10-year Default"
         ],
         "xaxis": "x",
         "y": [
          0.01813256096303835,
          0.046145868763034996,
          0.04840267384014794,
          0.0640696370067055,
          0.0652034664429052,
          0.06618770538893,
          0.0670268837255593,
          0.0677278736588239,
          0.0682995898294951,
          0.0687523084341486
         ],
         "yaxis": "y"
        },
        {
         "hovertemplate": "variable=BB<br>years=%{x}<br>value=%{y}<extra></extra>",
         "legendgroup": "BB",
         "line": {
          "color": "#FFA15A",
          "dash": "solid"
         },
         "marker": {
          "symbol": "circle"
         },
         "mode": "markers+lines",
         "name": "BB",
         "orientation": "v",
         "showlegend": true,
         "type": "scatter",
         "x": [
          "1-year Default",
          "2-year Default",
          "3-year Default",
          "4-year Default",
          "5-year Default",
          "6-year Default",
          "7-year Default",
          "8-year Default",
          "9-year Default",
          "10-year Default"
         ],
         "xaxis": "x",
         "y": [
          0.03061578132452714,
          0.07863232957668967,
          0.08280889718565243,
          0.1094115358721102,
          0.1105920631704143,
          0.1110703779327015,
          0.1109665385427349,
          0.1103891544694105,
          0.109432225887007,
          0.1081757925027107
         ],
         "yaxis": "y"
        },
        {
         "hovertemplate": "variable=B<br>years=%{x}<br>value=%{y}<extra></extra>",
         "legendgroup": "B",
         "line": {
          "color": "#19d3f3",
          "dash": "solid"
         },
         "marker": {
          "symbol": "circle"
         },
         "mode": "markers+lines",
         "name": "B",
         "orientation": "v",
         "showlegend": true,
         "type": "scatter",
         "x": [
          "1-year Default",
          "2-year Default",
          "3-year Default",
          "4-year Default",
          "5-year Default",
          "6-year Default",
          "7-year Default",
          "8-year Default",
          "9-year Default",
          "10-year Default"
         ],
         "xaxis": "x",
         "y": [
          0.047503057531309886,
          0.12603940796561236,
          0.13166952338934862,
          0.1701992497818199,
          0.16767251883026,
          0.1641710019276318,
          0.1601944308955224,
          0.1560055348091104,
          0.1517434820820852,
          0.1474827218162225
         ],
         "yaxis": "y"
        },
        {
         "hovertemplate": "variable=CCC<br>years=%{x}<br>value=%{y}<extra></extra>",
         "legendgroup": "CCC",
         "line": {
          "color": "#FF6692",
          "dash": "solid"
         },
         "marker": {
          "symbol": "circle"
         },
         "mode": "markers+lines",
         "name": "CCC",
         "orientation": "v",
         "showlegend": true,
         "type": "scatter",
         "x": [
          "1-year Default",
          "2-year Default",
          "3-year Default",
          "4-year Default",
          "5-year Default",
          "6-year Default",
          "7-year Default",
          "8-year Default",
          "9-year Default",
          "10-year Default"
         ],
         "xaxis": "x",
         "y": [
          0.12407288364156076,
          0.2605031783658497,
          0.22244589032026285,
          0.2431227942289398,
          0.2112899825339234,
          0.190175844433554,
          0.176135993071868,
          0.1663277228891793,
          0.1589267531134991,
          0.1528713755717189
         ],
         "yaxis": "y"
        }
       ],
       "layout": {
        "autosize": false,
        "height": 600,
        "legend": {
         "title": {
          "text": "variable"
         },
         "tracegroupgap": 0
        },
        "margin": {
         "b": 65,
         "l": 65,
         "r": 50,
         "t": 90
        },
        "template": {
         "data": {
          "bar": [
           {
            "error_x": {
             "color": "#2a3f5f"
            },
            "error_y": {
             "color": "#2a3f5f"
            },
            "marker": {
             "line": {
              "color": "#E5ECF6",
              "width": 0.5
             },
             "pattern": {
              "fillmode": "overlay",
              "size": 10,
              "solidity": 0.2
             }
            },
            "type": "bar"
           }
          ],
          "barpolar": [
           {
            "marker": {
             "line": {
              "color": "#E5ECF6",
              "width": 0.5
             },
             "pattern": {
              "fillmode": "overlay",
              "size": 10,
              "solidity": 0.2
             }
            },
            "type": "barpolar"
           }
          ],
          "carpet": [
           {
            "aaxis": {
             "endlinecolor": "#2a3f5f",
             "gridcolor": "white",
             "linecolor": "white",
             "minorgridcolor": "white",
             "startlinecolor": "#2a3f5f"
            },
            "baxis": {
             "endlinecolor": "#2a3f5f",
             "gridcolor": "white",
             "linecolor": "white",
             "minorgridcolor": "white",
             "startlinecolor": "#2a3f5f"
            },
            "type": "carpet"
           }
          ],
          "choropleth": [
           {
            "colorbar": {
             "outlinewidth": 0,
             "ticks": ""
            },
            "type": "choropleth"
           }
          ],
          "contour": [
           {
            "colorbar": {
             "outlinewidth": 0,
             "ticks": ""
            },
            "colorscale": [
             [
              0,
              "#0d0887"
             ],
             [
              0.1111111111111111,
              "#46039f"
             ],
             [
              0.2222222222222222,
              "#7201a8"
             ],
             [
              0.3333333333333333,
              "#9c179e"
             ],
             [
              0.4444444444444444,
              "#bd3786"
             ],
             [
              0.5555555555555556,
              "#d8576b"
             ],
             [
              0.6666666666666666,
              "#ed7953"
             ],
             [
              0.7777777777777778,
              "#fb9f3a"
             ],
             [
              0.8888888888888888,
              "#fdca26"
             ],
             [
              1,
              "#f0f921"
             ]
            ],
            "type": "contour"
           }
          ],
          "contourcarpet": [
           {
            "colorbar": {
             "outlinewidth": 0,
             "ticks": ""
            },
            "type": "contourcarpet"
           }
          ],
          "heatmap": [
           {
            "colorbar": {
             "outlinewidth": 0,
             "ticks": ""
            },
            "colorscale": [
             [
              0,
              "#0d0887"
             ],
             [
              0.1111111111111111,
              "#46039f"
             ],
             [
              0.2222222222222222,
              "#7201a8"
             ],
             [
              0.3333333333333333,
              "#9c179e"
             ],
             [
              0.4444444444444444,
              "#bd3786"
             ],
             [
              0.5555555555555556,
              "#d8576b"
             ],
             [
              0.6666666666666666,
              "#ed7953"
             ],
             [
              0.7777777777777778,
              "#fb9f3a"
             ],
             [
              0.8888888888888888,
              "#fdca26"
             ],
             [
              1,
              "#f0f921"
             ]
            ],
            "type": "heatmap"
           }
          ],
          "heatmapgl": [
           {
            "colorbar": {
             "outlinewidth": 0,
             "ticks": ""
            },
            "colorscale": [
             [
              0,
              "#0d0887"
             ],
             [
              0.1111111111111111,
              "#46039f"
             ],
             [
              0.2222222222222222,
              "#7201a8"
             ],
             [
              0.3333333333333333,
              "#9c179e"
             ],
             [
              0.4444444444444444,
              "#bd3786"
             ],
             [
              0.5555555555555556,
              "#d8576b"
             ],
             [
              0.6666666666666666,
              "#ed7953"
             ],
             [
              0.7777777777777778,
              "#fb9f3a"
             ],
             [
              0.8888888888888888,
              "#fdca26"
             ],
             [
              1,
              "#f0f921"
             ]
            ],
            "type": "heatmapgl"
           }
          ],
          "histogram": [
           {
            "marker": {
             "pattern": {
              "fillmode": "overlay",
              "size": 10,
              "solidity": 0.2
             }
            },
            "type": "histogram"
           }
          ],
          "histogram2d": [
           {
            "colorbar": {
             "outlinewidth": 0,
             "ticks": ""
            },
            "colorscale": [
             [
              0,
              "#0d0887"
             ],
             [
              0.1111111111111111,
              "#46039f"
             ],
             [
              0.2222222222222222,
              "#7201a8"
             ],
             [
              0.3333333333333333,
              "#9c179e"
             ],
             [
              0.4444444444444444,
              "#bd3786"
             ],
             [
              0.5555555555555556,
              "#d8576b"
             ],
             [
              0.6666666666666666,
              "#ed7953"
             ],
             [
              0.7777777777777778,
              "#fb9f3a"
             ],
             [
              0.8888888888888888,
              "#fdca26"
             ],
             [
              1,
              "#f0f921"
             ]
            ],
            "type": "histogram2d"
           }
          ],
          "histogram2dcontour": [
           {
            "colorbar": {
             "outlinewidth": 0,
             "ticks": ""
            },
            "colorscale": [
             [
              0,
              "#0d0887"
             ],
             [
              0.1111111111111111,
              "#46039f"
             ],
             [
              0.2222222222222222,
              "#7201a8"
             ],
             [
              0.3333333333333333,
              "#9c179e"
             ],
             [
              0.4444444444444444,
              "#bd3786"
             ],
             [
              0.5555555555555556,
              "#d8576b"
             ],
             [
              0.6666666666666666,
              "#ed7953"
             ],
             [
              0.7777777777777778,
              "#fb9f3a"
             ],
             [
              0.8888888888888888,
              "#fdca26"
             ],
             [
              1,
              "#f0f921"
             ]
            ],
            "type": "histogram2dcontour"
           }
          ],
          "mesh3d": [
           {
            "colorbar": {
             "outlinewidth": 0,
             "ticks": ""
            },
            "type": "mesh3d"
           }
          ],
          "parcoords": [
           {
            "line": {
             "colorbar": {
              "outlinewidth": 0,
              "ticks": ""
             }
            },
            "type": "parcoords"
           }
          ],
          "pie": [
           {
            "automargin": true,
            "type": "pie"
           }
          ],
          "scatter": [
           {
            "fillpattern": {
             "fillmode": "overlay",
             "size": 10,
             "solidity": 0.2
            },
            "type": "scatter"
           }
          ],
          "scatter3d": [
           {
            "line": {
             "colorbar": {
              "outlinewidth": 0,
              "ticks": ""
             }
            },
            "marker": {
             "colorbar": {
              "outlinewidth": 0,
              "ticks": ""
             }
            },
            "type": "scatter3d"
           }
          ],
          "scattercarpet": [
           {
            "marker": {
             "colorbar": {
              "outlinewidth": 0,
              "ticks": ""
             }
            },
            "type": "scattercarpet"
           }
          ],
          "scattergeo": [
           {
            "marker": {
             "colorbar": {
              "outlinewidth": 0,
              "ticks": ""
             }
            },
            "type": "scattergeo"
           }
          ],
          "scattergl": [
           {
            "marker": {
             "colorbar": {
              "outlinewidth": 0,
              "ticks": ""
             }
            },
            "type": "scattergl"
           }
          ],
          "scattermapbox": [
           {
            "marker": {
             "colorbar": {
              "outlinewidth": 0,
              "ticks": ""
             }
            },
            "type": "scattermapbox"
           }
          ],
          "scatterpolar": [
           {
            "marker": {
             "colorbar": {
              "outlinewidth": 0,
              "ticks": ""
             }
            },
            "type": "scatterpolar"
           }
          ],
          "scatterpolargl": [
           {
            "marker": {
             "colorbar": {
              "outlinewidth": 0,
              "ticks": ""
             }
            },
            "type": "scatterpolargl"
           }
          ],
          "scatterternary": [
           {
            "marker": {
             "colorbar": {
              "outlinewidth": 0,
              "ticks": ""
             }
            },
            "type": "scatterternary"
           }
          ],
          "surface": [
           {
            "colorbar": {
             "outlinewidth": 0,
             "ticks": ""
            },
            "colorscale": [
             [
              0,
              "#0d0887"
             ],
             [
              0.1111111111111111,
              "#46039f"
             ],
             [
              0.2222222222222222,
              "#7201a8"
             ],
             [
              0.3333333333333333,
              "#9c179e"
             ],
             [
              0.4444444444444444,
              "#bd3786"
             ],
             [
              0.5555555555555556,
              "#d8576b"
             ],
             [
              0.6666666666666666,
              "#ed7953"
             ],
             [
              0.7777777777777778,
              "#fb9f3a"
             ],
             [
              0.8888888888888888,
              "#fdca26"
             ],
             [
              1,
              "#f0f921"
             ]
            ],
            "type": "surface"
           }
          ],
          "table": [
           {
            "cells": {
             "fill": {
              "color": "#EBF0F8"
             },
             "line": {
              "color": "white"
             }
            },
            "header": {
             "fill": {
              "color": "#C8D4E3"
             },
             "line": {
              "color": "white"
             }
            },
            "type": "table"
           }
          ]
         },
         "layout": {
          "annotationdefaults": {
           "arrowcolor": "#2a3f5f",
           "arrowhead": 0,
           "arrowwidth": 1
          },
          "autotypenumbers": "strict",
          "coloraxis": {
           "colorbar": {
            "outlinewidth": 0,
            "ticks": ""
           }
          },
          "colorscale": {
           "diverging": [
            [
             0,
             "#8e0152"
            ],
            [
             0.1,
             "#c51b7d"
            ],
            [
             0.2,
             "#de77ae"
            ],
            [
             0.3,
             "#f1b6da"
            ],
            [
             0.4,
             "#fde0ef"
            ],
            [
             0.5,
             "#f7f7f7"
            ],
            [
             0.6,
             "#e6f5d0"
            ],
            [
             0.7,
             "#b8e186"
            ],
            [
             0.8,
             "#7fbc41"
            ],
            [
             0.9,
             "#4d9221"
            ],
            [
             1,
             "#276419"
            ]
           ],
           "sequential": [
            [
             0,
             "#0d0887"
            ],
            [
             0.1111111111111111,
             "#46039f"
            ],
            [
             0.2222222222222222,
             "#7201a8"
            ],
            [
             0.3333333333333333,
             "#9c179e"
            ],
            [
             0.4444444444444444,
             "#bd3786"
            ],
            [
             0.5555555555555556,
             "#d8576b"
            ],
            [
             0.6666666666666666,
             "#ed7953"
            ],
            [
             0.7777777777777778,
             "#fb9f3a"
            ],
            [
             0.8888888888888888,
             "#fdca26"
            ],
            [
             1,
             "#f0f921"
            ]
           ],
           "sequentialminus": [
            [
             0,
             "#0d0887"
            ],
            [
             0.1111111111111111,
             "#46039f"
            ],
            [
             0.2222222222222222,
             "#7201a8"
            ],
            [
             0.3333333333333333,
             "#9c179e"
            ],
            [
             0.4444444444444444,
             "#bd3786"
            ],
            [
             0.5555555555555556,
             "#d8576b"
            ],
            [
             0.6666666666666666,
             "#ed7953"
            ],
            [
             0.7777777777777778,
             "#fb9f3a"
            ],
            [
             0.8888888888888888,
             "#fdca26"
            ],
            [
             1,
             "#f0f921"
            ]
           ]
          },
          "colorway": [
           "#636efa",
           "#EF553B",
           "#00cc96",
           "#ab63fa",
           "#FFA15A",
           "#19d3f3",
           "#FF6692",
           "#B6E880",
           "#FF97FF",
           "#FECB52"
          ],
          "font": {
           "color": "#2a3f5f"
          },
          "geo": {
           "bgcolor": "white",
           "lakecolor": "white",
           "landcolor": "#E5ECF6",
           "showlakes": true,
           "showland": true,
           "subunitcolor": "white"
          },
          "hoverlabel": {
           "align": "left"
          },
          "hovermode": "closest",
          "mapbox": {
           "style": "light"
          },
          "paper_bgcolor": "white",
          "plot_bgcolor": "#E5ECF6",
          "polar": {
           "angularaxis": {
            "gridcolor": "white",
            "linecolor": "white",
            "ticks": ""
           },
           "bgcolor": "#E5ECF6",
           "radialaxis": {
            "gridcolor": "white",
            "linecolor": "white",
            "ticks": ""
           }
          },
          "scene": {
           "xaxis": {
            "backgroundcolor": "#E5ECF6",
            "gridcolor": "white",
            "gridwidth": 2,
            "linecolor": "white",
            "showbackground": true,
            "ticks": "",
            "zerolinecolor": "white"
           },
           "yaxis": {
            "backgroundcolor": "#E5ECF6",
            "gridcolor": "white",
            "gridwidth": 2,
            "linecolor": "white",
            "showbackground": true,
            "ticks": "",
            "zerolinecolor": "white"
           },
           "zaxis": {
            "backgroundcolor": "#E5ECF6",
            "gridcolor": "white",
            "gridwidth": 2,
            "linecolor": "white",
            "showbackground": true,
            "ticks": "",
            "zerolinecolor": "white"
           }
          },
          "shapedefaults": {
           "line": {
            "color": "#2a3f5f"
           }
          },
          "ternary": {
           "aaxis": {
            "gridcolor": "white",
            "linecolor": "white",
            "ticks": ""
           },
           "baxis": {
            "gridcolor": "white",
            "linecolor": "white",
            "ticks": ""
           },
           "bgcolor": "#E5ECF6",
           "caxis": {
            "gridcolor": "white",
            "linecolor": "white",
            "ticks": ""
           }
          },
          "title": {
           "x": 0.05
          },
          "xaxis": {
           "automargin": true,
           "gridcolor": "white",
           "linecolor": "white",
           "ticks": "",
           "title": {
            "standoff": 15
           },
           "zerolinecolor": "white",
           "zerolinewidth": 2
          },
          "yaxis": {
           "automargin": true,
           "gridcolor": "white",
           "linecolor": "white",
           "ticks": "",
           "title": {
            "standoff": 15
           },
           "zerolinecolor": "white",
           "zerolinewidth": 2
          }
         }
        },
        "title": {
         "text": "Base Scenario"
        },
        "width": 600,
        "xaxis": {
         "anchor": "y",
         "domain": [
          0,
          1
         ],
         "title": {
          "text": "Years"
         }
        },
        "yaxis": {
         "anchor": "x",
         "domain": [
          0,
          1
         ],
         "title": {
          "text": "Cummulative multi-year Probability of Default"
         }
        }
       }
      }
     },
     "metadata": {},
     "output_type": "display_data"
    }
   ],
   "source": [
    "fig = px.line(Base_final)\n",
    "fig.update_layout(title='Base Scenario', autosize=False,\n",
    "                    width=600, height=600,\n",
    "                    margin=dict(l=65, r=50, b=65, t=90),\n",
    "                    xaxis_title=\"Years\",\n",
    "                    yaxis_title=\"Cummulative multi-year Probability of Default\")\n",
    "\n",
    "fig.update_traces(mode='markers+lines')\n",
    "fig.show()"
   ]
  },
  {
   "cell_type": "code",
   "execution_count": 273,
   "metadata": {},
   "outputs": [],
   "source": [
    "def funcc(val):\n",
    "    val = list(val)\n",
    "    listaa = [val[0]]\n",
    "    vall = val[1:]\n",
    "    for i in range(1,len(val)):\n",
    "        yy = val[i-1]\n",
    "        cc = listaa[i-1]\n",
    "        listaa.append(yy * float(1-cc) + cc)\n",
    "\n",
    "    return pd.Series(listaa)\n",
    "\n",
    "   \n",
    "Pesimistic_final_cumulative = Pesimistic_final.apply(lambda row: funcc(row))\n",
    "Optimistic_final_cumulative = Optimistic_final.apply(lambda row: funcc(row))\n",
    "Base_final_cumulative = Base_final.apply(lambda row: funcc(row))"
   ]
  },
  {
   "cell_type": "code",
   "execution_count": 274,
   "metadata": {},
   "outputs": [
    {
     "data": {
      "text/html": [
       "<style type=\"text/css\">\n",
       "#T_bdb2d_row0_col0, #T_bdb2d_row0_col1, #T_bdb2d_row0_col2, #T_bdb2d_row0_col3, #T_bdb2d_row0_col4, #T_bdb2d_row0_col5, #T_bdb2d_row0_col6, #T_bdb2d_row1_col0, #T_bdb2d_row1_col1, #T_bdb2d_row1_col2, #T_bdb2d_row1_col3, #T_bdb2d_row1_col4, #T_bdb2d_row1_col5, #T_bdb2d_row1_col6, #T_bdb2d_row2_col0, #T_bdb2d_row2_col1, #T_bdb2d_row2_col2, #T_bdb2d_row2_col3, #T_bdb2d_row2_col4, #T_bdb2d_row2_col5, #T_bdb2d_row2_col6, #T_bdb2d_row3_col0, #T_bdb2d_row3_col1, #T_bdb2d_row3_col2, #T_bdb2d_row3_col3, #T_bdb2d_row3_col4, #T_bdb2d_row3_col5, #T_bdb2d_row3_col6, #T_bdb2d_row4_col0, #T_bdb2d_row4_col1, #T_bdb2d_row4_col2, #T_bdb2d_row4_col3, #T_bdb2d_row4_col4, #T_bdb2d_row4_col5, #T_bdb2d_row4_col6, #T_bdb2d_row5_col0, #T_bdb2d_row5_col1, #T_bdb2d_row5_col2, #T_bdb2d_row5_col3, #T_bdb2d_row5_col4, #T_bdb2d_row5_col5, #T_bdb2d_row5_col6, #T_bdb2d_row6_col0, #T_bdb2d_row6_col1, #T_bdb2d_row6_col2, #T_bdb2d_row6_col3, #T_bdb2d_row6_col4, #T_bdb2d_row6_col5, #T_bdb2d_row6_col6, #T_bdb2d_row7_col0, #T_bdb2d_row7_col1, #T_bdb2d_row7_col2, #T_bdb2d_row7_col3, #T_bdb2d_row7_col4, #T_bdb2d_row7_col5, #T_bdb2d_row7_col6, #T_bdb2d_row8_col0, #T_bdb2d_row8_col1, #T_bdb2d_row8_col2, #T_bdb2d_row8_col3, #T_bdb2d_row8_col4, #T_bdb2d_row8_col5, #T_bdb2d_row8_col6, #T_bdb2d_row9_col0, #T_bdb2d_row9_col1, #T_bdb2d_row9_col2, #T_bdb2d_row9_col3, #T_bdb2d_row9_col4, #T_bdb2d_row9_col5, #T_bdb2d_row9_col6 {\n",
       "  background-color: blue;\n",
       "  color: white;\n",
       "}\n",
       "</style>\n",
       "<table id=\"T_bdb2d\">\n",
       "  <thead>\n",
       "    <tr>\n",
       "      <th class=\"blank level0\" >&nbsp;</th>\n",
       "      <th id=\"T_bdb2d_level0_col0\" class=\"col_heading level0 col0\" >AAA</th>\n",
       "      <th id=\"T_bdb2d_level0_col1\" class=\"col_heading level0 col1\" >AA</th>\n",
       "      <th id=\"T_bdb2d_level0_col2\" class=\"col_heading level0 col2\" >A</th>\n",
       "      <th id=\"T_bdb2d_level0_col3\" class=\"col_heading level0 col3\" >BBB</th>\n",
       "      <th id=\"T_bdb2d_level0_col4\" class=\"col_heading level0 col4\" >BB</th>\n",
       "      <th id=\"T_bdb2d_level0_col5\" class=\"col_heading level0 col5\" >B</th>\n",
       "      <th id=\"T_bdb2d_level0_col6\" class=\"col_heading level0 col6\" >CCC</th>\n",
       "    </tr>\n",
       "  </thead>\n",
       "  <tbody>\n",
       "    <tr>\n",
       "      <th id=\"T_bdb2d_level0_row0\" class=\"row_heading level0 row0\" >0</th>\n",
       "      <td id=\"T_bdb2d_row0_col0\" class=\"data row0 col0\" >1.26%</td>\n",
       "      <td id=\"T_bdb2d_row0_col1\" class=\"data row0 col1\" >1.57%</td>\n",
       "      <td id=\"T_bdb2d_row0_col2\" class=\"data row0 col2\" >1.72%</td>\n",
       "      <td id=\"T_bdb2d_row0_col3\" class=\"data row0 col3\" >2.41%</td>\n",
       "      <td id=\"T_bdb2d_row0_col4\" class=\"data row0 col4\" >4.07%</td>\n",
       "      <td id=\"T_bdb2d_row0_col5\" class=\"data row0 col5\" >6.32%</td>\n",
       "      <td id=\"T_bdb2d_row0_col6\" class=\"data row0 col6\" >16.51%</td>\n",
       "    </tr>\n",
       "    <tr>\n",
       "      <th id=\"T_bdb2d_level0_row1\" class=\"row_heading level0 row1\" >1</th>\n",
       "      <td id=\"T_bdb2d_row1_col0\" class=\"data row1 col0\" >2.50%</td>\n",
       "      <td id=\"T_bdb2d_row1_col1\" class=\"data row1 col1\" >3.11%</td>\n",
       "      <td id=\"T_bdb2d_row1_col2\" class=\"data row1 col2\" >3.41%</td>\n",
       "      <td id=\"T_bdb2d_row1_col3\" class=\"data row1 col3\" >4.77%</td>\n",
       "      <td id=\"T_bdb2d_row1_col4\" class=\"data row1 col4\" >7.98%</td>\n",
       "      <td id=\"T_bdb2d_row1_col5\" class=\"data row1 col5\" >12.24%</td>\n",
       "      <td id=\"T_bdb2d_row1_col6\" class=\"data row1 col6\" >30.29%</td>\n",
       "    </tr>\n",
       "    <tr>\n",
       "      <th id=\"T_bdb2d_level0_row2\" class=\"row_heading level0 row2\" >2</th>\n",
       "      <td id=\"T_bdb2d_row2_col0\" class=\"data row2 col0\" >3.75%</td>\n",
       "      <td id=\"T_bdb2d_row2_col1\" class=\"data row2 col1\" >4.63%</td>\n",
       "      <td id=\"T_bdb2d_row2_col2\" class=\"data row2 col2\" >5.10%</td>\n",
       "      <td id=\"T_bdb2d_row2_col3\" class=\"data row2 col3\" >7.10%</td>\n",
       "      <td id=\"T_bdb2d_row2_col4\" class=\"data row2 col4\" >11.82%</td>\n",
       "      <td id=\"T_bdb2d_row2_col5\" class=\"data row2 col5\" >18.11%</td>\n",
       "      <td id=\"T_bdb2d_row2_col6\" class=\"data row2 col6\" >39.93%</td>\n",
       "    </tr>\n",
       "    <tr>\n",
       "      <th id=\"T_bdb2d_level0_row3\" class=\"row_heading level0 row3\" >3</th>\n",
       "      <td id=\"T_bdb2d_row3_col0\" class=\"data row3 col0\" >5.98%</td>\n",
       "      <td id=\"T_bdb2d_row3_col1\" class=\"data row3 col1\" >7.29%</td>\n",
       "      <td id=\"T_bdb2d_row3_col2\" class=\"data row3 col2\" >8.07%</td>\n",
       "      <td id=\"T_bdb2d_row3_col3\" class=\"data row3 col3\" >11.17%</td>\n",
       "      <td id=\"T_bdb2d_row3_col4\" class=\"data row3 col4\" >18.43%</td>\n",
       "      <td id=\"T_bdb2d_row3_col5\" class=\"data row3 col5\" >27.87%</td>\n",
       "      <td id=\"T_bdb2d_row3_col6\" class=\"data row3 col6\" >52.03%</td>\n",
       "    </tr>\n",
       "    <tr>\n",
       "      <th id=\"T_bdb2d_level0_row4\" class=\"row_heading level0 row4\" >4</th>\n",
       "      <td id=\"T_bdb2d_row4_col0\" class=\"data row4 col0\" >9.17%</td>\n",
       "      <td id=\"T_bdb2d_row4_col1\" class=\"data row4 col1\" >11.04%</td>\n",
       "      <td id=\"T_bdb2d_row4_col2\" class=\"data row4 col2\" >12.28%</td>\n",
       "      <td id=\"T_bdb2d_row4_col3\" class=\"data row4 col3\" >16.86%</td>\n",
       "      <td id=\"T_bdb2d_row4_col4\" class=\"data row4 col4\" >27.36%</td>\n",
       "      <td id=\"T_bdb2d_row4_col5\" class=\"data row4 col5\" >40.15%</td>\n",
       "      <td id=\"T_bdb2d_row4_col6\" class=\"data row4 col6\" >63.69%</td>\n",
       "    </tr>\n",
       "    <tr>\n",
       "      <th id=\"T_bdb2d_level0_row5\" class=\"row_heading level0 row5\" >5</th>\n",
       "      <td id=\"T_bdb2d_row5_col0\" class=\"data row5 col0\" >12.33%</td>\n",
       "      <td id=\"T_bdb2d_row5_col1\" class=\"data row5 col1\" >14.70%</td>\n",
       "      <td id=\"T_bdb2d_row5_col2\" class=\"data row5 col2\" >16.39%</td>\n",
       "      <td id=\"T_bdb2d_row5_col3\" class=\"data row5 col3\" >22.28%</td>\n",
       "      <td id=\"T_bdb2d_row5_col4\" class=\"data row5 col4\" >35.39%</td>\n",
       "      <td id=\"T_bdb2d_row5_col5\" class=\"data row5 col5\" >50.18%</td>\n",
       "      <td id=\"T_bdb2d_row5_col6\" class=\"data row5 col6\" >71.36%</td>\n",
       "    </tr>\n",
       "    <tr>\n",
       "      <th id=\"T_bdb2d_level0_row6\" class=\"row_heading level0 row6\" >6</th>\n",
       "      <td id=\"T_bdb2d_row6_col0\" class=\"data row6 col0\" >15.45%</td>\n",
       "      <td id=\"T_bdb2d_row6_col1\" class=\"data row6 col1\" >18.25%</td>\n",
       "      <td id=\"T_bdb2d_row6_col2\" class=\"data row6 col2\" >20.40%</td>\n",
       "      <td id=\"T_bdb2d_row6_col3\" class=\"data row6 col3\" >27.43%</td>\n",
       "      <td id=\"T_bdb2d_row6_col4\" class=\"data row6 col4\" >42.57%</td>\n",
       "      <td id=\"T_bdb2d_row6_col5\" class=\"data row6 col5\" >58.36%</td>\n",
       "      <td id=\"T_bdb2d_row6_col6\" class=\"data row6 col6\" >76.81%</td>\n",
       "    </tr>\n",
       "    <tr>\n",
       "      <th id=\"T_bdb2d_level0_row7\" class=\"row_heading level0 row7\" >7</th>\n",
       "      <td id=\"T_bdb2d_row7_col0\" class=\"data row7 col0\" >18.51%</td>\n",
       "      <td id=\"T_bdb2d_row7_col1\" class=\"data row7 col1\" >21.71%</td>\n",
       "      <td id=\"T_bdb2d_row7_col2\" class=\"data row7 col2\" >24.28%</td>\n",
       "      <td id=\"T_bdb2d_row7_col3\" class=\"data row7 col3\" >32.29%</td>\n",
       "      <td id=\"T_bdb2d_row7_col4\" class=\"data row7 col4\" >48.94%</td>\n",
       "      <td id=\"T_bdb2d_row7_col5\" class=\"data row7 col5\" >65.03%</td>\n",
       "      <td id=\"T_bdb2d_row7_col6\" class=\"data row7 col6\" >80.89%</td>\n",
       "    </tr>\n",
       "    <tr>\n",
       "      <th id=\"T_bdb2d_level0_row8\" class=\"row_heading level0 row8\" >8</th>\n",
       "      <td id=\"T_bdb2d_row8_col0\" class=\"data row8 col0\" >21.53%</td>\n",
       "      <td id=\"T_bdb2d_row8_col1\" class=\"data row8 col1\" >25.07%</td>\n",
       "      <td id=\"T_bdb2d_row8_col2\" class=\"data row8 col2\" >28.04%</td>\n",
       "      <td id=\"T_bdb2d_row8_col3\" class=\"data row8 col3\" >36.88%</td>\n",
       "      <td id=\"T_bdb2d_row8_col4\" class=\"data row8 col4\" >54.58%</td>\n",
       "      <td id=\"T_bdb2d_row8_col5\" class=\"data row8 col5\" >70.49%</td>\n",
       "      <td id=\"T_bdb2d_row8_col6\" class=\"data row8 col6\" >84.07%</td>\n",
       "    </tr>\n",
       "    <tr>\n",
       "      <th id=\"T_bdb2d_level0_row9\" class=\"row_heading level0 row9\" >9</th>\n",
       "      <td id=\"T_bdb2d_row9_col0\" class=\"data row9 col0\" >24.48%</td>\n",
       "      <td id=\"T_bdb2d_row9_col1\" class=\"data row9 col1\" >28.33%</td>\n",
       "      <td id=\"T_bdb2d_row9_col2\" class=\"data row9 col2\" >31.67%</td>\n",
       "      <td id=\"T_bdb2d_row9_col3\" class=\"data row9 col3\" >41.19%</td>\n",
       "      <td id=\"T_bdb2d_row9_col4\" class=\"data row9 col4\" >59.55%</td>\n",
       "      <td id=\"T_bdb2d_row9_col5\" class=\"data row9 col5\" >74.97%</td>\n",
       "      <td id=\"T_bdb2d_row9_col6\" class=\"data row9 col6\" >86.60%</td>\n",
       "    </tr>\n",
       "  </tbody>\n",
       "</table>\n"
      ],
      "text/plain": [
       "<pandas.io.formats.style.Styler at 0x25e5fc0b8d0>"
      ]
     },
     "execution_count": 274,
     "metadata": {},
     "output_type": "execute_result"
    }
   ],
   "source": [
    "Optimistic_final_cumulative.style.set_properties(**{'background-color': 'blue',\n",
    "                           'color': 'white'}).format(\"{:.2%}\")"
   ]
  },
  {
   "cell_type": "code",
   "execution_count": 275,
   "metadata": {},
   "outputs": [
    {
     "data": {
      "text/html": [
       "<style type=\"text/css\">\n",
       "#T_41c46_row0_col0, #T_41c46_row0_col1, #T_41c46_row0_col2, #T_41c46_row0_col3, #T_41c46_row0_col4, #T_41c46_row0_col5, #T_41c46_row0_col6, #T_41c46_row1_col0, #T_41c46_row1_col1, #T_41c46_row1_col2, #T_41c46_row1_col3, #T_41c46_row1_col4, #T_41c46_row1_col5, #T_41c46_row1_col6, #T_41c46_row2_col0, #T_41c46_row2_col1, #T_41c46_row2_col2, #T_41c46_row2_col3, #T_41c46_row2_col4, #T_41c46_row2_col5, #T_41c46_row2_col6, #T_41c46_row3_col0, #T_41c46_row3_col1, #T_41c46_row3_col2, #T_41c46_row3_col3, #T_41c46_row3_col4, #T_41c46_row3_col5, #T_41c46_row3_col6, #T_41c46_row4_col0, #T_41c46_row4_col1, #T_41c46_row4_col2, #T_41c46_row4_col3, #T_41c46_row4_col4, #T_41c46_row4_col5, #T_41c46_row4_col6, #T_41c46_row5_col0, #T_41c46_row5_col1, #T_41c46_row5_col2, #T_41c46_row5_col3, #T_41c46_row5_col4, #T_41c46_row5_col5, #T_41c46_row5_col6, #T_41c46_row6_col0, #T_41c46_row6_col1, #T_41c46_row6_col2, #T_41c46_row6_col3, #T_41c46_row6_col4, #T_41c46_row6_col5, #T_41c46_row6_col6, #T_41c46_row7_col0, #T_41c46_row7_col1, #T_41c46_row7_col2, #T_41c46_row7_col3, #T_41c46_row7_col4, #T_41c46_row7_col5, #T_41c46_row7_col6, #T_41c46_row8_col0, #T_41c46_row8_col1, #T_41c46_row8_col2, #T_41c46_row8_col3, #T_41c46_row8_col4, #T_41c46_row8_col5, #T_41c46_row8_col6, #T_41c46_row9_col0, #T_41c46_row9_col1, #T_41c46_row9_col2, #T_41c46_row9_col3, #T_41c46_row9_col4, #T_41c46_row9_col5, #T_41c46_row9_col6 {\n",
       "  background-color: blue;\n",
       "  color: white;\n",
       "}\n",
       "</style>\n",
       "<table id=\"T_41c46\">\n",
       "  <thead>\n",
       "    <tr>\n",
       "      <th class=\"blank level0\" >&nbsp;</th>\n",
       "      <th id=\"T_41c46_level0_col0\" class=\"col_heading level0 col0\" >AAA</th>\n",
       "      <th id=\"T_41c46_level0_col1\" class=\"col_heading level0 col1\" >AA</th>\n",
       "      <th id=\"T_41c46_level0_col2\" class=\"col_heading level0 col2\" >A</th>\n",
       "      <th id=\"T_41c46_level0_col3\" class=\"col_heading level0 col3\" >BBB</th>\n",
       "      <th id=\"T_41c46_level0_col4\" class=\"col_heading level0 col4\" >BB</th>\n",
       "      <th id=\"T_41c46_level0_col5\" class=\"col_heading level0 col5\" >B</th>\n",
       "      <th id=\"T_41c46_level0_col6\" class=\"col_heading level0 col6\" >CCC</th>\n",
       "    </tr>\n",
       "  </thead>\n",
       "  <tbody>\n",
       "    <tr>\n",
       "      <th id=\"T_41c46_level0_row0\" class=\"row_heading level0 row0\" >0</th>\n",
       "      <td id=\"T_41c46_row0_col0\" class=\"data row0 col0\" >0.90%</td>\n",
       "      <td id=\"T_41c46_row0_col1\" class=\"data row0 col1\" >1.13%</td>\n",
       "      <td id=\"T_41c46_row0_col2\" class=\"data row0 col2\" >1.24%</td>\n",
       "      <td id=\"T_41c46_row0_col3\" class=\"data row0 col3\" >1.73%</td>\n",
       "      <td id=\"T_41c46_row0_col4\" class=\"data row0 col4\" >2.93%</td>\n",
       "      <td id=\"T_41c46_row0_col5\" class=\"data row0 col5\" >4.54%</td>\n",
       "      <td id=\"T_41c46_row0_col6\" class=\"data row0 col6\" >11.86%</td>\n",
       "    </tr>\n",
       "    <tr>\n",
       "      <th id=\"T_41c46_level0_row1\" class=\"row_heading level0 row1\" >1</th>\n",
       "      <td id=\"T_41c46_row1_col0\" class=\"data row1 col0\" >1.80%</td>\n",
       "      <td id=\"T_41c46_row1_col1\" class=\"data row1 col1\" >2.24%</td>\n",
       "      <td id=\"T_41c46_row1_col2\" class=\"data row1 col2\" >2.46%</td>\n",
       "      <td id=\"T_41c46_row1_col3\" class=\"data row1 col3\" >3.44%</td>\n",
       "      <td id=\"T_41c46_row1_col4\" class=\"data row1 col4\" >5.77%</td>\n",
       "      <td id=\"T_41c46_row1_col5\" class=\"data row1 col5\" >8.87%</td>\n",
       "      <td id=\"T_41c46_row1_col6\" class=\"data row1 col6\" >22.31%</td>\n",
       "    </tr>\n",
       "    <tr>\n",
       "      <th id=\"T_41c46_level0_row2\" class=\"row_heading level0 row2\" >2</th>\n",
       "      <td id=\"T_41c46_row2_col0\" class=\"data row2 col0\" >5.84%</td>\n",
       "      <td id=\"T_41c46_row2_col1\" class=\"data row2 col1\" >7.16%</td>\n",
       "      <td id=\"T_41c46_row2_col2\" class=\"data row2 col2\" >7.91%</td>\n",
       "      <td id=\"T_41c46_row2_col3\" class=\"data row2 col3\" >11.01%</td>\n",
       "      <td id=\"T_41c46_row2_col4\" class=\"data row2 col4\" >18.36%</td>\n",
       "      <td id=\"T_41c46_row2_col5\" class=\"data row2 col5\" >28.40%</td>\n",
       "      <td id=\"T_41c46_row2_col6\" class=\"data row2 col6\" >56.72%</td>\n",
       "    </tr>\n",
       "    <tr>\n",
       "      <th id=\"T_41c46_level0_row3\" class=\"row_heading level0 row3\" >3</th>\n",
       "      <td id=\"T_41c46_row3_col0\" class=\"data row3 col0\" >8.43%</td>\n",
       "      <td id=\"T_41c46_row3_col1\" class=\"data row3 col1\" >10.23%</td>\n",
       "      <td id=\"T_41c46_row3_col2\" class=\"data row3 col2\" >11.33%</td>\n",
       "      <td id=\"T_41c46_row3_col3\" class=\"data row3 col3\" >15.64%</td>\n",
       "      <td id=\"T_41c46_row3_col4\" class=\"data row3 col4\" >25.62%</td>\n",
       "      <td id=\"T_41c46_row3_col5\" class=\"data row3 col5\" >38.52%</td>\n",
       "      <td id=\"T_41c46_row3_col6\" class=\"data row3 col6\" >67.05%</td>\n",
       "    </tr>\n",
       "    <tr>\n",
       "      <th id=\"T_41c46_level0_row4\" class=\"row_heading level0 row4\" >4</th>\n",
       "      <td id=\"T_41c46_row4_col0\" class=\"data row4 col0\" >11.54%</td>\n",
       "      <td id=\"T_41c46_row4_col1\" class=\"data row4 col1\" >13.86%</td>\n",
       "      <td id=\"T_41c46_row4_col2\" class=\"data row4 col2\" >15.39%</td>\n",
       "      <td id=\"T_41c46_row4_col3\" class=\"data row4 col3\" >21.04%</td>\n",
       "      <td id=\"T_41c46_row4_col4\" class=\"data row4 col4\" >33.76%</td>\n",
       "      <td id=\"T_41c46_row4_col5\" class=\"data row4 col5\" >48.98%</td>\n",
       "      <td id=\"T_41c46_row4_col6\" class=\"data row4 col6\" >75.06%</td>\n",
       "    </tr>\n",
       "    <tr>\n",
       "      <th id=\"T_41c46_level0_row5\" class=\"row_heading level0 row5\" >5</th>\n",
       "      <td id=\"T_41c46_row5_col0\" class=\"data row5 col0\" >14.62%</td>\n",
       "      <td id=\"T_41c46_row5_col1\" class=\"data row5 col1\" >17.40%</td>\n",
       "      <td id=\"T_41c46_row5_col2\" class=\"data row5 col2\" >19.36%</td>\n",
       "      <td id=\"T_41c46_row5_col3\" class=\"data row5 col3\" >26.19%</td>\n",
       "      <td id=\"T_41c46_row5_col4\" class=\"data row5 col4\" >41.08%</td>\n",
       "      <td id=\"T_41c46_row5_col5\" class=\"data row5 col5\" >57.54%</td>\n",
       "      <td id=\"T_41c46_row5_col6\" class=\"data row5 col6\" >80.33%</td>\n",
       "    </tr>\n",
       "    <tr>\n",
       "      <th id=\"T_41c46_level0_row6\" class=\"row_heading level0 row6\" >6</th>\n",
       "      <td id=\"T_41c46_row6_col0\" class=\"data row6 col0\" >17.65%</td>\n",
       "      <td id=\"T_41c46_row6_col1\" class=\"data row6 col1\" >20.84%</td>\n",
       "      <td id=\"T_41c46_row6_col2\" class=\"data row6 col2\" >23.22%</td>\n",
       "      <td id=\"T_41c46_row6_col3\" class=\"data row6 col3\" >31.07%</td>\n",
       "      <td id=\"T_41c46_row6_col4\" class=\"data row6 col4\" >47.63%</td>\n",
       "      <td id=\"T_41c46_row6_col5\" class=\"data row6 col5\" >64.51%</td>\n",
       "      <td id=\"T_41c46_row6_col6\" class=\"data row6 col6\" >84.07%</td>\n",
       "    </tr>\n",
       "    <tr>\n",
       "      <th id=\"T_41c46_level0_row7\" class=\"row_heading level0 row7\" >7</th>\n",
       "      <td id=\"T_41c46_row7_col0\" class=\"data row7 col0\" >20.64%</td>\n",
       "      <td id=\"T_41c46_row7_col1\" class=\"data row7 col1\" >24.19%</td>\n",
       "      <td id=\"T_41c46_row7_col2\" class=\"data row7 col2\" >26.96%</td>\n",
       "      <td id=\"T_41c46_row7_col3\" class=\"data row7 col3\" >35.69%</td>\n",
       "      <td id=\"T_41c46_row7_col4\" class=\"data row7 col4\" >53.44%</td>\n",
       "      <td id=\"T_41c46_row7_col5\" class=\"data row7 col5\" >70.19%</td>\n",
       "      <td id=\"T_41c46_row7_col6\" class=\"data row7 col6\" >86.88%</td>\n",
       "    </tr>\n",
       "    <tr>\n",
       "      <th id=\"T_41c46_level0_row8\" class=\"row_heading level0 row8\" >8</th>\n",
       "      <td id=\"T_41c46_row8_col0\" class=\"data row8 col0\" >23.57%</td>\n",
       "      <td id=\"T_41c46_row8_col1\" class=\"data row8 col1\" >27.44%</td>\n",
       "      <td id=\"T_41c46_row8_col2\" class=\"data row8 col2\" >30.59%</td>\n",
       "      <td id=\"T_41c46_row8_col3\" class=\"data row8 col3\" >40.05%</td>\n",
       "      <td id=\"T_41c46_row8_col4\" class=\"data row8 col4\" >58.58%</td>\n",
       "      <td id=\"T_41c46_row8_col5\" class=\"data row8 col5\" >74.84%</td>\n",
       "      <td id=\"T_41c46_row8_col6\" class=\"data row8 col6\" >89.06%</td>\n",
       "    </tr>\n",
       "    <tr>\n",
       "      <th id=\"T_41c46_level0_row9\" class=\"row_heading level0 row9\" >9</th>\n",
       "      <td id=\"T_41c46_row9_col0\" class=\"data row9 col0\" >26.44%</td>\n",
       "      <td id=\"T_41c46_row9_col1\" class=\"data row9 col1\" >30.60%</td>\n",
       "      <td id=\"T_41c46_row9_col2\" class=\"data row9 col2\" >34.10%</td>\n",
       "      <td id=\"T_41c46_row9_col3\" class=\"data row9 col3\" >44.14%</td>\n",
       "      <td id=\"T_41c46_row9_col4\" class=\"data row9 col4\" >63.11%</td>\n",
       "      <td id=\"T_41c46_row9_col5\" class=\"data row9 col5\" >78.66%</td>\n",
       "      <td id=\"T_41c46_row9_col6\" class=\"data row9 col6\" >90.80%</td>\n",
       "    </tr>\n",
       "  </tbody>\n",
       "</table>\n"
      ],
      "text/plain": [
       "<pandas.io.formats.style.Styler at 0x25e6279ee50>"
      ]
     },
     "execution_count": 275,
     "metadata": {},
     "output_type": "execute_result"
    }
   ],
   "source": [
    "Pesimistic_final_cumulative.style.set_properties(**{'background-color': 'blue',\n",
    "                           'color': 'white'}).format(\"{:.2%}\")"
   ]
  },
  {
   "cell_type": "code",
   "execution_count": 276,
   "metadata": {},
   "outputs": [
    {
     "data": {
      "text/html": [
       "<style type=\"text/css\">\n",
       "#T_9fc4b_row0_col0, #T_9fc4b_row0_col1, #T_9fc4b_row0_col2, #T_9fc4b_row0_col3, #T_9fc4b_row0_col4, #T_9fc4b_row0_col5, #T_9fc4b_row0_col6, #T_9fc4b_row1_col0, #T_9fc4b_row1_col1, #T_9fc4b_row1_col2, #T_9fc4b_row1_col3, #T_9fc4b_row1_col4, #T_9fc4b_row1_col5, #T_9fc4b_row1_col6, #T_9fc4b_row2_col0, #T_9fc4b_row2_col1, #T_9fc4b_row2_col2, #T_9fc4b_row2_col3, #T_9fc4b_row2_col4, #T_9fc4b_row2_col5, #T_9fc4b_row2_col6, #T_9fc4b_row3_col0, #T_9fc4b_row3_col1, #T_9fc4b_row3_col2, #T_9fc4b_row3_col3, #T_9fc4b_row3_col4, #T_9fc4b_row3_col5, #T_9fc4b_row3_col6, #T_9fc4b_row4_col0, #T_9fc4b_row4_col1, #T_9fc4b_row4_col2, #T_9fc4b_row4_col3, #T_9fc4b_row4_col4, #T_9fc4b_row4_col5, #T_9fc4b_row4_col6, #T_9fc4b_row5_col0, #T_9fc4b_row5_col1, #T_9fc4b_row5_col2, #T_9fc4b_row5_col3, #T_9fc4b_row5_col4, #T_9fc4b_row5_col5, #T_9fc4b_row5_col6, #T_9fc4b_row6_col0, #T_9fc4b_row6_col1, #T_9fc4b_row6_col2, #T_9fc4b_row6_col3, #T_9fc4b_row6_col4, #T_9fc4b_row6_col5, #T_9fc4b_row6_col6, #T_9fc4b_row7_col0, #T_9fc4b_row7_col1, #T_9fc4b_row7_col2, #T_9fc4b_row7_col3, #T_9fc4b_row7_col4, #T_9fc4b_row7_col5, #T_9fc4b_row7_col6, #T_9fc4b_row8_col0, #T_9fc4b_row8_col1, #T_9fc4b_row8_col2, #T_9fc4b_row8_col3, #T_9fc4b_row8_col4, #T_9fc4b_row8_col5, #T_9fc4b_row8_col6, #T_9fc4b_row9_col0, #T_9fc4b_row9_col1, #T_9fc4b_row9_col2, #T_9fc4b_row9_col3, #T_9fc4b_row9_col4, #T_9fc4b_row9_col5, #T_9fc4b_row9_col6 {\n",
       "  background-color: blue;\n",
       "  color: white;\n",
       "}\n",
       "</style>\n",
       "<table id=\"T_9fc4b\">\n",
       "  <thead>\n",
       "    <tr>\n",
       "      <th class=\"blank level0\" >&nbsp;</th>\n",
       "      <th id=\"T_9fc4b_level0_col0\" class=\"col_heading level0 col0\" >AAA</th>\n",
       "      <th id=\"T_9fc4b_level0_col1\" class=\"col_heading level0 col1\" >AA</th>\n",
       "      <th id=\"T_9fc4b_level0_col2\" class=\"col_heading level0 col2\" >A</th>\n",
       "      <th id=\"T_9fc4b_level0_col3\" class=\"col_heading level0 col3\" >BBB</th>\n",
       "      <th id=\"T_9fc4b_level0_col4\" class=\"col_heading level0 col4\" >BB</th>\n",
       "      <th id=\"T_9fc4b_level0_col5\" class=\"col_heading level0 col5\" >B</th>\n",
       "      <th id=\"T_9fc4b_level0_col6\" class=\"col_heading level0 col6\" >CCC</th>\n",
       "    </tr>\n",
       "  </thead>\n",
       "  <tbody>\n",
       "    <tr>\n",
       "      <th id=\"T_9fc4b_level0_row0\" class=\"row_heading level0 row0\" >0</th>\n",
       "      <td id=\"T_9fc4b_row0_col0\" class=\"data row0 col0\" >0.94%</td>\n",
       "      <td id=\"T_9fc4b_row0_col1\" class=\"data row0 col1\" >1.18%</td>\n",
       "      <td id=\"T_9fc4b_row0_col2\" class=\"data row0 col2\" >1.29%</td>\n",
       "      <td id=\"T_9fc4b_row0_col3\" class=\"data row0 col3\" >1.81%</td>\n",
       "      <td id=\"T_9fc4b_row0_col4\" class=\"data row0 col4\" >3.06%</td>\n",
       "      <td id=\"T_9fc4b_row0_col5\" class=\"data row0 col5\" >4.75%</td>\n",
       "      <td id=\"T_9fc4b_row0_col6\" class=\"data row0 col6\" >12.41%</td>\n",
       "    </tr>\n",
       "    <tr>\n",
       "      <th id=\"T_9fc4b_level0_row1\" class=\"row_heading level0 row1\" >1</th>\n",
       "      <td id=\"T_9fc4b_row1_col0\" class=\"data row1 col0\" >1.88%</td>\n",
       "      <td id=\"T_9fc4b_row1_col1\" class=\"data row1 col1\" >2.34%</td>\n",
       "      <td id=\"T_9fc4b_row1_col2\" class=\"data row1 col2\" >2.57%</td>\n",
       "      <td id=\"T_9fc4b_row1_col3\" class=\"data row1 col3\" >3.59%</td>\n",
       "      <td id=\"T_9fc4b_row1_col4\" class=\"data row1 col4\" >6.03%</td>\n",
       "      <td id=\"T_9fc4b_row1_col5\" class=\"data row1 col5\" >9.27%</td>\n",
       "      <td id=\"T_9fc4b_row1_col6\" class=\"data row1 col6\" >23.28%</td>\n",
       "    </tr>\n",
       "    <tr>\n",
       "      <th id=\"T_9fc4b_level0_row2\" class=\"row_heading level0 row2\" >2</th>\n",
       "      <td id=\"T_9fc4b_row2_col0\" class=\"data row2 col0\" >4.26%</td>\n",
       "      <td id=\"T_9fc4b_row2_col1\" class=\"data row2 col1\" >5.23%</td>\n",
       "      <td id=\"T_9fc4b_row2_col2\" class=\"data row2 col2\" >5.78%</td>\n",
       "      <td id=\"T_9fc4b_row2_col3\" class=\"data row2 col3\" >8.04%</td>\n",
       "      <td id=\"T_9fc4b_row2_col4\" class=\"data row2 col4\" >13.42%</td>\n",
       "      <td id=\"T_9fc4b_row2_col5\" class=\"data row2 col5\" >20.71%</td>\n",
       "      <td id=\"T_9fc4b_row2_col6\" class=\"data row2 col6\" >43.26%</td>\n",
       "    </tr>\n",
       "    <tr>\n",
       "      <th id=\"T_9fc4b_level0_row3\" class=\"row_heading level0 row3\" >3</th>\n",
       "      <td id=\"T_9fc4b_row3_col0\" class=\"data row3 col0\" >6.70%</td>\n",
       "      <td id=\"T_9fc4b_row3_col1\" class=\"data row3 col1\" >8.15%</td>\n",
       "      <td id=\"T_9fc4b_row3_col2\" class=\"data row3 col2\" >9.03%</td>\n",
       "      <td id=\"T_9fc4b_row3_col3\" class=\"data row3 col3\" >12.49%</td>\n",
       "      <td id=\"T_9fc4b_row3_col4\" class=\"data row3 col4\" >20.59%</td>\n",
       "      <td id=\"T_9fc4b_row3_col5\" class=\"data row3 col5\" >31.15%</td>\n",
       "      <td id=\"T_9fc4b_row3_col6\" class=\"data row3 col6\" >55.88%</td>\n",
       "    </tr>\n",
       "    <tr>\n",
       "      <th id=\"T_9fc4b_level0_row4\" class=\"row_heading level0 row4\" >4</th>\n",
       "      <td id=\"T_9fc4b_row4_col0\" class=\"data row4 col0\" >9.88%</td>\n",
       "      <td id=\"T_9fc4b_row4_col1\" class=\"data row4 col1\" >11.87%</td>\n",
       "      <td id=\"T_9fc4b_row4_col2\" class=\"data row4 col2\" >13.20%</td>\n",
       "      <td id=\"T_9fc4b_row4_col3\" class=\"data row4 col3\" >18.10%</td>\n",
       "      <td id=\"T_9fc4b_row4_col4\" class=\"data row4 col4\" >29.28%</td>\n",
       "      <td id=\"T_9fc4b_row4_col5\" class=\"data row4 col5\" >42.87%</td>\n",
       "      <td id=\"T_9fc4b_row4_col6\" class=\"data row4 col6\" >66.61%</td>\n",
       "    </tr>\n",
       "    <tr>\n",
       "      <th id=\"T_9fc4b_level0_row5\" class=\"row_heading level0 row5\" >5</th>\n",
       "      <td id=\"T_9fc4b_row5_col0\" class=\"data row5 col0\" >13.01%</td>\n",
       "      <td id=\"T_9fc4b_row5_col1\" class=\"data row5 col1\" >15.49%</td>\n",
       "      <td id=\"T_9fc4b_row5_col2\" class=\"data row5 col2\" >17.27%</td>\n",
       "      <td id=\"T_9fc4b_row5_col3\" class=\"data row5 col3\" >23.44%</td>\n",
       "      <td id=\"T_9fc4b_row5_col4\" class=\"data row5 col4\" >37.10%</td>\n",
       "      <td id=\"T_9fc4b_row5_col5\" class=\"data row5 col5\" >52.45%</td>\n",
       "      <td id=\"T_9fc4b_row5_col6\" class=\"data row5 col6\" >73.66%</td>\n",
       "    </tr>\n",
       "    <tr>\n",
       "      <th id=\"T_9fc4b_level0_row6\" class=\"row_heading level0 row6\" >6</th>\n",
       "      <td id=\"T_9fc4b_row6_col0\" class=\"data row6 col0\" >16.10%</td>\n",
       "      <td id=\"T_9fc4b_row6_col1\" class=\"data row6 col1\" >19.01%</td>\n",
       "      <td id=\"T_9fc4b_row6_col2\" class=\"data row6 col2\" >21.23%</td>\n",
       "      <td id=\"T_9fc4b_row6_col3\" class=\"data row6 col3\" >28.51%</td>\n",
       "      <td id=\"T_9fc4b_row6_col4\" class=\"data row6 col4\" >44.08%</td>\n",
       "      <td id=\"T_9fc4b_row6_col5\" class=\"data row6 col5\" >60.25%</td>\n",
       "      <td id=\"T_9fc4b_row6_col6\" class=\"data row6 col6\" >78.67%</td>\n",
       "    </tr>\n",
       "    <tr>\n",
       "      <th id=\"T_9fc4b_level0_row7\" class=\"row_heading level0 row7\" >7</th>\n",
       "      <td id=\"T_9fc4b_row7_col0\" class=\"data row7 col0\" >19.14%</td>\n",
       "      <td id=\"T_9fc4b_row7_col1\" class=\"data row7 col1\" >22.43%</td>\n",
       "      <td id=\"T_9fc4b_row7_col2\" class=\"data row7 col2\" >25.07%</td>\n",
       "      <td id=\"T_9fc4b_row7_col3\" class=\"data row7 col3\" >33.30%</td>\n",
       "      <td id=\"T_9fc4b_row7_col4\" class=\"data row7 col4\" >50.29%</td>\n",
       "      <td id=\"T_9fc4b_row7_col5\" class=\"data row7 col5\" >66.62%</td>\n",
       "      <td id=\"T_9fc4b_row7_col6\" class=\"data row7 col6\" >82.43%</td>\n",
       "    </tr>\n",
       "    <tr>\n",
       "      <th id=\"T_9fc4b_level0_row8\" class=\"row_heading level0 row8\" >8</th>\n",
       "      <td id=\"T_9fc4b_row8_col0\" class=\"data row8 col0\" >22.13%</td>\n",
       "      <td id=\"T_9fc4b_row8_col1\" class=\"data row8 col1\" >25.76%</td>\n",
       "      <td id=\"T_9fc4b_row8_col2\" class=\"data row8 col2\" >28.79%</td>\n",
       "      <td id=\"T_9fc4b_row8_col3\" class=\"data row8 col3\" >37.82%</td>\n",
       "      <td id=\"T_9fc4b_row8_col4\" class=\"data row8 col4\" >55.78%</td>\n",
       "      <td id=\"T_9fc4b_row8_col5\" class=\"data row8 col5\" >71.83%</td>\n",
       "      <td id=\"T_9fc4b_row8_col6\" class=\"data row8 col6\" >85.35%</td>\n",
       "    </tr>\n",
       "    <tr>\n",
       "      <th id=\"T_9fc4b_level0_row9\" class=\"row_heading level0 row9\" >9</th>\n",
       "      <td id=\"T_9fc4b_row9_col0\" class=\"data row9 col0\" >25.06%</td>\n",
       "      <td id=\"T_9fc4b_row9_col1\" class=\"data row9 col1\" >29.00%</td>\n",
       "      <td id=\"T_9fc4b_row9_col2\" class=\"data row9 col2\" >32.39%</td>\n",
       "      <td id=\"T_9fc4b_row9_col3\" class=\"data row9 col3\" >42.06%</td>\n",
       "      <td id=\"T_9fc4b_row9_col4\" class=\"data row9 col4\" >60.62%</td>\n",
       "      <td id=\"T_9fc4b_row9_col5\" class=\"data row9 col5\" >76.10%</td>\n",
       "      <td id=\"T_9fc4b_row9_col6\" class=\"data row9 col6\" >87.68%</td>\n",
       "    </tr>\n",
       "  </tbody>\n",
       "</table>\n"
      ],
      "text/plain": [
       "<pandas.io.formats.style.Styler at 0x25e5fc1db50>"
      ]
     },
     "execution_count": 276,
     "metadata": {},
     "output_type": "execute_result"
    }
   ],
   "source": [
    "Base_final_cumulative.style.set_properties(**{'background-color': 'blue',\n",
    "                           'color': 'white'}).format(\"{:.2%}\")"
   ]
  },
  {
   "cell_type": "markdown",
   "metadata": {},
   "source": [
    "Figures (below) 12, 13 and 14 present an a plot of the cumulative multi-year Point-in-Time Probability of Defaults (PIT PDs) across the three delineated scenarios. A detailed examination reveals that the curves corresponding to each rating class are distinctly non-overlapping, indicating clear demarcation in risk assessments. Moreover, in the initial three-year span, these curves exhibit different shapes, a variation attributable to the application of scenario-specific shift factors."
   ]
  },
  {
   "cell_type": "code",
   "execution_count": 277,
   "metadata": {},
   "outputs": [
    {
     "data": {
      "application/vnd.plotly.v1+json": {
       "config": {
        "plotlyServerURL": "https://plot.ly"
       },
       "data": [
        {
         "hovertemplate": "variable=AAA<br>index=%{x}<br>value=%{y}<extra></extra>",
         "legendgroup": "AAA",
         "line": {
          "color": "#636efa",
          "dash": "solid"
         },
         "marker": {
          "symbol": "circle"
         },
         "mode": "markers+lines",
         "name": "AAA",
         "orientation": "v",
         "showlegend": true,
         "type": "scatter",
         "x": [
          0,
          1,
          2,
          3,
          4,
          5,
          6,
          7,
          8,
          9
         ],
         "xaxis": "x",
         "y": [
          0.012566901311845045,
          0.024975875615108438,
          0.037521029143845884,
          0.059781755993226174,
          0.09174506721858243,
          0.12334040049806423,
          0.1544938986741947,
          0.18514840191981086,
          0.21525849437704028,
          0.2447875360616629
         ],
         "yaxis": "y"
        },
        {
         "hovertemplate": "variable=AA<br>index=%{x}<br>value=%{y}<extra></extra>",
         "legendgroup": "AA",
         "line": {
          "color": "#EF553B",
          "dash": "solid"
         },
         "marker": {
          "symbol": "circle"
         },
         "mode": "markers+lines",
         "name": "AA",
         "orientation": "v",
         "showlegend": true,
         "type": "scatter",
         "x": [
          0,
          1,
          2,
          3,
          4,
          5,
          6,
          7,
          8,
          9
         ],
         "xaxis": "x",
         "y": [
          0.015678320607703692,
          0.031110831478329437,
          0.04634344390530846,
          0.07289682098137491,
          0.1104207796311193,
          0.1469521844256086,
          0.1825026497076447,
          0.21708048904640984,
          0.2506909884716573,
          0.283337073167914
         ],
         "yaxis": "y"
        },
        {
         "hovertemplate": "variable=A<br>index=%{x}<br>value=%{y}<extra></extra>",
         "legendgroup": "A",
         "line": {
          "color": "#00cc96",
          "dash": "solid"
         },
         "marker": {
          "symbol": "circle"
         },
         "mode": "markers+lines",
         "name": "A",
         "orientation": "v",
         "showlegend": true,
         "type": "scatter",
         "x": [
          0,
          1,
          2,
          3,
          4,
          5,
          6,
          7,
          8,
          9
         ],
         "xaxis": "x",
         "y": [
          0.017213826234231462,
          0.03413133665484061,
          0.051001646987041835,
          0.08067088525183026,
          0.12283023014395056,
          0.16394814953393244,
          0.20395349426977602,
          0.2427850830633223,
          0.280392117126706,
          0.31673424496847813
         ],
         "yaxis": "y"
        },
        {
         "hovertemplate": "variable=BBB<br>index=%{x}<br>value=%{y}<extra></extra>",
         "legendgroup": "BBB",
         "line": {
          "color": "#ab63fa",
          "dash": "solid"
         },
         "marker": {
          "symbol": "circle"
         },
         "mode": "markers+lines",
         "name": "BBB",
         "orientation": "v",
         "showlegend": true,
         "type": "scatter",
         "x": [
          0,
          1,
          2,
          3,
          4,
          5,
          6,
          7,
          8,
          9
         ],
         "xaxis": "x",
         "y": [
          0.024123601553605965,
          0.04766525495529479,
          0.07100472291483716,
          0.11170413090524245,
          0.16861692479269955,
          0.2228259832381781,
          0.27426534809554093,
          0.3229090802243504,
          0.36876700849445243,
          0.4118799629011265
         ],
         "yaxis": "y"
        },
        {
         "hovertemplate": "variable=BB<br>index=%{x}<br>value=%{y}<extra></extra>",
         "legendgroup": "BB",
         "line": {
          "color": "#FFA15A",
          "dash": "solid"
         },
         "marker": {
          "symbol": "circle"
         },
         "mode": "markers+lines",
         "name": "BB",
         "orientation": "v",
         "showlegend": true,
         "type": "scatter",
         "x": [
          0,
          1,
          2,
          3,
          4,
          5,
          6,
          7,
          8,
          9
         ],
         "xaxis": "x",
         "y": [
          0.040731307145787064,
          0.07980357490976969,
          0.11823178707031683,
          0.18432192713500942,
          0.27356651786437103,
          0.35390429540981855,
          0.42566638949934504,
          0.4893982022253541,
          0.5457631029522582,
          0.5954712576761998
         ],
         "yaxis": "y"
        },
        {
         "hovertemplate": "variable=B<br>index=%{x}<br>value=%{y}<extra></extra>",
         "legendgroup": "B",
         "line": {
          "color": "#19d3f3",
          "dash": "solid"
         },
         "marker": {
          "symbol": "circle"
         },
         "mode": "markers+lines",
         "name": "B",
         "orientation": "v",
         "showlegend": true,
         "type": "scatter",
         "x": [
          0,
          1,
          2,
          3,
          4,
          5,
          6,
          7,
          8,
          9
         ],
         "xaxis": "x",
         "y": [
          0.06319817894445522,
          0.12240234806701505,
          0.18114726618615729,
          0.27873523963933955,
          0.40149396074678806,
          0.5018469758834966,
          0.5836292569659827,
          0.6503295311878629,
          0.7048800596818526,
          0.7496625870575855
         ],
         "yaxis": "y"
        },
        {
         "hovertemplate": "variable=CCC<br>index=%{x}<br>value=%{y}<extra></extra>",
         "legendgroup": "CCC",
         "line": {
          "color": "#FF6692",
          "dash": "solid"
         },
         "marker": {
          "symbol": "circle"
         },
         "mode": "markers+lines",
         "name": "CCC",
         "orientation": "v",
         "showlegend": true,
         "type": "scatter",
         "x": [
          0,
          1,
          2,
          3,
          4,
          5,
          6,
          7,
          8,
          9
         ],
         "xaxis": "x",
         "y": [
          0.16506685485172617,
          0.3028866431328115,
          0.39933279985167613,
          0.5202710099718312,
          0.6369040625001068,
          0.7136225967925978,
          0.7680846612742539,
          0.8089332997693118,
          0.8407129889386317,
          0.8660279564197689
         ],
         "yaxis": "y"
        }
       ],
       "layout": {
        "autosize": false,
        "height": 600,
        "legend": {
         "title": {
          "text": "variable"
         },
         "tracegroupgap": 0
        },
        "margin": {
         "b": 65,
         "l": 65,
         "r": 50,
         "t": 90
        },
        "template": {
         "data": {
          "bar": [
           {
            "error_x": {
             "color": "#2a3f5f"
            },
            "error_y": {
             "color": "#2a3f5f"
            },
            "marker": {
             "line": {
              "color": "#E5ECF6",
              "width": 0.5
             },
             "pattern": {
              "fillmode": "overlay",
              "size": 10,
              "solidity": 0.2
             }
            },
            "type": "bar"
           }
          ],
          "barpolar": [
           {
            "marker": {
             "line": {
              "color": "#E5ECF6",
              "width": 0.5
             },
             "pattern": {
              "fillmode": "overlay",
              "size": 10,
              "solidity": 0.2
             }
            },
            "type": "barpolar"
           }
          ],
          "carpet": [
           {
            "aaxis": {
             "endlinecolor": "#2a3f5f",
             "gridcolor": "white",
             "linecolor": "white",
             "minorgridcolor": "white",
             "startlinecolor": "#2a3f5f"
            },
            "baxis": {
             "endlinecolor": "#2a3f5f",
             "gridcolor": "white",
             "linecolor": "white",
             "minorgridcolor": "white",
             "startlinecolor": "#2a3f5f"
            },
            "type": "carpet"
           }
          ],
          "choropleth": [
           {
            "colorbar": {
             "outlinewidth": 0,
             "ticks": ""
            },
            "type": "choropleth"
           }
          ],
          "contour": [
           {
            "colorbar": {
             "outlinewidth": 0,
             "ticks": ""
            },
            "colorscale": [
             [
              0,
              "#0d0887"
             ],
             [
              0.1111111111111111,
              "#46039f"
             ],
             [
              0.2222222222222222,
              "#7201a8"
             ],
             [
              0.3333333333333333,
              "#9c179e"
             ],
             [
              0.4444444444444444,
              "#bd3786"
             ],
             [
              0.5555555555555556,
              "#d8576b"
             ],
             [
              0.6666666666666666,
              "#ed7953"
             ],
             [
              0.7777777777777778,
              "#fb9f3a"
             ],
             [
              0.8888888888888888,
              "#fdca26"
             ],
             [
              1,
              "#f0f921"
             ]
            ],
            "type": "contour"
           }
          ],
          "contourcarpet": [
           {
            "colorbar": {
             "outlinewidth": 0,
             "ticks": ""
            },
            "type": "contourcarpet"
           }
          ],
          "heatmap": [
           {
            "colorbar": {
             "outlinewidth": 0,
             "ticks": ""
            },
            "colorscale": [
             [
              0,
              "#0d0887"
             ],
             [
              0.1111111111111111,
              "#46039f"
             ],
             [
              0.2222222222222222,
              "#7201a8"
             ],
             [
              0.3333333333333333,
              "#9c179e"
             ],
             [
              0.4444444444444444,
              "#bd3786"
             ],
             [
              0.5555555555555556,
              "#d8576b"
             ],
             [
              0.6666666666666666,
              "#ed7953"
             ],
             [
              0.7777777777777778,
              "#fb9f3a"
             ],
             [
              0.8888888888888888,
              "#fdca26"
             ],
             [
              1,
              "#f0f921"
             ]
            ],
            "type": "heatmap"
           }
          ],
          "heatmapgl": [
           {
            "colorbar": {
             "outlinewidth": 0,
             "ticks": ""
            },
            "colorscale": [
             [
              0,
              "#0d0887"
             ],
             [
              0.1111111111111111,
              "#46039f"
             ],
             [
              0.2222222222222222,
              "#7201a8"
             ],
             [
              0.3333333333333333,
              "#9c179e"
             ],
             [
              0.4444444444444444,
              "#bd3786"
             ],
             [
              0.5555555555555556,
              "#d8576b"
             ],
             [
              0.6666666666666666,
              "#ed7953"
             ],
             [
              0.7777777777777778,
              "#fb9f3a"
             ],
             [
              0.8888888888888888,
              "#fdca26"
             ],
             [
              1,
              "#f0f921"
             ]
            ],
            "type": "heatmapgl"
           }
          ],
          "histogram": [
           {
            "marker": {
             "pattern": {
              "fillmode": "overlay",
              "size": 10,
              "solidity": 0.2
             }
            },
            "type": "histogram"
           }
          ],
          "histogram2d": [
           {
            "colorbar": {
             "outlinewidth": 0,
             "ticks": ""
            },
            "colorscale": [
             [
              0,
              "#0d0887"
             ],
             [
              0.1111111111111111,
              "#46039f"
             ],
             [
              0.2222222222222222,
              "#7201a8"
             ],
             [
              0.3333333333333333,
              "#9c179e"
             ],
             [
              0.4444444444444444,
              "#bd3786"
             ],
             [
              0.5555555555555556,
              "#d8576b"
             ],
             [
              0.6666666666666666,
              "#ed7953"
             ],
             [
              0.7777777777777778,
              "#fb9f3a"
             ],
             [
              0.8888888888888888,
              "#fdca26"
             ],
             [
              1,
              "#f0f921"
             ]
            ],
            "type": "histogram2d"
           }
          ],
          "histogram2dcontour": [
           {
            "colorbar": {
             "outlinewidth": 0,
             "ticks": ""
            },
            "colorscale": [
             [
              0,
              "#0d0887"
             ],
             [
              0.1111111111111111,
              "#46039f"
             ],
             [
              0.2222222222222222,
              "#7201a8"
             ],
             [
              0.3333333333333333,
              "#9c179e"
             ],
             [
              0.4444444444444444,
              "#bd3786"
             ],
             [
              0.5555555555555556,
              "#d8576b"
             ],
             [
              0.6666666666666666,
              "#ed7953"
             ],
             [
              0.7777777777777778,
              "#fb9f3a"
             ],
             [
              0.8888888888888888,
              "#fdca26"
             ],
             [
              1,
              "#f0f921"
             ]
            ],
            "type": "histogram2dcontour"
           }
          ],
          "mesh3d": [
           {
            "colorbar": {
             "outlinewidth": 0,
             "ticks": ""
            },
            "type": "mesh3d"
           }
          ],
          "parcoords": [
           {
            "line": {
             "colorbar": {
              "outlinewidth": 0,
              "ticks": ""
             }
            },
            "type": "parcoords"
           }
          ],
          "pie": [
           {
            "automargin": true,
            "type": "pie"
           }
          ],
          "scatter": [
           {
            "fillpattern": {
             "fillmode": "overlay",
             "size": 10,
             "solidity": 0.2
            },
            "type": "scatter"
           }
          ],
          "scatter3d": [
           {
            "line": {
             "colorbar": {
              "outlinewidth": 0,
              "ticks": ""
             }
            },
            "marker": {
             "colorbar": {
              "outlinewidth": 0,
              "ticks": ""
             }
            },
            "type": "scatter3d"
           }
          ],
          "scattercarpet": [
           {
            "marker": {
             "colorbar": {
              "outlinewidth": 0,
              "ticks": ""
             }
            },
            "type": "scattercarpet"
           }
          ],
          "scattergeo": [
           {
            "marker": {
             "colorbar": {
              "outlinewidth": 0,
              "ticks": ""
             }
            },
            "type": "scattergeo"
           }
          ],
          "scattergl": [
           {
            "marker": {
             "colorbar": {
              "outlinewidth": 0,
              "ticks": ""
             }
            },
            "type": "scattergl"
           }
          ],
          "scattermapbox": [
           {
            "marker": {
             "colorbar": {
              "outlinewidth": 0,
              "ticks": ""
             }
            },
            "type": "scattermapbox"
           }
          ],
          "scatterpolar": [
           {
            "marker": {
             "colorbar": {
              "outlinewidth": 0,
              "ticks": ""
             }
            },
            "type": "scatterpolar"
           }
          ],
          "scatterpolargl": [
           {
            "marker": {
             "colorbar": {
              "outlinewidth": 0,
              "ticks": ""
             }
            },
            "type": "scatterpolargl"
           }
          ],
          "scatterternary": [
           {
            "marker": {
             "colorbar": {
              "outlinewidth": 0,
              "ticks": ""
             }
            },
            "type": "scatterternary"
           }
          ],
          "surface": [
           {
            "colorbar": {
             "outlinewidth": 0,
             "ticks": ""
            },
            "colorscale": [
             [
              0,
              "#0d0887"
             ],
             [
              0.1111111111111111,
              "#46039f"
             ],
             [
              0.2222222222222222,
              "#7201a8"
             ],
             [
              0.3333333333333333,
              "#9c179e"
             ],
             [
              0.4444444444444444,
              "#bd3786"
             ],
             [
              0.5555555555555556,
              "#d8576b"
             ],
             [
              0.6666666666666666,
              "#ed7953"
             ],
             [
              0.7777777777777778,
              "#fb9f3a"
             ],
             [
              0.8888888888888888,
              "#fdca26"
             ],
             [
              1,
              "#f0f921"
             ]
            ],
            "type": "surface"
           }
          ],
          "table": [
           {
            "cells": {
             "fill": {
              "color": "#EBF0F8"
             },
             "line": {
              "color": "white"
             }
            },
            "header": {
             "fill": {
              "color": "#C8D4E3"
             },
             "line": {
              "color": "white"
             }
            },
            "type": "table"
           }
          ]
         },
         "layout": {
          "annotationdefaults": {
           "arrowcolor": "#2a3f5f",
           "arrowhead": 0,
           "arrowwidth": 1
          },
          "autotypenumbers": "strict",
          "coloraxis": {
           "colorbar": {
            "outlinewidth": 0,
            "ticks": ""
           }
          },
          "colorscale": {
           "diverging": [
            [
             0,
             "#8e0152"
            ],
            [
             0.1,
             "#c51b7d"
            ],
            [
             0.2,
             "#de77ae"
            ],
            [
             0.3,
             "#f1b6da"
            ],
            [
             0.4,
             "#fde0ef"
            ],
            [
             0.5,
             "#f7f7f7"
            ],
            [
             0.6,
             "#e6f5d0"
            ],
            [
             0.7,
             "#b8e186"
            ],
            [
             0.8,
             "#7fbc41"
            ],
            [
             0.9,
             "#4d9221"
            ],
            [
             1,
             "#276419"
            ]
           ],
           "sequential": [
            [
             0,
             "#0d0887"
            ],
            [
             0.1111111111111111,
             "#46039f"
            ],
            [
             0.2222222222222222,
             "#7201a8"
            ],
            [
             0.3333333333333333,
             "#9c179e"
            ],
            [
             0.4444444444444444,
             "#bd3786"
            ],
            [
             0.5555555555555556,
             "#d8576b"
            ],
            [
             0.6666666666666666,
             "#ed7953"
            ],
            [
             0.7777777777777778,
             "#fb9f3a"
            ],
            [
             0.8888888888888888,
             "#fdca26"
            ],
            [
             1,
             "#f0f921"
            ]
           ],
           "sequentialminus": [
            [
             0,
             "#0d0887"
            ],
            [
             0.1111111111111111,
             "#46039f"
            ],
            [
             0.2222222222222222,
             "#7201a8"
            ],
            [
             0.3333333333333333,
             "#9c179e"
            ],
            [
             0.4444444444444444,
             "#bd3786"
            ],
            [
             0.5555555555555556,
             "#d8576b"
            ],
            [
             0.6666666666666666,
             "#ed7953"
            ],
            [
             0.7777777777777778,
             "#fb9f3a"
            ],
            [
             0.8888888888888888,
             "#fdca26"
            ],
            [
             1,
             "#f0f921"
            ]
           ]
          },
          "colorway": [
           "#636efa",
           "#EF553B",
           "#00cc96",
           "#ab63fa",
           "#FFA15A",
           "#19d3f3",
           "#FF6692",
           "#B6E880",
           "#FF97FF",
           "#FECB52"
          ],
          "font": {
           "color": "#2a3f5f"
          },
          "geo": {
           "bgcolor": "white",
           "lakecolor": "white",
           "landcolor": "#E5ECF6",
           "showlakes": true,
           "showland": true,
           "subunitcolor": "white"
          },
          "hoverlabel": {
           "align": "left"
          },
          "hovermode": "closest",
          "mapbox": {
           "style": "light"
          },
          "paper_bgcolor": "white",
          "plot_bgcolor": "#E5ECF6",
          "polar": {
           "angularaxis": {
            "gridcolor": "white",
            "linecolor": "white",
            "ticks": ""
           },
           "bgcolor": "#E5ECF6",
           "radialaxis": {
            "gridcolor": "white",
            "linecolor": "white",
            "ticks": ""
           }
          },
          "scene": {
           "xaxis": {
            "backgroundcolor": "#E5ECF6",
            "gridcolor": "white",
            "gridwidth": 2,
            "linecolor": "white",
            "showbackground": true,
            "ticks": "",
            "zerolinecolor": "white"
           },
           "yaxis": {
            "backgroundcolor": "#E5ECF6",
            "gridcolor": "white",
            "gridwidth": 2,
            "linecolor": "white",
            "showbackground": true,
            "ticks": "",
            "zerolinecolor": "white"
           },
           "zaxis": {
            "backgroundcolor": "#E5ECF6",
            "gridcolor": "white",
            "gridwidth": 2,
            "linecolor": "white",
            "showbackground": true,
            "ticks": "",
            "zerolinecolor": "white"
           }
          },
          "shapedefaults": {
           "line": {
            "color": "#2a3f5f"
           }
          },
          "ternary": {
           "aaxis": {
            "gridcolor": "white",
            "linecolor": "white",
            "ticks": ""
           },
           "baxis": {
            "gridcolor": "white",
            "linecolor": "white",
            "ticks": ""
           },
           "bgcolor": "#E5ECF6",
           "caxis": {
            "gridcolor": "white",
            "linecolor": "white",
            "ticks": ""
           }
          },
          "title": {
           "x": 0.05
          },
          "xaxis": {
           "automargin": true,
           "gridcolor": "white",
           "linecolor": "white",
           "ticks": "",
           "title": {
            "standoff": 15
           },
           "zerolinecolor": "white",
           "zerolinewidth": 2
          },
          "yaxis": {
           "automargin": true,
           "gridcolor": "white",
           "linecolor": "white",
           "ticks": "",
           "title": {
            "standoff": 15
           },
           "zerolinecolor": "white",
           "zerolinewidth": 2
          }
         }
        },
        "title": {
         "text": "Optimistic Cumulative Scenario"
        },
        "width": 600,
        "xaxis": {
         "anchor": "y",
         "domain": [
          0,
          1
         ],
         "title": {
          "text": "Years"
         }
        },
        "yaxis": {
         "anchor": "x",
         "domain": [
          0,
          1
         ],
         "title": {
          "text": "Cummulative multi-year Probability of Default"
         }
        }
       }
      }
     },
     "metadata": {},
     "output_type": "display_data"
    }
   ],
   "source": [
    "fig = px.line(Optimistic_final_cumulative)\n",
    "fig.update_layout(title='Optimistic Cumulative Scenario', autosize=False,\n",
    "                    width=600, height=600,\n",
    "                    margin=dict(l=65, r=50, b=65, t=90),\n",
    "                    xaxis_title=\"Years\",\n",
    "                    yaxis_title=\"Cummulative multi-year Probability of Default\")\n",
    "\n",
    "fig.update_traces(mode='markers+lines')\n",
    "fig.show()"
   ]
  },
  {
   "cell_type": "code",
   "execution_count": 278,
   "metadata": {},
   "outputs": [
    {
     "data": {
      "application/vnd.plotly.v1+json": {
       "config": {
        "plotlyServerURL": "https://plot.ly"
       },
       "data": [
        {
         "hovertemplate": "variable=AAA<br>index=%{x}<br>value=%{y}<extra></extra>",
         "legendgroup": "AAA",
         "line": {
          "color": "#636efa",
          "dash": "solid"
         },
         "marker": {
          "symbol": "circle"
         },
         "mode": "markers+lines",
         "name": "AAA",
         "orientation": "v",
         "showlegend": true,
         "type": "scatter",
         "x": [
          0,
          1,
          2,
          3,
          4,
          5,
          6,
          7,
          8,
          9
         ],
         "xaxis": "x",
         "y": [
          0.009027311925833706,
          0.017973131491061112,
          0.0584200626235074,
          0.08425064845684871,
          0.11538212427575553,
          0.1461551986623729,
          0.17649793656917603,
          0.2063546657360355,
          0.2356811522389006,
          0.26444170963794317
         ],
         "yaxis": "y"
        },
        {
         "hovertemplate": "variable=AA<br>index=%{x}<br>value=%{y}<extra></extra>",
         "legendgroup": "AA",
         "line": {
          "color": "#EF553B",
          "dash": "solid"
         },
         "marker": {
          "symbol": "circle"
         },
         "mode": "markers+lines",
         "name": "AA",
         "orientation": "v",
         "showlegend": true,
         "type": "scatter",
         "x": [
          0,
          1,
          2,
          3,
          4,
          5,
          6,
          7,
          8,
          9
         ],
         "xaxis": "x",
         "y": [
          0.011262369862454847,
          0.02239789874999096,
          0.07159777423043762,
          0.10225923951118511,
          0.13859477145319737,
          0.1739691848562936,
          0.20839372622374924,
          0.24187644582449763,
          0.27442246227368117,
          0.30603460811188565
         ],
         "yaxis": "y"
        },
        {
         "hovertemplate": "variable=A<br>index=%{x}<br>value=%{y}<extra></extra>",
         "legendgroup": "A",
         "line": {
          "color": "#00cc96",
          "dash": "solid"
         },
         "marker": {
          "symbol": "circle"
         },
         "mode": "markers+lines",
         "name": "A",
         "orientation": "v",
         "showlegend": true,
         "type": "scatter",
         "x": [
          0,
          1,
          2,
          3,
          4,
          5,
          6,
          7,
          8,
          9
         ],
         "xaxis": "x",
         "y": [
          0.012365385467540695,
          0.024577868177320522,
          0.07911586555585076,
          0.11326462229267607,
          0.15392925698886778,
          0.19358938870437697,
          0.2321763907970577,
          0.26963125108966685,
          0.3059049718058671,
          0.340958632069079
         ],
         "yaxis": "y"
        },
        {
         "hovertemplate": "variable=BBB<br>index=%{x}<br>value=%{y}<extra></extra>",
         "legendgroup": "BBB",
         "line": {
          "color": "#ab63fa",
          "dash": "solid"
         },
         "marker": {
          "symbol": "circle"
         },
         "mode": "markers+lines",
         "name": "BBB",
         "orientation": "v",
         "showlegend": true,
         "type": "scatter",
         "x": [
          0,
          1,
          2,
          3,
          4,
          5,
          6,
          7,
          8,
          9
         ],
         "xaxis": "x",
         "y": [
          0.017328955690426674,
          0.03435761867553258,
          0.11011400089625453,
          0.1563561413420552,
          0.21040809712920608,
          0.26189222627163156,
          0.3107458861444438,
          0.3569444414912036,
          0.4004972271134918,
          0.4414430206032853
         ],
         "yaxis": "y"
        },
        {
         "hovertemplate": "variable=BB<br>index=%{x}<br>value=%{y}<extra></extra>",
         "legendgroup": "BB",
         "line": {
          "color": "#FFA15A",
          "dash": "solid"
         },
         "marker": {
          "symbol": "circle"
         },
         "mode": "markers+lines",
         "name": "BB",
         "orientation": "v",
         "showlegend": true,
         "type": "scatter",
         "x": [
          0,
          1,
          2,
          3,
          4,
          5,
          6,
          7,
          8,
          9
         ],
         "xaxis": "x",
         "y": [
          0.029258940261223006,
          0.057661794937236194,
          0.18363495472932642,
          0.2562113849590177,
          0.33759043969484126,
          0.4108476796327957,
          0.47628505051590914,
          0.5343998856432419,
          0.5857970885879453,
          0.6311242351526453
         ],
         "yaxis": "y"
        },
        {
         "hovertemplate": "variable=B<br>index=%{x}<br>value=%{y}<extra></extra>",
         "legendgroup": "B",
         "line": {
          "color": "#19d3f3",
          "dash": "solid"
         },
         "marker": {
          "symbol": "circle"
         },
         "mode": "markers+lines",
         "name": "B",
         "orientation": "v",
         "showlegend": true,
         "type": "scatter",
         "x": [
          0,
          1,
          2,
          3,
          4,
          5,
          6,
          7,
          8,
          9
         ],
         "xaxis": "x",
         "y": [
          0.045397800167214994,
          0.0887346400744076,
          0.2839982426902634,
          0.3852106029836931,
          0.48984729712968594,
          0.5753858858080168,
          0.6450952103675285,
          0.7019489811647973,
          0.7484465897585834,
          0.7866181801582391
         ],
         "yaxis": "y"
        },
        {
         "hovertemplate": "variable=CCC<br>index=%{x}<br>value=%{y}<extra></extra>",
         "legendgroup": "CCC",
         "line": {
          "color": "#FF6692",
          "dash": "solid"
         },
         "marker": {
          "symbol": "circle"
         },
         "mode": "markers+lines",
         "name": "CCC",
         "orientation": "v",
         "showlegend": true,
         "type": "scatter",
         "x": [
          0,
          1,
          2,
          3,
          4,
          5,
          6,
          7,
          8,
          9
         ],
         "xaxis": "x",
         "y": [
          0.11857417754672209,
          0.2230885195125626,
          0.567164730540055,
          0.6705315681078197,
          0.7506328538796737,
          0.8033216338279717,
          0.840725108196549,
          0.8687791494357642,
          0.8906048147056947,
          0.9079906363107683
         ],
         "yaxis": "y"
        }
       ],
       "layout": {
        "autosize": false,
        "height": 600,
        "legend": {
         "title": {
          "text": "variable"
         },
         "tracegroupgap": 0
        },
        "margin": {
         "b": 65,
         "l": 65,
         "r": 50,
         "t": 90
        },
        "template": {
         "data": {
          "bar": [
           {
            "error_x": {
             "color": "#2a3f5f"
            },
            "error_y": {
             "color": "#2a3f5f"
            },
            "marker": {
             "line": {
              "color": "#E5ECF6",
              "width": 0.5
             },
             "pattern": {
              "fillmode": "overlay",
              "size": 10,
              "solidity": 0.2
             }
            },
            "type": "bar"
           }
          ],
          "barpolar": [
           {
            "marker": {
             "line": {
              "color": "#E5ECF6",
              "width": 0.5
             },
             "pattern": {
              "fillmode": "overlay",
              "size": 10,
              "solidity": 0.2
             }
            },
            "type": "barpolar"
           }
          ],
          "carpet": [
           {
            "aaxis": {
             "endlinecolor": "#2a3f5f",
             "gridcolor": "white",
             "linecolor": "white",
             "minorgridcolor": "white",
             "startlinecolor": "#2a3f5f"
            },
            "baxis": {
             "endlinecolor": "#2a3f5f",
             "gridcolor": "white",
             "linecolor": "white",
             "minorgridcolor": "white",
             "startlinecolor": "#2a3f5f"
            },
            "type": "carpet"
           }
          ],
          "choropleth": [
           {
            "colorbar": {
             "outlinewidth": 0,
             "ticks": ""
            },
            "type": "choropleth"
           }
          ],
          "contour": [
           {
            "colorbar": {
             "outlinewidth": 0,
             "ticks": ""
            },
            "colorscale": [
             [
              0,
              "#0d0887"
             ],
             [
              0.1111111111111111,
              "#46039f"
             ],
             [
              0.2222222222222222,
              "#7201a8"
             ],
             [
              0.3333333333333333,
              "#9c179e"
             ],
             [
              0.4444444444444444,
              "#bd3786"
             ],
             [
              0.5555555555555556,
              "#d8576b"
             ],
             [
              0.6666666666666666,
              "#ed7953"
             ],
             [
              0.7777777777777778,
              "#fb9f3a"
             ],
             [
              0.8888888888888888,
              "#fdca26"
             ],
             [
              1,
              "#f0f921"
             ]
            ],
            "type": "contour"
           }
          ],
          "contourcarpet": [
           {
            "colorbar": {
             "outlinewidth": 0,
             "ticks": ""
            },
            "type": "contourcarpet"
           }
          ],
          "heatmap": [
           {
            "colorbar": {
             "outlinewidth": 0,
             "ticks": ""
            },
            "colorscale": [
             [
              0,
              "#0d0887"
             ],
             [
              0.1111111111111111,
              "#46039f"
             ],
             [
              0.2222222222222222,
              "#7201a8"
             ],
             [
              0.3333333333333333,
              "#9c179e"
             ],
             [
              0.4444444444444444,
              "#bd3786"
             ],
             [
              0.5555555555555556,
              "#d8576b"
             ],
             [
              0.6666666666666666,
              "#ed7953"
             ],
             [
              0.7777777777777778,
              "#fb9f3a"
             ],
             [
              0.8888888888888888,
              "#fdca26"
             ],
             [
              1,
              "#f0f921"
             ]
            ],
            "type": "heatmap"
           }
          ],
          "heatmapgl": [
           {
            "colorbar": {
             "outlinewidth": 0,
             "ticks": ""
            },
            "colorscale": [
             [
              0,
              "#0d0887"
             ],
             [
              0.1111111111111111,
              "#46039f"
             ],
             [
              0.2222222222222222,
              "#7201a8"
             ],
             [
              0.3333333333333333,
              "#9c179e"
             ],
             [
              0.4444444444444444,
              "#bd3786"
             ],
             [
              0.5555555555555556,
              "#d8576b"
             ],
             [
              0.6666666666666666,
              "#ed7953"
             ],
             [
              0.7777777777777778,
              "#fb9f3a"
             ],
             [
              0.8888888888888888,
              "#fdca26"
             ],
             [
              1,
              "#f0f921"
             ]
            ],
            "type": "heatmapgl"
           }
          ],
          "histogram": [
           {
            "marker": {
             "pattern": {
              "fillmode": "overlay",
              "size": 10,
              "solidity": 0.2
             }
            },
            "type": "histogram"
           }
          ],
          "histogram2d": [
           {
            "colorbar": {
             "outlinewidth": 0,
             "ticks": ""
            },
            "colorscale": [
             [
              0,
              "#0d0887"
             ],
             [
              0.1111111111111111,
              "#46039f"
             ],
             [
              0.2222222222222222,
              "#7201a8"
             ],
             [
              0.3333333333333333,
              "#9c179e"
             ],
             [
              0.4444444444444444,
              "#bd3786"
             ],
             [
              0.5555555555555556,
              "#d8576b"
             ],
             [
              0.6666666666666666,
              "#ed7953"
             ],
             [
              0.7777777777777778,
              "#fb9f3a"
             ],
             [
              0.8888888888888888,
              "#fdca26"
             ],
             [
              1,
              "#f0f921"
             ]
            ],
            "type": "histogram2d"
           }
          ],
          "histogram2dcontour": [
           {
            "colorbar": {
             "outlinewidth": 0,
             "ticks": ""
            },
            "colorscale": [
             [
              0,
              "#0d0887"
             ],
             [
              0.1111111111111111,
              "#46039f"
             ],
             [
              0.2222222222222222,
              "#7201a8"
             ],
             [
              0.3333333333333333,
              "#9c179e"
             ],
             [
              0.4444444444444444,
              "#bd3786"
             ],
             [
              0.5555555555555556,
              "#d8576b"
             ],
             [
              0.6666666666666666,
              "#ed7953"
             ],
             [
              0.7777777777777778,
              "#fb9f3a"
             ],
             [
              0.8888888888888888,
              "#fdca26"
             ],
             [
              1,
              "#f0f921"
             ]
            ],
            "type": "histogram2dcontour"
           }
          ],
          "mesh3d": [
           {
            "colorbar": {
             "outlinewidth": 0,
             "ticks": ""
            },
            "type": "mesh3d"
           }
          ],
          "parcoords": [
           {
            "line": {
             "colorbar": {
              "outlinewidth": 0,
              "ticks": ""
             }
            },
            "type": "parcoords"
           }
          ],
          "pie": [
           {
            "automargin": true,
            "type": "pie"
           }
          ],
          "scatter": [
           {
            "fillpattern": {
             "fillmode": "overlay",
             "size": 10,
             "solidity": 0.2
            },
            "type": "scatter"
           }
          ],
          "scatter3d": [
           {
            "line": {
             "colorbar": {
              "outlinewidth": 0,
              "ticks": ""
             }
            },
            "marker": {
             "colorbar": {
              "outlinewidth": 0,
              "ticks": ""
             }
            },
            "type": "scatter3d"
           }
          ],
          "scattercarpet": [
           {
            "marker": {
             "colorbar": {
              "outlinewidth": 0,
              "ticks": ""
             }
            },
            "type": "scattercarpet"
           }
          ],
          "scattergeo": [
           {
            "marker": {
             "colorbar": {
              "outlinewidth": 0,
              "ticks": ""
             }
            },
            "type": "scattergeo"
           }
          ],
          "scattergl": [
           {
            "marker": {
             "colorbar": {
              "outlinewidth": 0,
              "ticks": ""
             }
            },
            "type": "scattergl"
           }
          ],
          "scattermapbox": [
           {
            "marker": {
             "colorbar": {
              "outlinewidth": 0,
              "ticks": ""
             }
            },
            "type": "scattermapbox"
           }
          ],
          "scatterpolar": [
           {
            "marker": {
             "colorbar": {
              "outlinewidth": 0,
              "ticks": ""
             }
            },
            "type": "scatterpolar"
           }
          ],
          "scatterpolargl": [
           {
            "marker": {
             "colorbar": {
              "outlinewidth": 0,
              "ticks": ""
             }
            },
            "type": "scatterpolargl"
           }
          ],
          "scatterternary": [
           {
            "marker": {
             "colorbar": {
              "outlinewidth": 0,
              "ticks": ""
             }
            },
            "type": "scatterternary"
           }
          ],
          "surface": [
           {
            "colorbar": {
             "outlinewidth": 0,
             "ticks": ""
            },
            "colorscale": [
             [
              0,
              "#0d0887"
             ],
             [
              0.1111111111111111,
              "#46039f"
             ],
             [
              0.2222222222222222,
              "#7201a8"
             ],
             [
              0.3333333333333333,
              "#9c179e"
             ],
             [
              0.4444444444444444,
              "#bd3786"
             ],
             [
              0.5555555555555556,
              "#d8576b"
             ],
             [
              0.6666666666666666,
              "#ed7953"
             ],
             [
              0.7777777777777778,
              "#fb9f3a"
             ],
             [
              0.8888888888888888,
              "#fdca26"
             ],
             [
              1,
              "#f0f921"
             ]
            ],
            "type": "surface"
           }
          ],
          "table": [
           {
            "cells": {
             "fill": {
              "color": "#EBF0F8"
             },
             "line": {
              "color": "white"
             }
            },
            "header": {
             "fill": {
              "color": "#C8D4E3"
             },
             "line": {
              "color": "white"
             }
            },
            "type": "table"
           }
          ]
         },
         "layout": {
          "annotationdefaults": {
           "arrowcolor": "#2a3f5f",
           "arrowhead": 0,
           "arrowwidth": 1
          },
          "autotypenumbers": "strict",
          "coloraxis": {
           "colorbar": {
            "outlinewidth": 0,
            "ticks": ""
           }
          },
          "colorscale": {
           "diverging": [
            [
             0,
             "#8e0152"
            ],
            [
             0.1,
             "#c51b7d"
            ],
            [
             0.2,
             "#de77ae"
            ],
            [
             0.3,
             "#f1b6da"
            ],
            [
             0.4,
             "#fde0ef"
            ],
            [
             0.5,
             "#f7f7f7"
            ],
            [
             0.6,
             "#e6f5d0"
            ],
            [
             0.7,
             "#b8e186"
            ],
            [
             0.8,
             "#7fbc41"
            ],
            [
             0.9,
             "#4d9221"
            ],
            [
             1,
             "#276419"
            ]
           ],
           "sequential": [
            [
             0,
             "#0d0887"
            ],
            [
             0.1111111111111111,
             "#46039f"
            ],
            [
             0.2222222222222222,
             "#7201a8"
            ],
            [
             0.3333333333333333,
             "#9c179e"
            ],
            [
             0.4444444444444444,
             "#bd3786"
            ],
            [
             0.5555555555555556,
             "#d8576b"
            ],
            [
             0.6666666666666666,
             "#ed7953"
            ],
            [
             0.7777777777777778,
             "#fb9f3a"
            ],
            [
             0.8888888888888888,
             "#fdca26"
            ],
            [
             1,
             "#f0f921"
            ]
           ],
           "sequentialminus": [
            [
             0,
             "#0d0887"
            ],
            [
             0.1111111111111111,
             "#46039f"
            ],
            [
             0.2222222222222222,
             "#7201a8"
            ],
            [
             0.3333333333333333,
             "#9c179e"
            ],
            [
             0.4444444444444444,
             "#bd3786"
            ],
            [
             0.5555555555555556,
             "#d8576b"
            ],
            [
             0.6666666666666666,
             "#ed7953"
            ],
            [
             0.7777777777777778,
             "#fb9f3a"
            ],
            [
             0.8888888888888888,
             "#fdca26"
            ],
            [
             1,
             "#f0f921"
            ]
           ]
          },
          "colorway": [
           "#636efa",
           "#EF553B",
           "#00cc96",
           "#ab63fa",
           "#FFA15A",
           "#19d3f3",
           "#FF6692",
           "#B6E880",
           "#FF97FF",
           "#FECB52"
          ],
          "font": {
           "color": "#2a3f5f"
          },
          "geo": {
           "bgcolor": "white",
           "lakecolor": "white",
           "landcolor": "#E5ECF6",
           "showlakes": true,
           "showland": true,
           "subunitcolor": "white"
          },
          "hoverlabel": {
           "align": "left"
          },
          "hovermode": "closest",
          "mapbox": {
           "style": "light"
          },
          "paper_bgcolor": "white",
          "plot_bgcolor": "#E5ECF6",
          "polar": {
           "angularaxis": {
            "gridcolor": "white",
            "linecolor": "white",
            "ticks": ""
           },
           "bgcolor": "#E5ECF6",
           "radialaxis": {
            "gridcolor": "white",
            "linecolor": "white",
            "ticks": ""
           }
          },
          "scene": {
           "xaxis": {
            "backgroundcolor": "#E5ECF6",
            "gridcolor": "white",
            "gridwidth": 2,
            "linecolor": "white",
            "showbackground": true,
            "ticks": "",
            "zerolinecolor": "white"
           },
           "yaxis": {
            "backgroundcolor": "#E5ECF6",
            "gridcolor": "white",
            "gridwidth": 2,
            "linecolor": "white",
            "showbackground": true,
            "ticks": "",
            "zerolinecolor": "white"
           },
           "zaxis": {
            "backgroundcolor": "#E5ECF6",
            "gridcolor": "white",
            "gridwidth": 2,
            "linecolor": "white",
            "showbackground": true,
            "ticks": "",
            "zerolinecolor": "white"
           }
          },
          "shapedefaults": {
           "line": {
            "color": "#2a3f5f"
           }
          },
          "ternary": {
           "aaxis": {
            "gridcolor": "white",
            "linecolor": "white",
            "ticks": ""
           },
           "baxis": {
            "gridcolor": "white",
            "linecolor": "white",
            "ticks": ""
           },
           "bgcolor": "#E5ECF6",
           "caxis": {
            "gridcolor": "white",
            "linecolor": "white",
            "ticks": ""
           }
          },
          "title": {
           "x": 0.05
          },
          "xaxis": {
           "automargin": true,
           "gridcolor": "white",
           "linecolor": "white",
           "ticks": "",
           "title": {
            "standoff": 15
           },
           "zerolinecolor": "white",
           "zerolinewidth": 2
          },
          "yaxis": {
           "automargin": true,
           "gridcolor": "white",
           "linecolor": "white",
           "ticks": "",
           "title": {
            "standoff": 15
           },
           "zerolinecolor": "white",
           "zerolinewidth": 2
          }
         }
        },
        "title": {
         "text": "Pesimistic cumulative Scenario"
        },
        "width": 600,
        "xaxis": {
         "anchor": "y",
         "domain": [
          0,
          1
         ],
         "title": {
          "text": "Years"
         }
        },
        "yaxis": {
         "anchor": "x",
         "domain": [
          0,
          1
         ],
         "title": {
          "text": "Cummulative multi-year Probability of Default"
         }
        }
       }
      }
     },
     "metadata": {},
     "output_type": "display_data"
    }
   ],
   "source": [
    "fig = px.line(Pesimistic_final_cumulative)\n",
    "fig.update_layout(title='Pesimistic cumulative Scenario', autosize=False,\n",
    "                    width=600, height=600,\n",
    "                    margin=dict(l=65, r=50, b=65, t=90),\n",
    "                    xaxis_title=\"Years\",\n",
    "                    yaxis_title=\"Cummulative multi-year Probability of Default\")\n",
    "\n",
    "fig.update_traces(mode='markers+lines')\n",
    "fig.show()"
   ]
  },
  {
   "cell_type": "code",
   "execution_count": 279,
   "metadata": {},
   "outputs": [
    {
     "data": {
      "application/vnd.plotly.v1+json": {
       "config": {
        "plotlyServerURL": "https://plot.ly"
       },
       "data": [
        {
         "hovertemplate": "variable=AAA<br>index=%{x}<br>value=%{y}<extra></extra>",
         "legendgroup": "AAA",
         "line": {
          "color": "#636efa",
          "dash": "solid"
         },
         "marker": {
          "symbol": "circle"
         },
         "mode": "markers+lines",
         "name": "AAA",
         "orientation": "v",
         "showlegend": true,
         "type": "scatter",
         "x": [
          0,
          1,
          2,
          3,
          4,
          5,
          6,
          7,
          8,
          9
         ],
         "xaxis": "x",
         "y": [
          0.009445940468182503,
          0.01880265514503656,
          0.042573711845936016,
          0.06703888007735781,
          0.09875548079993376,
          0.13010694383381008,
          0.16101998209187357,
          0.19143787693810066,
          0.2213155630593122,
          0.25061668327893794
         ],
         "yaxis": "y"
        },
        {
         "hovertemplate": "variable=AA<br>index=%{x}<br>value=%{y}<extra></extra>",
         "legendgroup": "AA",
         "line": {
          "color": "#EF553B",
          "dash": "solid"
         },
         "marker": {
          "symbol": "circle"
         },
         "mode": "markers+lines",
         "name": "AA",
         "orientation": "v",
         "showlegend": true,
         "type": "scatter",
         "x": [
          0,
          1,
          2,
          3,
          4,
          5,
          6,
          7,
          8,
          9
         ],
         "xaxis": "x",
         "y": [
          0.01178464598602826,
          0.023430414091040512,
          0.052339541972382296,
          0.08149200754542317,
          0.11866808104870782,
          0.15486080267743796,
          0.19008167909768064,
          0.22433894680340166,
          0.2576378428174984,
          0.2899812652050711
         ],
         "yaxis": "y"
        },
        {
         "hovertemplate": "variable=A<br>index=%{x}<br>value=%{y}<extra></extra>",
         "legendgroup": "A",
         "line": {
          "color": "#00cc96",
          "dash": "solid"
         },
         "marker": {
          "symbol": "circle"
         },
         "mode": "markers+lines",
         "name": "A",
         "orientation": "v",
         "showlegend": true,
         "type": "scatter",
         "x": [
          0,
          1,
          2,
          3,
          4,
          5,
          6,
          7,
          8,
          9
         ],
         "xaxis": "x",
         "y": [
          0.012938812345484703,
          0.02571021182605774,
          0.057752583261518074,
          0.09029881110776111,
          0.13201663071775527,
          0.17270393143931248,
          0.21229030924940698,
          0.25071522359767073,
          0.2879284077004525,
          0.3238899326583454
         ],
         "yaxis": "y"
        },
        {
         "hovertemplate": "variable=BBB<br>index=%{x}<br>value=%{y}<extra></extra>",
         "legendgroup": "BBB",
         "line": {
          "color": "#ab63fa",
          "dash": "solid"
         },
         "marker": {
          "symbol": "circle"
         },
         "mode": "markers+lines",
         "name": "BBB",
         "orientation": "v",
         "showlegend": true,
         "type": "scatter",
         "x": [
          0,
          1,
          2,
          3,
          4,
          5,
          6,
          7,
          8,
          9
         ],
         "xaxis": "x",
         "y": [
          0.01813256096303835,
          0.0359363321589984,
          0.08042388765439942,
          0.12493383029145477,
          0.18099900214152942,
          0.23440070622210007,
          0.2850739667246446,
          0.33299323082936716,
          0.3781681810213361,
          0.4206390392005077
         ],
         "yaxis": "y"
        },
        {
         "hovertemplate": "variable=BB<br>index=%{x}<br>value=%{y}<extra></extra>",
         "legendgroup": "BB",
         "line": {
          "color": "#FFA15A",
          "dash": "solid"
         },
         "marker": {
          "symbol": "circle"
         },
         "mode": "markers+lines",
         "name": "BB",
         "orientation": "v",
         "showlegend": true,
         "type": "scatter",
         "x": [
          0,
          1,
          2,
          3,
          4,
          5,
          6,
          7,
          8,
          9
         ],
         "xaxis": "x",
         "y": [
          0.03061578132452714,
          0.060294236582943014,
          0.1341854898770678,
          0.20588263462768372,
          0.29276823523578255,
          0.3709824552407105,
          0.44084767166342476,
          0.5028948700570453,
          0.5577698850338545,
          0.6061641108688668
         ],
         "yaxis": "y"
        },
        {
         "hovertemplate": "variable=B<br>index=%{x}<br>value=%{y}<extra></extra>",
         "legendgroup": "B",
         "line": {
          "color": "#19d3f3",
          "dash": "solid"
         },
         "marker": {
          "symbol": "circle"
         },
         "mode": "markers+lines",
         "name": "B",
         "orientation": "v",
         "showlegend": true,
         "type": "scatter",
         "x": [
          0,
          1,
          2,
          3,
          4,
          5,
          6,
          7,
          8,
          9
         ],
         "xaxis": "x",
         "y": [
          0.047503057531309886,
          0.09274957458779684,
          0.20709888108330088,
          0.31149979350594387,
          0.4286820121258603,
          0.5244763382057532,
          0.602543534202811,
          0.6662138465469374,
          0.7182863339282582,
          0.7610345465680941
         ],
         "yaxis": "y"
        },
        {
         "hovertemplate": "variable=CCC<br>index=%{x}<br>value=%{y}<extra></extra>",
         "legendgroup": "CCC",
         "line": {
          "color": "#FF6692",
          "dash": "solid"
         },
         "marker": {
          "symbol": "circle"
         },
         "mode": "markers+lines",
         "name": "CCC",
         "orientation": "v",
         "showlegend": true,
         "type": "scatter",
         "x": [
          0,
          1,
          2,
          3,
          4,
          5,
          6,
          7,
          8,
          9
         ],
         "xaxis": "x",
         "y": [
          0.12407288364156076,
          0.23275168682798925,
          0.4326223110051348,
          0.5588331461814509,
          0.6660908644030068,
          0.736642519831213,
          0.786726751010205,
          0.8242918465166863,
          0.8535169835786283,
          0.8767970537647483
         ],
         "yaxis": "y"
        }
       ],
       "layout": {
        "autosize": false,
        "height": 600,
        "legend": {
         "title": {
          "text": "variable"
         },
         "tracegroupgap": 0
        },
        "margin": {
         "b": 65,
         "l": 65,
         "r": 50,
         "t": 90
        },
        "template": {
         "data": {
          "bar": [
           {
            "error_x": {
             "color": "#2a3f5f"
            },
            "error_y": {
             "color": "#2a3f5f"
            },
            "marker": {
             "line": {
              "color": "#E5ECF6",
              "width": 0.5
             },
             "pattern": {
              "fillmode": "overlay",
              "size": 10,
              "solidity": 0.2
             }
            },
            "type": "bar"
           }
          ],
          "barpolar": [
           {
            "marker": {
             "line": {
              "color": "#E5ECF6",
              "width": 0.5
             },
             "pattern": {
              "fillmode": "overlay",
              "size": 10,
              "solidity": 0.2
             }
            },
            "type": "barpolar"
           }
          ],
          "carpet": [
           {
            "aaxis": {
             "endlinecolor": "#2a3f5f",
             "gridcolor": "white",
             "linecolor": "white",
             "minorgridcolor": "white",
             "startlinecolor": "#2a3f5f"
            },
            "baxis": {
             "endlinecolor": "#2a3f5f",
             "gridcolor": "white",
             "linecolor": "white",
             "minorgridcolor": "white",
             "startlinecolor": "#2a3f5f"
            },
            "type": "carpet"
           }
          ],
          "choropleth": [
           {
            "colorbar": {
             "outlinewidth": 0,
             "ticks": ""
            },
            "type": "choropleth"
           }
          ],
          "contour": [
           {
            "colorbar": {
             "outlinewidth": 0,
             "ticks": ""
            },
            "colorscale": [
             [
              0,
              "#0d0887"
             ],
             [
              0.1111111111111111,
              "#46039f"
             ],
             [
              0.2222222222222222,
              "#7201a8"
             ],
             [
              0.3333333333333333,
              "#9c179e"
             ],
             [
              0.4444444444444444,
              "#bd3786"
             ],
             [
              0.5555555555555556,
              "#d8576b"
             ],
             [
              0.6666666666666666,
              "#ed7953"
             ],
             [
              0.7777777777777778,
              "#fb9f3a"
             ],
             [
              0.8888888888888888,
              "#fdca26"
             ],
             [
              1,
              "#f0f921"
             ]
            ],
            "type": "contour"
           }
          ],
          "contourcarpet": [
           {
            "colorbar": {
             "outlinewidth": 0,
             "ticks": ""
            },
            "type": "contourcarpet"
           }
          ],
          "heatmap": [
           {
            "colorbar": {
             "outlinewidth": 0,
             "ticks": ""
            },
            "colorscale": [
             [
              0,
              "#0d0887"
             ],
             [
              0.1111111111111111,
              "#46039f"
             ],
             [
              0.2222222222222222,
              "#7201a8"
             ],
             [
              0.3333333333333333,
              "#9c179e"
             ],
             [
              0.4444444444444444,
              "#bd3786"
             ],
             [
              0.5555555555555556,
              "#d8576b"
             ],
             [
              0.6666666666666666,
              "#ed7953"
             ],
             [
              0.7777777777777778,
              "#fb9f3a"
             ],
             [
              0.8888888888888888,
              "#fdca26"
             ],
             [
              1,
              "#f0f921"
             ]
            ],
            "type": "heatmap"
           }
          ],
          "heatmapgl": [
           {
            "colorbar": {
             "outlinewidth": 0,
             "ticks": ""
            },
            "colorscale": [
             [
              0,
              "#0d0887"
             ],
             [
              0.1111111111111111,
              "#46039f"
             ],
             [
              0.2222222222222222,
              "#7201a8"
             ],
             [
              0.3333333333333333,
              "#9c179e"
             ],
             [
              0.4444444444444444,
              "#bd3786"
             ],
             [
              0.5555555555555556,
              "#d8576b"
             ],
             [
              0.6666666666666666,
              "#ed7953"
             ],
             [
              0.7777777777777778,
              "#fb9f3a"
             ],
             [
              0.8888888888888888,
              "#fdca26"
             ],
             [
              1,
              "#f0f921"
             ]
            ],
            "type": "heatmapgl"
           }
          ],
          "histogram": [
           {
            "marker": {
             "pattern": {
              "fillmode": "overlay",
              "size": 10,
              "solidity": 0.2
             }
            },
            "type": "histogram"
           }
          ],
          "histogram2d": [
           {
            "colorbar": {
             "outlinewidth": 0,
             "ticks": ""
            },
            "colorscale": [
             [
              0,
              "#0d0887"
             ],
             [
              0.1111111111111111,
              "#46039f"
             ],
             [
              0.2222222222222222,
              "#7201a8"
             ],
             [
              0.3333333333333333,
              "#9c179e"
             ],
             [
              0.4444444444444444,
              "#bd3786"
             ],
             [
              0.5555555555555556,
              "#d8576b"
             ],
             [
              0.6666666666666666,
              "#ed7953"
             ],
             [
              0.7777777777777778,
              "#fb9f3a"
             ],
             [
              0.8888888888888888,
              "#fdca26"
             ],
             [
              1,
              "#f0f921"
             ]
            ],
            "type": "histogram2d"
           }
          ],
          "histogram2dcontour": [
           {
            "colorbar": {
             "outlinewidth": 0,
             "ticks": ""
            },
            "colorscale": [
             [
              0,
              "#0d0887"
             ],
             [
              0.1111111111111111,
              "#46039f"
             ],
             [
              0.2222222222222222,
              "#7201a8"
             ],
             [
              0.3333333333333333,
              "#9c179e"
             ],
             [
              0.4444444444444444,
              "#bd3786"
             ],
             [
              0.5555555555555556,
              "#d8576b"
             ],
             [
              0.6666666666666666,
              "#ed7953"
             ],
             [
              0.7777777777777778,
              "#fb9f3a"
             ],
             [
              0.8888888888888888,
              "#fdca26"
             ],
             [
              1,
              "#f0f921"
             ]
            ],
            "type": "histogram2dcontour"
           }
          ],
          "mesh3d": [
           {
            "colorbar": {
             "outlinewidth": 0,
             "ticks": ""
            },
            "type": "mesh3d"
           }
          ],
          "parcoords": [
           {
            "line": {
             "colorbar": {
              "outlinewidth": 0,
              "ticks": ""
             }
            },
            "type": "parcoords"
           }
          ],
          "pie": [
           {
            "automargin": true,
            "type": "pie"
           }
          ],
          "scatter": [
           {
            "fillpattern": {
             "fillmode": "overlay",
             "size": 10,
             "solidity": 0.2
            },
            "type": "scatter"
           }
          ],
          "scatter3d": [
           {
            "line": {
             "colorbar": {
              "outlinewidth": 0,
              "ticks": ""
             }
            },
            "marker": {
             "colorbar": {
              "outlinewidth": 0,
              "ticks": ""
             }
            },
            "type": "scatter3d"
           }
          ],
          "scattercarpet": [
           {
            "marker": {
             "colorbar": {
              "outlinewidth": 0,
              "ticks": ""
             }
            },
            "type": "scattercarpet"
           }
          ],
          "scattergeo": [
           {
            "marker": {
             "colorbar": {
              "outlinewidth": 0,
              "ticks": ""
             }
            },
            "type": "scattergeo"
           }
          ],
          "scattergl": [
           {
            "marker": {
             "colorbar": {
              "outlinewidth": 0,
              "ticks": ""
             }
            },
            "type": "scattergl"
           }
          ],
          "scattermapbox": [
           {
            "marker": {
             "colorbar": {
              "outlinewidth": 0,
              "ticks": ""
             }
            },
            "type": "scattermapbox"
           }
          ],
          "scatterpolar": [
           {
            "marker": {
             "colorbar": {
              "outlinewidth": 0,
              "ticks": ""
             }
            },
            "type": "scatterpolar"
           }
          ],
          "scatterpolargl": [
           {
            "marker": {
             "colorbar": {
              "outlinewidth": 0,
              "ticks": ""
             }
            },
            "type": "scatterpolargl"
           }
          ],
          "scatterternary": [
           {
            "marker": {
             "colorbar": {
              "outlinewidth": 0,
              "ticks": ""
             }
            },
            "type": "scatterternary"
           }
          ],
          "surface": [
           {
            "colorbar": {
             "outlinewidth": 0,
             "ticks": ""
            },
            "colorscale": [
             [
              0,
              "#0d0887"
             ],
             [
              0.1111111111111111,
              "#46039f"
             ],
             [
              0.2222222222222222,
              "#7201a8"
             ],
             [
              0.3333333333333333,
              "#9c179e"
             ],
             [
              0.4444444444444444,
              "#bd3786"
             ],
             [
              0.5555555555555556,
              "#d8576b"
             ],
             [
              0.6666666666666666,
              "#ed7953"
             ],
             [
              0.7777777777777778,
              "#fb9f3a"
             ],
             [
              0.8888888888888888,
              "#fdca26"
             ],
             [
              1,
              "#f0f921"
             ]
            ],
            "type": "surface"
           }
          ],
          "table": [
           {
            "cells": {
             "fill": {
              "color": "#EBF0F8"
             },
             "line": {
              "color": "white"
             }
            },
            "header": {
             "fill": {
              "color": "#C8D4E3"
             },
             "line": {
              "color": "white"
             }
            },
            "type": "table"
           }
          ]
         },
         "layout": {
          "annotationdefaults": {
           "arrowcolor": "#2a3f5f",
           "arrowhead": 0,
           "arrowwidth": 1
          },
          "autotypenumbers": "strict",
          "coloraxis": {
           "colorbar": {
            "outlinewidth": 0,
            "ticks": ""
           }
          },
          "colorscale": {
           "diverging": [
            [
             0,
             "#8e0152"
            ],
            [
             0.1,
             "#c51b7d"
            ],
            [
             0.2,
             "#de77ae"
            ],
            [
             0.3,
             "#f1b6da"
            ],
            [
             0.4,
             "#fde0ef"
            ],
            [
             0.5,
             "#f7f7f7"
            ],
            [
             0.6,
             "#e6f5d0"
            ],
            [
             0.7,
             "#b8e186"
            ],
            [
             0.8,
             "#7fbc41"
            ],
            [
             0.9,
             "#4d9221"
            ],
            [
             1,
             "#276419"
            ]
           ],
           "sequential": [
            [
             0,
             "#0d0887"
            ],
            [
             0.1111111111111111,
             "#46039f"
            ],
            [
             0.2222222222222222,
             "#7201a8"
            ],
            [
             0.3333333333333333,
             "#9c179e"
            ],
            [
             0.4444444444444444,
             "#bd3786"
            ],
            [
             0.5555555555555556,
             "#d8576b"
            ],
            [
             0.6666666666666666,
             "#ed7953"
            ],
            [
             0.7777777777777778,
             "#fb9f3a"
            ],
            [
             0.8888888888888888,
             "#fdca26"
            ],
            [
             1,
             "#f0f921"
            ]
           ],
           "sequentialminus": [
            [
             0,
             "#0d0887"
            ],
            [
             0.1111111111111111,
             "#46039f"
            ],
            [
             0.2222222222222222,
             "#7201a8"
            ],
            [
             0.3333333333333333,
             "#9c179e"
            ],
            [
             0.4444444444444444,
             "#bd3786"
            ],
            [
             0.5555555555555556,
             "#d8576b"
            ],
            [
             0.6666666666666666,
             "#ed7953"
            ],
            [
             0.7777777777777778,
             "#fb9f3a"
            ],
            [
             0.8888888888888888,
             "#fdca26"
            ],
            [
             1,
             "#f0f921"
            ]
           ]
          },
          "colorway": [
           "#636efa",
           "#EF553B",
           "#00cc96",
           "#ab63fa",
           "#FFA15A",
           "#19d3f3",
           "#FF6692",
           "#B6E880",
           "#FF97FF",
           "#FECB52"
          ],
          "font": {
           "color": "#2a3f5f"
          },
          "geo": {
           "bgcolor": "white",
           "lakecolor": "white",
           "landcolor": "#E5ECF6",
           "showlakes": true,
           "showland": true,
           "subunitcolor": "white"
          },
          "hoverlabel": {
           "align": "left"
          },
          "hovermode": "closest",
          "mapbox": {
           "style": "light"
          },
          "paper_bgcolor": "white",
          "plot_bgcolor": "#E5ECF6",
          "polar": {
           "angularaxis": {
            "gridcolor": "white",
            "linecolor": "white",
            "ticks": ""
           },
           "bgcolor": "#E5ECF6",
           "radialaxis": {
            "gridcolor": "white",
            "linecolor": "white",
            "ticks": ""
           }
          },
          "scene": {
           "xaxis": {
            "backgroundcolor": "#E5ECF6",
            "gridcolor": "white",
            "gridwidth": 2,
            "linecolor": "white",
            "showbackground": true,
            "ticks": "",
            "zerolinecolor": "white"
           },
           "yaxis": {
            "backgroundcolor": "#E5ECF6",
            "gridcolor": "white",
            "gridwidth": 2,
            "linecolor": "white",
            "showbackground": true,
            "ticks": "",
            "zerolinecolor": "white"
           },
           "zaxis": {
            "backgroundcolor": "#E5ECF6",
            "gridcolor": "white",
            "gridwidth": 2,
            "linecolor": "white",
            "showbackground": true,
            "ticks": "",
            "zerolinecolor": "white"
           }
          },
          "shapedefaults": {
           "line": {
            "color": "#2a3f5f"
           }
          },
          "ternary": {
           "aaxis": {
            "gridcolor": "white",
            "linecolor": "white",
            "ticks": ""
           },
           "baxis": {
            "gridcolor": "white",
            "linecolor": "white",
            "ticks": ""
           },
           "bgcolor": "#E5ECF6",
           "caxis": {
            "gridcolor": "white",
            "linecolor": "white",
            "ticks": ""
           }
          },
          "title": {
           "x": 0.05
          },
          "xaxis": {
           "automargin": true,
           "gridcolor": "white",
           "linecolor": "white",
           "ticks": "",
           "title": {
            "standoff": 15
           },
           "zerolinecolor": "white",
           "zerolinewidth": 2
          },
          "yaxis": {
           "automargin": true,
           "gridcolor": "white",
           "linecolor": "white",
           "ticks": "",
           "title": {
            "standoff": 15
           },
           "zerolinecolor": "white",
           "zerolinewidth": 2
          }
         }
        },
        "title": {
         "text": "Base Cumulative Scenario"
        },
        "width": 600,
        "xaxis": {
         "anchor": "y",
         "domain": [
          0,
          1
         ],
         "title": {
          "text": "Years"
         }
        },
        "yaxis": {
         "anchor": "x",
         "domain": [
          0,
          1
         ],
         "title": {
          "text": "Cummulative multi-year Probability of Default"
         }
        }
       }
      }
     },
     "metadata": {},
     "output_type": "display_data"
    }
   ],
   "source": [
    "fig = px.line(Base_final_cumulative)\n",
    "fig.update_layout(title='Base Cumulative Scenario', autosize=False,\n",
    "                    width=600, height=600,\n",
    "                    margin=dict(l=65, r=50, b=65, t=90),\n",
    "                    xaxis_title=\"Years\",\n",
    "                    yaxis_title=\"Cummulative multi-year Probability of Default\")\n",
    "\n",
    "fig.update_traces(mode='markers+lines')\n",
    "fig.show()"
   ]
  },
  {
   "cell_type": "markdown",
   "metadata": {},
   "source": [
    "Conversely, Figures 15, 16 and 17 provide an intricate comparison of the cumulative PIT versus Through-the-Cycle Probability of Defaults (TTC PDs) for the highest credit rating category, AAA, under all three scenarios: optimistic, baseline, and pessimistic. A meticulous analysis of these figures shows that, irrespective of the scenario, the PIT PDs consistently register at lower values compared to their TTC counterparts. This disparity underscores the intrinsic differences in the probabilistic modelling approaches between PIT and TTC PDs under varying economic conditions. For further reference, below are also figures comparing the Conditional PiT PD with TTC PD."
   ]
  },
  {
   "cell_type": "code",
   "execution_count": 280,
   "metadata": {},
   "outputs": [
    {
     "data": {
      "application/vnd.plotly.v1+json": {
       "config": {
        "plotlyServerURL": "https://plot.ly"
       },
       "data": [
        {
         "mode": "lines+markers",
         "name": "Cumulative TTC",
         "type": "scatter",
         "x": [
          0,
          1,
          2,
          3,
          4,
          5,
          6,
          7,
          8,
          9
         ],
         "y": [
          0.0311000000000001,
          0.0622997300000002,
          0.0933795611610003,
          0.1242006938443939,
          0.1546669979240049,
          0.1847072554576695,
          0.2142663491703118,
          0.2433004860965673,
          0.2717743355472219,
          0.2996591499736954
         ]
        },
        {
         "mode": "lines+markers",
         "name": "PIT pesimistic",
         "type": "scatter",
         "x": [
          0,
          1,
          2,
          3,
          4,
          5,
          6,
          7,
          8,
          9
         ],
         "y": [
          0.009027311925833706,
          0.017973131491061112,
          0.0584200626235074,
          0.08425064845684871,
          0.11538212427575553,
          0.1461551986623729,
          0.17649793656917603,
          0.2063546657360355,
          0.2356811522389006,
          0.26444170963794317
         ]
        }
       ],
       "layout": {
        "height": 800,
        "template": {
         "data": {
          "bar": [
           {
            "error_x": {
             "color": "#2a3f5f"
            },
            "error_y": {
             "color": "#2a3f5f"
            },
            "marker": {
             "line": {
              "color": "#E5ECF6",
              "width": 0.5
             },
             "pattern": {
              "fillmode": "overlay",
              "size": 10,
              "solidity": 0.2
             }
            },
            "type": "bar"
           }
          ],
          "barpolar": [
           {
            "marker": {
             "line": {
              "color": "#E5ECF6",
              "width": 0.5
             },
             "pattern": {
              "fillmode": "overlay",
              "size": 10,
              "solidity": 0.2
             }
            },
            "type": "barpolar"
           }
          ],
          "carpet": [
           {
            "aaxis": {
             "endlinecolor": "#2a3f5f",
             "gridcolor": "white",
             "linecolor": "white",
             "minorgridcolor": "white",
             "startlinecolor": "#2a3f5f"
            },
            "baxis": {
             "endlinecolor": "#2a3f5f",
             "gridcolor": "white",
             "linecolor": "white",
             "minorgridcolor": "white",
             "startlinecolor": "#2a3f5f"
            },
            "type": "carpet"
           }
          ],
          "choropleth": [
           {
            "colorbar": {
             "outlinewidth": 0,
             "ticks": ""
            },
            "type": "choropleth"
           }
          ],
          "contour": [
           {
            "colorbar": {
             "outlinewidth": 0,
             "ticks": ""
            },
            "colorscale": [
             [
              0,
              "#0d0887"
             ],
             [
              0.1111111111111111,
              "#46039f"
             ],
             [
              0.2222222222222222,
              "#7201a8"
             ],
             [
              0.3333333333333333,
              "#9c179e"
             ],
             [
              0.4444444444444444,
              "#bd3786"
             ],
             [
              0.5555555555555556,
              "#d8576b"
             ],
             [
              0.6666666666666666,
              "#ed7953"
             ],
             [
              0.7777777777777778,
              "#fb9f3a"
             ],
             [
              0.8888888888888888,
              "#fdca26"
             ],
             [
              1,
              "#f0f921"
             ]
            ],
            "type": "contour"
           }
          ],
          "contourcarpet": [
           {
            "colorbar": {
             "outlinewidth": 0,
             "ticks": ""
            },
            "type": "contourcarpet"
           }
          ],
          "heatmap": [
           {
            "colorbar": {
             "outlinewidth": 0,
             "ticks": ""
            },
            "colorscale": [
             [
              0,
              "#0d0887"
             ],
             [
              0.1111111111111111,
              "#46039f"
             ],
             [
              0.2222222222222222,
              "#7201a8"
             ],
             [
              0.3333333333333333,
              "#9c179e"
             ],
             [
              0.4444444444444444,
              "#bd3786"
             ],
             [
              0.5555555555555556,
              "#d8576b"
             ],
             [
              0.6666666666666666,
              "#ed7953"
             ],
             [
              0.7777777777777778,
              "#fb9f3a"
             ],
             [
              0.8888888888888888,
              "#fdca26"
             ],
             [
              1,
              "#f0f921"
             ]
            ],
            "type": "heatmap"
           }
          ],
          "heatmapgl": [
           {
            "colorbar": {
             "outlinewidth": 0,
             "ticks": ""
            },
            "colorscale": [
             [
              0,
              "#0d0887"
             ],
             [
              0.1111111111111111,
              "#46039f"
             ],
             [
              0.2222222222222222,
              "#7201a8"
             ],
             [
              0.3333333333333333,
              "#9c179e"
             ],
             [
              0.4444444444444444,
              "#bd3786"
             ],
             [
              0.5555555555555556,
              "#d8576b"
             ],
             [
              0.6666666666666666,
              "#ed7953"
             ],
             [
              0.7777777777777778,
              "#fb9f3a"
             ],
             [
              0.8888888888888888,
              "#fdca26"
             ],
             [
              1,
              "#f0f921"
             ]
            ],
            "type": "heatmapgl"
           }
          ],
          "histogram": [
           {
            "marker": {
             "pattern": {
              "fillmode": "overlay",
              "size": 10,
              "solidity": 0.2
             }
            },
            "type": "histogram"
           }
          ],
          "histogram2d": [
           {
            "colorbar": {
             "outlinewidth": 0,
             "ticks": ""
            },
            "colorscale": [
             [
              0,
              "#0d0887"
             ],
             [
              0.1111111111111111,
              "#46039f"
             ],
             [
              0.2222222222222222,
              "#7201a8"
             ],
             [
              0.3333333333333333,
              "#9c179e"
             ],
             [
              0.4444444444444444,
              "#bd3786"
             ],
             [
              0.5555555555555556,
              "#d8576b"
             ],
             [
              0.6666666666666666,
              "#ed7953"
             ],
             [
              0.7777777777777778,
              "#fb9f3a"
             ],
             [
              0.8888888888888888,
              "#fdca26"
             ],
             [
              1,
              "#f0f921"
             ]
            ],
            "type": "histogram2d"
           }
          ],
          "histogram2dcontour": [
           {
            "colorbar": {
             "outlinewidth": 0,
             "ticks": ""
            },
            "colorscale": [
             [
              0,
              "#0d0887"
             ],
             [
              0.1111111111111111,
              "#46039f"
             ],
             [
              0.2222222222222222,
              "#7201a8"
             ],
             [
              0.3333333333333333,
              "#9c179e"
             ],
             [
              0.4444444444444444,
              "#bd3786"
             ],
             [
              0.5555555555555556,
              "#d8576b"
             ],
             [
              0.6666666666666666,
              "#ed7953"
             ],
             [
              0.7777777777777778,
              "#fb9f3a"
             ],
             [
              0.8888888888888888,
              "#fdca26"
             ],
             [
              1,
              "#f0f921"
             ]
            ],
            "type": "histogram2dcontour"
           }
          ],
          "mesh3d": [
           {
            "colorbar": {
             "outlinewidth": 0,
             "ticks": ""
            },
            "type": "mesh3d"
           }
          ],
          "parcoords": [
           {
            "line": {
             "colorbar": {
              "outlinewidth": 0,
              "ticks": ""
             }
            },
            "type": "parcoords"
           }
          ],
          "pie": [
           {
            "automargin": true,
            "type": "pie"
           }
          ],
          "scatter": [
           {
            "fillpattern": {
             "fillmode": "overlay",
             "size": 10,
             "solidity": 0.2
            },
            "type": "scatter"
           }
          ],
          "scatter3d": [
           {
            "line": {
             "colorbar": {
              "outlinewidth": 0,
              "ticks": ""
             }
            },
            "marker": {
             "colorbar": {
              "outlinewidth": 0,
              "ticks": ""
             }
            },
            "type": "scatter3d"
           }
          ],
          "scattercarpet": [
           {
            "marker": {
             "colorbar": {
              "outlinewidth": 0,
              "ticks": ""
             }
            },
            "type": "scattercarpet"
           }
          ],
          "scattergeo": [
           {
            "marker": {
             "colorbar": {
              "outlinewidth": 0,
              "ticks": ""
             }
            },
            "type": "scattergeo"
           }
          ],
          "scattergl": [
           {
            "marker": {
             "colorbar": {
              "outlinewidth": 0,
              "ticks": ""
             }
            },
            "type": "scattergl"
           }
          ],
          "scattermapbox": [
           {
            "marker": {
             "colorbar": {
              "outlinewidth": 0,
              "ticks": ""
             }
            },
            "type": "scattermapbox"
           }
          ],
          "scatterpolar": [
           {
            "marker": {
             "colorbar": {
              "outlinewidth": 0,
              "ticks": ""
             }
            },
            "type": "scatterpolar"
           }
          ],
          "scatterpolargl": [
           {
            "marker": {
             "colorbar": {
              "outlinewidth": 0,
              "ticks": ""
             }
            },
            "type": "scatterpolargl"
           }
          ],
          "scatterternary": [
           {
            "marker": {
             "colorbar": {
              "outlinewidth": 0,
              "ticks": ""
             }
            },
            "type": "scatterternary"
           }
          ],
          "surface": [
           {
            "colorbar": {
             "outlinewidth": 0,
             "ticks": ""
            },
            "colorscale": [
             [
              0,
              "#0d0887"
             ],
             [
              0.1111111111111111,
              "#46039f"
             ],
             [
              0.2222222222222222,
              "#7201a8"
             ],
             [
              0.3333333333333333,
              "#9c179e"
             ],
             [
              0.4444444444444444,
              "#bd3786"
             ],
             [
              0.5555555555555556,
              "#d8576b"
             ],
             [
              0.6666666666666666,
              "#ed7953"
             ],
             [
              0.7777777777777778,
              "#fb9f3a"
             ],
             [
              0.8888888888888888,
              "#fdca26"
             ],
             [
              1,
              "#f0f921"
             ]
            ],
            "type": "surface"
           }
          ],
          "table": [
           {
            "cells": {
             "fill": {
              "color": "#EBF0F8"
             },
             "line": {
              "color": "white"
             }
            },
            "header": {
             "fill": {
              "color": "#C8D4E3"
             },
             "line": {
              "color": "white"
             }
            },
            "type": "table"
           }
          ]
         },
         "layout": {
          "annotationdefaults": {
           "arrowcolor": "#2a3f5f",
           "arrowhead": 0,
           "arrowwidth": 1
          },
          "autotypenumbers": "strict",
          "coloraxis": {
           "colorbar": {
            "outlinewidth": 0,
            "ticks": ""
           }
          },
          "colorscale": {
           "diverging": [
            [
             0,
             "#8e0152"
            ],
            [
             0.1,
             "#c51b7d"
            ],
            [
             0.2,
             "#de77ae"
            ],
            [
             0.3,
             "#f1b6da"
            ],
            [
             0.4,
             "#fde0ef"
            ],
            [
             0.5,
             "#f7f7f7"
            ],
            [
             0.6,
             "#e6f5d0"
            ],
            [
             0.7,
             "#b8e186"
            ],
            [
             0.8,
             "#7fbc41"
            ],
            [
             0.9,
             "#4d9221"
            ],
            [
             1,
             "#276419"
            ]
           ],
           "sequential": [
            [
             0,
             "#0d0887"
            ],
            [
             0.1111111111111111,
             "#46039f"
            ],
            [
             0.2222222222222222,
             "#7201a8"
            ],
            [
             0.3333333333333333,
             "#9c179e"
            ],
            [
             0.4444444444444444,
             "#bd3786"
            ],
            [
             0.5555555555555556,
             "#d8576b"
            ],
            [
             0.6666666666666666,
             "#ed7953"
            ],
            [
             0.7777777777777778,
             "#fb9f3a"
            ],
            [
             0.8888888888888888,
             "#fdca26"
            ],
            [
             1,
             "#f0f921"
            ]
           ],
           "sequentialminus": [
            [
             0,
             "#0d0887"
            ],
            [
             0.1111111111111111,
             "#46039f"
            ],
            [
             0.2222222222222222,
             "#7201a8"
            ],
            [
             0.3333333333333333,
             "#9c179e"
            ],
            [
             0.4444444444444444,
             "#bd3786"
            ],
            [
             0.5555555555555556,
             "#d8576b"
            ],
            [
             0.6666666666666666,
             "#ed7953"
            ],
            [
             0.7777777777777778,
             "#fb9f3a"
            ],
            [
             0.8888888888888888,
             "#fdca26"
            ],
            [
             1,
             "#f0f921"
            ]
           ]
          },
          "colorway": [
           "#636efa",
           "#EF553B",
           "#00cc96",
           "#ab63fa",
           "#FFA15A",
           "#19d3f3",
           "#FF6692",
           "#B6E880",
           "#FF97FF",
           "#FECB52"
          ],
          "font": {
           "color": "#2a3f5f"
          },
          "geo": {
           "bgcolor": "white",
           "lakecolor": "white",
           "landcolor": "#E5ECF6",
           "showlakes": true,
           "showland": true,
           "subunitcolor": "white"
          },
          "hoverlabel": {
           "align": "left"
          },
          "hovermode": "closest",
          "mapbox": {
           "style": "light"
          },
          "paper_bgcolor": "white",
          "plot_bgcolor": "#E5ECF6",
          "polar": {
           "angularaxis": {
            "gridcolor": "white",
            "linecolor": "white",
            "ticks": ""
           },
           "bgcolor": "#E5ECF6",
           "radialaxis": {
            "gridcolor": "white",
            "linecolor": "white",
            "ticks": ""
           }
          },
          "scene": {
           "xaxis": {
            "backgroundcolor": "#E5ECF6",
            "gridcolor": "white",
            "gridwidth": 2,
            "linecolor": "white",
            "showbackground": true,
            "ticks": "",
            "zerolinecolor": "white"
           },
           "yaxis": {
            "backgroundcolor": "#E5ECF6",
            "gridcolor": "white",
            "gridwidth": 2,
            "linecolor": "white",
            "showbackground": true,
            "ticks": "",
            "zerolinecolor": "white"
           },
           "zaxis": {
            "backgroundcolor": "#E5ECF6",
            "gridcolor": "white",
            "gridwidth": 2,
            "linecolor": "white",
            "showbackground": true,
            "ticks": "",
            "zerolinecolor": "white"
           }
          },
          "shapedefaults": {
           "line": {
            "color": "#2a3f5f"
           }
          },
          "ternary": {
           "aaxis": {
            "gridcolor": "white",
            "linecolor": "white",
            "ticks": ""
           },
           "baxis": {
            "gridcolor": "white",
            "linecolor": "white",
            "ticks": ""
           },
           "bgcolor": "#E5ECF6",
           "caxis": {
            "gridcolor": "white",
            "linecolor": "white",
            "ticks": ""
           }
          },
          "title": {
           "x": 0.05
          },
          "xaxis": {
           "automargin": true,
           "gridcolor": "white",
           "linecolor": "white",
           "ticks": "",
           "title": {
            "standoff": 15
           },
           "zerolinecolor": "white",
           "zerolinewidth": 2
          },
          "yaxis": {
           "automargin": true,
           "gridcolor": "white",
           "linecolor": "white",
           "ticks": "",
           "title": {
            "standoff": 15
           },
           "zerolinecolor": "white",
           "zerolinewidth": 2
          }
         }
        },
        "title": {
         "text": "TTC vs Pesimistic"
        },
        "width": 800,
        "xaxis": {
         "title": {
          "text": "Index"
         }
        },
        "yaxis": {
         "title": {
          "text": "Values"
         }
        }
       }
      }
     },
     "metadata": {},
     "output_type": "display_data"
    }
   ],
   "source": [
    "# Create traces\n",
    "trace1 = go.Scatter(\n",
    "    x=list(range(10)),\n",
    "    y=cumulative['AAA'],\n",
    "    mode='lines+markers',\n",
    "    name='Cumulative TTC'\n",
    ")\n",
    "\n",
    "trace2 = go.Scatter(\n",
    "    x=list(range(10)),                       \n",
    "    y=Pesimistic_final_cumulative['AAA'],\n",
    "    mode='lines+markers',\n",
    "    name='PIT pesimistic'\n",
    ")\n",
    "\n",
    "# Create the figure\n",
    "fig = go.Figure()\n",
    "\n",
    "# Add traces to the figure\n",
    "fig.add_trace(trace1)\n",
    "fig.add_trace(trace2)\n",
    "\n",
    "# Add titles and labels\n",
    "fig.update_layout(title='TTC vs Pesimistic',\n",
    "    xaxis_title='Index',\n",
    "    yaxis_title='Values',\n",
    "    width=800, height=800,)\n",
    "\n",
    "# Show the plot\n",
    "fig.show()"
   ]
  },
  {
   "cell_type": "code",
   "execution_count": 281,
   "metadata": {},
   "outputs": [
    {
     "data": {
      "application/vnd.plotly.v1+json": {
       "config": {
        "plotlyServerURL": "https://plot.ly"
       },
       "data": [
        {
         "mode": "lines+markers",
         "name": "Cumulative TTC",
         "type": "scatter",
         "x": [
          0,
          1,
          2,
          3,
          4,
          5,
          6,
          7,
          8,
          9
         ],
         "y": [
          0.0311000000000001,
          0.0622997300000002,
          0.0933795611610003,
          0.1242006938443939,
          0.1546669979240049,
          0.1847072554576695,
          0.2142663491703118,
          0.2433004860965673,
          0.2717743355472219,
          0.2996591499736954
         ]
        },
        {
         "mode": "lines+markers",
         "name": "PIT optimistic",
         "type": "scatter",
         "x": [
          0,
          1,
          2,
          3,
          4,
          5,
          6,
          7,
          8,
          9
         ],
         "y": [
          0.009027311925833706,
          0.0411871939856991,
          0.027433237272782816,
          0.0339956296626871,
          0.0347868556933955,
          0.0355365961814939,
          0.0362558037104026,
          0.0369516271774757,
          0.0376290045486778,
          0.0382914469890695
         ]
        }
       ],
       "layout": {
        "height": 800,
        "template": {
         "data": {
          "bar": [
           {
            "error_x": {
             "color": "#2a3f5f"
            },
            "error_y": {
             "color": "#2a3f5f"
            },
            "marker": {
             "line": {
              "color": "#E5ECF6",
              "width": 0.5
             },
             "pattern": {
              "fillmode": "overlay",
              "size": 10,
              "solidity": 0.2
             }
            },
            "type": "bar"
           }
          ],
          "barpolar": [
           {
            "marker": {
             "line": {
              "color": "#E5ECF6",
              "width": 0.5
             },
             "pattern": {
              "fillmode": "overlay",
              "size": 10,
              "solidity": 0.2
             }
            },
            "type": "barpolar"
           }
          ],
          "carpet": [
           {
            "aaxis": {
             "endlinecolor": "#2a3f5f",
             "gridcolor": "white",
             "linecolor": "white",
             "minorgridcolor": "white",
             "startlinecolor": "#2a3f5f"
            },
            "baxis": {
             "endlinecolor": "#2a3f5f",
             "gridcolor": "white",
             "linecolor": "white",
             "minorgridcolor": "white",
             "startlinecolor": "#2a3f5f"
            },
            "type": "carpet"
           }
          ],
          "choropleth": [
           {
            "colorbar": {
             "outlinewidth": 0,
             "ticks": ""
            },
            "type": "choropleth"
           }
          ],
          "contour": [
           {
            "colorbar": {
             "outlinewidth": 0,
             "ticks": ""
            },
            "colorscale": [
             [
              0,
              "#0d0887"
             ],
             [
              0.1111111111111111,
              "#46039f"
             ],
             [
              0.2222222222222222,
              "#7201a8"
             ],
             [
              0.3333333333333333,
              "#9c179e"
             ],
             [
              0.4444444444444444,
              "#bd3786"
             ],
             [
              0.5555555555555556,
              "#d8576b"
             ],
             [
              0.6666666666666666,
              "#ed7953"
             ],
             [
              0.7777777777777778,
              "#fb9f3a"
             ],
             [
              0.8888888888888888,
              "#fdca26"
             ],
             [
              1,
              "#f0f921"
             ]
            ],
            "type": "contour"
           }
          ],
          "contourcarpet": [
           {
            "colorbar": {
             "outlinewidth": 0,
             "ticks": ""
            },
            "type": "contourcarpet"
           }
          ],
          "heatmap": [
           {
            "colorbar": {
             "outlinewidth": 0,
             "ticks": ""
            },
            "colorscale": [
             [
              0,
              "#0d0887"
             ],
             [
              0.1111111111111111,
              "#46039f"
             ],
             [
              0.2222222222222222,
              "#7201a8"
             ],
             [
              0.3333333333333333,
              "#9c179e"
             ],
             [
              0.4444444444444444,
              "#bd3786"
             ],
             [
              0.5555555555555556,
              "#d8576b"
             ],
             [
              0.6666666666666666,
              "#ed7953"
             ],
             [
              0.7777777777777778,
              "#fb9f3a"
             ],
             [
              0.8888888888888888,
              "#fdca26"
             ],
             [
              1,
              "#f0f921"
             ]
            ],
            "type": "heatmap"
           }
          ],
          "heatmapgl": [
           {
            "colorbar": {
             "outlinewidth": 0,
             "ticks": ""
            },
            "colorscale": [
             [
              0,
              "#0d0887"
             ],
             [
              0.1111111111111111,
              "#46039f"
             ],
             [
              0.2222222222222222,
              "#7201a8"
             ],
             [
              0.3333333333333333,
              "#9c179e"
             ],
             [
              0.4444444444444444,
              "#bd3786"
             ],
             [
              0.5555555555555556,
              "#d8576b"
             ],
             [
              0.6666666666666666,
              "#ed7953"
             ],
             [
              0.7777777777777778,
              "#fb9f3a"
             ],
             [
              0.8888888888888888,
              "#fdca26"
             ],
             [
              1,
              "#f0f921"
             ]
            ],
            "type": "heatmapgl"
           }
          ],
          "histogram": [
           {
            "marker": {
             "pattern": {
              "fillmode": "overlay",
              "size": 10,
              "solidity": 0.2
             }
            },
            "type": "histogram"
           }
          ],
          "histogram2d": [
           {
            "colorbar": {
             "outlinewidth": 0,
             "ticks": ""
            },
            "colorscale": [
             [
              0,
              "#0d0887"
             ],
             [
              0.1111111111111111,
              "#46039f"
             ],
             [
              0.2222222222222222,
              "#7201a8"
             ],
             [
              0.3333333333333333,
              "#9c179e"
             ],
             [
              0.4444444444444444,
              "#bd3786"
             ],
             [
              0.5555555555555556,
              "#d8576b"
             ],
             [
              0.6666666666666666,
              "#ed7953"
             ],
             [
              0.7777777777777778,
              "#fb9f3a"
             ],
             [
              0.8888888888888888,
              "#fdca26"
             ],
             [
              1,
              "#f0f921"
             ]
            ],
            "type": "histogram2d"
           }
          ],
          "histogram2dcontour": [
           {
            "colorbar": {
             "outlinewidth": 0,
             "ticks": ""
            },
            "colorscale": [
             [
              0,
              "#0d0887"
             ],
             [
              0.1111111111111111,
              "#46039f"
             ],
             [
              0.2222222222222222,
              "#7201a8"
             ],
             [
              0.3333333333333333,
              "#9c179e"
             ],
             [
              0.4444444444444444,
              "#bd3786"
             ],
             [
              0.5555555555555556,
              "#d8576b"
             ],
             [
              0.6666666666666666,
              "#ed7953"
             ],
             [
              0.7777777777777778,
              "#fb9f3a"
             ],
             [
              0.8888888888888888,
              "#fdca26"
             ],
             [
              1,
              "#f0f921"
             ]
            ],
            "type": "histogram2dcontour"
           }
          ],
          "mesh3d": [
           {
            "colorbar": {
             "outlinewidth": 0,
             "ticks": ""
            },
            "type": "mesh3d"
           }
          ],
          "parcoords": [
           {
            "line": {
             "colorbar": {
              "outlinewidth": 0,
              "ticks": ""
             }
            },
            "type": "parcoords"
           }
          ],
          "pie": [
           {
            "automargin": true,
            "type": "pie"
           }
          ],
          "scatter": [
           {
            "fillpattern": {
             "fillmode": "overlay",
             "size": 10,
             "solidity": 0.2
            },
            "type": "scatter"
           }
          ],
          "scatter3d": [
           {
            "line": {
             "colorbar": {
              "outlinewidth": 0,
              "ticks": ""
             }
            },
            "marker": {
             "colorbar": {
              "outlinewidth": 0,
              "ticks": ""
             }
            },
            "type": "scatter3d"
           }
          ],
          "scattercarpet": [
           {
            "marker": {
             "colorbar": {
              "outlinewidth": 0,
              "ticks": ""
             }
            },
            "type": "scattercarpet"
           }
          ],
          "scattergeo": [
           {
            "marker": {
             "colorbar": {
              "outlinewidth": 0,
              "ticks": ""
             }
            },
            "type": "scattergeo"
           }
          ],
          "scattergl": [
           {
            "marker": {
             "colorbar": {
              "outlinewidth": 0,
              "ticks": ""
             }
            },
            "type": "scattergl"
           }
          ],
          "scattermapbox": [
           {
            "marker": {
             "colorbar": {
              "outlinewidth": 0,
              "ticks": ""
             }
            },
            "type": "scattermapbox"
           }
          ],
          "scatterpolar": [
           {
            "marker": {
             "colorbar": {
              "outlinewidth": 0,
              "ticks": ""
             }
            },
            "type": "scatterpolar"
           }
          ],
          "scatterpolargl": [
           {
            "marker": {
             "colorbar": {
              "outlinewidth": 0,
              "ticks": ""
             }
            },
            "type": "scatterpolargl"
           }
          ],
          "scatterternary": [
           {
            "marker": {
             "colorbar": {
              "outlinewidth": 0,
              "ticks": ""
             }
            },
            "type": "scatterternary"
           }
          ],
          "surface": [
           {
            "colorbar": {
             "outlinewidth": 0,
             "ticks": ""
            },
            "colorscale": [
             [
              0,
              "#0d0887"
             ],
             [
              0.1111111111111111,
              "#46039f"
             ],
             [
              0.2222222222222222,
              "#7201a8"
             ],
             [
              0.3333333333333333,
              "#9c179e"
             ],
             [
              0.4444444444444444,
              "#bd3786"
             ],
             [
              0.5555555555555556,
              "#d8576b"
             ],
             [
              0.6666666666666666,
              "#ed7953"
             ],
             [
              0.7777777777777778,
              "#fb9f3a"
             ],
             [
              0.8888888888888888,
              "#fdca26"
             ],
             [
              1,
              "#f0f921"
             ]
            ],
            "type": "surface"
           }
          ],
          "table": [
           {
            "cells": {
             "fill": {
              "color": "#EBF0F8"
             },
             "line": {
              "color": "white"
             }
            },
            "header": {
             "fill": {
              "color": "#C8D4E3"
             },
             "line": {
              "color": "white"
             }
            },
            "type": "table"
           }
          ]
         },
         "layout": {
          "annotationdefaults": {
           "arrowcolor": "#2a3f5f",
           "arrowhead": 0,
           "arrowwidth": 1
          },
          "autotypenumbers": "strict",
          "coloraxis": {
           "colorbar": {
            "outlinewidth": 0,
            "ticks": ""
           }
          },
          "colorscale": {
           "diverging": [
            [
             0,
             "#8e0152"
            ],
            [
             0.1,
             "#c51b7d"
            ],
            [
             0.2,
             "#de77ae"
            ],
            [
             0.3,
             "#f1b6da"
            ],
            [
             0.4,
             "#fde0ef"
            ],
            [
             0.5,
             "#f7f7f7"
            ],
            [
             0.6,
             "#e6f5d0"
            ],
            [
             0.7,
             "#b8e186"
            ],
            [
             0.8,
             "#7fbc41"
            ],
            [
             0.9,
             "#4d9221"
            ],
            [
             1,
             "#276419"
            ]
           ],
           "sequential": [
            [
             0,
             "#0d0887"
            ],
            [
             0.1111111111111111,
             "#46039f"
            ],
            [
             0.2222222222222222,
             "#7201a8"
            ],
            [
             0.3333333333333333,
             "#9c179e"
            ],
            [
             0.4444444444444444,
             "#bd3786"
            ],
            [
             0.5555555555555556,
             "#d8576b"
            ],
            [
             0.6666666666666666,
             "#ed7953"
            ],
            [
             0.7777777777777778,
             "#fb9f3a"
            ],
            [
             0.8888888888888888,
             "#fdca26"
            ],
            [
             1,
             "#f0f921"
            ]
           ],
           "sequentialminus": [
            [
             0,
             "#0d0887"
            ],
            [
             0.1111111111111111,
             "#46039f"
            ],
            [
             0.2222222222222222,
             "#7201a8"
            ],
            [
             0.3333333333333333,
             "#9c179e"
            ],
            [
             0.4444444444444444,
             "#bd3786"
            ],
            [
             0.5555555555555556,
             "#d8576b"
            ],
            [
             0.6666666666666666,
             "#ed7953"
            ],
            [
             0.7777777777777778,
             "#fb9f3a"
            ],
            [
             0.8888888888888888,
             "#fdca26"
            ],
            [
             1,
             "#f0f921"
            ]
           ]
          },
          "colorway": [
           "#636efa",
           "#EF553B",
           "#00cc96",
           "#ab63fa",
           "#FFA15A",
           "#19d3f3",
           "#FF6692",
           "#B6E880",
           "#FF97FF",
           "#FECB52"
          ],
          "font": {
           "color": "#2a3f5f"
          },
          "geo": {
           "bgcolor": "white",
           "lakecolor": "white",
           "landcolor": "#E5ECF6",
           "showlakes": true,
           "showland": true,
           "subunitcolor": "white"
          },
          "hoverlabel": {
           "align": "left"
          },
          "hovermode": "closest",
          "mapbox": {
           "style": "light"
          },
          "paper_bgcolor": "white",
          "plot_bgcolor": "#E5ECF6",
          "polar": {
           "angularaxis": {
            "gridcolor": "white",
            "linecolor": "white",
            "ticks": ""
           },
           "bgcolor": "#E5ECF6",
           "radialaxis": {
            "gridcolor": "white",
            "linecolor": "white",
            "ticks": ""
           }
          },
          "scene": {
           "xaxis": {
            "backgroundcolor": "#E5ECF6",
            "gridcolor": "white",
            "gridwidth": 2,
            "linecolor": "white",
            "showbackground": true,
            "ticks": "",
            "zerolinecolor": "white"
           },
           "yaxis": {
            "backgroundcolor": "#E5ECF6",
            "gridcolor": "white",
            "gridwidth": 2,
            "linecolor": "white",
            "showbackground": true,
            "ticks": "",
            "zerolinecolor": "white"
           },
           "zaxis": {
            "backgroundcolor": "#E5ECF6",
            "gridcolor": "white",
            "gridwidth": 2,
            "linecolor": "white",
            "showbackground": true,
            "ticks": "",
            "zerolinecolor": "white"
           }
          },
          "shapedefaults": {
           "line": {
            "color": "#2a3f5f"
           }
          },
          "ternary": {
           "aaxis": {
            "gridcolor": "white",
            "linecolor": "white",
            "ticks": ""
           },
           "baxis": {
            "gridcolor": "white",
            "linecolor": "white",
            "ticks": ""
           },
           "bgcolor": "#E5ECF6",
           "caxis": {
            "gridcolor": "white",
            "linecolor": "white",
            "ticks": ""
           }
          },
          "title": {
           "x": 0.05
          },
          "xaxis": {
           "automargin": true,
           "gridcolor": "white",
           "linecolor": "white",
           "ticks": "",
           "title": {
            "standoff": 15
           },
           "zerolinecolor": "white",
           "zerolinewidth": 2
          },
          "yaxis": {
           "automargin": true,
           "gridcolor": "white",
           "linecolor": "white",
           "ticks": "",
           "title": {
            "standoff": 15
           },
           "zerolinecolor": "white",
           "zerolinewidth": 2
          }
         }
        },
        "title": {
         "text": "TTC vs Optimistic"
        },
        "width": 800,
        "xaxis": {
         "title": {
          "text": "Index"
         }
        },
        "yaxis": {
         "title": {
          "text": "Values"
         }
        }
       }
      }
     },
     "metadata": {},
     "output_type": "display_data"
    }
   ],
   "source": [
    "trace1 = go.Scatter(\n",
    "    x=list(range(10)), \n",
    "    y=cumulative['AAA'],\n",
    "    mode='lines+markers',\n",
    "    name='Cumulative TTC'\n",
    ")\n",
    "\n",
    "trace2 = go.Scatter(\n",
    "    x=list(range(10)),\n",
    "    y=Pesimistic_final['AAA'],\n",
    "    mode='lines+markers',\n",
    "    name='PIT optimistic'\n",
    ")\n",
    "\n",
    "# Create the figure\n",
    "fig = go.Figure()\n",
    "\n",
    "# Add traces to the figure\n",
    "fig.add_trace(trace1)\n",
    "fig.add_trace(trace2)\n",
    "\n",
    "# Add titles and labels\n",
    "fig.update_layout(title='TTC vs Optimistic',\n",
    "    xaxis_title='Index',\n",
    "    yaxis_title='Values',\n",
    "    width=800, height=800,)\n",
    "\n",
    "# Show the plot\n",
    "fig.show()"
   ]
  },
  {
   "cell_type": "code",
   "execution_count": 282,
   "metadata": {},
   "outputs": [
    {
     "data": {
      "application/vnd.plotly.v1+json": {
       "config": {
        "plotlyServerURL": "https://plot.ly"
       },
       "data": [
        {
         "mode": "lines+markers",
         "name": "Cumulative TTC",
         "type": "scatter",
         "x": [
          0,
          1,
          2,
          3,
          4,
          5,
          6,
          7,
          8,
          9
         ],
         "y": [
          0.0311000000000001,
          0.0622997300000002,
          0.0933795611610003,
          0.1242006938443939,
          0.1546669979240049,
          0.1847072554576695,
          0.2142663491703118,
          0.2433004860965673,
          0.2717743355472219,
          0.2996591499736954
         ]
        },
        {
         "mode": "lines+markers",
         "name": "PIT Base",
         "type": "scatter",
         "x": [
          0,
          1,
          2,
          3,
          4,
          5,
          6,
          7,
          8,
          9
         ],
         "y": [
          0.009445940468182503,
          0.01880265514503656,
          0.042573711845936016,
          0.06703888007735781,
          0.09875548079993376,
          0.13010694383381008,
          0.16101998209187357,
          0.19143787693810066,
          0.2213155630593122,
          0.25061668327893794
         ]
        }
       ],
       "layout": {
        "height": 800,
        "template": {
         "data": {
          "bar": [
           {
            "error_x": {
             "color": "#2a3f5f"
            },
            "error_y": {
             "color": "#2a3f5f"
            },
            "marker": {
             "line": {
              "color": "#E5ECF6",
              "width": 0.5
             },
             "pattern": {
              "fillmode": "overlay",
              "size": 10,
              "solidity": 0.2
             }
            },
            "type": "bar"
           }
          ],
          "barpolar": [
           {
            "marker": {
             "line": {
              "color": "#E5ECF6",
              "width": 0.5
             },
             "pattern": {
              "fillmode": "overlay",
              "size": 10,
              "solidity": 0.2
             }
            },
            "type": "barpolar"
           }
          ],
          "carpet": [
           {
            "aaxis": {
             "endlinecolor": "#2a3f5f",
             "gridcolor": "white",
             "linecolor": "white",
             "minorgridcolor": "white",
             "startlinecolor": "#2a3f5f"
            },
            "baxis": {
             "endlinecolor": "#2a3f5f",
             "gridcolor": "white",
             "linecolor": "white",
             "minorgridcolor": "white",
             "startlinecolor": "#2a3f5f"
            },
            "type": "carpet"
           }
          ],
          "choropleth": [
           {
            "colorbar": {
             "outlinewidth": 0,
             "ticks": ""
            },
            "type": "choropleth"
           }
          ],
          "contour": [
           {
            "colorbar": {
             "outlinewidth": 0,
             "ticks": ""
            },
            "colorscale": [
             [
              0,
              "#0d0887"
             ],
             [
              0.1111111111111111,
              "#46039f"
             ],
             [
              0.2222222222222222,
              "#7201a8"
             ],
             [
              0.3333333333333333,
              "#9c179e"
             ],
             [
              0.4444444444444444,
              "#bd3786"
             ],
             [
              0.5555555555555556,
              "#d8576b"
             ],
             [
              0.6666666666666666,
              "#ed7953"
             ],
             [
              0.7777777777777778,
              "#fb9f3a"
             ],
             [
              0.8888888888888888,
              "#fdca26"
             ],
             [
              1,
              "#f0f921"
             ]
            ],
            "type": "contour"
           }
          ],
          "contourcarpet": [
           {
            "colorbar": {
             "outlinewidth": 0,
             "ticks": ""
            },
            "type": "contourcarpet"
           }
          ],
          "heatmap": [
           {
            "colorbar": {
             "outlinewidth": 0,
             "ticks": ""
            },
            "colorscale": [
             [
              0,
              "#0d0887"
             ],
             [
              0.1111111111111111,
              "#46039f"
             ],
             [
              0.2222222222222222,
              "#7201a8"
             ],
             [
              0.3333333333333333,
              "#9c179e"
             ],
             [
              0.4444444444444444,
              "#bd3786"
             ],
             [
              0.5555555555555556,
              "#d8576b"
             ],
             [
              0.6666666666666666,
              "#ed7953"
             ],
             [
              0.7777777777777778,
              "#fb9f3a"
             ],
             [
              0.8888888888888888,
              "#fdca26"
             ],
             [
              1,
              "#f0f921"
             ]
            ],
            "type": "heatmap"
           }
          ],
          "heatmapgl": [
           {
            "colorbar": {
             "outlinewidth": 0,
             "ticks": ""
            },
            "colorscale": [
             [
              0,
              "#0d0887"
             ],
             [
              0.1111111111111111,
              "#46039f"
             ],
             [
              0.2222222222222222,
              "#7201a8"
             ],
             [
              0.3333333333333333,
              "#9c179e"
             ],
             [
              0.4444444444444444,
              "#bd3786"
             ],
             [
              0.5555555555555556,
              "#d8576b"
             ],
             [
              0.6666666666666666,
              "#ed7953"
             ],
             [
              0.7777777777777778,
              "#fb9f3a"
             ],
             [
              0.8888888888888888,
              "#fdca26"
             ],
             [
              1,
              "#f0f921"
             ]
            ],
            "type": "heatmapgl"
           }
          ],
          "histogram": [
           {
            "marker": {
             "pattern": {
              "fillmode": "overlay",
              "size": 10,
              "solidity": 0.2
             }
            },
            "type": "histogram"
           }
          ],
          "histogram2d": [
           {
            "colorbar": {
             "outlinewidth": 0,
             "ticks": ""
            },
            "colorscale": [
             [
              0,
              "#0d0887"
             ],
             [
              0.1111111111111111,
              "#46039f"
             ],
             [
              0.2222222222222222,
              "#7201a8"
             ],
             [
              0.3333333333333333,
              "#9c179e"
             ],
             [
              0.4444444444444444,
              "#bd3786"
             ],
             [
              0.5555555555555556,
              "#d8576b"
             ],
             [
              0.6666666666666666,
              "#ed7953"
             ],
             [
              0.7777777777777778,
              "#fb9f3a"
             ],
             [
              0.8888888888888888,
              "#fdca26"
             ],
             [
              1,
              "#f0f921"
             ]
            ],
            "type": "histogram2d"
           }
          ],
          "histogram2dcontour": [
           {
            "colorbar": {
             "outlinewidth": 0,
             "ticks": ""
            },
            "colorscale": [
             [
              0,
              "#0d0887"
             ],
             [
              0.1111111111111111,
              "#46039f"
             ],
             [
              0.2222222222222222,
              "#7201a8"
             ],
             [
              0.3333333333333333,
              "#9c179e"
             ],
             [
              0.4444444444444444,
              "#bd3786"
             ],
             [
              0.5555555555555556,
              "#d8576b"
             ],
             [
              0.6666666666666666,
              "#ed7953"
             ],
             [
              0.7777777777777778,
              "#fb9f3a"
             ],
             [
              0.8888888888888888,
              "#fdca26"
             ],
             [
              1,
              "#f0f921"
             ]
            ],
            "type": "histogram2dcontour"
           }
          ],
          "mesh3d": [
           {
            "colorbar": {
             "outlinewidth": 0,
             "ticks": ""
            },
            "type": "mesh3d"
           }
          ],
          "parcoords": [
           {
            "line": {
             "colorbar": {
              "outlinewidth": 0,
              "ticks": ""
             }
            },
            "type": "parcoords"
           }
          ],
          "pie": [
           {
            "automargin": true,
            "type": "pie"
           }
          ],
          "scatter": [
           {
            "fillpattern": {
             "fillmode": "overlay",
             "size": 10,
             "solidity": 0.2
            },
            "type": "scatter"
           }
          ],
          "scatter3d": [
           {
            "line": {
             "colorbar": {
              "outlinewidth": 0,
              "ticks": ""
             }
            },
            "marker": {
             "colorbar": {
              "outlinewidth": 0,
              "ticks": ""
             }
            },
            "type": "scatter3d"
           }
          ],
          "scattercarpet": [
           {
            "marker": {
             "colorbar": {
              "outlinewidth": 0,
              "ticks": ""
             }
            },
            "type": "scattercarpet"
           }
          ],
          "scattergeo": [
           {
            "marker": {
             "colorbar": {
              "outlinewidth": 0,
              "ticks": ""
             }
            },
            "type": "scattergeo"
           }
          ],
          "scattergl": [
           {
            "marker": {
             "colorbar": {
              "outlinewidth": 0,
              "ticks": ""
             }
            },
            "type": "scattergl"
           }
          ],
          "scattermapbox": [
           {
            "marker": {
             "colorbar": {
              "outlinewidth": 0,
              "ticks": ""
             }
            },
            "type": "scattermapbox"
           }
          ],
          "scatterpolar": [
           {
            "marker": {
             "colorbar": {
              "outlinewidth": 0,
              "ticks": ""
             }
            },
            "type": "scatterpolar"
           }
          ],
          "scatterpolargl": [
           {
            "marker": {
             "colorbar": {
              "outlinewidth": 0,
              "ticks": ""
             }
            },
            "type": "scatterpolargl"
           }
          ],
          "scatterternary": [
           {
            "marker": {
             "colorbar": {
              "outlinewidth": 0,
              "ticks": ""
             }
            },
            "type": "scatterternary"
           }
          ],
          "surface": [
           {
            "colorbar": {
             "outlinewidth": 0,
             "ticks": ""
            },
            "colorscale": [
             [
              0,
              "#0d0887"
             ],
             [
              0.1111111111111111,
              "#46039f"
             ],
             [
              0.2222222222222222,
              "#7201a8"
             ],
             [
              0.3333333333333333,
              "#9c179e"
             ],
             [
              0.4444444444444444,
              "#bd3786"
             ],
             [
              0.5555555555555556,
              "#d8576b"
             ],
             [
              0.6666666666666666,
              "#ed7953"
             ],
             [
              0.7777777777777778,
              "#fb9f3a"
             ],
             [
              0.8888888888888888,
              "#fdca26"
             ],
             [
              1,
              "#f0f921"
             ]
            ],
            "type": "surface"
           }
          ],
          "table": [
           {
            "cells": {
             "fill": {
              "color": "#EBF0F8"
             },
             "line": {
              "color": "white"
             }
            },
            "header": {
             "fill": {
              "color": "#C8D4E3"
             },
             "line": {
              "color": "white"
             }
            },
            "type": "table"
           }
          ]
         },
         "layout": {
          "annotationdefaults": {
           "arrowcolor": "#2a3f5f",
           "arrowhead": 0,
           "arrowwidth": 1
          },
          "autotypenumbers": "strict",
          "coloraxis": {
           "colorbar": {
            "outlinewidth": 0,
            "ticks": ""
           }
          },
          "colorscale": {
           "diverging": [
            [
             0,
             "#8e0152"
            ],
            [
             0.1,
             "#c51b7d"
            ],
            [
             0.2,
             "#de77ae"
            ],
            [
             0.3,
             "#f1b6da"
            ],
            [
             0.4,
             "#fde0ef"
            ],
            [
             0.5,
             "#f7f7f7"
            ],
            [
             0.6,
             "#e6f5d0"
            ],
            [
             0.7,
             "#b8e186"
            ],
            [
             0.8,
             "#7fbc41"
            ],
            [
             0.9,
             "#4d9221"
            ],
            [
             1,
             "#276419"
            ]
           ],
           "sequential": [
            [
             0,
             "#0d0887"
            ],
            [
             0.1111111111111111,
             "#46039f"
            ],
            [
             0.2222222222222222,
             "#7201a8"
            ],
            [
             0.3333333333333333,
             "#9c179e"
            ],
            [
             0.4444444444444444,
             "#bd3786"
            ],
            [
             0.5555555555555556,
             "#d8576b"
            ],
            [
             0.6666666666666666,
             "#ed7953"
            ],
            [
             0.7777777777777778,
             "#fb9f3a"
            ],
            [
             0.8888888888888888,
             "#fdca26"
            ],
            [
             1,
             "#f0f921"
            ]
           ],
           "sequentialminus": [
            [
             0,
             "#0d0887"
            ],
            [
             0.1111111111111111,
             "#46039f"
            ],
            [
             0.2222222222222222,
             "#7201a8"
            ],
            [
             0.3333333333333333,
             "#9c179e"
            ],
            [
             0.4444444444444444,
             "#bd3786"
            ],
            [
             0.5555555555555556,
             "#d8576b"
            ],
            [
             0.6666666666666666,
             "#ed7953"
            ],
            [
             0.7777777777777778,
             "#fb9f3a"
            ],
            [
             0.8888888888888888,
             "#fdca26"
            ],
            [
             1,
             "#f0f921"
            ]
           ]
          },
          "colorway": [
           "#636efa",
           "#EF553B",
           "#00cc96",
           "#ab63fa",
           "#FFA15A",
           "#19d3f3",
           "#FF6692",
           "#B6E880",
           "#FF97FF",
           "#FECB52"
          ],
          "font": {
           "color": "#2a3f5f"
          },
          "geo": {
           "bgcolor": "white",
           "lakecolor": "white",
           "landcolor": "#E5ECF6",
           "showlakes": true,
           "showland": true,
           "subunitcolor": "white"
          },
          "hoverlabel": {
           "align": "left"
          },
          "hovermode": "closest",
          "mapbox": {
           "style": "light"
          },
          "paper_bgcolor": "white",
          "plot_bgcolor": "#E5ECF6",
          "polar": {
           "angularaxis": {
            "gridcolor": "white",
            "linecolor": "white",
            "ticks": ""
           },
           "bgcolor": "#E5ECF6",
           "radialaxis": {
            "gridcolor": "white",
            "linecolor": "white",
            "ticks": ""
           }
          },
          "scene": {
           "xaxis": {
            "backgroundcolor": "#E5ECF6",
            "gridcolor": "white",
            "gridwidth": 2,
            "linecolor": "white",
            "showbackground": true,
            "ticks": "",
            "zerolinecolor": "white"
           },
           "yaxis": {
            "backgroundcolor": "#E5ECF6",
            "gridcolor": "white",
            "gridwidth": 2,
            "linecolor": "white",
            "showbackground": true,
            "ticks": "",
            "zerolinecolor": "white"
           },
           "zaxis": {
            "backgroundcolor": "#E5ECF6",
            "gridcolor": "white",
            "gridwidth": 2,
            "linecolor": "white",
            "showbackground": true,
            "ticks": "",
            "zerolinecolor": "white"
           }
          },
          "shapedefaults": {
           "line": {
            "color": "#2a3f5f"
           }
          },
          "ternary": {
           "aaxis": {
            "gridcolor": "white",
            "linecolor": "white",
            "ticks": ""
           },
           "baxis": {
            "gridcolor": "white",
            "linecolor": "white",
            "ticks": ""
           },
           "bgcolor": "#E5ECF6",
           "caxis": {
            "gridcolor": "white",
            "linecolor": "white",
            "ticks": ""
           }
          },
          "title": {
           "x": 0.05
          },
          "xaxis": {
           "automargin": true,
           "gridcolor": "white",
           "linecolor": "white",
           "ticks": "",
           "title": {
            "standoff": 15
           },
           "zerolinecolor": "white",
           "zerolinewidth": 2
          },
          "yaxis": {
           "automargin": true,
           "gridcolor": "white",
           "linecolor": "white",
           "ticks": "",
           "title": {
            "standoff": 15
           },
           "zerolinecolor": "white",
           "zerolinewidth": 2
          }
         }
        },
        "title": {
         "text": "TTC vs Base"
        },
        "width": 800,
        "xaxis": {
         "title": {
          "text": "Index"
         }
        },
        "yaxis": {
         "title": {
          "text": "Values"
         }
        }
       }
      }
     },
     "metadata": {},
     "output_type": "display_data"
    }
   ],
   "source": [
    "trace1 = go.Scatter(\n",
    "    x=list(range(10)), \n",
    "    y=cumulative['AAA'],\n",
    "    mode='lines+markers',\n",
    "    name='Cumulative TTC'\n",
    ")\n",
    "\n",
    "trace2 = go.Scatter(\n",
    "    x=list(range(10)),\n",
    "    y=Base_final_cumulative['AAA'],\n",
    "    mode='lines+markers',\n",
    "    name='PIT Base'\n",
    ")\n",
    "\n",
    "# Create the figure\n",
    "fig = go.Figure()\n",
    "\n",
    "# Add traces to the figure\n",
    "fig.add_trace(trace1)\n",
    "fig.add_trace(trace2)\n",
    "\n",
    "# Add titles and labels\n",
    "fig.update_layout(title='TTC vs Base',\n",
    "    xaxis_title='Index',\n",
    "    yaxis_title='Values',\n",
    "    width=800, height=800,)\n",
    "\n",
    "# Show the plot\n",
    "fig.show()"
   ]
  },
  {
   "cell_type": "code",
   "execution_count": 283,
   "metadata": {},
   "outputs": [
    {
     "data": {
      "application/vnd.plotly.v1+json": {
       "config": {
        "plotlyServerURL": "https://plot.ly"
       },
       "data": [
        {
         "mode": "lines+markers",
         "name": "Conditional TTC AAA",
         "type": "scatter",
         "x": [
          0,
          1,
          2,
          3,
          4,
          5,
          6,
          7,
          8,
          9
         ],
         "y": [
          0.0311000000000001,
          0.0322011869129942,
          0.0331447394816257,
          0.0339956296626871,
          0.0347868556933955,
          0.0355365961814939,
          0.0362558037104026,
          0.0369516271774757,
          0.0376290045486778,
          0.0382914469890695
         ]
        },
        {
         "mode": "lines+markers",
         "name": "PiT Pesimistic AAA",
         "type": "scatter",
         "x": [
          0,
          1,
          2,
          3,
          4,
          5,
          6,
          7,
          8,
          9
         ],
         "y": [
          0.009027311925833706,
          0.0411871939856991,
          0.027433237272782816,
          0.0339956296626871,
          0.0347868556933955,
          0.0355365961814939,
          0.0362558037104026,
          0.0369516271774757,
          0.0376290045486778,
          0.0382914469890695
         ]
        }
       ],
       "layout": {
        "height": 800,
        "template": {
         "data": {
          "bar": [
           {
            "error_x": {
             "color": "#2a3f5f"
            },
            "error_y": {
             "color": "#2a3f5f"
            },
            "marker": {
             "line": {
              "color": "#E5ECF6",
              "width": 0.5
             },
             "pattern": {
              "fillmode": "overlay",
              "size": 10,
              "solidity": 0.2
             }
            },
            "type": "bar"
           }
          ],
          "barpolar": [
           {
            "marker": {
             "line": {
              "color": "#E5ECF6",
              "width": 0.5
             },
             "pattern": {
              "fillmode": "overlay",
              "size": 10,
              "solidity": 0.2
             }
            },
            "type": "barpolar"
           }
          ],
          "carpet": [
           {
            "aaxis": {
             "endlinecolor": "#2a3f5f",
             "gridcolor": "white",
             "linecolor": "white",
             "minorgridcolor": "white",
             "startlinecolor": "#2a3f5f"
            },
            "baxis": {
             "endlinecolor": "#2a3f5f",
             "gridcolor": "white",
             "linecolor": "white",
             "minorgridcolor": "white",
             "startlinecolor": "#2a3f5f"
            },
            "type": "carpet"
           }
          ],
          "choropleth": [
           {
            "colorbar": {
             "outlinewidth": 0,
             "ticks": ""
            },
            "type": "choropleth"
           }
          ],
          "contour": [
           {
            "colorbar": {
             "outlinewidth": 0,
             "ticks": ""
            },
            "colorscale": [
             [
              0,
              "#0d0887"
             ],
             [
              0.1111111111111111,
              "#46039f"
             ],
             [
              0.2222222222222222,
              "#7201a8"
             ],
             [
              0.3333333333333333,
              "#9c179e"
             ],
             [
              0.4444444444444444,
              "#bd3786"
             ],
             [
              0.5555555555555556,
              "#d8576b"
             ],
             [
              0.6666666666666666,
              "#ed7953"
             ],
             [
              0.7777777777777778,
              "#fb9f3a"
             ],
             [
              0.8888888888888888,
              "#fdca26"
             ],
             [
              1,
              "#f0f921"
             ]
            ],
            "type": "contour"
           }
          ],
          "contourcarpet": [
           {
            "colorbar": {
             "outlinewidth": 0,
             "ticks": ""
            },
            "type": "contourcarpet"
           }
          ],
          "heatmap": [
           {
            "colorbar": {
             "outlinewidth": 0,
             "ticks": ""
            },
            "colorscale": [
             [
              0,
              "#0d0887"
             ],
             [
              0.1111111111111111,
              "#46039f"
             ],
             [
              0.2222222222222222,
              "#7201a8"
             ],
             [
              0.3333333333333333,
              "#9c179e"
             ],
             [
              0.4444444444444444,
              "#bd3786"
             ],
             [
              0.5555555555555556,
              "#d8576b"
             ],
             [
              0.6666666666666666,
              "#ed7953"
             ],
             [
              0.7777777777777778,
              "#fb9f3a"
             ],
             [
              0.8888888888888888,
              "#fdca26"
             ],
             [
              1,
              "#f0f921"
             ]
            ],
            "type": "heatmap"
           }
          ],
          "heatmapgl": [
           {
            "colorbar": {
             "outlinewidth": 0,
             "ticks": ""
            },
            "colorscale": [
             [
              0,
              "#0d0887"
             ],
             [
              0.1111111111111111,
              "#46039f"
             ],
             [
              0.2222222222222222,
              "#7201a8"
             ],
             [
              0.3333333333333333,
              "#9c179e"
             ],
             [
              0.4444444444444444,
              "#bd3786"
             ],
             [
              0.5555555555555556,
              "#d8576b"
             ],
             [
              0.6666666666666666,
              "#ed7953"
             ],
             [
              0.7777777777777778,
              "#fb9f3a"
             ],
             [
              0.8888888888888888,
              "#fdca26"
             ],
             [
              1,
              "#f0f921"
             ]
            ],
            "type": "heatmapgl"
           }
          ],
          "histogram": [
           {
            "marker": {
             "pattern": {
              "fillmode": "overlay",
              "size": 10,
              "solidity": 0.2
             }
            },
            "type": "histogram"
           }
          ],
          "histogram2d": [
           {
            "colorbar": {
             "outlinewidth": 0,
             "ticks": ""
            },
            "colorscale": [
             [
              0,
              "#0d0887"
             ],
             [
              0.1111111111111111,
              "#46039f"
             ],
             [
              0.2222222222222222,
              "#7201a8"
             ],
             [
              0.3333333333333333,
              "#9c179e"
             ],
             [
              0.4444444444444444,
              "#bd3786"
             ],
             [
              0.5555555555555556,
              "#d8576b"
             ],
             [
              0.6666666666666666,
              "#ed7953"
             ],
             [
              0.7777777777777778,
              "#fb9f3a"
             ],
             [
              0.8888888888888888,
              "#fdca26"
             ],
             [
              1,
              "#f0f921"
             ]
            ],
            "type": "histogram2d"
           }
          ],
          "histogram2dcontour": [
           {
            "colorbar": {
             "outlinewidth": 0,
             "ticks": ""
            },
            "colorscale": [
             [
              0,
              "#0d0887"
             ],
             [
              0.1111111111111111,
              "#46039f"
             ],
             [
              0.2222222222222222,
              "#7201a8"
             ],
             [
              0.3333333333333333,
              "#9c179e"
             ],
             [
              0.4444444444444444,
              "#bd3786"
             ],
             [
              0.5555555555555556,
              "#d8576b"
             ],
             [
              0.6666666666666666,
              "#ed7953"
             ],
             [
              0.7777777777777778,
              "#fb9f3a"
             ],
             [
              0.8888888888888888,
              "#fdca26"
             ],
             [
              1,
              "#f0f921"
             ]
            ],
            "type": "histogram2dcontour"
           }
          ],
          "mesh3d": [
           {
            "colorbar": {
             "outlinewidth": 0,
             "ticks": ""
            },
            "type": "mesh3d"
           }
          ],
          "parcoords": [
           {
            "line": {
             "colorbar": {
              "outlinewidth": 0,
              "ticks": ""
             }
            },
            "type": "parcoords"
           }
          ],
          "pie": [
           {
            "automargin": true,
            "type": "pie"
           }
          ],
          "scatter": [
           {
            "fillpattern": {
             "fillmode": "overlay",
             "size": 10,
             "solidity": 0.2
            },
            "type": "scatter"
           }
          ],
          "scatter3d": [
           {
            "line": {
             "colorbar": {
              "outlinewidth": 0,
              "ticks": ""
             }
            },
            "marker": {
             "colorbar": {
              "outlinewidth": 0,
              "ticks": ""
             }
            },
            "type": "scatter3d"
           }
          ],
          "scattercarpet": [
           {
            "marker": {
             "colorbar": {
              "outlinewidth": 0,
              "ticks": ""
             }
            },
            "type": "scattercarpet"
           }
          ],
          "scattergeo": [
           {
            "marker": {
             "colorbar": {
              "outlinewidth": 0,
              "ticks": ""
             }
            },
            "type": "scattergeo"
           }
          ],
          "scattergl": [
           {
            "marker": {
             "colorbar": {
              "outlinewidth": 0,
              "ticks": ""
             }
            },
            "type": "scattergl"
           }
          ],
          "scattermapbox": [
           {
            "marker": {
             "colorbar": {
              "outlinewidth": 0,
              "ticks": ""
             }
            },
            "type": "scattermapbox"
           }
          ],
          "scatterpolar": [
           {
            "marker": {
             "colorbar": {
              "outlinewidth": 0,
              "ticks": ""
             }
            },
            "type": "scatterpolar"
           }
          ],
          "scatterpolargl": [
           {
            "marker": {
             "colorbar": {
              "outlinewidth": 0,
              "ticks": ""
             }
            },
            "type": "scatterpolargl"
           }
          ],
          "scatterternary": [
           {
            "marker": {
             "colorbar": {
              "outlinewidth": 0,
              "ticks": ""
             }
            },
            "type": "scatterternary"
           }
          ],
          "surface": [
           {
            "colorbar": {
             "outlinewidth": 0,
             "ticks": ""
            },
            "colorscale": [
             [
              0,
              "#0d0887"
             ],
             [
              0.1111111111111111,
              "#46039f"
             ],
             [
              0.2222222222222222,
              "#7201a8"
             ],
             [
              0.3333333333333333,
              "#9c179e"
             ],
             [
              0.4444444444444444,
              "#bd3786"
             ],
             [
              0.5555555555555556,
              "#d8576b"
             ],
             [
              0.6666666666666666,
              "#ed7953"
             ],
             [
              0.7777777777777778,
              "#fb9f3a"
             ],
             [
              0.8888888888888888,
              "#fdca26"
             ],
             [
              1,
              "#f0f921"
             ]
            ],
            "type": "surface"
           }
          ],
          "table": [
           {
            "cells": {
             "fill": {
              "color": "#EBF0F8"
             },
             "line": {
              "color": "white"
             }
            },
            "header": {
             "fill": {
              "color": "#C8D4E3"
             },
             "line": {
              "color": "white"
             }
            },
            "type": "table"
           }
          ]
         },
         "layout": {
          "annotationdefaults": {
           "arrowcolor": "#2a3f5f",
           "arrowhead": 0,
           "arrowwidth": 1
          },
          "autotypenumbers": "strict",
          "coloraxis": {
           "colorbar": {
            "outlinewidth": 0,
            "ticks": ""
           }
          },
          "colorscale": {
           "diverging": [
            [
             0,
             "#8e0152"
            ],
            [
             0.1,
             "#c51b7d"
            ],
            [
             0.2,
             "#de77ae"
            ],
            [
             0.3,
             "#f1b6da"
            ],
            [
             0.4,
             "#fde0ef"
            ],
            [
             0.5,
             "#f7f7f7"
            ],
            [
             0.6,
             "#e6f5d0"
            ],
            [
             0.7,
             "#b8e186"
            ],
            [
             0.8,
             "#7fbc41"
            ],
            [
             0.9,
             "#4d9221"
            ],
            [
             1,
             "#276419"
            ]
           ],
           "sequential": [
            [
             0,
             "#0d0887"
            ],
            [
             0.1111111111111111,
             "#46039f"
            ],
            [
             0.2222222222222222,
             "#7201a8"
            ],
            [
             0.3333333333333333,
             "#9c179e"
            ],
            [
             0.4444444444444444,
             "#bd3786"
            ],
            [
             0.5555555555555556,
             "#d8576b"
            ],
            [
             0.6666666666666666,
             "#ed7953"
            ],
            [
             0.7777777777777778,
             "#fb9f3a"
            ],
            [
             0.8888888888888888,
             "#fdca26"
            ],
            [
             1,
             "#f0f921"
            ]
           ],
           "sequentialminus": [
            [
             0,
             "#0d0887"
            ],
            [
             0.1111111111111111,
             "#46039f"
            ],
            [
             0.2222222222222222,
             "#7201a8"
            ],
            [
             0.3333333333333333,
             "#9c179e"
            ],
            [
             0.4444444444444444,
             "#bd3786"
            ],
            [
             0.5555555555555556,
             "#d8576b"
            ],
            [
             0.6666666666666666,
             "#ed7953"
            ],
            [
             0.7777777777777778,
             "#fb9f3a"
            ],
            [
             0.8888888888888888,
             "#fdca26"
            ],
            [
             1,
             "#f0f921"
            ]
           ]
          },
          "colorway": [
           "#636efa",
           "#EF553B",
           "#00cc96",
           "#ab63fa",
           "#FFA15A",
           "#19d3f3",
           "#FF6692",
           "#B6E880",
           "#FF97FF",
           "#FECB52"
          ],
          "font": {
           "color": "#2a3f5f"
          },
          "geo": {
           "bgcolor": "white",
           "lakecolor": "white",
           "landcolor": "#E5ECF6",
           "showlakes": true,
           "showland": true,
           "subunitcolor": "white"
          },
          "hoverlabel": {
           "align": "left"
          },
          "hovermode": "closest",
          "mapbox": {
           "style": "light"
          },
          "paper_bgcolor": "white",
          "plot_bgcolor": "#E5ECF6",
          "polar": {
           "angularaxis": {
            "gridcolor": "white",
            "linecolor": "white",
            "ticks": ""
           },
           "bgcolor": "#E5ECF6",
           "radialaxis": {
            "gridcolor": "white",
            "linecolor": "white",
            "ticks": ""
           }
          },
          "scene": {
           "xaxis": {
            "backgroundcolor": "#E5ECF6",
            "gridcolor": "white",
            "gridwidth": 2,
            "linecolor": "white",
            "showbackground": true,
            "ticks": "",
            "zerolinecolor": "white"
           },
           "yaxis": {
            "backgroundcolor": "#E5ECF6",
            "gridcolor": "white",
            "gridwidth": 2,
            "linecolor": "white",
            "showbackground": true,
            "ticks": "",
            "zerolinecolor": "white"
           },
           "zaxis": {
            "backgroundcolor": "#E5ECF6",
            "gridcolor": "white",
            "gridwidth": 2,
            "linecolor": "white",
            "showbackground": true,
            "ticks": "",
            "zerolinecolor": "white"
           }
          },
          "shapedefaults": {
           "line": {
            "color": "#2a3f5f"
           }
          },
          "ternary": {
           "aaxis": {
            "gridcolor": "white",
            "linecolor": "white",
            "ticks": ""
           },
           "baxis": {
            "gridcolor": "white",
            "linecolor": "white",
            "ticks": ""
           },
           "bgcolor": "#E5ECF6",
           "caxis": {
            "gridcolor": "white",
            "linecolor": "white",
            "ticks": ""
           }
          },
          "title": {
           "x": 0.05
          },
          "xaxis": {
           "automargin": true,
           "gridcolor": "white",
           "linecolor": "white",
           "ticks": "",
           "title": {
            "standoff": 15
           },
           "zerolinecolor": "white",
           "zerolinewidth": 2
          },
          "yaxis": {
           "automargin": true,
           "gridcolor": "white",
           "linecolor": "white",
           "ticks": "",
           "title": {
            "standoff": 15
           },
           "zerolinecolor": "white",
           "zerolinewidth": 2
          }
         }
        },
        "title": {
         "text": "PiT vs Pessimistic AAA"
        },
        "width": 800,
        "xaxis": {
         "title": {
          "text": "Index"
         }
        },
        "yaxis": {
         "title": {
          "text": "Values"
         }
        }
       }
      }
     },
     "metadata": {},
     "output_type": "display_data"
    }
   ],
   "source": [
    "trace1 = go.Scatter(\n",
    "    x=list(range(10)), \n",
    "    y=conditional['AAA'],\n",
    "    mode='lines+markers',\n",
    "    name='Conditional TTC AAA'\n",
    ")\n",
    "\n",
    "trace2 = go.Scatter(\n",
    "    x=list(range(10)),\n",
    "    y=Pesimistic_final['AAA'],\n",
    "    mode='lines+markers',\n",
    "    name='PiT Pesimistic AAA'\n",
    ")\n",
    "\n",
    "# Create the figure\n",
    "fig = go.Figure()\n",
    "\n",
    "# Add traces to the figure\n",
    "fig.add_trace(trace1)\n",
    "fig.add_trace(trace2)\n",
    "\n",
    "# Add titles and labels\n",
    "fig.update_layout(title='PiT vs Pessimistic AAA',\n",
    "    xaxis_title='Index',\n",
    "    yaxis_title='Values',\n",
    "    width=800, height=800,)\n",
    "\n",
    "# Show the plot\n",
    "fig.show()"
   ]
  },
  {
   "cell_type": "code",
   "execution_count": 284,
   "metadata": {},
   "outputs": [
    {
     "data": {
      "application/vnd.plotly.v1+json": {
       "config": {
        "plotlyServerURL": "https://plot.ly"
       },
       "data": [
        {
         "mode": "lines+markers",
         "name": "Conditional TTC AAA",
         "type": "scatter",
         "x": [
          0,
          1,
          2,
          3,
          4,
          5,
          6,
          7,
          8,
          9
         ],
         "y": [
          0.0311000000000001,
          0.0322011869129942,
          0.0331447394816257,
          0.0339956296626871,
          0.0347868556933955,
          0.0355365961814939,
          0.0362558037104026,
          0.0369516271774757,
          0.0376290045486778,
          0.0382914469890695
         ]
        },
        {
         "mode": "lines+markers",
         "name": "PiT Conditional Optimistic AAA",
         "type": "scatter",
         "x": [
          0,
          1,
          2,
          3,
          4,
          5,
          6,
          7,
          8,
          9
         ],
         "y": [
          0.012566901311845045,
          0.012866505776615264,
          0.023128533218319258,
          0.0339956296626871,
          0.0347868556933955,
          0.0355365961814939,
          0.0362558037104026,
          0.0369516271774757,
          0.0376290045486778,
          0.0382914469890695
         ]
        }
       ],
       "layout": {
        "height": 800,
        "template": {
         "data": {
          "bar": [
           {
            "error_x": {
             "color": "#2a3f5f"
            },
            "error_y": {
             "color": "#2a3f5f"
            },
            "marker": {
             "line": {
              "color": "#E5ECF6",
              "width": 0.5
             },
             "pattern": {
              "fillmode": "overlay",
              "size": 10,
              "solidity": 0.2
             }
            },
            "type": "bar"
           }
          ],
          "barpolar": [
           {
            "marker": {
             "line": {
              "color": "#E5ECF6",
              "width": 0.5
             },
             "pattern": {
              "fillmode": "overlay",
              "size": 10,
              "solidity": 0.2
             }
            },
            "type": "barpolar"
           }
          ],
          "carpet": [
           {
            "aaxis": {
             "endlinecolor": "#2a3f5f",
             "gridcolor": "white",
             "linecolor": "white",
             "minorgridcolor": "white",
             "startlinecolor": "#2a3f5f"
            },
            "baxis": {
             "endlinecolor": "#2a3f5f",
             "gridcolor": "white",
             "linecolor": "white",
             "minorgridcolor": "white",
             "startlinecolor": "#2a3f5f"
            },
            "type": "carpet"
           }
          ],
          "choropleth": [
           {
            "colorbar": {
             "outlinewidth": 0,
             "ticks": ""
            },
            "type": "choropleth"
           }
          ],
          "contour": [
           {
            "colorbar": {
             "outlinewidth": 0,
             "ticks": ""
            },
            "colorscale": [
             [
              0,
              "#0d0887"
             ],
             [
              0.1111111111111111,
              "#46039f"
             ],
             [
              0.2222222222222222,
              "#7201a8"
             ],
             [
              0.3333333333333333,
              "#9c179e"
             ],
             [
              0.4444444444444444,
              "#bd3786"
             ],
             [
              0.5555555555555556,
              "#d8576b"
             ],
             [
              0.6666666666666666,
              "#ed7953"
             ],
             [
              0.7777777777777778,
              "#fb9f3a"
             ],
             [
              0.8888888888888888,
              "#fdca26"
             ],
             [
              1,
              "#f0f921"
             ]
            ],
            "type": "contour"
           }
          ],
          "contourcarpet": [
           {
            "colorbar": {
             "outlinewidth": 0,
             "ticks": ""
            },
            "type": "contourcarpet"
           }
          ],
          "heatmap": [
           {
            "colorbar": {
             "outlinewidth": 0,
             "ticks": ""
            },
            "colorscale": [
             [
              0,
              "#0d0887"
             ],
             [
              0.1111111111111111,
              "#46039f"
             ],
             [
              0.2222222222222222,
              "#7201a8"
             ],
             [
              0.3333333333333333,
              "#9c179e"
             ],
             [
              0.4444444444444444,
              "#bd3786"
             ],
             [
              0.5555555555555556,
              "#d8576b"
             ],
             [
              0.6666666666666666,
              "#ed7953"
             ],
             [
              0.7777777777777778,
              "#fb9f3a"
             ],
             [
              0.8888888888888888,
              "#fdca26"
             ],
             [
              1,
              "#f0f921"
             ]
            ],
            "type": "heatmap"
           }
          ],
          "heatmapgl": [
           {
            "colorbar": {
             "outlinewidth": 0,
             "ticks": ""
            },
            "colorscale": [
             [
              0,
              "#0d0887"
             ],
             [
              0.1111111111111111,
              "#46039f"
             ],
             [
              0.2222222222222222,
              "#7201a8"
             ],
             [
              0.3333333333333333,
              "#9c179e"
             ],
             [
              0.4444444444444444,
              "#bd3786"
             ],
             [
              0.5555555555555556,
              "#d8576b"
             ],
             [
              0.6666666666666666,
              "#ed7953"
             ],
             [
              0.7777777777777778,
              "#fb9f3a"
             ],
             [
              0.8888888888888888,
              "#fdca26"
             ],
             [
              1,
              "#f0f921"
             ]
            ],
            "type": "heatmapgl"
           }
          ],
          "histogram": [
           {
            "marker": {
             "pattern": {
              "fillmode": "overlay",
              "size": 10,
              "solidity": 0.2
             }
            },
            "type": "histogram"
           }
          ],
          "histogram2d": [
           {
            "colorbar": {
             "outlinewidth": 0,
             "ticks": ""
            },
            "colorscale": [
             [
              0,
              "#0d0887"
             ],
             [
              0.1111111111111111,
              "#46039f"
             ],
             [
              0.2222222222222222,
              "#7201a8"
             ],
             [
              0.3333333333333333,
              "#9c179e"
             ],
             [
              0.4444444444444444,
              "#bd3786"
             ],
             [
              0.5555555555555556,
              "#d8576b"
             ],
             [
              0.6666666666666666,
              "#ed7953"
             ],
             [
              0.7777777777777778,
              "#fb9f3a"
             ],
             [
              0.8888888888888888,
              "#fdca26"
             ],
             [
              1,
              "#f0f921"
             ]
            ],
            "type": "histogram2d"
           }
          ],
          "histogram2dcontour": [
           {
            "colorbar": {
             "outlinewidth": 0,
             "ticks": ""
            },
            "colorscale": [
             [
              0,
              "#0d0887"
             ],
             [
              0.1111111111111111,
              "#46039f"
             ],
             [
              0.2222222222222222,
              "#7201a8"
             ],
             [
              0.3333333333333333,
              "#9c179e"
             ],
             [
              0.4444444444444444,
              "#bd3786"
             ],
             [
              0.5555555555555556,
              "#d8576b"
             ],
             [
              0.6666666666666666,
              "#ed7953"
             ],
             [
              0.7777777777777778,
              "#fb9f3a"
             ],
             [
              0.8888888888888888,
              "#fdca26"
             ],
             [
              1,
              "#f0f921"
             ]
            ],
            "type": "histogram2dcontour"
           }
          ],
          "mesh3d": [
           {
            "colorbar": {
             "outlinewidth": 0,
             "ticks": ""
            },
            "type": "mesh3d"
           }
          ],
          "parcoords": [
           {
            "line": {
             "colorbar": {
              "outlinewidth": 0,
              "ticks": ""
             }
            },
            "type": "parcoords"
           }
          ],
          "pie": [
           {
            "automargin": true,
            "type": "pie"
           }
          ],
          "scatter": [
           {
            "fillpattern": {
             "fillmode": "overlay",
             "size": 10,
             "solidity": 0.2
            },
            "type": "scatter"
           }
          ],
          "scatter3d": [
           {
            "line": {
             "colorbar": {
              "outlinewidth": 0,
              "ticks": ""
             }
            },
            "marker": {
             "colorbar": {
              "outlinewidth": 0,
              "ticks": ""
             }
            },
            "type": "scatter3d"
           }
          ],
          "scattercarpet": [
           {
            "marker": {
             "colorbar": {
              "outlinewidth": 0,
              "ticks": ""
             }
            },
            "type": "scattercarpet"
           }
          ],
          "scattergeo": [
           {
            "marker": {
             "colorbar": {
              "outlinewidth": 0,
              "ticks": ""
             }
            },
            "type": "scattergeo"
           }
          ],
          "scattergl": [
           {
            "marker": {
             "colorbar": {
              "outlinewidth": 0,
              "ticks": ""
             }
            },
            "type": "scattergl"
           }
          ],
          "scattermapbox": [
           {
            "marker": {
             "colorbar": {
              "outlinewidth": 0,
              "ticks": ""
             }
            },
            "type": "scattermapbox"
           }
          ],
          "scatterpolar": [
           {
            "marker": {
             "colorbar": {
              "outlinewidth": 0,
              "ticks": ""
             }
            },
            "type": "scatterpolar"
           }
          ],
          "scatterpolargl": [
           {
            "marker": {
             "colorbar": {
              "outlinewidth": 0,
              "ticks": ""
             }
            },
            "type": "scatterpolargl"
           }
          ],
          "scatterternary": [
           {
            "marker": {
             "colorbar": {
              "outlinewidth": 0,
              "ticks": ""
             }
            },
            "type": "scatterternary"
           }
          ],
          "surface": [
           {
            "colorbar": {
             "outlinewidth": 0,
             "ticks": ""
            },
            "colorscale": [
             [
              0,
              "#0d0887"
             ],
             [
              0.1111111111111111,
              "#46039f"
             ],
             [
              0.2222222222222222,
              "#7201a8"
             ],
             [
              0.3333333333333333,
              "#9c179e"
             ],
             [
              0.4444444444444444,
              "#bd3786"
             ],
             [
              0.5555555555555556,
              "#d8576b"
             ],
             [
              0.6666666666666666,
              "#ed7953"
             ],
             [
              0.7777777777777778,
              "#fb9f3a"
             ],
             [
              0.8888888888888888,
              "#fdca26"
             ],
             [
              1,
              "#f0f921"
             ]
            ],
            "type": "surface"
           }
          ],
          "table": [
           {
            "cells": {
             "fill": {
              "color": "#EBF0F8"
             },
             "line": {
              "color": "white"
             }
            },
            "header": {
             "fill": {
              "color": "#C8D4E3"
             },
             "line": {
              "color": "white"
             }
            },
            "type": "table"
           }
          ]
         },
         "layout": {
          "annotationdefaults": {
           "arrowcolor": "#2a3f5f",
           "arrowhead": 0,
           "arrowwidth": 1
          },
          "autotypenumbers": "strict",
          "coloraxis": {
           "colorbar": {
            "outlinewidth": 0,
            "ticks": ""
           }
          },
          "colorscale": {
           "diverging": [
            [
             0,
             "#8e0152"
            ],
            [
             0.1,
             "#c51b7d"
            ],
            [
             0.2,
             "#de77ae"
            ],
            [
             0.3,
             "#f1b6da"
            ],
            [
             0.4,
             "#fde0ef"
            ],
            [
             0.5,
             "#f7f7f7"
            ],
            [
             0.6,
             "#e6f5d0"
            ],
            [
             0.7,
             "#b8e186"
            ],
            [
             0.8,
             "#7fbc41"
            ],
            [
             0.9,
             "#4d9221"
            ],
            [
             1,
             "#276419"
            ]
           ],
           "sequential": [
            [
             0,
             "#0d0887"
            ],
            [
             0.1111111111111111,
             "#46039f"
            ],
            [
             0.2222222222222222,
             "#7201a8"
            ],
            [
             0.3333333333333333,
             "#9c179e"
            ],
            [
             0.4444444444444444,
             "#bd3786"
            ],
            [
             0.5555555555555556,
             "#d8576b"
            ],
            [
             0.6666666666666666,
             "#ed7953"
            ],
            [
             0.7777777777777778,
             "#fb9f3a"
            ],
            [
             0.8888888888888888,
             "#fdca26"
            ],
            [
             1,
             "#f0f921"
            ]
           ],
           "sequentialminus": [
            [
             0,
             "#0d0887"
            ],
            [
             0.1111111111111111,
             "#46039f"
            ],
            [
             0.2222222222222222,
             "#7201a8"
            ],
            [
             0.3333333333333333,
             "#9c179e"
            ],
            [
             0.4444444444444444,
             "#bd3786"
            ],
            [
             0.5555555555555556,
             "#d8576b"
            ],
            [
             0.6666666666666666,
             "#ed7953"
            ],
            [
             0.7777777777777778,
             "#fb9f3a"
            ],
            [
             0.8888888888888888,
             "#fdca26"
            ],
            [
             1,
             "#f0f921"
            ]
           ]
          },
          "colorway": [
           "#636efa",
           "#EF553B",
           "#00cc96",
           "#ab63fa",
           "#FFA15A",
           "#19d3f3",
           "#FF6692",
           "#B6E880",
           "#FF97FF",
           "#FECB52"
          ],
          "font": {
           "color": "#2a3f5f"
          },
          "geo": {
           "bgcolor": "white",
           "lakecolor": "white",
           "landcolor": "#E5ECF6",
           "showlakes": true,
           "showland": true,
           "subunitcolor": "white"
          },
          "hoverlabel": {
           "align": "left"
          },
          "hovermode": "closest",
          "mapbox": {
           "style": "light"
          },
          "paper_bgcolor": "white",
          "plot_bgcolor": "#E5ECF6",
          "polar": {
           "angularaxis": {
            "gridcolor": "white",
            "linecolor": "white",
            "ticks": ""
           },
           "bgcolor": "#E5ECF6",
           "radialaxis": {
            "gridcolor": "white",
            "linecolor": "white",
            "ticks": ""
           }
          },
          "scene": {
           "xaxis": {
            "backgroundcolor": "#E5ECF6",
            "gridcolor": "white",
            "gridwidth": 2,
            "linecolor": "white",
            "showbackground": true,
            "ticks": "",
            "zerolinecolor": "white"
           },
           "yaxis": {
            "backgroundcolor": "#E5ECF6",
            "gridcolor": "white",
            "gridwidth": 2,
            "linecolor": "white",
            "showbackground": true,
            "ticks": "",
            "zerolinecolor": "white"
           },
           "zaxis": {
            "backgroundcolor": "#E5ECF6",
            "gridcolor": "white",
            "gridwidth": 2,
            "linecolor": "white",
            "showbackground": true,
            "ticks": "",
            "zerolinecolor": "white"
           }
          },
          "shapedefaults": {
           "line": {
            "color": "#2a3f5f"
           }
          },
          "ternary": {
           "aaxis": {
            "gridcolor": "white",
            "linecolor": "white",
            "ticks": ""
           },
           "baxis": {
            "gridcolor": "white",
            "linecolor": "white",
            "ticks": ""
           },
           "bgcolor": "#E5ECF6",
           "caxis": {
            "gridcolor": "white",
            "linecolor": "white",
            "ticks": ""
           }
          },
          "title": {
           "x": 0.05
          },
          "xaxis": {
           "automargin": true,
           "gridcolor": "white",
           "linecolor": "white",
           "ticks": "",
           "title": {
            "standoff": 15
           },
           "zerolinecolor": "white",
           "zerolinewidth": 2
          },
          "yaxis": {
           "automargin": true,
           "gridcolor": "white",
           "linecolor": "white",
           "ticks": "",
           "title": {
            "standoff": 15
           },
           "zerolinecolor": "white",
           "zerolinewidth": 2
          }
         }
        },
        "title": {
         "text": "TTC vs AAA Optimistic"
        },
        "width": 800,
        "xaxis": {
         "title": {
          "text": "Index"
         }
        },
        "yaxis": {
         "title": {
          "text": "Values"
         }
        }
       }
      }
     },
     "metadata": {},
     "output_type": "display_data"
    }
   ],
   "source": [
    "trace1 = go.Scatter(\n",
    "    x=list(range(10)), \n",
    "    y=conditional['AAA'],\n",
    "    mode='lines+markers',\n",
    "    name='Conditional TTC AAA'\n",
    ")\n",
    "\n",
    "trace2 = go.Scatter(\n",
    "    x=list(range(10)),\n",
    "    y=Optimistic_final['AAA'],\n",
    "    mode='lines+markers',\n",
    "    name='PiT Conditional Optimistic AAA'\n",
    ")\n",
    "\n",
    "# Create the figure\n",
    "fig = go.Figure()\n",
    "\n",
    "# Add traces to the figure\n",
    "fig.add_trace(trace1)\n",
    "fig.add_trace(trace2)\n",
    "\n",
    "# Add titles and labels\n",
    "fig.update_layout(title='TTC vs AAA Optimistic',\n",
    "    xaxis_title='Index',\n",
    "    yaxis_title='Values',\n",
    "    width=800, height=800,)\n",
    "\n",
    "# Show the plot\n",
    "fig.show()"
   ]
  },
  {
   "cell_type": "code",
   "execution_count": 285,
   "metadata": {},
   "outputs": [
    {
     "data": {
      "application/vnd.plotly.v1+json": {
       "config": {
        "plotlyServerURL": "https://plot.ly"
       },
       "data": [
        {
         "mode": "lines+markers",
         "name": "Conditional TTC AAA",
         "type": "scatter",
         "x": [
          0,
          1,
          2,
          3,
          4,
          5,
          6,
          7,
          8,
          9
         ],
         "y": [
          0.0311000000000001,
          0.0322011869129942,
          0.0331447394816257,
          0.0339956296626871,
          0.0347868556933955,
          0.0355365961814939,
          0.0362558037104026,
          0.0369516271774757,
          0.0376290045486778,
          0.0382914469890695
         ]
        },
        {
         "mode": "lines+markers",
         "name": "PiT Conditional AAA Base",
         "type": "scatter",
         "x": [
          0,
          1,
          2,
          3,
          4,
          5,
          6,
          7,
          8,
          9
         ],
         "y": [
          0.009445940468182503,
          0.024226580743971743,
          0.025553056704335025,
          0.0339956296626871,
          0.0347868556933955,
          0.0355365961814939,
          0.0362558037104026,
          0.0369516271774757,
          0.0376290045486778,
          0.0382914469890695
         ]
        }
       ],
       "layout": {
        "height": 800,
        "template": {
         "data": {
          "bar": [
           {
            "error_x": {
             "color": "#2a3f5f"
            },
            "error_y": {
             "color": "#2a3f5f"
            },
            "marker": {
             "line": {
              "color": "#E5ECF6",
              "width": 0.5
             },
             "pattern": {
              "fillmode": "overlay",
              "size": 10,
              "solidity": 0.2
             }
            },
            "type": "bar"
           }
          ],
          "barpolar": [
           {
            "marker": {
             "line": {
              "color": "#E5ECF6",
              "width": 0.5
             },
             "pattern": {
              "fillmode": "overlay",
              "size": 10,
              "solidity": 0.2
             }
            },
            "type": "barpolar"
           }
          ],
          "carpet": [
           {
            "aaxis": {
             "endlinecolor": "#2a3f5f",
             "gridcolor": "white",
             "linecolor": "white",
             "minorgridcolor": "white",
             "startlinecolor": "#2a3f5f"
            },
            "baxis": {
             "endlinecolor": "#2a3f5f",
             "gridcolor": "white",
             "linecolor": "white",
             "minorgridcolor": "white",
             "startlinecolor": "#2a3f5f"
            },
            "type": "carpet"
           }
          ],
          "choropleth": [
           {
            "colorbar": {
             "outlinewidth": 0,
             "ticks": ""
            },
            "type": "choropleth"
           }
          ],
          "contour": [
           {
            "colorbar": {
             "outlinewidth": 0,
             "ticks": ""
            },
            "colorscale": [
             [
              0,
              "#0d0887"
             ],
             [
              0.1111111111111111,
              "#46039f"
             ],
             [
              0.2222222222222222,
              "#7201a8"
             ],
             [
              0.3333333333333333,
              "#9c179e"
             ],
             [
              0.4444444444444444,
              "#bd3786"
             ],
             [
              0.5555555555555556,
              "#d8576b"
             ],
             [
              0.6666666666666666,
              "#ed7953"
             ],
             [
              0.7777777777777778,
              "#fb9f3a"
             ],
             [
              0.8888888888888888,
              "#fdca26"
             ],
             [
              1,
              "#f0f921"
             ]
            ],
            "type": "contour"
           }
          ],
          "contourcarpet": [
           {
            "colorbar": {
             "outlinewidth": 0,
             "ticks": ""
            },
            "type": "contourcarpet"
           }
          ],
          "heatmap": [
           {
            "colorbar": {
             "outlinewidth": 0,
             "ticks": ""
            },
            "colorscale": [
             [
              0,
              "#0d0887"
             ],
             [
              0.1111111111111111,
              "#46039f"
             ],
             [
              0.2222222222222222,
              "#7201a8"
             ],
             [
              0.3333333333333333,
              "#9c179e"
             ],
             [
              0.4444444444444444,
              "#bd3786"
             ],
             [
              0.5555555555555556,
              "#d8576b"
             ],
             [
              0.6666666666666666,
              "#ed7953"
             ],
             [
              0.7777777777777778,
              "#fb9f3a"
             ],
             [
              0.8888888888888888,
              "#fdca26"
             ],
             [
              1,
              "#f0f921"
             ]
            ],
            "type": "heatmap"
           }
          ],
          "heatmapgl": [
           {
            "colorbar": {
             "outlinewidth": 0,
             "ticks": ""
            },
            "colorscale": [
             [
              0,
              "#0d0887"
             ],
             [
              0.1111111111111111,
              "#46039f"
             ],
             [
              0.2222222222222222,
              "#7201a8"
             ],
             [
              0.3333333333333333,
              "#9c179e"
             ],
             [
              0.4444444444444444,
              "#bd3786"
             ],
             [
              0.5555555555555556,
              "#d8576b"
             ],
             [
              0.6666666666666666,
              "#ed7953"
             ],
             [
              0.7777777777777778,
              "#fb9f3a"
             ],
             [
              0.8888888888888888,
              "#fdca26"
             ],
             [
              1,
              "#f0f921"
             ]
            ],
            "type": "heatmapgl"
           }
          ],
          "histogram": [
           {
            "marker": {
             "pattern": {
              "fillmode": "overlay",
              "size": 10,
              "solidity": 0.2
             }
            },
            "type": "histogram"
           }
          ],
          "histogram2d": [
           {
            "colorbar": {
             "outlinewidth": 0,
             "ticks": ""
            },
            "colorscale": [
             [
              0,
              "#0d0887"
             ],
             [
              0.1111111111111111,
              "#46039f"
             ],
             [
              0.2222222222222222,
              "#7201a8"
             ],
             [
              0.3333333333333333,
              "#9c179e"
             ],
             [
              0.4444444444444444,
              "#bd3786"
             ],
             [
              0.5555555555555556,
              "#d8576b"
             ],
             [
              0.6666666666666666,
              "#ed7953"
             ],
             [
              0.7777777777777778,
              "#fb9f3a"
             ],
             [
              0.8888888888888888,
              "#fdca26"
             ],
             [
              1,
              "#f0f921"
             ]
            ],
            "type": "histogram2d"
           }
          ],
          "histogram2dcontour": [
           {
            "colorbar": {
             "outlinewidth": 0,
             "ticks": ""
            },
            "colorscale": [
             [
              0,
              "#0d0887"
             ],
             [
              0.1111111111111111,
              "#46039f"
             ],
             [
              0.2222222222222222,
              "#7201a8"
             ],
             [
              0.3333333333333333,
              "#9c179e"
             ],
             [
              0.4444444444444444,
              "#bd3786"
             ],
             [
              0.5555555555555556,
              "#d8576b"
             ],
             [
              0.6666666666666666,
              "#ed7953"
             ],
             [
              0.7777777777777778,
              "#fb9f3a"
             ],
             [
              0.8888888888888888,
              "#fdca26"
             ],
             [
              1,
              "#f0f921"
             ]
            ],
            "type": "histogram2dcontour"
           }
          ],
          "mesh3d": [
           {
            "colorbar": {
             "outlinewidth": 0,
             "ticks": ""
            },
            "type": "mesh3d"
           }
          ],
          "parcoords": [
           {
            "line": {
             "colorbar": {
              "outlinewidth": 0,
              "ticks": ""
             }
            },
            "type": "parcoords"
           }
          ],
          "pie": [
           {
            "automargin": true,
            "type": "pie"
           }
          ],
          "scatter": [
           {
            "fillpattern": {
             "fillmode": "overlay",
             "size": 10,
             "solidity": 0.2
            },
            "type": "scatter"
           }
          ],
          "scatter3d": [
           {
            "line": {
             "colorbar": {
              "outlinewidth": 0,
              "ticks": ""
             }
            },
            "marker": {
             "colorbar": {
              "outlinewidth": 0,
              "ticks": ""
             }
            },
            "type": "scatter3d"
           }
          ],
          "scattercarpet": [
           {
            "marker": {
             "colorbar": {
              "outlinewidth": 0,
              "ticks": ""
             }
            },
            "type": "scattercarpet"
           }
          ],
          "scattergeo": [
           {
            "marker": {
             "colorbar": {
              "outlinewidth": 0,
              "ticks": ""
             }
            },
            "type": "scattergeo"
           }
          ],
          "scattergl": [
           {
            "marker": {
             "colorbar": {
              "outlinewidth": 0,
              "ticks": ""
             }
            },
            "type": "scattergl"
           }
          ],
          "scattermapbox": [
           {
            "marker": {
             "colorbar": {
              "outlinewidth": 0,
              "ticks": ""
             }
            },
            "type": "scattermapbox"
           }
          ],
          "scatterpolar": [
           {
            "marker": {
             "colorbar": {
              "outlinewidth": 0,
              "ticks": ""
             }
            },
            "type": "scatterpolar"
           }
          ],
          "scatterpolargl": [
           {
            "marker": {
             "colorbar": {
              "outlinewidth": 0,
              "ticks": ""
             }
            },
            "type": "scatterpolargl"
           }
          ],
          "scatterternary": [
           {
            "marker": {
             "colorbar": {
              "outlinewidth": 0,
              "ticks": ""
             }
            },
            "type": "scatterternary"
           }
          ],
          "surface": [
           {
            "colorbar": {
             "outlinewidth": 0,
             "ticks": ""
            },
            "colorscale": [
             [
              0,
              "#0d0887"
             ],
             [
              0.1111111111111111,
              "#46039f"
             ],
             [
              0.2222222222222222,
              "#7201a8"
             ],
             [
              0.3333333333333333,
              "#9c179e"
             ],
             [
              0.4444444444444444,
              "#bd3786"
             ],
             [
              0.5555555555555556,
              "#d8576b"
             ],
             [
              0.6666666666666666,
              "#ed7953"
             ],
             [
              0.7777777777777778,
              "#fb9f3a"
             ],
             [
              0.8888888888888888,
              "#fdca26"
             ],
             [
              1,
              "#f0f921"
             ]
            ],
            "type": "surface"
           }
          ],
          "table": [
           {
            "cells": {
             "fill": {
              "color": "#EBF0F8"
             },
             "line": {
              "color": "white"
             }
            },
            "header": {
             "fill": {
              "color": "#C8D4E3"
             },
             "line": {
              "color": "white"
             }
            },
            "type": "table"
           }
          ]
         },
         "layout": {
          "annotationdefaults": {
           "arrowcolor": "#2a3f5f",
           "arrowhead": 0,
           "arrowwidth": 1
          },
          "autotypenumbers": "strict",
          "coloraxis": {
           "colorbar": {
            "outlinewidth": 0,
            "ticks": ""
           }
          },
          "colorscale": {
           "diverging": [
            [
             0,
             "#8e0152"
            ],
            [
             0.1,
             "#c51b7d"
            ],
            [
             0.2,
             "#de77ae"
            ],
            [
             0.3,
             "#f1b6da"
            ],
            [
             0.4,
             "#fde0ef"
            ],
            [
             0.5,
             "#f7f7f7"
            ],
            [
             0.6,
             "#e6f5d0"
            ],
            [
             0.7,
             "#b8e186"
            ],
            [
             0.8,
             "#7fbc41"
            ],
            [
             0.9,
             "#4d9221"
            ],
            [
             1,
             "#276419"
            ]
           ],
           "sequential": [
            [
             0,
             "#0d0887"
            ],
            [
             0.1111111111111111,
             "#46039f"
            ],
            [
             0.2222222222222222,
             "#7201a8"
            ],
            [
             0.3333333333333333,
             "#9c179e"
            ],
            [
             0.4444444444444444,
             "#bd3786"
            ],
            [
             0.5555555555555556,
             "#d8576b"
            ],
            [
             0.6666666666666666,
             "#ed7953"
            ],
            [
             0.7777777777777778,
             "#fb9f3a"
            ],
            [
             0.8888888888888888,
             "#fdca26"
            ],
            [
             1,
             "#f0f921"
            ]
           ],
           "sequentialminus": [
            [
             0,
             "#0d0887"
            ],
            [
             0.1111111111111111,
             "#46039f"
            ],
            [
             0.2222222222222222,
             "#7201a8"
            ],
            [
             0.3333333333333333,
             "#9c179e"
            ],
            [
             0.4444444444444444,
             "#bd3786"
            ],
            [
             0.5555555555555556,
             "#d8576b"
            ],
            [
             0.6666666666666666,
             "#ed7953"
            ],
            [
             0.7777777777777778,
             "#fb9f3a"
            ],
            [
             0.8888888888888888,
             "#fdca26"
            ],
            [
             1,
             "#f0f921"
            ]
           ]
          },
          "colorway": [
           "#636efa",
           "#EF553B",
           "#00cc96",
           "#ab63fa",
           "#FFA15A",
           "#19d3f3",
           "#FF6692",
           "#B6E880",
           "#FF97FF",
           "#FECB52"
          ],
          "font": {
           "color": "#2a3f5f"
          },
          "geo": {
           "bgcolor": "white",
           "lakecolor": "white",
           "landcolor": "#E5ECF6",
           "showlakes": true,
           "showland": true,
           "subunitcolor": "white"
          },
          "hoverlabel": {
           "align": "left"
          },
          "hovermode": "closest",
          "mapbox": {
           "style": "light"
          },
          "paper_bgcolor": "white",
          "plot_bgcolor": "#E5ECF6",
          "polar": {
           "angularaxis": {
            "gridcolor": "white",
            "linecolor": "white",
            "ticks": ""
           },
           "bgcolor": "#E5ECF6",
           "radialaxis": {
            "gridcolor": "white",
            "linecolor": "white",
            "ticks": ""
           }
          },
          "scene": {
           "xaxis": {
            "backgroundcolor": "#E5ECF6",
            "gridcolor": "white",
            "gridwidth": 2,
            "linecolor": "white",
            "showbackground": true,
            "ticks": "",
            "zerolinecolor": "white"
           },
           "yaxis": {
            "backgroundcolor": "#E5ECF6",
            "gridcolor": "white",
            "gridwidth": 2,
            "linecolor": "white",
            "showbackground": true,
            "ticks": "",
            "zerolinecolor": "white"
           },
           "zaxis": {
            "backgroundcolor": "#E5ECF6",
            "gridcolor": "white",
            "gridwidth": 2,
            "linecolor": "white",
            "showbackground": true,
            "ticks": "",
            "zerolinecolor": "white"
           }
          },
          "shapedefaults": {
           "line": {
            "color": "#2a3f5f"
           }
          },
          "ternary": {
           "aaxis": {
            "gridcolor": "white",
            "linecolor": "white",
            "ticks": ""
           },
           "baxis": {
            "gridcolor": "white",
            "linecolor": "white",
            "ticks": ""
           },
           "bgcolor": "#E5ECF6",
           "caxis": {
            "gridcolor": "white",
            "linecolor": "white",
            "ticks": ""
           }
          },
          "title": {
           "x": 0.05
          },
          "xaxis": {
           "automargin": true,
           "gridcolor": "white",
           "linecolor": "white",
           "ticks": "",
           "title": {
            "standoff": 15
           },
           "zerolinecolor": "white",
           "zerolinewidth": 2
          },
          "yaxis": {
           "automargin": true,
           "gridcolor": "white",
           "linecolor": "white",
           "ticks": "",
           "title": {
            "standoff": 15
           },
           "zerolinecolor": "white",
           "zerolinewidth": 2
          }
         }
        },
        "title": {
         "text": "TTC vs Base"
        },
        "width": 800,
        "xaxis": {
         "title": {
          "text": "Index"
         }
        },
        "yaxis": {
         "title": {
          "text": "Values"
         }
        }
       }
      }
     },
     "metadata": {},
     "output_type": "display_data"
    }
   ],
   "source": [
    "trace1 = go.Scatter(\n",
    "    x=list(range(10)),\n",
    "    y=conditional['AAA'],\n",
    "    mode='lines+markers',\n",
    "    name='Conditional TTC AAA'\n",
    ")\n",
    "\n",
    "trace2 = go.Scatter(\n",
    "    x=list(range(10)),\n",
    "    y=Base_final['AAA'],\n",
    "    mode='lines+markers',\n",
    "    name='PiT Conditional AAA Base'\n",
    ")\n",
    "\n",
    "# Create the figure\n",
    "fig = go.Figure()\n",
    "\n",
    "# Add traces to the figure\n",
    "fig.add_trace(trace1)\n",
    "fig.add_trace(trace2)\n",
    "\n",
    "# Add titles and labels\n",
    "fig.update_layout(title='TTC vs Base',\n",
    "    xaxis_title='Index',\n",
    "    yaxis_title='Values',\n",
    "    width=800, height=800,)\n",
    "\n",
    "# Show the plot\n",
    "fig.show()"
   ]
  },
  {
   "cell_type": "markdown",
   "metadata": {},
   "source": [
    "Thank you if you made it this far. I'm glad you're interested in my work. \n",
    "Please feel free to contact me anywhere; Git, Linkedin, email or directly by phone. \n",
    "\n",
    "MK."
   ]
  }
 ],
 "metadata": {
  "kernelspec": {
   "display_name": "CS1-env",
   "language": "python",
   "name": "python3"
  },
  "language_info": {
   "codemirror_mode": {
    "name": "ipython",
    "version": 3
   },
   "file_extension": ".py",
   "mimetype": "text/x-python",
   "name": "python",
   "nbconvert_exporter": "python",
   "pygments_lexer": "ipython3",
   "version": "3.11.8"
  }
 },
 "nbformat": 4,
 "nbformat_minor": 2
}
